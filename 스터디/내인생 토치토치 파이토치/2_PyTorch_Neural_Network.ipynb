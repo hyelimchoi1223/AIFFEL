{
  "nbformat": 4,
  "nbformat_minor": 0,
  "metadata": {
    "colab": {
      "name": "2.PyTorch_Neural_Network.ipynb",
      "provenance": [],
      "collapsed_sections": [
        "eZGLHJI2ncfb",
        "Z5J7Sw8psp6o",
        "Toax_FqkxHX8",
        "8XRolAn17Cvh"
      ],
      "toc_visible": true,
      "authorship_tag": "ABX9TyM+M4/j/p8oCEErAdl+XTZk",
      "include_colab_link": true
    },
    "kernelspec": {
      "name": "python3",
      "display_name": "Python 3"
    },
    "language_info": {
      "name": "python"
    },
    "accelerator": "GPU"
  },
  "cells": [
    {
      "cell_type": "markdown",
      "metadata": {
        "id": "view-in-github",
        "colab_type": "text"
      },
      "source": [
        "<a href=\"https://colab.research.google.com/github/hyelimchoi1223/AIFFEL/blob/main/%EC%8A%A4%ED%84%B0%EB%94%94/%EB%82%B4%EC%9D%B8%EC%83%9D%20%ED%86%A0%EC%B9%98%ED%86%A0%EC%B9%98%20%ED%8C%8C%EC%9D%B4%ED%86%A0%EC%B9%98/2_PyTorch_Neural_Network.ipynb\" target=\"_parent\"><img src=\"https://colab.research.google.com/assets/colab-badge.svg\" alt=\"Open In Colab\"/></a>"
      ]
    },
    {
      "cell_type": "markdown",
      "metadata": {
        "id": "eZGLHJI2ncfb"
      },
      "source": [
        "# Tensor\n",
        "## numpy를 이용해 신경망 구성"
      ]
    },
    {
      "cell_type": "code",
      "metadata": {
        "colab": {
          "base_uri": "https://localhost:8080/"
        },
        "id": "TAmdNguXm6Ak",
        "outputId": "b18bef92-d455-4dcf-b78d-75e8177ff42f"
      },
      "source": [
        "import numpy as np\n",
        "import math\n",
        "import time\n",
        "\n",
        "x = np.linspace(-math.pi, math.pi, 2000)\n",
        "y = np.sin(x)\n",
        "\n",
        "a = np.random.randn()\n",
        "b = np.random.randn()\n",
        "c = np.random.randn()\n",
        "d = np.random.randn()\n",
        "\n",
        "learning_rate = 1e-6\n",
        "start_time = time.time()\n",
        "for t in range(2000):\n",
        "    # forward\n",
        "    y_pred = a+b*x+c*x**2+d*x**3\n",
        "\n",
        "    # loss 계산\n",
        "    loss = np.square(y_pred-y).sum() # np.square = 제곱 함수\n",
        "    if t%100 == 99:\n",
        "      print(t, loss)\n",
        "\n",
        "    # loss에 따른 a, b, c, d의 gradient를 계산하고 backword\n",
        "    grad_y_pred = 2.0 * (y_pred-y) # 왜 여기서 2를 곱하는 걸까? np.square = 제곱 함수이기 때문에\n",
        "    grad_a = grad_y_pred.sum()\n",
        "    grad_b = (grad_y_pred * x).sum()\n",
        "    grad_c = (grad_y_pred * x**2).sum()\n",
        "    grad_d = (grad_y_pred * x**3).sum()    \n",
        "\n",
        "    # 가중치 갱신\n",
        "    a -= learning_rate * grad_a\n",
        "    b -= learning_rate * grad_b\n",
        "    c -= learning_rate * grad_c\n",
        "    d -= learning_rate * grad_d\n",
        "\n",
        "print(f'Result: y = {a} + {b} x + {c} x^2 + {d} x^3')\n",
        "print(f'running time: {time.time()-start_time}')"
      ],
      "execution_count": null,
      "outputs": [
        {
          "output_type": "stream",
          "name": "stdout",
          "text": [
            "99 5479.039042438214\n",
            "199 3638.6375359899957\n",
            "299 2417.9785469547346\n",
            "399 1608.2033571944712\n",
            "499 1070.8894268932254\n",
            "599 714.2813881467858\n",
            "699 477.54787240594214\n",
            "799 320.3522369754296\n",
            "899 215.94269164320724\n",
            "999 146.57358032459723\n",
            "1099 100.47093529546072\n",
            "1199 69.82116045626923\n",
            "1299 49.4376589231173\n",
            "1399 35.876742176567404\n",
            "1499 26.85132781867331\n",
            "1599 20.84204622793878\n",
            "1699 16.839234965306147\n",
            "1799 14.171731170416779\n",
            "1899 12.393234953066429\n",
            "1999 11.206866025872092\n",
            "Result: y = 0.02067688262391712 + 0.8131797772576032 x + -0.0035671063174376925 x^2 + -0.0871342067613456 x^3\n",
            "running time: 0.8116581439971924\n"
          ]
        }
      ]
    },
    {
      "cell_type": "markdown",
      "metadata": {
        "id": "Ecp05IAorEQA"
      },
      "source": [
        "## Tensor를 이용한 신경망 구성\n",
        "텐서는 GPU를 사용해서 수치 연산을 가속화한다."
      ]
    },
    {
      "cell_type": "code",
      "metadata": {
        "colab": {
          "base_uri": "https://localhost:8080/"
        },
        "id": "g9pRPyLpn1xB",
        "outputId": "a4db036a-a98c-4ab8-8103-c15d14434335"
      },
      "source": [
        "import torch\n",
        "import math\n",
        "\n",
        "dtype = torch.float\n",
        "device = torch.device(\"cpu\")\n",
        "\n",
        "\n",
        "x = torch.linspace(-math.pi, math.pi, 2000, device=device, dtype=dtype)\n",
        "y = torch.sin(x)\n",
        "\n",
        "a = torch.randn((), device=device, dtype=dtype)\n",
        "b = torch.randn((), device=device, dtype=dtype)\n",
        "c = torch.randn((), device=device, dtype=dtype)\n",
        "d = torch.randn((), device=device, dtype=dtype)\n",
        "\n",
        "learning_rate = 1e-6\n",
        "start_time = time.time()\n",
        "for t in range(2000):\n",
        "    # forward\n",
        "    y_pred = a+b*x+c*x**2+d*x**3\n",
        "\n",
        "    # loss 계산\n",
        "    loss = (y_pred-y).pow(2).sum().item() # pow(2) = 제곱 함수\n",
        "    if t%100 == 99:\n",
        "      print(t, loss)\n",
        "\n",
        "    # loss에 따른 a, b, c, d의 gradient를 계산하고 backword\n",
        "    grad_y_pred = 2.0 * (y_pred-y)\n",
        "    grad_a = grad_y_pred.sum()\n",
        "    grad_b = (grad_y_pred * x).sum()\n",
        "    grad_c = (grad_y_pred * x**2).sum()\n",
        "    grad_d = (grad_y_pred * x**3).sum()    \n",
        "\n",
        "    # 가중치 갱신\n",
        "    a -= learning_rate * grad_a\n",
        "    b -= learning_rate * grad_b\n",
        "    c -= learning_rate * grad_c\n",
        "    d -= learning_rate * grad_d\n",
        "\n",
        "print(f'Result: y = {a.item()} + {b.item()} x + {c.item()} x^2 + {d.item()} x^3')\n",
        "print(f'running time: {time.time()-start_time}')"
      ],
      "execution_count": null,
      "outputs": [
        {
          "output_type": "stream",
          "name": "stdout",
          "text": [
            "99 2694.46728515625\n",
            "199 1832.8671875\n",
            "299 1249.062255859375\n",
            "399 853.0545654296875\n",
            "499 584.1417236328125\n",
            "599 401.331787109375\n",
            "699 276.9169006347656\n",
            "799 192.14817810058594\n",
            "899 134.32623291015625\n",
            "999 94.83976745605469\n",
            "1099 67.84355163574219\n",
            "1199 49.36551284790039\n",
            "1299 36.70335388183594\n",
            "1399 28.016712188720703\n",
            "1499 22.050464630126953\n",
            "1599 17.948169708251953\n",
            "1699 15.124283790588379\n",
            "1799 13.178290367126465\n",
            "1899 11.835793495178223\n",
            "1999 10.908658027648926\n",
            "Result: y = -0.04037574678659439 + 0.8322166204452515 x + 0.006965488661080599 x^2 + -0.08984202891588211 x^3\n",
            "running time: 0.24078702926635742\n"
          ]
        }
      ]
    },
    {
      "cell_type": "markdown",
      "metadata": {
        "id": "wNIMN5sBse3M"
      },
      "source": [
        "running time을 찍어보았을 때 0.8001244068145752->0.2134418487548828 로 현저히 줄었다."
      ]
    },
    {
      "cell_type": "markdown",
      "metadata": {
        "id": "Z5J7Sw8psp6o"
      },
      "source": [
        "# Autograd\n",
        "역전파를 자동화.    \n",
        "autograd를 사용하면 순전파 단계에서 computational graph를 정의하게 된다.    \n",
        "각 텐서는 노드로 표현되고, 엣지는 입력텐서->출력텐서를 만드는 함수가 된다.    \n",
        "`requires_grad=True` 이면 텐서(노드)가 된다."
      ]
    },
    {
      "cell_type": "code",
      "metadata": {
        "colab": {
          "base_uri": "https://localhost:8080/"
        },
        "id": "pbs-jS2hspmc",
        "outputId": "84a5741d-741d-471a-b678-569b1dece9dc"
      },
      "source": [
        "import torch\n",
        "import math\n",
        "\n",
        "dtype=torch.float\n",
        "device=torch.device('cpu')\n",
        "\n",
        "x = torch.linspace(-math.pi, math.pi, 2000, device=device, dtype=dtype)\n",
        "y = torch.sin(x)\n",
        "\n",
        "a = torch.randn((), device=device, dtype=dtype, requires_grad=True)\n",
        "b = torch.randn((), device=device, dtype=dtype, requires_grad=True)\n",
        "c = torch.randn((), device=device, dtype=dtype, requires_grad=True)\n",
        "d = torch.randn((), device=device, dtype=dtype, requires_grad=True)\n",
        "\n",
        "learning_rate = 1e-6\n",
        "start_time = time.time()\n",
        "for t in range(2000):\n",
        "    # forward\n",
        "    y_pred = a+b*x+c*x**2+d*x**3\n",
        "\n",
        "    # loss 계산\n",
        "    loss = (y_pred-y).pow(2).sum() # pow(2) = 제곱 함수\n",
        "    if t%100 == 99:\n",
        "        print(t, loss)\n",
        "\n",
        "    # 역전파 계산. requires_grad=True를 갖는 모든 텐서들의 loss 변화도를 계산\n",
        "    loss.backward()\n",
        "\n",
        "    with torch.no_grad():\n",
        "        # 가중치 갱신\n",
        "        a -= learning_rate * grad_a\n",
        "        b -= learning_rate * grad_b\n",
        "        c -= learning_rate * grad_c\n",
        "        d -= learning_rate * grad_d\n",
        "\n",
        "        a.grad = None\n",
        "        b.grad = None\n",
        "        c.grad = None\n",
        "        d.grad = None\n",
        "\n",
        "print(f'Result: y = {a.item()} + {b.item()} x + {c.item()} x^2 + {d.item()} x^3')\n",
        "print(f'running time: {time.time()-start_time}')"
      ],
      "execution_count": null,
      "outputs": [
        {
          "output_type": "stream",
          "name": "stdout",
          "text": [
            "99 tensor(784209.4375, grad_fn=<SumBackward0>)\n",
            "199 tensor(784188., grad_fn=<SumBackward0>)\n",
            "299 tensor(784166.6250, grad_fn=<SumBackward0>)\n",
            "399 tensor(784145.5625, grad_fn=<SumBackward0>)\n",
            "499 tensor(784124.4375, grad_fn=<SumBackward0>)\n",
            "599 tensor(784103.6250, grad_fn=<SumBackward0>)\n",
            "699 tensor(784082.8125, grad_fn=<SumBackward0>)\n",
            "799 tensor(784062.1875, grad_fn=<SumBackward0>)\n",
            "899 tensor(784041.7500, grad_fn=<SumBackward0>)\n",
            "999 tensor(784021.4375, grad_fn=<SumBackward0>)\n",
            "1099 tensor(784001.1250, grad_fn=<SumBackward0>)\n",
            "1199 tensor(783981.1250, grad_fn=<SumBackward0>)\n",
            "1299 tensor(783961.2500, grad_fn=<SumBackward0>)\n",
            "1399 tensor(783941.4375, grad_fn=<SumBackward0>)\n",
            "1499 tensor(783921.8125, grad_fn=<SumBackward0>)\n",
            "1599 tensor(783902.3125, grad_fn=<SumBackward0>)\n",
            "1699 tensor(783883., grad_fn=<SumBackward0>)\n",
            "1799 tensor(783863.8125, grad_fn=<SumBackward0>)\n",
            "1899 tensor(783844.8125, grad_fn=<SumBackward0>)\n",
            "1999 tensor(783825.7500, grad_fn=<SumBackward0>)\n",
            "Result: y = -0.2587447762489319 + -0.08701983094215393 x + -0.7347195148468018 x^2 + 1.7003817558288574 x^3\n",
            "running time: 0.413851261138916\n"
          ]
        }
      ]
    },
    {
      "cell_type": "markdown",
      "metadata": {
        "id": "W_sD5nJTub0t"
      },
      "source": [
        "## 새 autograd function 정의"
      ]
    },
    {
      "cell_type": "code",
      "metadata": {
        "id": "kUqFnjSir_gf"
      },
      "source": [
        "import torch\n",
        "import math\n",
        "\n",
        "class LegendrePolynomial3(torch.autograd.Function):\n",
        "    @staticmethod\n",
        "    def forward(ctx, input):\n",
        "        \"\"\"\n",
        "        순전파 : 입력을 갖는 텐서를 받아 출력을 갖는 텐서를 반환\n",
        "        ctx : 역전파 연산을 위한 정보저장에 사용\n",
        "        ctx.save_for_backward : 역전파에서 사용할 객체를 저장\n",
        "        \"\"\"\n",
        "        ctx.save_for_backward(input)\n",
        "        return 0.5 * (5 * input ** 3 - 3 * input)\n",
        "\n",
        "    @staticmethod\n",
        "    def backward(ctx, grad_output):\n",
        "        \"\"\"\n",
        "        loss의 gradient를 입력으로 받는다.\n",
        "        입력에 대한 loss의 변화도를 계산\n",
        "        \"\"\"\n",
        "        input, = ctx.saved_tensors\n",
        "        return grad_output*1.5*(5*input**2-1) # 0.5 * (5 * input ** 3 - 3 * input)의 미분 결과"
      ],
      "execution_count": null,
      "outputs": []
    },
    {
      "cell_type": "code",
      "metadata": {
        "colab": {
          "base_uri": "https://localhost:8080/"
        },
        "id": "FxGbC21Wtt-1",
        "outputId": "a3a1a7e4-9a55-4029-ec9b-5e753228d783"
      },
      "source": [
        "dtype = torch.float\n",
        "device = torch.device(\"cpu\")\n",
        "\n",
        "x = torch.linspace(-math.pi, math.pi, 2000, device=device, dtype=dtype)\n",
        "y = torch.sin(x)\n",
        "\n",
        "# 가중치를 갖는 임의의 텐서를 생성한다.\n",
        "a = torch.full((), 0.0, device=device, dtype=dtype, requires_grad=True)\n",
        "b = torch.full((), -1.0, device=device, dtype=dtype, requires_grad=True)\n",
        "c = torch.full((), 0.0, device=device, dtype=dtype, requires_grad=True)\n",
        "d = torch.full((), 0.3, device=device, dtype=dtype, requires_grad=True)\n",
        "\n",
        "learning_rate = 1e-6\n",
        "start_time = time.time()\n",
        "for t in range(2000):\n",
        "    P3 = LegendrePolynomial3.apply\n",
        "\n",
        "    y_pred = a + b * P3(c + d * x)\n",
        "\n",
        "    loss = (y_pred - y).pow(2).sum()\n",
        "    if t % 100 == 99:\n",
        "        print(t, loss.item())    \n",
        "\n",
        "    loss.backward()\n",
        "    \n",
        "    with torch.no_grad():\n",
        "        # 가중치 갱신\n",
        "        a -= learning_rate * grad_a\n",
        "        b -= learning_rate * grad_b\n",
        "        c -= learning_rate * grad_c\n",
        "        d -= learning_rate * grad_d\n",
        "\n",
        "        a.grad = None\n",
        "        b.grad = None\n",
        "        c.grad = None\n",
        "        d.grad = None\n",
        "\n",
        "print(f'Result: y = {a.item()} + {b.item()} x + {c.item()} x^2 + {d.item()} x^3')\n",
        "print(f'running time: {time.time()-start_time}')"
      ],
      "execution_count": null,
      "outputs": [
        {
          "output_type": "stream",
          "name": "stdout",
          "text": [
            "99 458.8755798339844\n",
            "199 456.2812805175781\n",
            "299 454.1430358886719\n",
            "399 452.4517822265625\n",
            "499 451.19842529296875\n",
            "599 450.37432861328125\n",
            "699 449.9708557128906\n",
            "799 449.9797058105469\n",
            "899 450.3927307128906\n",
            "999 451.2021484375\n",
            "1099 452.4001770019531\n",
            "1199 453.9793701171875\n",
            "1299 455.93255615234375\n",
            "1399 458.2525329589844\n",
            "1499 460.9324645996094\n",
            "1599 463.9656982421875\n",
            "1699 467.3455505371094\n",
            "1799 471.0657958984375\n",
            "1899 475.1202392578125\n",
            "1999 479.5029296875\n",
            "Result: y = 0.13974225521087646 + -0.8984336853027344 x + -0.024109112098813057 x^2 + 0.2855756878852844 x^3\n",
            "running time: 0.5337777137756348\n"
          ]
        }
      ]
    },
    {
      "cell_type": "markdown",
      "metadata": {
        "id": "Toax_FqkxHX8"
      },
      "source": [
        "# NN 모듈\n",
        "신경망과 거의 비슷한 Module의 집합을 정의.    \n",
        "Module은 입력 텐서를 받고 출력 텐서를 계산. 하이퍼 파라미터를 갖는 텐서들은 내부 상태로 갖는다.\n",
        "NN 패키지는 유용한 loss function도 정의하고 있다."
      ]
    },
    {
      "cell_type": "code",
      "metadata": {
        "id": "EETpef_HxLRD"
      },
      "source": [
        "import torch\n",
        "import math\n",
        "\n",
        "x = torch.linspace(-math.pi, math.pi, 2000)\n",
        "y = torch.sin(x)\n",
        "\n",
        "# x.unsqueeze(-1)은 (2000, 1)의 shape을, p는 (3,)의 shape을 가지므로,\n",
        "# 이 경우 브로드캐스트(broadcast)가 적용되어 (2000, 3)의 shape을 갖는 텐서를 얻습니다.\n",
        "p = torch.tensor([1, 2, 3])\n",
        "xx = x.unsqueeze(-1).pow(p) # unsqueeze(-1) : -1 마지막 차원을 의미"
      ],
      "execution_count": null,
      "outputs": []
    },
    {
      "cell_type": "code",
      "metadata": {
        "colab": {
          "base_uri": "https://localhost:8080/"
        },
        "id": "j43EDogBxsAR",
        "outputId": "6c116d70-0a7b-47e6-c2d5-fa32584cb3ce"
      },
      "source": [
        "x.unsqueeze(-1).shape, p.shape"
      ],
      "execution_count": null,
      "outputs": [
        {
          "output_type": "execute_result",
          "data": {
            "text/plain": [
              "(torch.Size([2000, 1]), torch.Size([3]))"
            ]
          },
          "metadata": {},
          "execution_count": 26
        }
      ]
    },
    {
      "cell_type": "code",
      "metadata": {
        "colab": {
          "base_uri": "https://localhost:8080/"
        },
        "id": "40iXg2OSxtGo",
        "outputId": "b60e2fda-3e78-49d2-9c5a-3f4e569f6f5f"
      },
      "source": [
        "# nn 패키지를 이용해 sequential layer를 정의한다.\n",
        "model = torch.nn.Sequential(\n",
        "    torch.nn.Linear(3, 1),\n",
        "    torch.nn.Flatten(0, 1)\n",
        ")\n",
        "\n",
        "loss_fn = torch.nn.MSELoss(reduction='sum')\n",
        "\n",
        "learning_rate = 1e-6\n",
        "for t in range(2000):\n",
        "    y_pred = model(xx)\n",
        "    loss = loss_fn(y_pred, y)\n",
        "    if t % 100 == 99:\n",
        "        print(t, loss.item())\n",
        "\n",
        "        # 역전파 단계를 실행하기 전에 변화도(gradient)를 0으로 만듭니다.\n",
        "        model.zero_grad()\n",
        "        loss.backward()\n",
        "\n",
        "        with torch.no_grad():\n",
        "          for param in model.parameters():\n",
        "              param -= learning_rate * param.grad"
      ],
      "execution_count": null,
      "outputs": [
        {
          "output_type": "stream",
          "name": "stdout",
          "text": [
            "99 8259.2470703125\n",
            "199 7153.77880859375\n",
            "299 6321.1904296875\n",
            "399 5635.70556640625\n",
            "499 5058.59375\n",
            "599 4570.06298828125\n",
            "699 4155.8662109375\n",
            "799 3804.42724609375\n",
            "899 3506.048828125\n",
            "999 3252.546630859375\n",
            "1099 3037.002197265625\n",
            "1199 2853.564453125\n",
            "1299 2697.28564453125\n",
            "1399 2563.981201171875\n",
            "1499 2450.111572265625\n",
            "1599 2352.683349609375\n",
            "1699 2269.1650390625\n",
            "1799 2197.415283203125\n",
            "1899 2135.62353515625\n",
            "1999 2082.2578125\n"
          ]
        }
      ]
    },
    {
      "cell_type": "code",
      "metadata": {
        "colab": {
          "base_uri": "https://localhost:8080/"
        },
        "id": "hMnHzd5MBILn",
        "outputId": "4b418eb1-a9d6-43b5-9d04-e8fa68febe6a"
      },
      "source": [
        "linear_layer = model[0]\n",
        "print(f'Result: y = {linear_layer.bias.item()} + {linear_layer.weight[:, 0].item()} x + {linear_layer.weight[:, 1].item()} x^2 + {linear_layer.weight[:, 2].item()} x^3')"
      ],
      "execution_count": null,
      "outputs": [
        {
          "output_type": "stream",
          "name": "stdout",
          "text": [
            "Result: y = 0.5877833962440491 + -0.333629310131073 x + -0.17537115514278412 x^2 + 0.07598938792943954 x^3\n"
          ]
        }
      ]
    },
    {
      "cell_type": "code",
      "metadata": {
        "colab": {
          "base_uri": "https://localhost:8080/"
        },
        "id": "DzmgVFVPBO0w",
        "outputId": "ef9db6d7-69d9-4e27-c86f-e3717ffb0088"
      },
      "source": [
        "linear_layer.weight.shape"
      ],
      "execution_count": null,
      "outputs": [
        {
          "output_type": "execute_result",
          "data": {
            "text/plain": [
              "torch.Size([1, 3])"
            ]
          },
          "metadata": {},
          "execution_count": 29
        }
      ]
    },
    {
      "cell_type": "markdown",
      "metadata": {
        "id": "3VDPlmjDBeDp"
      },
      "source": [
        "## optim"
      ]
    },
    {
      "cell_type": "code",
      "metadata": {
        "id": "63e8KUS7Bdzn"
      },
      "source": [
        "import torch\n",
        "import math\n",
        "\n",
        "x = torch.linspace(-math.pi, math.pi, 2000)\n",
        "y = torch.sin(x)\n",
        "\n",
        "# x.unsqueeze(-1)은 (2000, 1)의 shape을, p는 (3,)의 shape을 가지므로,\n",
        "# 이 경우 브로드캐스트(broadcast)가 적용되어 (2000, 3)의 shape을 갖는 텐서를 얻습니다.\n",
        "p = torch.tensor([1, 2, 3])\n",
        "xx = x.unsqueeze(-1).pow(p) # unsqueeze(-1) : -1 마지막 차원을 의미\n",
        "\n",
        "# nn 패키지를 사용하여 모델과 손실 함수를 정의합니다.\n",
        "model = torch.nn.Sequential(\n",
        "    torch.nn.Linear(3, 1),\n",
        "    torch.nn.Flatten(0, 1)\n",
        ")\n",
        "loss_fn = torch.nn.MSELoss(reduction='sum')"
      ],
      "execution_count": null,
      "outputs": []
    },
    {
      "cell_type": "code",
      "metadata": {
        "colab": {
          "base_uri": "https://localhost:8080/"
        },
        "id": "SZICtpn9BTWO",
        "outputId": "9c3c3c42-08af-4341-9e2e-fa87173f4dd9"
      },
      "source": [
        "learning_rate = 1e-3\n",
        "optimizer = torch.optim.RMSprop(model.parameters(), lr=learning_rate)\n",
        "\n",
        "learning_rate = 1e-6\n",
        "for t in range(2000):\n",
        "    y_pred = model(xx)\n",
        "    loss = loss_fn(y_pred, y)\n",
        "    if t % 100 == 99:\n",
        "        print(t, loss.item())\n",
        "\n",
        "    # 역전파 단계 전에, optimizer 객체를 사용하여 (모델의 학습 가능한 가중치인) 갱신할\n",
        "    # 변수들에 대한 모든 변화도(gradient)를 0으로 만듭니다.\n",
        "    optimizer.zero_grad()\n",
        "    loss.backward()\n",
        "\n",
        "    # optimizer의 step 함수를 호출하면 매개변수가 갱신됩니다.\n",
        "    optimizer.step()"
      ],
      "execution_count": null,
      "outputs": [
        {
          "output_type": "stream",
          "name": "stdout",
          "text": [
            "99 4233.75927734375\n",
            "199 2580.20068359375\n",
            "299 1813.23779296875\n",
            "399 1402.61962890625\n",
            "499 1111.858154296875\n",
            "599 872.111328125\n",
            "699 673.7342529296875\n",
            "799 511.23828125\n",
            "899 379.8326110839844\n",
            "999 275.0560607910156\n",
            "1099 192.3987579345703\n",
            "1199 128.11036682128906\n",
            "1299 79.78936767578125\n",
            "1399 45.949825286865234\n",
            "1499 24.86513900756836\n",
            "1599 13.9403657913208\n",
            "1699 9.810858726501465\n",
            "1799 8.951998710632324\n",
            "1899 8.903158187866211\n",
            "1999 8.910503387451172\n"
          ]
        }
      ]
    },
    {
      "cell_type": "code",
      "metadata": {
        "colab": {
          "base_uri": "https://localhost:8080/"
        },
        "id": "1JDdMCTeCB9o",
        "outputId": "ff5fe8bf-5cbb-49a3-8763-f87be4087d17"
      },
      "source": [
        "linear_layer = model[0]\n",
        "print(f'Result: y = {linear_layer.bias.item()} + {linear_layer.weight[:, 0].item()} x + {linear_layer.weight[:, 1].item()} x^2 + {linear_layer.weight[:, 2].item()} x^3')"
      ],
      "execution_count": null,
      "outputs": [
        {
          "output_type": "stream",
          "name": "stdout",
          "text": [
            "Result: y = -4.991118203179212e-06 + 0.856296718120575 x + -5.149501703272108e-06 x^2 + -0.09384802728891373 x^3\n"
          ]
        }
      ]
    },
    {
      "cell_type": "markdown",
      "metadata": {
        "id": "Q7t_8_a1CF8w"
      },
      "source": [
        "## 사용자 정의 nn.Module"
      ]
    },
    {
      "cell_type": "code",
      "metadata": {
        "id": "JxRltabJCDF7"
      },
      "source": [
        "import torch\n",
        "import math\n",
        "\n",
        "class Polynomial3(torch.nn.Module):\n",
        "    def __init__(self):\n",
        "        \"\"\"\n",
        "        생성자에서 4개의 매개변수를 생성(instantiate)하고, 멤버 변수로 지정합니다.\n",
        "        \"\"\"\n",
        "        super().__init__()\n",
        "        self.a = torch.nn.Parameter(torch.randn(()))\n",
        "        self.b = torch.nn.Parameter(torch.randn(()))\n",
        "        self.c = torch.nn.Parameter(torch.randn(()))\n",
        "        self.d = torch.nn.Parameter(torch.randn(()))\n",
        "\n",
        "    def forward(self, x):\n",
        "        \"\"\"\n",
        "        순전파 함수에서는 입력 데이터의 텐서를 받고 출력 데이터의 텐서를 반환해야 합니다.\n",
        "        텐서들 간의 임의의 연산뿐만 아니라, 생성자에서 정의한 Module을 사용할 수 있습니다.\n",
        "        \"\"\"\n",
        "        return self.a + self.b * x + self.c * x ** 2 + self.d * x ** 3\n",
        "\n",
        "    def string(self):\n",
        "        \"\"\"\n",
        "        Python의 다른 클래스(class)처럼, PyTorch 모듈을 사용해서 사용자 정의 메소드를 정의할 수 있습니다.\n",
        "        \"\"\"\n",
        "        return f'y = {self.a.item()} + {self.b.item()} x + {self.c.item()} x^2 + {self.d.item()} x^3'"
      ],
      "execution_count": null,
      "outputs": []
    },
    {
      "cell_type": "code",
      "metadata": {
        "colab": {
          "base_uri": "https://localhost:8080/"
        },
        "id": "hsq0WfSaCXPq",
        "outputId": "a3dc6903-e94d-40bd-e045-476c4a826dd6"
      },
      "source": [
        "x = torch.linspace(-math.pi, math.pi, 2000)\n",
        "y = torch.sin(x)\n",
        "\n",
        "model = Polynomial3()\n",
        "\n",
        "criterion = torch.nn.MSELoss(reduction='sum')\n",
        "optimizer = torch.optim.SGD(model.parameters(), lr=1e-6)\n",
        "for t in range(2000):\n",
        "    # 순전파 단계: 모델에 x를 전달하여 예측값 y를 계산합니다.\n",
        "    y_pred = model(x)\n",
        "\n",
        "    # 손실을 계산하고 출력합니다.\n",
        "    loss = criterion(y_pred, y)\n",
        "    if t % 100 == 99:\n",
        "        print(t, loss.item())\n",
        "\n",
        "    # 변화도를 0으로 만들고, 역전파 단계를 수행하고, 가중치를 갱신합니다.\n",
        "    optimizer.zero_grad()\n",
        "    loss.backward()\n",
        "    optimizer.step()\n",
        "\n",
        "print(f'Result: {model.string()}')"
      ],
      "execution_count": null,
      "outputs": [
        {
          "output_type": "stream",
          "name": "stdout",
          "text": [
            "99 3783.805908203125\n",
            "199 2670.328857421875\n",
            "299 1885.7158203125\n",
            "399 1332.6943359375\n",
            "499 942.80810546875\n",
            "599 667.8714599609375\n",
            "699 473.9512634277344\n",
            "799 337.14569091796875\n",
            "899 240.61422729492188\n",
            "999 172.48843383789062\n",
            "1099 124.40119934082031\n",
            "1199 90.45289611816406\n",
            "1299 66.482666015625\n",
            "1399 49.555442810058594\n",
            "1499 37.60016632080078\n",
            "1599 29.155420303344727\n",
            "1699 23.189678192138672\n",
            "1799 18.974727630615234\n",
            "1899 15.996487617492676\n",
            "1999 13.891875267028809\n",
            "Result: y = 0.07479018718004227 + 0.8655559420585632 x + -0.012902550399303436 x^2 + -0.09458425641059875 x^3\n"
          ]
        }
      ]
    },
    {
      "cell_type": "markdown",
      "metadata": {
        "id": "q8C1dWUTCs3J"
      },
      "source": [
        "## 제어 흐름 + 가중치 공유"
      ]
    },
    {
      "cell_type": "code",
      "metadata": {
        "id": "IA_1mQCLCjDL"
      },
      "source": [
        "import random\n",
        "import torch\n",
        "import math\n",
        "\n",
        "class DynamicNet(torch.nn.Module):\n",
        "    def __init__(self):\n",
        "        \"\"\"\n",
        "        생성자에서 5개의 매개변수를 생성(instantiate)하고 멤버 변수로 지정합니다.\n",
        "        \"\"\"\n",
        "        super().__init__()\n",
        "        self.a = torch.nn.Parameter(torch.randn(()))\n",
        "        self.b = torch.nn.Parameter(torch.randn(()))\n",
        "        self.c = torch.nn.Parameter(torch.randn(()))\n",
        "        self.d = torch.nn.Parameter(torch.randn(()))\n",
        "        self.e = torch.nn.Parameter(torch.randn(()))\n",
        "\n",
        "    def forward(self, x):\n",
        "        \"\"\"\n",
        "        모델의 순전파 단계에서는 무작위로 4, 5 중 하나를 선택한 뒤 매개변수 e를 재사용하여\n",
        "        이 차수들의의 기여도(contribution)를 계산합니다.\n",
        "\n",
        "        각 순전파 단계는 동적 연산 그래프를 구성하기 떄문에, 모델의 순전파 단계를 정의할 때\n",
        "        반복문이나 조건문과 같은 일반적인 Python 제어-흐름 연산자를 사용할 수 있습니다.\n",
        "\n",
        "        여기에서 연산 그래프를 정의할 때 동일한 매개변수를 여러번 사용하는 것이 완벽히 안전하다는\n",
        "        것을 알 수 있습니다.\n",
        "        \"\"\"\n",
        "        y = self.a + self.b * x + self.c * x ** 2 + self.d * x ** 3\n",
        "        for exp in range(4, random.randint(4, 6)):\n",
        "            y = y + self.e * x ** exp\n",
        "        return y\n",
        "\n",
        "    def string(self):\n",
        "        \"\"\"\n",
        "        Python의 다른 클래스(class)처럼, PyTorch 모듈을 사용해서 사용자 정의 메소드를 정의할 수 있습니다.\n",
        "        \"\"\"\n",
        "        return f'y = {self.a.item()} + {self.b.item()} x + {self.c.item()} x^2 + {self.d.item()} x^3 + {self.e.item()} x^4 ? + {self.e.item()} x^5 ?'"
      ],
      "execution_count": null,
      "outputs": []
    },
    {
      "cell_type": "code",
      "metadata": {
        "colab": {
          "base_uri": "https://localhost:8080/"
        },
        "id": "keCmqWjrDJZY",
        "outputId": "bf40cef6-6c39-4ecf-c827-cc027d1ae46b"
      },
      "source": [
        "# 입력값과 출력값을 갖는 텐서들을 생성합니다.\n",
        "x = torch.linspace(-math.pi, math.pi, 2000)\n",
        "y = torch.sin(x)\n",
        "\n",
        "model = DynamicNet()\n",
        "\n",
        "# 손실 함수와 optimizer를 생성합니다. 이 이상한 모델을 순수한 확률적 경사하강법(SGD; Stochastic Gradient Descent)으로\n",
        "# 학습하는 것은 어려우므로, 모멘텀(momentum)을 사용합니다.\n",
        "criterion = torch.nn.MSELoss(reduction='sum')\n",
        "optimizer = torch.optim.SGD(model.parameters(), lr=1e-8, momentum=0.9)\n",
        "for t in range(30000):\n",
        "    # 순전파 단계: 모델에 x를 전달하여 예측값 y를 계산합니다.\n",
        "    y_pred = model(x)\n",
        "\n",
        "    # 손실을 계산하고 출력합니다.\n",
        "    loss = criterion(y_pred, y)\n",
        "    if t % 2000 == 1999:\n",
        "        print(t, loss.item())\n",
        "\n",
        "    # 변화도를 0으로 만들고, 역전파 단계를 수행하고, 가중치를 갱신합니다.\n",
        "    optimizer.zero_grad()\n",
        "    loss.backward()\n",
        "    optimizer.step()\n",
        "\n",
        "print(f'Result: {model.string()}')"
      ],
      "execution_count": null,
      "outputs": [
        {
          "output_type": "stream",
          "name": "stdout",
          "text": [
            "1999 5663.07568359375\n",
            "3999 2272.40966796875\n",
            "5999 1096.51513671875\n",
            "7999 533.1947021484375\n",
            "9999 247.43527221679688\n",
            "11999 131.8475341796875\n",
            "13999 68.57860565185547\n",
            "15999 37.11836624145508\n",
            "17999 22.614126205444336\n",
            "19999 16.406208038330078\n",
            "21999 12.479074478149414\n",
            "23999 10.453495979309082\n",
            "25999 9.655424118041992\n",
            "27999 9.094375610351562\n",
            "29999 8.891033172607422\n",
            "Result: y = -0.013558934442698956 + 0.8523661494255066 x + 0.0019412304973229766 x^2 + -0.0928896814584732 x^3 + 8.881314715836197e-05 x^4 ? + 8.881314715836197e-05 x^5 ?\n"
          ]
        }
      ]
    },
    {
      "cell_type": "markdown",
      "metadata": {
        "id": "BKtgh9vtDkYS"
      },
      "source": [
        "# ✅  TORCH.NN\n",
        "\n",
        "PyTorch는 신경망을 생성하고 학습시키는 것을 도와주기 위해 `torch.nn, torch.optim, Dataset, DataLoader`와 같은 모듈과 클래스를 제공한다. 이것들을 최대한 활용하고 문제에 맞게 커스텀하기 위해서는 이 모듈와 클래스들이 무엇을 하는지 알아야 할 필요가 있다.    \n",
        "\n",
        "여기서는 MNIST를 이용해 신경망을 학습시킨다."
      ]
    },
    {
      "cell_type": "markdown",
      "metadata": {
        "id": "uKPXK7mIEWKm"
      },
      "source": [
        "## MNIST 데이터 준비\n",
        "`pathlib`과 `requests`를 이용해 MNIST 데이터셋을 다운로드한다.    \n",
        "\n",
        "* `pathlib` : 파일 시스템 경로를 문자열이 아니라 객체로 다룬다."
      ]
    },
    {
      "cell_type": "code",
      "metadata": {
        "id": "wEOdJhF2DPQX"
      },
      "source": [
        "from pathlib import Path\n",
        "import requests\n",
        "\n",
        "DATA_PATH = Path(\"data\") # PosixPath('data')\n",
        "PATH = DATA_PATH / \"mnist\"\n",
        "\n",
        "PATH.mkdir(parents=True, exist_ok=True)\n",
        "\n",
        "URL = \"https://github.com/pytorch/tutorials/raw/master/_static/\"\n",
        "FILENAME = \"mnist.pkl.gz\"\n",
        "\n",
        "if not (PATH / FILENAME).exists():\n",
        "        content = requests.get(URL + FILENAME).content\n",
        "        (PATH / FILENAME).open(\"wb\").write(content)"
      ],
      "execution_count": null,
      "outputs": []
    },
    {
      "cell_type": "markdown",
      "metadata": {
        "id": "iI0YiSvZFz1z"
      },
      "source": [
        "데이터 직렬화를 위한 포맷인 pickle을 이용하여 저장되어 있고, 데이터셋은 numpy 배열로 이루어져있다."
      ]
    },
    {
      "cell_type": "code",
      "metadata": {
        "id": "IkC2yV6WE01U"
      },
      "source": [
        "import pickle\n",
        "import gzip\n",
        "\n",
        "with gzip.open((PATH / FILENAME).as_posix(), \"rb\") as f:\n",
        "        ((x_train, y_train), (x_valid, y_valid), _) = pickle.load(f, encoding=\"latin-1\")"
      ],
      "execution_count": null,
      "outputs": []
    },
    {
      "cell_type": "code",
      "metadata": {
        "colab": {
          "base_uri": "https://localhost:8080/"
        },
        "id": "B53yzAGpGAbf",
        "outputId": "f6760f4c-15be-4699-a0e5-a41124776423"
      },
      "source": [
        "print(f'x_train: {x_train.shape}, y_train: {y_train.shape}')\n",
        "print(f'x_valid: {x_valid.shape}, y_valid: {y_valid.shape}')"
      ],
      "execution_count": null,
      "outputs": [
        {
          "output_type": "stream",
          "name": "stdout",
          "text": [
            "x_train: (50000, 784), y_train: (50000,)\n",
            "x_valid: (10000, 784), y_valid: (10000,)\n"
          ]
        }
      ]
    },
    {
      "cell_type": "code",
      "metadata": {
        "colab": {
          "base_uri": "https://localhost:8080/"
        },
        "id": "VW3KPFomGRBR",
        "outputId": "1ca05a51-a56b-466d-fe9c-704ccaeb2dd1"
      },
      "source": [
        "x_train[0].shape"
      ],
      "execution_count": null,
      "outputs": [
        {
          "output_type": "execute_result",
          "data": {
            "text/plain": [
              "(784,)"
            ]
          },
          "metadata": {},
          "execution_count": 20
        }
      ]
    },
    {
      "cell_type": "markdown",
      "metadata": {
        "id": "yhIBION3GhOn"
      },
      "source": [
        "각 이미지는 28x28 형태이고, 데이터 하나의 행은 784(=28*28) 로 저장되어 있다.    \n",
        "이것을 2d 이미지로 재구성한다."
      ]
    },
    {
      "cell_type": "code",
      "metadata": {
        "colab": {
          "base_uri": "https://localhost:8080/",
          "height": 282
        },
        "id": "yGL0dPoJGWSE",
        "outputId": "189ab32b-8832-468e-9f3a-b6774151040e"
      },
      "source": [
        "from matplotlib import pyplot\n",
        "import numpy as np\n",
        "\n",
        "pyplot.imshow(x_train[0].reshape((28,28)), cmap='gray')"
      ],
      "execution_count": null,
      "outputs": [
        {
          "output_type": "execute_result",
          "data": {
            "text/plain": [
              "<matplotlib.image.AxesImage at 0x7f50d844c290>"
            ]
          },
          "metadata": {},
          "execution_count": 21
        },
        {
          "output_type": "display_data",
          "data": {
            "image/png": "[encoded data removed]",
            "text/plain": [
              "<Figure size 432x288 with 1 Axes>"
            ]
          },
          "metadata": {
            "needs_background": "light"
          }
        }
      ]
    },
    {
      "cell_type": "markdown",
      "metadata": {
        "id": "VipRPoDAHFMf"
      },
      "source": [
        "numpy 배열로 이루어져있는 데이터를 tensor로 변환한다."
      ]
    },
    {
      "cell_type": "code",
      "metadata": {
        "colab": {
          "base_uri": "https://localhost:8080/"
        },
        "id": "hfS0PVGkHBoe",
        "outputId": "7aecd997-ae9f-44d0-9345-0f13261e6f0f"
      },
      "source": [
        "import torch\n",
        "\n",
        "x_train_tensor, y_train_tensor, x_valid_tensor, y_valid_tensor = map(torch.tensor, (x_train, y_train, x_valid, y_valid))\n",
        "print(f'x_train: {x_train_tensor.shape}, y_train: {y_train_tensor.shape}')\n",
        "print(f'x_valid: {x_valid_tensor.shape}, y_valid: {y_valid_tensor.shape}')"
      ],
      "execution_count": null,
      "outputs": [
        {
          "output_type": "stream",
          "name": "stdout",
          "text": [
            "x_train: torch.Size([50000, 784]), y_train: torch.Size([50000])\n",
            "x_valid: torch.Size([10000, 784]), y_valid: torch.Size([10000])\n"
          ]
        }
      ]
    },
    {
      "cell_type": "code",
      "metadata": {
        "colab": {
          "base_uri": "https://localhost:8080/"
        },
        "id": "LUOZlaE4JHeU",
        "outputId": "096ded9f-c14a-4c8e-ba69-1cbf6b82dbb1"
      },
      "source": [
        "print(y_train_tensor.min(), y_train_tensor.max())"
      ],
      "execution_count": null,
      "outputs": [
        {
          "output_type": "stream",
          "name": "stdout",
          "text": [
            "tensor(0) tensor(9)\n"
          ]
        }
      ]
    },
    {
      "cell_type": "markdown",
      "metadata": {
        "id": "P5Tculf8HfUr"
      },
      "source": [
        "## torch.nn 없이 밑바닥부터 신경망 만들기"
      ]
    },
    {
      "cell_type": "markdown",
      "metadata": {
        "id": "RWBQEsjCIzK3"
      },
      "source": [
        "**Xavier initialisation**    \n",
        "이전 노드와 다음 노드의 개수에 의존해 초기화 하는 것.    \n",
        "여기서는 `1/sqrt(n)` 을 곱해주는 것으로 초기화."
      ]
    },
    {
      "cell_type": "markdown",
      "metadata": {
        "id": "E3ZMrznXMPB_"
      },
      "source": [
        "### 모델 구현"
      ]
    },
    {
      "cell_type": "code",
      "metadata": {
        "colab": {
          "base_uri": "https://localhost:8080/"
        },
        "id": "E-sKyAkqHg6G",
        "outputId": "2c44c4f0-0c12-466d-acc4-fcc5318cfde1"
      },
      "source": [
        "import math\n",
        "# 가중치와 bias는 랜덤 또는 0으로만 이루어진 텐서로 생성한다. \n",
        "# 가중치 초기화는 Xavier initialisation을 이용한다.\n",
        "weights = torch.randn(784, 10) / math.sqrt(784)\n",
        "bias = torch.zeros(10, requires_grad=True)\n",
        "# 가중치는 requires_grad를 초기화 다음에 설정한다.-> 초기화 단계를 역전파계산에 포함시키지 않기 위해서\n",
        "weights.requires_grad_()"
      ],
      "execution_count": null,
      "outputs": [
        {
          "output_type": "execute_result",
          "data": {
            "text/plain": [
              "tensor([[ 0.0072,  0.0231, -0.0495,  ...,  0.0015, -0.0651, -0.0122],\n",
              "        [ 0.0314,  0.0503, -0.0142,  ..., -0.0045,  0.0038, -0.0195],\n",
              "        [ 0.0135, -0.0068, -0.0428,  ...,  0.0261, -0.0154, -0.0304],\n",
              "        ...,\n",
              "        [-0.0074, -0.0585, -0.0031,  ..., -0.0512, -0.0611,  0.0167],\n",
              "        [ 0.0059, -0.0021,  0.0069,  ..., -0.0378, -0.0016, -0.0072],\n",
              "        [ 0.0228, -0.0075, -0.0271,  ..., -0.0497, -0.0128, -0.0128]],\n",
              "       requires_grad=True)"
            ]
          },
          "metadata": {},
          "execution_count": 24
        }
      ]
    },
    {
      "cell_type": "code",
      "metadata": {
        "colab": {
          "base_uri": "https://localhost:8080/"
        },
        "id": "1tPHShKSLtOW",
        "outputId": "bd97f09f-e860-42de-f605-8f95b20c834d"
      },
      "source": [
        "weights.shape, bias.shape"
      ],
      "execution_count": null,
      "outputs": [
        {
          "output_type": "execute_result",
          "data": {
            "text/plain": [
              "(torch.Size([784, 10]), torch.Size([10]))"
            ]
          },
          "metadata": {},
          "execution_count": 25
        }
      ]
    },
    {
      "cell_type": "markdown",
      "metadata": {
        "id": "gXCmgnD4KQk3"
      },
      "source": [
        "❗ `_` 이것이 끝에 붙어있는 메서드는 in-place로 수행된다는 것을 의미"
      ]
    },
    {
      "cell_type": "markdown",
      "metadata": {
        "id": "drKaLX-VKqPi"
      },
      "source": [
        "---\n",
        "**모델을 만들기 위해 필요한 것**\n",
        "* activation function : log_softmax\n",
        "* loss function\n",
        "\n"
      ]
    },
    {
      "cell_type": "code",
      "metadata": {
        "id": "-Z37v1muKPX7"
      },
      "source": [
        "def log_softmax(x):\n",
        "    return x - x.exp().sum(-1).log().unsqueeze(-1)\n",
        "\n",
        "def model(xb):\n",
        "    return log_softmax(xb @ weights + bias) # @ : 내적"
      ],
      "execution_count": null,
      "outputs": []
    },
    {
      "cell_type": "markdown",
      "metadata": {
        "id": "q3Dz5YaiLuUe"
      },
      "source": [
        "하나의 배치 데이터에 대해 모델을 학습"
      ]
    },
    {
      "cell_type": "code",
      "metadata": {
        "colab": {
          "base_uri": "https://localhost:8080/"
        },
        "id": "Bq1LuC1JLIZA",
        "outputId": "ae8685f9-564c-4277-fc9f-5215ea9ce899"
      },
      "source": [
        "BATCH_SIZE = 64\n",
        "\n",
        "xb = x_train_tensor[0:BATCH_SIZE]  # x로부터 미니배치(mini-batch) 추출\n",
        "preds = model(xb)  # 예측\n",
        "preds[0], preds.shape\n",
        "print(preds[0], preds.shape)"
      ],
      "execution_count": null,
      "outputs": [
        {
          "output_type": "stream",
          "name": "stdout",
          "text": [
            "tensor([-2.2115, -2.4580, -2.2605, -1.9855, -2.0223, -2.2724, -2.3142, -2.6582,\n",
            "        -2.7045, -2.3858], grad_fn=<SelectBackward>) torch.Size([64, 10])\n"
          ]
        }
      ]
    },
    {
      "cell_type": "markdown",
      "metadata": {
        "id": "VcXqyhrNMMJF"
      },
      "source": [
        "### loss function 구현\n",
        "negative log-likelihood를 구현한다."
      ]
    },
    {
      "cell_type": "code",
      "metadata": {
        "id": "ubHf0rgJLiaB"
      },
      "source": [
        "def nll(input, target):\n",
        "    return -input[range(target.shape[0]), target].mean() # 이미 input이 log가 취해져 있기 때문에 따로 log를 씌워주지 않은 듯 하다.\n",
        "\n",
        "loss_func = nll"
      ],
      "execution_count": null,
      "outputs": []
    },
    {
      "cell_type": "code",
      "metadata": {
        "colab": {
          "base_uri": "https://localhost:8080/"
        },
        "id": "_iLx4XAhNKtJ",
        "outputId": "945eccd1-beaa-49f3-c69b-dae54dd6be9e"
      },
      "source": [
        "yb = y_train_tensor[0:BATCH_SIZE]\n",
        "print(loss_func(preds, yb))"
      ],
      "execution_count": null,
      "outputs": [
        {
          "output_type": "stream",
          "name": "stdout",
          "text": [
            "tensor(2.3328, grad_fn=<NegBackward>)\n"
          ]
        }
      ]
    },
    {
      "cell_type": "markdown",
      "metadata": {
        "id": "336TQgPFNdre"
      },
      "source": [
        "### 모델 평가하는 함수 구현\n",
        "정확도를 계산하기 위한 함수를 구현한다."
      ]
    },
    {
      "cell_type": "code",
      "metadata": {
        "id": "yTTd_ptjNZQ9"
      },
      "source": [
        "def accuracy(out, yb):\n",
        "    preds = torch.argmax(out, dim=1)\n",
        "    return (preds == yb).float().mean()"
      ],
      "execution_count": null,
      "outputs": []
    },
    {
      "cell_type": "code",
      "metadata": {
        "colab": {
          "base_uri": "https://localhost:8080/"
        },
        "id": "YQno6D3VNxtg",
        "outputId": "2371e523-a3c2-4a0d-82c3-8d944666c0d8"
      },
      "source": [
        "print(accuracy(preds, yb))"
      ],
      "execution_count": null,
      "outputs": [
        {
          "output_type": "stream",
          "name": "stdout",
          "text": [
            "tensor(0.0781)\n"
          ]
        }
      ]
    },
    {
      "cell_type": "markdown",
      "metadata": {
        "id": "W3KBoklXN371"
      },
      "source": [
        "### 훈련 루프 실행\n",
        "매 반복(epoch)마다 다음을 수행한다.\n",
        "1. 미니배치 선택\n",
        "2. 모델을 이용해 예측\n",
        "3. 손실(loss)를 계산\n",
        "4. backward를 이용해 기울기 업데이트.(weight, bias)"
      ]
    },
    {
      "cell_type": "code",
      "metadata": {
        "id": "Ed0zT_hrNzJ7"
      },
      "source": [
        "from IPython.core.debugger import set_trace\n",
        "\n",
        "lr = 0.5  # 학습률(learning rate)\n",
        "epochs = 2  # 훈련에 사용할 에폭(epoch) 수\n",
        "n, c = x_train_tensor.shape\n",
        "for epoch in range(epochs):\n",
        "    for i in range((n - 1) // BATCH_SIZE + 1):\n",
        "        start_i = i * BATCH_SIZE\n",
        "        end_i = start_i + BATCH_SIZE\n",
        "        xb = x_train_tensor[start_i:end_i]\n",
        "        yb = y_train_tensor[start_i:end_i]\n",
        "        pred = model(xb)\n",
        "        loss = loss_func(pred, yb)\n",
        "\n",
        "        loss.backward()\n",
        "        with torch.no_grad():\n",
        "            weights -= weights.grad * lr\n",
        "            bias -= bias.grad * lr\n",
        "            weights.grad.zero_()\n",
        "            bias.grad.zero_()"
      ],
      "execution_count": null,
      "outputs": []
    },
    {
      "cell_type": "code",
      "metadata": {
        "colab": {
          "base_uri": "https://localhost:8080/"
        },
        "id": "TfeR8WpIO6CA",
        "outputId": "33144443-eb29-4082-a3da-58c98ec42ce8"
      },
      "source": [
        "print(loss_func(model(xb), yb), accuracy(model(xb), yb))"
      ],
      "execution_count": null,
      "outputs": [
        {
          "output_type": "stream",
          "name": "stdout",
          "text": [
            "tensor(0.0815, grad_fn=<NegBackward>) tensor(1.)\n"
          ]
        }
      ]
    },
    {
      "cell_type": "markdown",
      "metadata": {
        "id": "r47ngIUzo4VA"
      },
      "source": [
        "###### set_trace() 사용예시"
      ]
    },
    {
      "cell_type": "code",
      "metadata": {
        "colab": {
          "base_uri": "https://localhost:8080/",
          "height": 1000
        },
        "id": "LdGslREMoI7e",
        "outputId": "f54d22bc-02e0-43a7-aa32-9b934b46abb8"
      },
      "source": [
        "lr = 0.5  # 학습률(learning rate)\n",
        "epochs = 2  # 훈련에 사용할 에폭(epoch) 수\n",
        "n, c = x_train_tensor.shape\n",
        "for epoch in range(epochs):\n",
        "    for i in range((n - 1) // BATCH_SIZE + 1):\n",
        "        set_trace()\n",
        "        start_i = i * BATCH_SIZE\n",
        "        end_i = start_i + BATCH_SIZE\n",
        "        xb = x_train_tensor[start_i:end_i]\n",
        "        yb = y_train_tensor[start_i:end_i]\n",
        "        pred = model(xb)\n",
        "        loss = loss_func(pred, yb)\n",
        "\n",
        "        loss.backward()\n",
        "        with torch.no_grad():\n",
        "            weights -= weights.grad * lr\n",
        "            bias -s= bias.grad * lr\n",
        "            weights.grad.zero_()\n",
        "            bias.grad.zero_()"
      ],
      "execution_count": null,
      "outputs": [
        {
          "name": "stdout",
          "output_type": "stream",
          "text": [
            "> \u001b[0;32m<ipython-input-90-2910fe7bab2d>\u001b[0m(7)\u001b[0;36m<module>\u001b[0;34m()\u001b[0m\n",
            "\u001b[0;32m      5 \u001b[0;31m    \u001b[0;32mfor\u001b[0m \u001b[0mi\u001b[0m \u001b[0;32min\u001b[0m \u001b[0mrange\u001b[0m\u001b[0;34m(\u001b[0m\u001b[0;34m(\u001b[0m\u001b[0mn\u001b[0m \u001b[0;34m-\u001b[0m \u001b[0;36m1\u001b[0m\u001b[0;34m)\u001b[0m \u001b[0;34m//\u001b[0m \u001b[0mBATCH_SIZE\u001b[0m \u001b[0;34m+\u001b[0m \u001b[0;36m1\u001b[0m\u001b[0;34m)\u001b[0m\u001b[0;34m:\u001b[0m\u001b[0;34m\u001b[0m\u001b[0;34m\u001b[0m\u001b[0m\n",
            "\u001b[0m\u001b[0;32m      6 \u001b[0;31m        \u001b[0mset_trace\u001b[0m\u001b[0;34m(\u001b[0m\u001b[0;34m)\u001b[0m\u001b[0;34m\u001b[0m\u001b[0;34m\u001b[0m\u001b[0m\n",
            "\u001b[0m\u001b[0;32m----> 7 \u001b[0;31m        \u001b[0mstart_i\u001b[0m \u001b[0;34m=\u001b[0m \u001b[0mi\u001b[0m \u001b[0;34m*\u001b[0m \u001b[0mBATCH_SIZE\u001b[0m\u001b[0;34m\u001b[0m\u001b[0;34m\u001b[0m\u001b[0m\n",
            "\u001b[0m\u001b[0;32m      8 \u001b[0;31m        \u001b[0mend_i\u001b[0m \u001b[0;34m=\u001b[0m \u001b[0mstart_i\u001b[0m \u001b[0;34m+\u001b[0m \u001b[0mBATCH_SIZE\u001b[0m\u001b[0;34m\u001b[0m\u001b[0;34m\u001b[0m\u001b[0m\n",
            "\u001b[0m\u001b[0;32m      9 \u001b[0;31m        \u001b[0mxb\u001b[0m \u001b[0;34m=\u001b[0m \u001b[0mx_train_tensor\u001b[0m\u001b[0;34m[\u001b[0m\u001b[0mstart_i\u001b[0m\u001b[0;34m:\u001b[0m\u001b[0mend_i\u001b[0m\u001b[0;34m]\u001b[0m\u001b[0;34m\u001b[0m\u001b[0;34m\u001b[0m\u001b[0m\n",
            "\u001b[0m\n",
            "ipdb> s\n",
            "> \u001b[0;32m<ipython-input-90-2910fe7bab2d>\u001b[0m(8)\u001b[0;36m<module>\u001b[0;34m()\u001b[0m\n",
            "\u001b[0;32m      6 \u001b[0;31m        \u001b[0mset_trace\u001b[0m\u001b[0;34m(\u001b[0m\u001b[0;34m)\u001b[0m\u001b[0;34m\u001b[0m\u001b[0;34m\u001b[0m\u001b[0m\n",
            "\u001b[0m\u001b[0;32m      7 \u001b[0;31m        \u001b[0mstart_i\u001b[0m \u001b[0;34m=\u001b[0m \u001b[0mi\u001b[0m \u001b[0;34m*\u001b[0m \u001b[0mBATCH_SIZE\u001b[0m\u001b[0;34m\u001b[0m\u001b[0;34m\u001b[0m\u001b[0m\n",
            "\u001b[0m\u001b[0;32m----> 8 \u001b[0;31m        \u001b[0mend_i\u001b[0m \u001b[0;34m=\u001b[0m \u001b[0mstart_i\u001b[0m \u001b[0;34m+\u001b[0m \u001b[0mBATCH_SIZE\u001b[0m\u001b[0;34m\u001b[0m\u001b[0;34m\u001b[0m\u001b[0m\n",
            "\u001b[0m\u001b[0;32m      9 \u001b[0;31m        \u001b[0mxb\u001b[0m \u001b[0;34m=\u001b[0m \u001b[0mx_train_tensor\u001b[0m\u001b[0;34m[\u001b[0m\u001b[0mstart_i\u001b[0m\u001b[0;34m:\u001b[0m\u001b[0mend_i\u001b[0m\u001b[0;34m]\u001b[0m\u001b[0;34m\u001b[0m\u001b[0;34m\u001b[0m\u001b[0m\n",
            "\u001b[0m\u001b[0;32m     10 \u001b[0;31m        \u001b[0myb\u001b[0m \u001b[0;34m=\u001b[0m \u001b[0my_train_tensor\u001b[0m\u001b[0;34m[\u001b[0m\u001b[0mstart_i\u001b[0m\u001b[0;34m:\u001b[0m\u001b[0mend_i\u001b[0m\u001b[0;34m]\u001b[0m\u001b[0;34m\u001b[0m\u001b[0;34m\u001b[0m\u001b[0m\n",
            "\u001b[0m\n",
            "ipdb> s\n",
            "> \u001b[0;32m<ipython-input-90-2910fe7bab2d>\u001b[0m(9)\u001b[0;36m<module>\u001b[0;34m()\u001b[0m\n",
            "\u001b[0;32m      7 \u001b[0;31m        \u001b[0mstart_i\u001b[0m \u001b[0;34m=\u001b[0m \u001b[0mi\u001b[0m \u001b[0;34m*\u001b[0m \u001b[0mBATCH_SIZE\u001b[0m\u001b[0;34m\u001b[0m\u001b[0;34m\u001b[0m\u001b[0m\n",
            "\u001b[0m\u001b[0;32m      8 \u001b[0;31m        \u001b[0mend_i\u001b[0m \u001b[0;34m=\u001b[0m \u001b[0mstart_i\u001b[0m \u001b[0;34m+\u001b[0m \u001b[0mBATCH_SIZE\u001b[0m\u001b[0;34m\u001b[0m\u001b[0;34m\u001b[0m\u001b[0m\n",
            "\u001b[0m\u001b[0;32m----> 9 \u001b[0;31m        \u001b[0mxb\u001b[0m \u001b[0;34m=\u001b[0m \u001b[0mx_train_tensor\u001b[0m\u001b[0;34m[\u001b[0m\u001b[0mstart_i\u001b[0m\u001b[0;34m:\u001b[0m\u001b[0mend_i\u001b[0m\u001b[0;34m]\u001b[0m\u001b[0;34m\u001b[0m\u001b[0;34m\u001b[0m\u001b[0m\n",
            "\u001b[0m\u001b[0;32m     10 \u001b[0;31m        \u001b[0myb\u001b[0m \u001b[0;34m=\u001b[0m \u001b[0my_train_tensor\u001b[0m\u001b[0;34m[\u001b[0m\u001b[0mstart_i\u001b[0m\u001b[0;34m:\u001b[0m\u001b[0mend_i\u001b[0m\u001b[0;34m]\u001b[0m\u001b[0;34m\u001b[0m\u001b[0;34m\u001b[0m\u001b[0m\n",
            "\u001b[0m\u001b[0;32m     11 \u001b[0;31m        \u001b[0mpred\u001b[0m \u001b[0;34m=\u001b[0m \u001b[0mmodel\u001b[0m\u001b[0;34m(\u001b[0m\u001b[0mxb\u001b[0m\u001b[0;34m)\u001b[0m\u001b[0;34m\u001b[0m\u001b[0;34m\u001b[0m\u001b[0m\n",
            "\u001b[0m\n",
            "ipdb> xb\n",
            "tensor([[0., 0., 0.,  ..., 0., 0., 0.],\n",
            "        [0., 0., 0.,  ..., 0., 0., 0.],\n",
            "        [0., 0., 0.,  ..., 0., 0., 0.],\n",
            "        ...,\n",
            "        [0., 0., 0.,  ..., 0., 0., 0.],\n",
            "        [0., 0., 0.,  ..., 0., 0., 0.],\n",
            "        [0., 0., 0.,  ..., 0., 0., 0.]])\n",
            "ipdb> xb\n",
            "tensor([[0., 0., 0.,  ..., 0., 0., 0.],\n",
            "        [0., 0., 0.,  ..., 0., 0., 0.],\n",
            "        [0., 0., 0.,  ..., 0., 0., 0.],\n",
            "        ...,\n",
            "        [0., 0., 0.,  ..., 0., 0., 0.],\n",
            "        [0., 0., 0.,  ..., 0., 0., 0.],\n",
            "        [0., 0., 0.,  ..., 0., 0., 0.]])\n",
            "ipdb> s\n",
            "> \u001b[0;32m<ipython-input-90-2910fe7bab2d>\u001b[0m(10)\u001b[0;36m<module>\u001b[0;34m()\u001b[0m\n",
            "\u001b[0;32m      8 \u001b[0;31m        \u001b[0mend_i\u001b[0m \u001b[0;34m=\u001b[0m \u001b[0mstart_i\u001b[0m \u001b[0;34m+\u001b[0m \u001b[0mBATCH_SIZE\u001b[0m\u001b[0;34m\u001b[0m\u001b[0;34m\u001b[0m\u001b[0m\n",
            "\u001b[0m\u001b[0;32m      9 \u001b[0;31m        \u001b[0mxb\u001b[0m \u001b[0;34m=\u001b[0m \u001b[0mx_train_tensor\u001b[0m\u001b[0;34m[\u001b[0m\u001b[0mstart_i\u001b[0m\u001b[0;34m:\u001b[0m\u001b[0mend_i\u001b[0m\u001b[0;34m]\u001b[0m\u001b[0;34m\u001b[0m\u001b[0;34m\u001b[0m\u001b[0m\n",
            "\u001b[0m\u001b[0;32m---> 10 \u001b[0;31m        \u001b[0myb\u001b[0m \u001b[0;34m=\u001b[0m \u001b[0my_train_tensor\u001b[0m\u001b[0;34m[\u001b[0m\u001b[0mstart_i\u001b[0m\u001b[0;34m:\u001b[0m\u001b[0mend_i\u001b[0m\u001b[0;34m]\u001b[0m\u001b[0;34m\u001b[0m\u001b[0;34m\u001b[0m\u001b[0m\n",
            "\u001b[0m\u001b[0;32m     11 \u001b[0;31m        \u001b[0mpred\u001b[0m \u001b[0;34m=\u001b[0m \u001b[0mmodel\u001b[0m\u001b[0;34m(\u001b[0m\u001b[0mxb\u001b[0m\u001b[0;34m)\u001b[0m\u001b[0;34m\u001b[0m\u001b[0;34m\u001b[0m\u001b[0m\n",
            "\u001b[0m\u001b[0;32m     12 \u001b[0;31m        \u001b[0mloss\u001b[0m \u001b[0;34m=\u001b[0m \u001b[0mloss_func\u001b[0m\u001b[0;34m(\u001b[0m\u001b[0mpred\u001b[0m\u001b[0;34m,\u001b[0m \u001b[0myb\u001b[0m\u001b[0;34m)\u001b[0m\u001b[0;34m\u001b[0m\u001b[0;34m\u001b[0m\u001b[0m\n",
            "\u001b[0m\n",
            "ipdb> xb\n",
            "tensor([[0., 0., 0.,  ..., 0., 0., 0.],\n",
            "        [0., 0., 0.,  ..., 0., 0., 0.],\n",
            "        [0., 0., 0.,  ..., 0., 0., 0.],\n",
            "        ...,\n",
            "        [0., 0., 0.,  ..., 0., 0., 0.],\n",
            "        [0., 0., 0.,  ..., 0., 0., 0.],\n",
            "        [0., 0., 0.,  ..., 0., 0., 0.]])\n",
            "ipdb> end_i\n",
            "64\n",
            "ipdb> exit\n"
          ]
        },
        {
          "output_type": "error",
          "ename": "BdbQuit",
          "evalue": "ignored",
          "traceback": [
            "\u001b[0;31m---------------------------------------------------------------------------\u001b[0m",
            "\u001b[0;31mBdbQuit\u001b[0m                                   Traceback (most recent call last)",
            "\u001b[0;32m<ipython-input-90-2910fe7bab2d>\u001b[0m in \u001b[0;36m<module>\u001b[0;34m()\u001b[0m\n\u001b[1;32m      8\u001b[0m         \u001b[0mend_i\u001b[0m \u001b[0;34m=\u001b[0m \u001b[0mstart_i\u001b[0m \u001b[0;34m+\u001b[0m \u001b[0mBATCH_SIZE\u001b[0m\u001b[0;34m\u001b[0m\u001b[0;34m\u001b[0m\u001b[0m\n\u001b[1;32m      9\u001b[0m         \u001b[0mxb\u001b[0m \u001b[0;34m=\u001b[0m \u001b[0mx_train_tensor\u001b[0m\u001b[0;34m[\u001b[0m\u001b[0mstart_i\u001b[0m\u001b[0;34m:\u001b[0m\u001b[0mend_i\u001b[0m\u001b[0;34m]\u001b[0m\u001b[0;34m\u001b[0m\u001b[0;34m\u001b[0m\u001b[0m\n\u001b[0;32m---> 10\u001b[0;31m         \u001b[0myb\u001b[0m \u001b[0;34m=\u001b[0m \u001b[0my_train_tensor\u001b[0m\u001b[0;34m[\u001b[0m\u001b[0mstart_i\u001b[0m\u001b[0;34m:\u001b[0m\u001b[0mend_i\u001b[0m\u001b[0;34m]\u001b[0m\u001b[0;34m\u001b[0m\u001b[0;34m\u001b[0m\u001b[0m\n\u001b[0m\u001b[1;32m     11\u001b[0m         \u001b[0mpred\u001b[0m \u001b[0;34m=\u001b[0m \u001b[0mmodel\u001b[0m\u001b[0;34m(\u001b[0m\u001b[0mxb\u001b[0m\u001b[0;34m)\u001b[0m\u001b[0;34m\u001b[0m\u001b[0;34m\u001b[0m\u001b[0m\n\u001b[1;32m     12\u001b[0m         \u001b[0mloss\u001b[0m \u001b[0;34m=\u001b[0m \u001b[0mloss_func\u001b[0m\u001b[0;34m(\u001b[0m\u001b[0mpred\u001b[0m\u001b[0;34m,\u001b[0m \u001b[0myb\u001b[0m\u001b[0;34m)\u001b[0m\u001b[0;34m\u001b[0m\u001b[0;34m\u001b[0m\u001b[0m\n",
            "\u001b[0;32m<ipython-input-90-2910fe7bab2d>\u001b[0m in \u001b[0;36m<module>\u001b[0;34m()\u001b[0m\n\u001b[1;32m      8\u001b[0m         \u001b[0mend_i\u001b[0m \u001b[0;34m=\u001b[0m \u001b[0mstart_i\u001b[0m \u001b[0;34m+\u001b[0m \u001b[0mBATCH_SIZE\u001b[0m\u001b[0;34m\u001b[0m\u001b[0;34m\u001b[0m\u001b[0m\n\u001b[1;32m      9\u001b[0m         \u001b[0mxb\u001b[0m \u001b[0;34m=\u001b[0m \u001b[0mx_train_tensor\u001b[0m\u001b[0;34m[\u001b[0m\u001b[0mstart_i\u001b[0m\u001b[0;34m:\u001b[0m\u001b[0mend_i\u001b[0m\u001b[0;34m]\u001b[0m\u001b[0;34m\u001b[0m\u001b[0;34m\u001b[0m\u001b[0m\n\u001b[0;32m---> 10\u001b[0;31m         \u001b[0myb\u001b[0m \u001b[0;34m=\u001b[0m \u001b[0my_train_tensor\u001b[0m\u001b[0;34m[\u001b[0m\u001b[0mstart_i\u001b[0m\u001b[0;34m:\u001b[0m\u001b[0mend_i\u001b[0m\u001b[0;34m]\u001b[0m\u001b[0;34m\u001b[0m\u001b[0;34m\u001b[0m\u001b[0m\n\u001b[0m\u001b[1;32m     11\u001b[0m         \u001b[0mpred\u001b[0m \u001b[0;34m=\u001b[0m \u001b[0mmodel\u001b[0m\u001b[0;34m(\u001b[0m\u001b[0mxb\u001b[0m\u001b[0;34m)\u001b[0m\u001b[0;34m\u001b[0m\u001b[0;34m\u001b[0m\u001b[0m\n\u001b[1;32m     12\u001b[0m         \u001b[0mloss\u001b[0m \u001b[0;34m=\u001b[0m \u001b[0mloss_func\u001b[0m\u001b[0;34m(\u001b[0m\u001b[0mpred\u001b[0m\u001b[0;34m,\u001b[0m \u001b[0myb\u001b[0m\u001b[0;34m)\u001b[0m\u001b[0;34m\u001b[0m\u001b[0;34m\u001b[0m\u001b[0m\n",
            "\u001b[0;32m/usr/lib/python3.7/bdb.py\u001b[0m in \u001b[0;36mtrace_dispatch\u001b[0;34m(self, frame, event, arg)\u001b[0m\n\u001b[1;32m     86\u001b[0m             \u001b[0;32mreturn\u001b[0m \u001b[0;31m# None\u001b[0m\u001b[0;34m\u001b[0m\u001b[0;34m\u001b[0m\u001b[0m\n\u001b[1;32m     87\u001b[0m         \u001b[0;32mif\u001b[0m \u001b[0mevent\u001b[0m \u001b[0;34m==\u001b[0m \u001b[0;34m'line'\u001b[0m\u001b[0;34m:\u001b[0m\u001b[0;34m\u001b[0m\u001b[0;34m\u001b[0m\u001b[0m\n\u001b[0;32m---> 88\u001b[0;31m             \u001b[0;32mreturn\u001b[0m \u001b[0mself\u001b[0m\u001b[0;34m.\u001b[0m\u001b[0mdispatch_line\u001b[0m\u001b[0;34m(\u001b[0m\u001b[0mframe\u001b[0m\u001b[0;34m)\u001b[0m\u001b[0;34m\u001b[0m\u001b[0;34m\u001b[0m\u001b[0m\n\u001b[0m\u001b[1;32m     89\u001b[0m         \u001b[0;32mif\u001b[0m \u001b[0mevent\u001b[0m \u001b[0;34m==\u001b[0m \u001b[0;34m'call'\u001b[0m\u001b[0;34m:\u001b[0m\u001b[0;34m\u001b[0m\u001b[0;34m\u001b[0m\u001b[0m\n\u001b[1;32m     90\u001b[0m             \u001b[0;32mreturn\u001b[0m \u001b[0mself\u001b[0m\u001b[0;34m.\u001b[0m\u001b[0mdispatch_call\u001b[0m\u001b[0;34m(\u001b[0m\u001b[0mframe\u001b[0m\u001b[0;34m,\u001b[0m \u001b[0marg\u001b[0m\u001b[0;34m)\u001b[0m\u001b[0;34m\u001b[0m\u001b[0;34m\u001b[0m\u001b[0m\n",
            "\u001b[0;32m/usr/lib/python3.7/bdb.py\u001b[0m in \u001b[0;36mdispatch_line\u001b[0;34m(self, frame)\u001b[0m\n\u001b[1;32m    111\u001b[0m         \u001b[0;32mif\u001b[0m \u001b[0mself\u001b[0m\u001b[0;34m.\u001b[0m\u001b[0mstop_here\u001b[0m\u001b[0;34m(\u001b[0m\u001b[0mframe\u001b[0m\u001b[0;34m)\u001b[0m \u001b[0;32mor\u001b[0m \u001b[0mself\u001b[0m\u001b[0;34m.\u001b[0m\u001b[0mbreak_here\u001b[0m\u001b[0;34m(\u001b[0m\u001b[0mframe\u001b[0m\u001b[0;34m)\u001b[0m\u001b[0;34m:\u001b[0m\u001b[0;34m\u001b[0m\u001b[0;34m\u001b[0m\u001b[0m\n\u001b[1;32m    112\u001b[0m             \u001b[0mself\u001b[0m\u001b[0;34m.\u001b[0m\u001b[0muser_line\u001b[0m\u001b[0;34m(\u001b[0m\u001b[0mframe\u001b[0m\u001b[0;34m)\u001b[0m\u001b[0;34m\u001b[0m\u001b[0;34m\u001b[0m\u001b[0m\n\u001b[0;32m--> 113\u001b[0;31m             \u001b[0;32mif\u001b[0m \u001b[0mself\u001b[0m\u001b[0;34m.\u001b[0m\u001b[0mquitting\u001b[0m\u001b[0;34m:\u001b[0m \u001b[0;32mraise\u001b[0m \u001b[0mBdbQuit\u001b[0m\u001b[0;34m\u001b[0m\u001b[0;34m\u001b[0m\u001b[0m\n\u001b[0m\u001b[1;32m    114\u001b[0m         \u001b[0;32mreturn\u001b[0m \u001b[0mself\u001b[0m\u001b[0;34m.\u001b[0m\u001b[0mtrace_dispatch\u001b[0m\u001b[0;34m\u001b[0m\u001b[0;34m\u001b[0m\u001b[0m\n\u001b[1;32m    115\u001b[0m \u001b[0;34m\u001b[0m\u001b[0m\n",
            "\u001b[0;31mBdbQuit\u001b[0m: "
          ]
        }
      ]
    },
    {
      "cell_type": "markdown",
      "metadata": {
        "id": "02k5s5dYPWGb"
      },
      "source": [
        "## torch.nn.functional을 사용해 코드 리팩토링\n",
        "nn 클래스를 활용해 코드를 더 간결하고 유연하게 리팩토링 할 수 있다.\n",
        "처음 단계에서는 직접 작성한 활성화, 손실 함수를 `torch.nn.functional`로 대체한다."
      ]
    },
    {
      "cell_type": "code",
      "metadata": {
        "id": "5Wf55mjIp4oI"
      },
      "source": [
        "# def nll(input, target):\n",
        "#     return -input[range(target.shape[0]), target].mean() # 이미 input이 log가 취해져 있기 때문에 따로 log를 씌워주지 않은 듯 하다.\n",
        "\n",
        "# loss_func = nll"
      ],
      "execution_count": null,
      "outputs": []
    },
    {
      "cell_type": "code",
      "metadata": {
        "id": "jU7URpDwqaHu"
      },
      "source": [
        "# def log_softmax(x):\n",
        "#     return x - x.exp().sum(-1).log().unsqueeze(-1)"
      ],
      "execution_count": null,
      "outputs": []
    },
    {
      "cell_type": "code",
      "metadata": {
        "id": "IkWvpZElpsSV"
      },
      "source": [
        "import torch.nn.functional as F\n",
        "\n",
        "loss_func = F.cross_entropy # log softmax와 negative log-likelihood를 결합하는 cross_entropy를 제공한다.\n",
        "\n",
        "def model(xb):\n",
        "    return xb @ weights + bias"
      ],
      "execution_count": null,
      "outputs": []
    },
    {
      "cell_type": "code",
      "metadata": {
        "colab": {
          "base_uri": "https://localhost:8080/"
        },
        "id": "vgRoVs_pqcCg",
        "outputId": "8952efb8-5ca0-4ce7-c46f-567774d757d8"
      },
      "source": [
        "print(loss_func(model(xb), yb), accuracy(model(xb), yb)) # 이전과 정확도 동일한 것을 확인"
      ],
      "execution_count": null,
      "outputs": [
        {
          "output_type": "stream",
          "name": "stdout",
          "text": [
            "tensor(0.0815, grad_fn=<NllLossBackward>) tensor(1.)\n"
          ]
        }
      ]
    },
    {
      "cell_type": "markdown",
      "metadata": {
        "id": "IHLad0ehkLfI"
      },
      "source": [
        "## nn.Module을 이용해 리팩토링 하기"
      ]
    },
    {
      "cell_type": "code",
      "metadata": {
        "id": "_iXw-JGhlgWc"
      },
      "source": [
        "# weights = torch.randn(784, 10) / math.sqrt(784)\n",
        "# bias = torch.zeros(10, requires_grad=True)\n",
        "# weights.requires_grad_()"
      ],
      "execution_count": null,
      "outputs": []
    },
    {
      "cell_type": "code",
      "metadata": {
        "id": "sfjzy5MTlpT_"
      },
      "source": [
        "# def model(xb):\n",
        "#     return log_softmax(xb @ weights + bias)"
      ],
      "execution_count": null,
      "outputs": []
    },
    {
      "cell_type": "code",
      "metadata": {
        "id": "HFvCqEKoPOvt"
      },
      "source": [
        "from torch import nn\n",
        "import math\n",
        "\n",
        "class Mnist_Logistic(nn.Module):\n",
        "    def __init__(self):\n",
        "        super().__init__()\n",
        "        self.weights = nn.Parameter(torch.randn(784,10)/math.sqrt(784))\n",
        "        self.bias = nn.Parameter(torch.zeros(10))\n",
        "\n",
        "    def forward(self, xb):\n",
        "        return xb @ self.weights + self.bias"
      ],
      "execution_count": null,
      "outputs": []
    },
    {
      "cell_type": "code",
      "metadata": {
        "id": "DGnJQZt0mAUp"
      },
      "source": [
        "model = Mnist_Logistic() # model함수를 사용하는 대신 객체로 사용하기 때문에, 모델을 인스턴스화 해야 한다."
      ],
      "execution_count": null,
      "outputs": []
    },
    {
      "cell_type": "markdown",
      "metadata": {
        "id": "vYDd_NkhmfzK"
      },
      "source": [
        "nn.Module 객체는 함수처럼 사용된다.(호출이 가능하다.) 하지만 PyTorch는 forward 메소드를 자동으로 호출한다."
      ]
    },
    {
      "cell_type": "code",
      "metadata": {
        "colab": {
          "base_uri": "https://localhost:8080/"
        },
        "id": "sNFLcyGEmQh1",
        "outputId": "59b44fd4-2306-4b6e-e7d2-b18f08f891ea"
      },
      "source": [
        "print(loss_func(model(xb), yb))"
      ],
      "execution_count": null,
      "outputs": [
        {
          "output_type": "stream",
          "name": "stdout",
          "text": [
            "tensor(2.2531, grad_fn=<NllLossBackward>)\n"
          ]
        }
      ]
    },
    {
      "cell_type": "markdown",
      "metadata": {
        "id": "V3PjNPKvm8d6"
      },
      "source": [
        "이전에는 가중치와 bias에 대한 기울기를 수동으로 0으로 초기화해야 했지만 nn.Module를 사용하면서 간결하게 만들 수 있다."
      ]
    },
    {
      "cell_type": "code",
      "metadata": {
        "id": "j3hCMr_PmuyQ"
      },
      "source": [
        "# with torch.no_grad():\n",
        "#     weights -= weights.grad * lr\n",
        "#     bias -= bias.grad * lr\n",
        "#     weights.grad.zero_()\n",
        "#     bias.grad.zero_()"
      ],
      "execution_count": null,
      "outputs": []
    },
    {
      "cell_type": "code",
      "metadata": {
        "id": "vQeJ1XsCnT4N"
      },
      "source": [
        "# with torch.no_grad():\n",
        "#     for p in model.parameters(): p -= p.grad * lr\n",
        "#     model.zero_grad()"
      ],
      "execution_count": null,
      "outputs": []
    },
    {
      "cell_type": "code",
      "metadata": {
        "id": "g3B9LbyMnVmc"
      },
      "source": [
        "def fit():\n",
        "    for epoch in range(epochs):\n",
        "        for i in range((n - 1) // BATCH_SIZE + 1):\n",
        "            start_i = i * BATCH_SIZE\n",
        "            end_i = start_i + BATCH_SIZE\n",
        "            xb = x_train_tensor[start_i:end_i]\n",
        "            yb = y_train_tensor[start_i:end_i]\n",
        "            pred = model(xb)\n",
        "            loss = loss_func(pred, yb)\n",
        "\n",
        "            loss.backward()\n",
        "            with torch.no_grad():\n",
        "                for p in model.parameters():\n",
        "                    p -= p.grad * lr\n",
        "                model.zero_grad()\n",
        "\n",
        "fit()"
      ],
      "execution_count": null,
      "outputs": []
    },
    {
      "cell_type": "code",
      "metadata": {
        "colab": {
          "base_uri": "https://localhost:8080/"
        },
        "id": "AeB8vQoonmFu",
        "outputId": "5df1fde6-6d2a-4a36-de4c-e76520e8a207"
      },
      "source": [
        "print(loss_func(model(xb), yb))"
      ],
      "execution_count": null,
      "outputs": [
        {
          "output_type": "stream",
          "name": "stdout",
          "text": [
            "tensor(0.0817, grad_fn=<NllLossBackward>)\n"
          ]
        }
      ]
    },
    {
      "cell_type": "markdown",
      "metadata": {
        "id": "eaDYotRZq8HI"
      },
      "source": [
        "## nn.Linear를 이용해 리팩토링 하기"
      ]
    },
    {
      "cell_type": "markdown",
      "metadata": {
        "id": "nSe0DXSqrHov"
      },
      "source": [
        "가중치와 bias초기화, `xb @ self.weights + self.bias`를 계산하는 대신 nn.Linear를 사용한다."
      ]
    },
    {
      "cell_type": "code",
      "metadata": {
        "colab": {
          "base_uri": "https://localhost:8080/"
        },
        "id": "ewXXWnZ7rooY",
        "outputId": "35fb42c5-8292-414b-fc7b-b0f5aac551b8"
      },
      "source": [
        "class Mnist_Logistic(nn.Module):\n",
        "    def __init__(self):\n",
        "        super().__init__()\n",
        "        self.weights = nn.Parameter(torch.randn(784,10)/math.sqrt(784))\n",
        "        self.bias = nn.Parameter(torch.zeros(10))\n",
        "\n",
        "    def forward(self, xb):\n",
        "        return xb @ self.weights + self.bias\n",
        "    \n",
        "    def getweights(self):\n",
        "        return self.weights\n",
        "\n",
        "    def getbias(self):\n",
        "        return self.bias\n",
        "\n",
        "init_model = Mnist_Logistic()\n",
        "init_model.getweights().shape, init_model.getbias().shape"
      ],
      "execution_count": null,
      "outputs": [
        {
          "output_type": "execute_result",
          "data": {
            "text/plain": [
              "(torch.Size([784, 10]), torch.Size([10]))"
            ]
          },
          "metadata": {},
          "execution_count": 48
        }
      ]
    },
    {
      "cell_type": "code",
      "metadata": {
        "colab": {
          "base_uri": "https://localhost:8080/"
        },
        "id": "Cz9Lp9P-n7Vj",
        "outputId": "ad62fc0c-7f1a-4bb0-d8a3-7928c86c347b"
      },
      "source": [
        "class Mnist_Logistic(nn.Module):\n",
        "    def __init__(self):\n",
        "        super().__init__()\n",
        "        self.lin = nn.Linear(784, 10)\n",
        "\n",
        "    def forward(self, xb):\n",
        "        return self.lin(xb)\n",
        "\n",
        "    def getweights(self):\n",
        "        return self.lin\n",
        "\n",
        "init_model = Mnist_Logistic()\n",
        "init_model.getweights()"
      ],
      "execution_count": null,
      "outputs": [
        {
          "output_type": "execute_result",
          "data": {
            "text/plain": [
              "Linear(in_features=784, out_features=10, bias=True)"
            ]
          },
          "metadata": {},
          "execution_count": 49
        }
      ]
    },
    {
      "cell_type": "code",
      "metadata": {
        "colab": {
          "base_uri": "https://localhost:8080/"
        },
        "id": "J6qRPFUVreQp",
        "outputId": "46974234-a886-4cdf-b545-caaa644951c1"
      },
      "source": [
        "model = Mnist_Logistic()\n",
        "print(loss_func(model(xb), yb))"
      ],
      "execution_count": null,
      "outputs": [
        {
          "output_type": "stream",
          "name": "stdout",
          "text": [
            "tensor(2.3441, grad_fn=<NllLossBackward>)\n"
          ]
        }
      ]
    },
    {
      "cell_type": "code",
      "metadata": {
        "colab": {
          "base_uri": "https://localhost:8080/"
        },
        "id": "00KG5KiMshI3",
        "outputId": "76695d89-17bc-49ab-dfb0-b79658ad5326"
      },
      "source": [
        "fit()\n",
        "\n",
        "print(loss_func(model(xb), yb))"
      ],
      "execution_count": null,
      "outputs": [
        {
          "output_type": "stream",
          "name": "stdout",
          "text": [
            "tensor(0.0824, grad_fn=<NllLossBackward>)\n"
          ]
        }
      ]
    },
    {
      "cell_type": "markdown",
      "metadata": {
        "id": "5F3ScNqpsrBp"
      },
      "source": [
        "## optim을 이용하여 리팩토링 하기\n",
        "다양한 최적화 알고리즘을 가진 torch.optim을 사용해 매개변수를 수동으로 업데이트 하는 대신 step을 사용해 업데이트를 진행한다."
      ]
    },
    {
      "cell_type": "code",
      "metadata": {
        "id": "zd1OKp7_skO5"
      },
      "source": [
        "# with torch.no_grad():\n",
        "#     for p in model.parameters(): p -= p.grad * lr\n",
        "#     model.zero_grad()"
      ],
      "execution_count": null,
      "outputs": []
    },
    {
      "cell_type": "code",
      "metadata": {
        "id": "rQPGaBnQs4Ht"
      },
      "source": [
        "# opt.step()\n",
        "# opt.zero_grad()"
      ],
      "execution_count": null,
      "outputs": []
    },
    {
      "cell_type": "code",
      "metadata": {
        "id": "Rw2kGCWWs5mj"
      },
      "source": [
        "from torch import optim"
      ],
      "execution_count": null,
      "outputs": []
    },
    {
      "cell_type": "code",
      "metadata": {
        "colab": {
          "base_uri": "https://localhost:8080/"
        },
        "id": "UyfAlI5atspa",
        "outputId": "489b67a7-8b6c-4702-ad39-259180f1202d"
      },
      "source": [
        "print(f'learning rate: {lr}')"
      ],
      "execution_count": null,
      "outputs": [
        {
          "output_type": "stream",
          "name": "stdout",
          "text": [
            "learning rate: 0.5\n"
          ]
        }
      ]
    },
    {
      "cell_type": "code",
      "metadata": {
        "colab": {
          "base_uri": "https://localhost:8080/"
        },
        "id": "zVBzxSuHtQA9",
        "outputId": "44a7ddbb-a4fb-48ce-8ba6-eef1d36e52e2"
      },
      "source": [
        "def get_model():\n",
        "    model = Mnist_Logistic()\n",
        "    return model, optim.SGD(model.parameters(), lr=lr)\n",
        "\n",
        "model, opt = get_model()\n",
        "print(loss_func(model(xb), yb))"
      ],
      "execution_count": null,
      "outputs": [
        {
          "output_type": "stream",
          "name": "stdout",
          "text": [
            "tensor(2.2713, grad_fn=<NllLossBackward>)\n"
          ]
        }
      ]
    },
    {
      "cell_type": "code",
      "metadata": {
        "colab": {
          "base_uri": "https://localhost:8080/"
        },
        "id": "v6Bdxw9ntQZH",
        "outputId": "23c91341-a9fe-4224-95d2-789a5aebba81"
      },
      "source": [
        "for epoch in range(epochs):\n",
        "    for i in range((n - 1) // BATCH_SIZE + 1):\n",
        "        start_i = i * BATCH_SIZE\n",
        "        end_i = start_i + BATCH_SIZE\n",
        "        xb = x_train_tensor[start_i:end_i]\n",
        "        yb = y_train_tensor[start_i:end_i]\n",
        "        pred = model(xb)\n",
        "        loss = loss_func(pred, yb)\n",
        "\n",
        "        loss.backward()\n",
        "        opt.step()\n",
        "        opt.zero_grad()\n",
        "\n",
        "print(loss_func(model(xb), yb))"
      ],
      "execution_count": null,
      "outputs": [
        {
          "output_type": "stream",
          "name": "stdout",
          "text": [
            "tensor(0.0804, grad_fn=<NllLossBackward>)\n"
          ]
        }
      ]
    },
    {
      "cell_type": "markdown",
      "metadata": {
        "id": "HYp1IsCgth1b"
      },
      "source": [
        "## Dataset을 이용해 리팩토링 하기\n",
        "PyTorch에는 추상 Dataset 클래스가 있는데 이것은 `__len__`, `__getitem__` 함수를 갖고 있으면 어떤 것이라고 될 수 있다. \n",
        "\n",
        "PyTorch의 TensorDataset은 텐서를 감싸는 Dataset이다. "
      ]
    },
    {
      "cell_type": "code",
      "metadata": {
        "id": "0yvTdqw7tSj9"
      },
      "source": [
        "from torch.utils.data import TensorDataset"
      ],
      "execution_count": null,
      "outputs": []
    },
    {
      "cell_type": "markdown",
      "metadata": {
        "id": "sMrJW42muY22"
      },
      "source": [
        "`x_train_tensor, y_train_tensor` 모두 하나의 TensorDataset으로 합쳐질 수 있다."
      ]
    },
    {
      "cell_type": "code",
      "metadata": {
        "id": "7h0QC6KhtpJq"
      },
      "source": [
        "train_ds = TensorDataset(x_train_tensor, y_train_tensor)"
      ],
      "execution_count": null,
      "outputs": []
    },
    {
      "cell_type": "code",
      "metadata": {
        "id": "Obf4_tCuuYps"
      },
      "source": [
        "# start_i = i * BATCH_SIZE\n",
        "# end_i = start_i + BATCH_SIZE\n",
        "# xb = x_train_tensor[start_i:end_i]\n",
        "# yb = y_train_tensor[start_i:end_i]"
      ],
      "execution_count": null,
      "outputs": []
    },
    {
      "cell_type": "code",
      "metadata": {
        "id": "9dVgOJuIuo3R"
      },
      "source": [
        "# xb,yb = train_ds[i*BATCH_SIZE : i*BATCH_SIZE+BATCH_SIZE]"
      ],
      "execution_count": null,
      "outputs": []
    },
    {
      "cell_type": "code",
      "metadata": {
        "colab": {
          "base_uri": "https://localhost:8080/"
        },
        "id": "vo2EwMoWu3f-",
        "outputId": "1b1a57d3-7281-433e-a03c-8212d311a7ba"
      },
      "source": [
        "model, opt = get_model()\n",
        "\n",
        "for epoch in range(epochs):\n",
        "    for i in range((n - 1) // BATCH_SIZE + 1):\n",
        "        xb, yb = train_ds[i * BATCH_SIZE: i * BATCH_SIZE + BATCH_SIZE]\n",
        "        pred = model(xb)\n",
        "        loss = loss_func(pred, yb)\n",
        "\n",
        "        loss.backward()\n",
        "        opt.step()\n",
        "        opt.zero_grad()\n",
        "\n",
        "print(loss_func(model(xb), yb))"
      ],
      "execution_count": null,
      "outputs": [
        {
          "output_type": "stream",
          "name": "stdout",
          "text": [
            "tensor(0.0815, grad_fn=<NllLossBackward>)\n"
          ]
        }
      ]
    },
    {
      "cell_type": "markdown",
      "metadata": {
        "id": "KfQDK9k-vCEv"
      },
      "source": [
        "## DataLoader를 이용한 리팩토링 하기\n",
        "DataLoader는 배치 관리를 담당한다."
      ]
    },
    {
      "cell_type": "code",
      "metadata": {
        "id": "HgoIJVsmu5iV"
      },
      "source": [
        "from torch.utils.data import DataLoader\n",
        "\n",
        "train_ds = TensorDataset(x_train_tensor, y_train_tensor)\n",
        "train_dl = DataLoader(train_ds, batch_size=BATCH_SIZE)"
      ],
      "execution_count": null,
      "outputs": []
    },
    {
      "cell_type": "code",
      "metadata": {
        "id": "QdEGijLtvRvM"
      },
      "source": [
        "# for i in range((n - 1) // BATCH_SIZE + 1):\n",
        "#         xb, yb = train_ds[i * BATCH_SIZE: i * BATCH_SIZE + BATCH_SIZE]"
      ],
      "execution_count": null,
      "outputs": []
    },
    {
      "cell_type": "code",
      "metadata": {
        "colab": {
          "base_uri": "https://localhost:8080/"
        },
        "id": "AAEWWhx8vZtz",
        "outputId": "e8070151-794a-46fa-8312-f90310627457"
      },
      "source": [
        "i = 0\n",
        "for xb,yb in train_dl:      \n",
        "      pred = model(xb)\n",
        "      if i == 0:\n",
        "          print(pred.shape)\n",
        "\n",
        "      i += 1"
      ],
      "execution_count": null,
      "outputs": [
        {
          "output_type": "stream",
          "name": "stdout",
          "text": [
            "torch.Size([64, 10])\n"
          ]
        }
      ]
    },
    {
      "cell_type": "code",
      "metadata": {
        "colab": {
          "base_uri": "https://localhost:8080/"
        },
        "id": "pdO13UH8voKj",
        "outputId": "ec87096c-a165-4453-896c-ac2a3a999a4c"
      },
      "source": [
        "model, opt = get_model()\n",
        "\n",
        "for epoch in range(epochs):\n",
        "    for xb, yb in train_dl:\n",
        "        pred = model(xb)\n",
        "        loss = loss_func(pred, yb)\n",
        "\n",
        "        loss.backward()\n",
        "        opt.step()\n",
        "        opt.zero_grad()\n",
        "\n",
        "print(loss_func(model(xb), yb))"
      ],
      "execution_count": null,
      "outputs": [
        {
          "output_type": "stream",
          "name": "stdout",
          "text": [
            "tensor(0.0821, grad_fn=<NllLossBackward>)\n"
          ]
        }
      ]
    },
    {
      "cell_type": "markdown",
      "metadata": {
        "id": "jKVPx3TcwDMm"
      },
      "source": [
        "## validation 추가하기\n",
        "과적합을 확인하기 위해서는 항상 검증 데이터셋(validation set)이 있어야 한다.    \n",
        "training dataset을 섞는 것은 과적합을 방지하기 위해서 중요하지만 validation loss는 검증 데이터 셋을 섞든 안 섞든 동일하다. 따라서 검증 데이터셋은 섞는 과정이 필요가 없다.    \n",
        "검증 데이터 셋에 대해서는 배치 사이즈를 훈련 데이터셋의 2배를 사용한다. 검증 데이터셋에 대해서는 역전파를 진행하지 않으므로 메모리를 덜 사용하기 때문이다."
      ]
    },
    {
      "cell_type": "code",
      "metadata": {
        "id": "7SPOoV3kv3Lf"
      },
      "source": [
        "train_ds = TensorDataset(x_train_tensor, y_train_tensor)\n",
        "train_dl = DataLoader(train_ds, batch_size=BATCH_SIZE, shuffle=True)\n",
        "\n",
        "valid_ds = TensorDataset(x_valid_tensor, y_valid_tensor)\n",
        "valid_dl = DataLoader(valid_ds, batch_size=BATCH_SIZE * 2)"
      ],
      "execution_count": null,
      "outputs": []
    },
    {
      "cell_type": "markdown",
      "metadata": {
        "id": "hNd8gA09xMKS"
      },
      "source": [
        "(훈련 전에 항상 model.train() 을 호출하고, 추론(inference) 전에 model.eval() 을 호출합니다, 이는 nn.BatchNorm2d 및 nn.Dropout 과 같은 레이어에서 이러한 다른 단계(훈련, 추론) 에 대한 적절한 동작이 일어나게 하기 위함입니다.)"
      ]
    },
    {
      "cell_type": "code",
      "metadata": {
        "colab": {
          "base_uri": "https://localhost:8080/"
        },
        "id": "qN1Ouf-lw_JH",
        "outputId": "bdf7ed50-6545-49c2-9109-79a99f981c93"
      },
      "source": [
        "model, opt = get_model()\n",
        "\n",
        "for epoch in range(epochs):\n",
        "    model.train()\n",
        "    for xb, yb in train_dl:\n",
        "        pred = model(xb)\n",
        "        loss = loss_func(pred, yb)\n",
        "\n",
        "        loss.backward()\n",
        "        opt.step()\n",
        "        opt.zero_grad()\n",
        "\n",
        "    model.eval()\n",
        "    with torch.no_grad():\n",
        "        valid_loss = sum(loss_func(model(xb), yb) for xb, yb in valid_dl)\n",
        "\n",
        "    print(epoch, valid_loss / len(valid_dl))"
      ],
      "execution_count": null,
      "outputs": [
        {
          "output_type": "stream",
          "name": "stdout",
          "text": [
            "0 tensor(0.3291)\n",
            "1 tensor(0.3186)\n"
          ]
        }
      ]
    },
    {
      "cell_type": "markdown",
      "metadata": {
        "id": "Mjee9xQoxcgW"
      },
      "source": [
        "## fit()와 get_data() 생성하기\n",
        "훈련 데이터셋과 검증 데이터셋 모두 손실을 계산하는 프로세스를 두번 거치므로 하나의 배치에 대한 손실을 계산하는 함수를 만들어본다. \n",
        "* 훈련 데이터셋에 대해서 : 훈련 데이터셋은 옵티마이저를 전달하기 때문에 옵티마이저가 전달되면 역전파를 수행한다.\n",
        "* 검증 데이터셋에 대해서 : 검증 데이터셋은 옵티마이저를 전달하지 않으므로 옵티마이저가 전달되지 않으면 역전파를 수행하지 않는다."
      ]
    },
    {
      "cell_type": "code",
      "metadata": {
        "id": "xB6s92lvxXx0"
      },
      "source": [
        "def loss_batch(model, loss_func, xb, yb, opt=None):\n",
        "    loss = loss_func(model(xb), yb)\n",
        "\n",
        "    if opt is not None:\n",
        "        loss.backward()\n",
        "        opt.step()\n",
        "        opt.zero_grad()\n",
        "\n",
        "    return loss.item(), len(xb)"
      ],
      "execution_count": null,
      "outputs": []
    },
    {
      "cell_type": "code",
      "metadata": {
        "id": "A1w-PvDtyO77"
      },
      "source": [
        "import numpy as np\n",
        "\n",
        "def fit(epochs, model, loss_func, opt, train_dl, valid_dl):\n",
        "    for epoch in range(epochs):\n",
        "        model.train()\n",
        "        for xb, yb in train_dl:\n",
        "            loss_batch(model, loss_func, xb, yb, opt)\n",
        "\n",
        "        model.eval()\n",
        "        with torch.no_grad():\n",
        "            losses, nums = zip(\n",
        "                *[loss_batch(model, loss_func, xb, yb) for xb, yb in valid_dl]\n",
        "            )\n",
        "        val_loss = np.sum(np.multiply(losses, nums)) / np.sum(nums)\n",
        "\n",
        "        print(epoch, val_loss)"
      ],
      "execution_count": null,
      "outputs": []
    },
    {
      "cell_type": "code",
      "metadata": {
        "id": "VJkTnk7CyaDc"
      },
      "source": [
        "def get_data(train_ds, valid_ds, bs):\n",
        "    return (\n",
        "        DataLoader(train_ds, batch_size=bs, shuffle=True),\n",
        "        DataLoader(valid_ds, batch_size=bs * 2),\n",
        "    )"
      ],
      "execution_count": null,
      "outputs": []
    },
    {
      "cell_type": "code",
      "metadata": {
        "colab": {
          "base_uri": "https://localhost:8080/"
        },
        "id": "_3jipcIMykR0",
        "outputId": "ec3a92f4-8907-4894-969d-59dbc32797b5"
      },
      "source": [
        "train_dl, valid_dl = get_data(train_ds, valid_ds, BATCH_SIZE)\n",
        "model, opt = get_model()\n",
        "fit(epochs, model, loss_func, opt, train_dl, valid_dl)"
      ],
      "execution_count": null,
      "outputs": [
        {
          "output_type": "stream",
          "name": "stdout",
          "text": [
            "0 0.38482226976156236\n",
            "1 0.3013994958758354\n"
          ]
        }
      ]
    },
    {
      "cell_type": "markdown",
      "metadata": {
        "id": "fF_L8VF2lC5a"
      },
      "source": [
        "## CNN으로 넘어가기"
      ]
    },
    {
      "cell_type": "code",
      "metadata": {
        "id": "ECc4l09uyr9P"
      },
      "source": [
        "class Mnist_CNN(nn.Module):\n",
        "    def __init__(self):\n",
        "        super().__init__()\n",
        "        self.conv1 = nn.Conv2d(1, 16, kernel_size=3, stride=2, padding=1)\n",
        "        self.conv2 = nn.Conv2d(16, 16, kernel_size=3, stride=2, padding=1)\n",
        "        self.conv3 = nn.Conv2d(16, 10, kernel_size=3, stride=2, padding=1)\n",
        "\n",
        "    def forward(self, xb):\n",
        "        print(xb.shape)\n",
        "        xb = xb.view(-1, 1, 28, 28)\n",
        "        print(xb.shape)\n",
        "        xb = F.relu(self.conv1(xb))\n",
        "        xb = F.relu(self.conv2(xb))\n",
        "        xb = F.relu(self.conv3(xb))\n",
        "        xb = F.avg_pool2d(xb, 4)\n",
        "        return xb.view(-1, xb.size(1))"
      ],
      "execution_count": null,
      "outputs": []
    },
    {
      "cell_type": "code",
      "metadata": {
        "colab": {
          "base_uri": "https://localhost:8080/"
        },
        "id": "aVT_OMF5lk25",
        "outputId": "319ba49a-3685-4e35-bc0d-30b71bc24288"
      },
      "source": [
        "model = Mnist_CNN()\n",
        "i = 0\n",
        "for xb, yb in train_dl:\n",
        "    if i == 1:\n",
        "        break\n",
        "    pred = model(xb)        \n",
        "    i+=1"
      ],
      "execution_count": null,
      "outputs": [
        {
          "output_type": "stream",
          "name": "stdout",
          "text": [
            "torch.Size([64, 784])\n",
            "torch.Size([64, 1, 28, 28])\n"
          ]
        }
      ]
    },
    {
      "cell_type": "code",
      "metadata": {
        "id": "xX_9GHeDmth8"
      },
      "source": [
        "class Mnist_CNN(nn.Module):\n",
        "    def __init__(self):\n",
        "        super().__init__()\n",
        "        self.conv1 = nn.Conv2d(1, 16, kernel_size=3, stride=2, padding=1)\n",
        "        self.conv2 = nn.Conv2d(16, 16, kernel_size=3, stride=2, padding=1)\n",
        "        self.conv3 = nn.Conv2d(16, 10, kernel_size=3, stride=2, padding=1)\n",
        "\n",
        "    def forward(self, xb):        \n",
        "        xb = xb.view(-1, 1, 28, 28)        \n",
        "        xb = F.relu(self.conv1(xb))\n",
        "        xb = F.relu(self.conv2(xb))\n",
        "        xb = F.relu(self.conv3(xb))\n",
        "        xb = F.avg_pool2d(xb, 4)\n",
        "        return xb.view(-1, xb.size(1))\n",
        "\n",
        "lr = 0.1"
      ],
      "execution_count": null,
      "outputs": []
    },
    {
      "cell_type": "code",
      "metadata": {
        "colab": {
          "base_uri": "https://localhost:8080/"
        },
        "id": "nYq-M4ESnf-p",
        "outputId": "0e4cbbba-549c-4b34-a08a-317284fedbfd"
      },
      "source": [
        "model = Mnist_CNN()\n",
        "opt = optim.SGD(model.parameters(), lr=lr, momentum=0.9)\n",
        "\n",
        "fit(epochs, model, loss_func, opt, train_dl, valid_dl)"
      ],
      "execution_count": null,
      "outputs": [
        {
          "output_type": "stream",
          "name": "stdout",
          "text": [
            "0 0.5857456841468811\n",
            "1 0.5069121707439422\n"
          ]
        }
      ]
    },
    {
      "cell_type": "markdown",
      "metadata": {
        "id": "5GK9tWN4nw-H"
      },
      "source": [
        "❗️momentum    \n",
        "SGD를 적절한 방향으로 가속해 흔들림을 줄여주는 매개변수"
      ]
    },
    {
      "cell_type": "markdown",
      "metadata": {
        "id": "sKzg6NZ4oANM"
      },
      "source": [
        "## nn.Sequential\n",
        "안에 포함된 모듈을 순차적으로 실행한다."
      ]
    },
    {
      "cell_type": "code",
      "metadata": {
        "id": "3DLgu0G1n4ML"
      },
      "source": [
        "class Lambda(nn.Module): # View 레이어가 없으므로 Sequential로 신경망을 정의할 때 사용할 수 있는 레이어 생성\n",
        "    def __init__(self, func):\n",
        "        super().__init__()\n",
        "        self.func = func\n",
        "\n",
        "    def forward(self, x):\n",
        "        return self.func(x)\n",
        "\n",
        "\n",
        "def preprocess(x):\n",
        "    return x.view(-1, 1, 28, 28)"
      ],
      "execution_count": null,
      "outputs": []
    },
    {
      "cell_type": "code",
      "metadata": {
        "colab": {
          "base_uri": "https://localhost:8080/"
        },
        "id": "gLcRUvIcoRwZ",
        "outputId": "8be45fb1-684f-4ea4-946f-310701d7884f"
      },
      "source": [
        "model = nn.Sequential(\n",
        "    Lambda(preprocess),\n",
        "    nn.Conv2d(1, 16, kernel_size=3, stride=2, padding=1),\n",
        "    nn.ReLU(),\n",
        "    nn.Conv2d(16, 16, kernel_size=3, stride=2, padding=1),\n",
        "    nn.ReLU(),\n",
        "    nn.Conv2d(16, 10, kernel_size=3, stride=2, padding=1),\n",
        "    nn.ReLU(),\n",
        "    nn.AvgPool2d(4),\n",
        "    Lambda(lambda x: x.view(x.size(0), -1)),\n",
        ")\n",
        "\n",
        "opt = optim.SGD(model.parameters(), lr=lr, momentum=0.9)\n",
        "\n",
        "fit(epochs, model, loss_func, opt, train_dl, valid_dl)"
      ],
      "execution_count": null,
      "outputs": [
        {
          "output_type": "stream",
          "name": "stdout",
          "text": [
            "0 0.34886352350711824\n",
            "1 0.31958685998916625\n"
          ]
        }
      ]
    },
    {
      "cell_type": "markdown",
      "metadata": {
        "id": "DBfOawcBokAA"
      },
      "source": [
        "## DataLoader 감싸기\n",
        "지금까지 작업한 CNN은 MNIST에서만 작동한다.\n",
        "* 입력이 28x28 벡터라고 가정한다.\n",
        "* 최종적으로 CNN 그리드 크기를 4x4로 가정한다.\n",
        "\n",
        "이것을 수정해 모든 단일 채널 이미지에서 작동하도록 수정해보자."
      ]
    },
    {
      "cell_type": "code",
      "metadata": {
        "id": "5OqJ8Syaogms"
      },
      "source": [
        "def preprocess(x, y):\n",
        "    return x.view(-1, 1, 28, 28), y\n",
        "\n",
        "class WrappedDataLoader:\n",
        "    def __init__(self, dl, func):\n",
        "        self.dl = dl\n",
        "        self.func = func\n",
        "\n",
        "    def __len__(self):\n",
        "        return len(self.dl)\n",
        "\n",
        "    def __iter__(self):\n",
        "        batches = iter(self.dl)\n",
        "        for b in batches:\n",
        "            yield (self.func(*b))"
      ],
      "execution_count": null,
      "outputs": []
    },
    {
      "cell_type": "code",
      "metadata": {
        "id": "xsf0MMQLpE88"
      },
      "source": [
        "train_dl, valid_dl = get_data(train_ds, valid_ds, BATCH_SIZE)\n",
        "train_dl = WrappedDataLoader(train_dl, preprocess)\n",
        "valid_dl = WrappedDataLoader(valid_dl, preprocess)"
      ],
      "execution_count": null,
      "outputs": []
    },
    {
      "cell_type": "code",
      "metadata": {
        "id": "fdh18iO0pJCp"
      },
      "source": [
        "model = nn.Sequential(\n",
        "    nn.Conv2d(1, 16, kernel_size=3, stride=2, padding=1),\n",
        "    nn.ReLU(),\n",
        "    nn.Conv2d(16, 16, kernel_size=3, stride=2, padding=1),\n",
        "    nn.ReLU(),\n",
        "    nn.Conv2d(16, 10, kernel_size=3, stride=2, padding=1),\n",
        "    nn.ReLU(),\n",
        "    nn.AdaptiveAvgPool2d(1), # AvgPool2d를 AdaptiveAvgPool2d로 바꿔 입력 텐서가 아니라 출력 텐서의 크기를 정의한다.\n",
        "    Lambda(lambda x: x.view(x.size(0), -1)),\n",
        ")\n",
        "\n",
        "opt = optim.SGD(model.parameters(), lr=lr, momentum=0.9)"
      ],
      "execution_count": null,
      "outputs": []
    },
    {
      "cell_type": "code",
      "metadata": {
        "colab": {
          "base_uri": "https://localhost:8080/"
        },
        "id": "aJS8jbg6pp-g",
        "outputId": "39f5630f-f173-41bb-85f4-af45f5d36240"
      },
      "source": [
        "fit(epochs, model, loss_func, opt, train_dl, valid_dl)"
      ],
      "execution_count": null,
      "outputs": [
        {
          "output_type": "stream",
          "name": "stdout",
          "text": [
            "0 0.3278955442428589\n",
            "1 0.3502625140666962\n"
          ]
        }
      ]
    },
    {
      "cell_type": "markdown",
      "metadata": {
        "id": "NXShkcgYpuvp"
      },
      "source": [
        "## GPU 사용하기\n",
        "GPU를 사용하려면 tensor와 model을 모두 gpu에서 작동하도록 설정해야 한다."
      ]
    },
    {
      "cell_type": "code",
      "metadata": {
        "colab": {
          "base_uri": "https://localhost:8080/",
          "height": 164
        },
        "id": "wJ_2BkuBpr6g",
        "outputId": "2f2bfb92-aeaa-4a3c-9b42-0390f167867c"
      },
      "source": [
        "print(torch.cuda.is_available())"
      ],
      "execution_count": null,
      "outputs": [
        {
          "output_type": "error",
          "ename": "NameError",
          "evalue": "ignored",
          "traceback": [
            "\u001b[0;31m---------------------------------------------------------------------------\u001b[0m",
            "\u001b[0;31mNameError\u001b[0m                                 Traceback (most recent call last)",
            "\u001b[0;32m<ipython-input-1-1b2a1a5619bb>\u001b[0m in \u001b[0;36m<module>\u001b[0;34m()\u001b[0m\n\u001b[0;32m----> 1\u001b[0;31m \u001b[0mprint\u001b[0m\u001b[0;34m(\u001b[0m\u001b[0mtorch\u001b[0m\u001b[0;34m.\u001b[0m\u001b[0mcuda\u001b[0m\u001b[0;34m.\u001b[0m\u001b[0mis_available\u001b[0m\u001b[0;34m(\u001b[0m\u001b[0;34m)\u001b[0m\u001b[0;34m)\u001b[0m\u001b[0;34m\u001b[0m\u001b[0;34m\u001b[0m\u001b[0m\n\u001b[0m",
            "\u001b[0;31mNameError\u001b[0m: name 'torch' is not defined"
          ]
        }
      ]
    },
    {
      "cell_type": "code",
      "metadata": {
        "id": "eZs9i4YYpzA3"
      },
      "source": [
        "# dev = torch.device(\n",
        "#     \"cuda\") if torch.cuda.is_available() else torch.device(\"cpu\")"
      ],
      "execution_count": null,
      "outputs": []
    },
    {
      "cell_type": "code",
      "metadata": {
        "id": "CC2LgYw-p4Mq"
      },
      "source": [
        "# def preprocess(x, y):\n",
        "#     return x.view(-1, 1, 28, 28).to(dev), y.to(dev)\n",
        "\n",
        "\n",
        "# train_dl, valid_dl = get_data(train_ds, valid_ds, bs)\n",
        "# train_dl = WrappedDataLoader(train_dl, preprocess)\n",
        "# valid_dl = WrappedDataLoader(valid_dl, preprocess)"
      ],
      "execution_count": null,
      "outputs": []
    },
    {
      "cell_type": "code",
      "metadata": {
        "id": "WatsIfQzp6LV"
      },
      "source": [
        "# model.to(dev)\n",
        "# opt = optim.SGD(model.parameters(), lr=lr, momentum=0.9)"
      ],
      "execution_count": null,
      "outputs": []
    },
    {
      "cell_type": "code",
      "metadata": {
        "id": "Euqm3di1p7yH"
      },
      "source": [
        "# fit(epochs, model, loss_func, opt, train_dl, valid_dl)"
      ],
      "execution_count": null,
      "outputs": []
    },
    {
      "cell_type": "markdown",
      "metadata": {
        "id": "8XRolAn17Cvh"
      },
      "source": [
        "# TensorBoard"
      ]
    },
    {
      "cell_type": "code",
      "metadata": {
        "id": "SxGXoFZN7GbD"
      },
      "source": [
        ""
      ],
      "execution_count": null,
      "outputs": []
    }
  ]
}