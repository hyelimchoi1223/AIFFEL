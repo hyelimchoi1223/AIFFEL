{
 "cells": [
  {
   "cell_type": "code",
   "execution_count": 1,
   "metadata": {},
   "outputs": [],
   "source": [
    "import numpy as np\n",
    "import matplotlib.pyplot as plt"
   ]
  },
  {
   "cell_type": "markdown",
   "metadata": {
    "heading_collapsed": true
   },
   "source": [
    "## 연습문제 2.1.1"
   ]
  },
  {
   "cell_type": "code",
   "execution_count": 4,
   "metadata": {
    "hidden": true
   },
   "outputs": [
    {
     "data": {
      "text/plain": [
       "dict_keys(['data', 'target', 'target_names', 'DESCR', 'feature_names', 'filename'])"
      ]
     },
     "execution_count": 4,
     "metadata": {},
     "output_type": "execute_result"
    }
   ],
   "source": [
    "from sklearn.datasets import load_iris\n",
    "\n",
    "iris = load_iris()\n",
    "iris.keys()"
   ]
  },
  {
   "cell_type": "code",
   "execution_count": 11,
   "metadata": {
    "hidden": true
   },
   "outputs": [
    {
     "name": "stdout",
     "output_type": "stream",
     "text": [
      "[4.9 3.  1.4 0.2]\n"
     ]
    }
   ],
   "source": [
    "x2 = np.array(iris.data[1,:])\n",
    "print(x2)"
   ]
  },
  {
   "cell_type": "markdown",
   "metadata": {
    "heading_collapsed": true
   },
   "source": [
    "## 연습문제 2.1.2"
   ]
  },
  {
   "cell_type": "code",
   "execution_count": 15,
   "metadata": {
    "hidden": true
   },
   "outputs": [
    {
     "name": "stdout",
     "output_type": "stream",
     "text": [
      "[[5.1 3.5 1.4 0.2]\n",
      " [4.9 3.  1.4 0.2]\n",
      " [4.7 3.2 1.3 0.2]\n",
      " [4.6 3.1 1.5 0.2]\n",
      " [5.  3.6 1.4 0.2]\n",
      " [5.4 3.9 1.7 0.4]\n",
      " [4.6 3.4 1.4 0.3]\n",
      " [5.  3.4 1.5 0.2]\n",
      " [4.4 2.9 1.4 0.2]\n",
      " [4.9 3.1 1.5 0.1]\n",
      " [5.4 3.7 1.5 0.2]\n",
      " [4.8 3.4 1.6 0.2]\n",
      " [4.8 3.  1.4 0.1]\n",
      " [4.3 3.  1.1 0.1]\n",
      " [5.8 4.  1.2 0.2]\n",
      " [5.7 4.4 1.5 0.4]\n",
      " [5.4 3.9 1.3 0.4]\n",
      " [5.1 3.5 1.4 0.3]\n",
      " [5.7 3.8 1.7 0.3]\n",
      " [5.1 3.8 1.5 0.3]\n",
      " [5.4 3.4 1.7 0.2]\n",
      " [5.1 3.7 1.5 0.4]\n",
      " [4.6 3.6 1.  0.2]\n",
      " [5.1 3.3 1.7 0.5]\n",
      " [4.8 3.4 1.9 0.2]\n",
      " [5.  3.  1.6 0.2]\n",
      " [5.  3.4 1.6 0.4]\n",
      " [5.2 3.5 1.5 0.2]\n",
      " [5.2 3.4 1.4 0.2]\n",
      " [4.7 3.2 1.6 0.2]\n",
      " [4.8 3.1 1.6 0.2]\n",
      " [5.4 3.4 1.5 0.4]\n",
      " [5.2 4.1 1.5 0.1]\n",
      " [5.5 4.2 1.4 0.2]\n",
      " [4.9 3.1 1.5 0.2]\n",
      " [5.  3.2 1.2 0.2]\n",
      " [5.5 3.5 1.3 0.2]\n",
      " [4.9 3.6 1.4 0.1]\n",
      " [4.4 3.  1.3 0.2]\n",
      " [5.1 3.4 1.5 0.2]\n",
      " [5.  3.5 1.3 0.3]\n",
      " [4.5 2.3 1.3 0.3]\n",
      " [4.4 3.2 1.3 0.2]\n",
      " [5.  3.5 1.6 0.6]\n",
      " [5.1 3.8 1.9 0.4]\n",
      " [4.8 3.  1.4 0.3]\n",
      " [5.1 3.8 1.6 0.2]\n",
      " [4.6 3.2 1.4 0.2]\n",
      " [5.3 3.7 1.5 0.2]\n",
      " [5.  3.3 1.4 0.2]\n",
      " [7.  3.2 4.7 1.4]\n",
      " [6.4 3.2 4.5 1.5]\n",
      " [6.9 3.1 4.9 1.5]\n",
      " [5.5 2.3 4.  1.3]\n",
      " [6.5 2.8 4.6 1.5]\n",
      " [5.7 2.8 4.5 1.3]\n",
      " [6.3 3.3 4.7 1.6]\n",
      " [4.9 2.4 3.3 1. ]\n",
      " [6.6 2.9 4.6 1.3]\n",
      " [5.2 2.7 3.9 1.4]\n",
      " [5.  2.  3.5 1. ]\n",
      " [5.9 3.  4.2 1.5]\n",
      " [6.  2.2 4.  1. ]\n",
      " [6.1 2.9 4.7 1.4]\n",
      " [5.6 2.9 3.6 1.3]\n",
      " [6.7 3.1 4.4 1.4]\n",
      " [5.6 3.  4.5 1.5]\n",
      " [5.8 2.7 4.1 1. ]\n",
      " [6.2 2.2 4.5 1.5]\n",
      " [5.6 2.5 3.9 1.1]\n",
      " [5.9 3.2 4.8 1.8]\n",
      " [6.1 2.8 4.  1.3]\n",
      " [6.3 2.5 4.9 1.5]\n",
      " [6.1 2.8 4.7 1.2]\n",
      " [6.4 2.9 4.3 1.3]\n",
      " [6.6 3.  4.4 1.4]\n",
      " [6.8 2.8 4.8 1.4]\n",
      " [6.7 3.  5.  1.7]\n",
      " [6.  2.9 4.5 1.5]\n",
      " [5.7 2.6 3.5 1. ]\n",
      " [5.5 2.4 3.8 1.1]\n",
      " [5.5 2.4 3.7 1. ]\n",
      " [5.8 2.7 3.9 1.2]\n",
      " [6.  2.7 5.1 1.6]\n",
      " [5.4 3.  4.5 1.5]\n",
      " [6.  3.4 4.5 1.6]\n",
      " [6.7 3.1 4.7 1.5]\n",
      " [6.3 2.3 4.4 1.3]\n",
      " [5.6 3.  4.1 1.3]\n",
      " [5.5 2.5 4.  1.3]\n",
      " [5.5 2.6 4.4 1.2]\n",
      " [6.1 3.  4.6 1.4]\n",
      " [5.8 2.6 4.  1.2]\n",
      " [5.  2.3 3.3 1. ]\n",
      " [5.6 2.7 4.2 1.3]\n",
      " [5.7 3.  4.2 1.2]\n",
      " [5.7 2.9 4.2 1.3]\n",
      " [6.2 2.9 4.3 1.3]\n",
      " [5.1 2.5 3.  1.1]\n",
      " [5.7 2.8 4.1 1.3]\n",
      " [6.3 3.3 6.  2.5]\n",
      " [5.8 2.7 5.1 1.9]\n",
      " [7.1 3.  5.9 2.1]\n",
      " [6.3 2.9 5.6 1.8]\n",
      " [6.5 3.  5.8 2.2]\n",
      " [7.6 3.  6.6 2.1]\n",
      " [4.9 2.5 4.5 1.7]\n",
      " [7.3 2.9 6.3 1.8]\n",
      " [6.7 2.5 5.8 1.8]\n",
      " [7.2 3.6 6.1 2.5]\n",
      " [6.5 3.2 5.1 2. ]\n",
      " [6.4 2.7 5.3 1.9]\n",
      " [6.8 3.  5.5 2.1]\n",
      " [5.7 2.5 5.  2. ]\n",
      " [5.8 2.8 5.1 2.4]\n",
      " [6.4 3.2 5.3 2.3]\n",
      " [6.5 3.  5.5 1.8]\n",
      " [7.7 3.8 6.7 2.2]\n",
      " [7.7 2.6 6.9 2.3]\n",
      " [6.  2.2 5.  1.5]\n",
      " [6.9 3.2 5.7 2.3]\n",
      " [5.6 2.8 4.9 2. ]\n",
      " [7.7 2.8 6.7 2. ]\n",
      " [6.3 2.7 4.9 1.8]\n",
      " [6.7 3.3 5.7 2.1]\n",
      " [7.2 3.2 6.  1.8]\n",
      " [6.2 2.8 4.8 1.8]\n",
      " [6.1 3.  4.9 1.8]\n",
      " [6.4 2.8 5.6 2.1]\n",
      " [7.2 3.  5.8 1.6]\n",
      " [7.4 2.8 6.1 1.9]\n",
      " [7.9 3.8 6.4 2. ]\n",
      " [6.4 2.8 5.6 2.2]\n",
      " [6.3 2.8 5.1 1.5]\n",
      " [6.1 2.6 5.6 1.4]\n",
      " [7.7 3.  6.1 2.3]\n",
      " [6.3 3.4 5.6 2.4]\n",
      " [6.4 3.1 5.5 1.8]\n",
      " [6.  3.  4.8 1.8]\n",
      " [6.9 3.1 5.4 2.1]\n",
      " [6.7 3.1 5.6 2.4]\n",
      " [6.9 3.1 5.1 2.3]\n",
      " [5.8 2.7 5.1 1.9]\n",
      " [6.8 3.2 5.9 2.3]\n",
      " [6.7 3.3 5.7 2.5]\n",
      " [6.7 3.  5.2 2.3]\n",
      " [6.3 2.5 5.  1.9]\n",
      " [6.5 3.  5.2 2. ]\n",
      " [6.2 3.4 5.4 2.3]\n",
      " [5.9 3.  5.1 1.8]]\n"
     ]
    }
   ],
   "source": [
    "x = np.array(iris.data)\n",
    "print(x)"
   ]
  },
  {
   "cell_type": "markdown",
   "metadata": {
    "heading_collapsed": true
   },
   "source": [
    "## 연습문제 2.1.3"
   ]
  },
  {
   "cell_type": "markdown",
   "metadata": {
    "hidden": true
   },
   "source": [
    "1. Numpy를 사용해서 붓꽃 데이터 X의 전치행렬 $X^T$을 구한다."
   ]
  },
  {
   "cell_type": "code",
   "execution_count": 16,
   "metadata": {
    "hidden": true
   },
   "outputs": [
    {
     "data": {
      "text/plain": [
       "array([[5.1, 4.9, 4.7, 4.6, 5. , 5.4, 4.6, 5. , 4.4, 4.9, 5.4, 4.8, 4.8,\n",
       "        4.3, 5.8, 5.7, 5.4, 5.1, 5.7, 5.1, 5.4, 5.1, 4.6, 5.1, 4.8, 5. ,\n",
       "        5. , 5.2, 5.2, 4.7, 4.8, 5.4, 5.2, 5.5, 4.9, 5. , 5.5, 4.9, 4.4,\n",
       "        5.1, 5. , 4.5, 4.4, 5. , 5.1, 4.8, 5.1, 4.6, 5.3, 5. , 7. , 6.4,\n",
       "        6.9, 5.5, 6.5, 5.7, 6.3, 4.9, 6.6, 5.2, 5. , 5.9, 6. , 6.1, 5.6,\n",
       "        6.7, 5.6, 5.8, 6.2, 5.6, 5.9, 6.1, 6.3, 6.1, 6.4, 6.6, 6.8, 6.7,\n",
       "        6. , 5.7, 5.5, 5.5, 5.8, 6. , 5.4, 6. , 6.7, 6.3, 5.6, 5.5, 5.5,\n",
       "        6.1, 5.8, 5. , 5.6, 5.7, 5.7, 6.2, 5.1, 5.7, 6.3, 5.8, 7.1, 6.3,\n",
       "        6.5, 7.6, 4.9, 7.3, 6.7, 7.2, 6.5, 6.4, 6.8, 5.7, 5.8, 6.4, 6.5,\n",
       "        7.7, 7.7, 6. , 6.9, 5.6, 7.7, 6.3, 6.7, 7.2, 6.2, 6.1, 6.4, 7.2,\n",
       "        7.4, 7.9, 6.4, 6.3, 6.1, 7.7, 6.3, 6.4, 6. , 6.9, 6.7, 6.9, 5.8,\n",
       "        6.8, 6.7, 6.7, 6.3, 6.5, 6.2, 5.9],\n",
       "       [3.5, 3. , 3.2, 3.1, 3.6, 3.9, 3.4, 3.4, 2.9, 3.1, 3.7, 3.4, 3. ,\n",
       "        3. , 4. , 4.4, 3.9, 3.5, 3.8, 3.8, 3.4, 3.7, 3.6, 3.3, 3.4, 3. ,\n",
       "        3.4, 3.5, 3.4, 3.2, 3.1, 3.4, 4.1, 4.2, 3.1, 3.2, 3.5, 3.6, 3. ,\n",
       "        3.4, 3.5, 2.3, 3.2, 3.5, 3.8, 3. , 3.8, 3.2, 3.7, 3.3, 3.2, 3.2,\n",
       "        3.1, 2.3, 2.8, 2.8, 3.3, 2.4, 2.9, 2.7, 2. , 3. , 2.2, 2.9, 2.9,\n",
       "        3.1, 3. , 2.7, 2.2, 2.5, 3.2, 2.8, 2.5, 2.8, 2.9, 3. , 2.8, 3. ,\n",
       "        2.9, 2.6, 2.4, 2.4, 2.7, 2.7, 3. , 3.4, 3.1, 2.3, 3. , 2.5, 2.6,\n",
       "        3. , 2.6, 2.3, 2.7, 3. , 2.9, 2.9, 2.5, 2.8, 3.3, 2.7, 3. , 2.9,\n",
       "        3. , 3. , 2.5, 2.9, 2.5, 3.6, 3.2, 2.7, 3. , 2.5, 2.8, 3.2, 3. ,\n",
       "        3.8, 2.6, 2.2, 3.2, 2.8, 2.8, 2.7, 3.3, 3.2, 2.8, 3. , 2.8, 3. ,\n",
       "        2.8, 3.8, 2.8, 2.8, 2.6, 3. , 3.4, 3.1, 3. , 3.1, 3.1, 3.1, 2.7,\n",
       "        3.2, 3.3, 3. , 2.5, 3. , 3.4, 3. ],\n",
       "       [1.4, 1.4, 1.3, 1.5, 1.4, 1.7, 1.4, 1.5, 1.4, 1.5, 1.5, 1.6, 1.4,\n",
       "        1.1, 1.2, 1.5, 1.3, 1.4, 1.7, 1.5, 1.7, 1.5, 1. , 1.7, 1.9, 1.6,\n",
       "        1.6, 1.5, 1.4, 1.6, 1.6, 1.5, 1.5, 1.4, 1.5, 1.2, 1.3, 1.4, 1.3,\n",
       "        1.5, 1.3, 1.3, 1.3, 1.6, 1.9, 1.4, 1.6, 1.4, 1.5, 1.4, 4.7, 4.5,\n",
       "        4.9, 4. , 4.6, 4.5, 4.7, 3.3, 4.6, 3.9, 3.5, 4.2, 4. , 4.7, 3.6,\n",
       "        4.4, 4.5, 4.1, 4.5, 3.9, 4.8, 4. , 4.9, 4.7, 4.3, 4.4, 4.8, 5. ,\n",
       "        4.5, 3.5, 3.8, 3.7, 3.9, 5.1, 4.5, 4.5, 4.7, 4.4, 4.1, 4. , 4.4,\n",
       "        4.6, 4. , 3.3, 4.2, 4.2, 4.2, 4.3, 3. , 4.1, 6. , 5.1, 5.9, 5.6,\n",
       "        5.8, 6.6, 4.5, 6.3, 5.8, 6.1, 5.1, 5.3, 5.5, 5. , 5.1, 5.3, 5.5,\n",
       "        6.7, 6.9, 5. , 5.7, 4.9, 6.7, 4.9, 5.7, 6. , 4.8, 4.9, 5.6, 5.8,\n",
       "        6.1, 6.4, 5.6, 5.1, 5.6, 6.1, 5.6, 5.5, 4.8, 5.4, 5.6, 5.1, 5.1,\n",
       "        5.9, 5.7, 5.2, 5. , 5.2, 5.4, 5.1],\n",
       "       [0.2, 0.2, 0.2, 0.2, 0.2, 0.4, 0.3, 0.2, 0.2, 0.1, 0.2, 0.2, 0.1,\n",
       "        0.1, 0.2, 0.4, 0.4, 0.3, 0.3, 0.3, 0.2, 0.4, 0.2, 0.5, 0.2, 0.2,\n",
       "        0.4, 0.2, 0.2, 0.2, 0.2, 0.4, 0.1, 0.2, 0.2, 0.2, 0.2, 0.1, 0.2,\n",
       "        0.2, 0.3, 0.3, 0.2, 0.6, 0.4, 0.3, 0.2, 0.2, 0.2, 0.2, 1.4, 1.5,\n",
       "        1.5, 1.3, 1.5, 1.3, 1.6, 1. , 1.3, 1.4, 1. , 1.5, 1. , 1.4, 1.3,\n",
       "        1.4, 1.5, 1. , 1.5, 1.1, 1.8, 1.3, 1.5, 1.2, 1.3, 1.4, 1.4, 1.7,\n",
       "        1.5, 1. , 1.1, 1. , 1.2, 1.6, 1.5, 1.6, 1.5, 1.3, 1.3, 1.3, 1.2,\n",
       "        1.4, 1.2, 1. , 1.3, 1.2, 1.3, 1.3, 1.1, 1.3, 2.5, 1.9, 2.1, 1.8,\n",
       "        2.2, 2.1, 1.7, 1.8, 1.8, 2.5, 2. , 1.9, 2.1, 2. , 2.4, 2.3, 1.8,\n",
       "        2.2, 2.3, 1.5, 2.3, 2. , 2. , 1.8, 2.1, 1.8, 1.8, 1.8, 2.1, 1.6,\n",
       "        1.9, 2. , 2.2, 1.5, 1.4, 2.3, 2.4, 1.8, 1.8, 2.1, 2.4, 2.3, 1.9,\n",
       "        2.3, 2.5, 2.3, 1.9, 2. , 2.3, 1.8]])"
      ]
     },
     "execution_count": 16,
     "metadata": {},
     "output_type": "execute_result"
    }
   ],
   "source": [
    "xT = x.T\n",
    "xT"
   ]
  },
  {
   "cell_type": "markdown",
   "metadata": {
    "hidden": true
   },
   "source": [
    "2. Numpy를 사용해서 위 전치행렬을 다시 전치한 행렬을 구한다. 이 행렬과 원래 행렬 X을 비교한다."
   ]
  },
  {
   "cell_type": "code",
   "execution_count": 17,
   "metadata": {
    "hidden": true
   },
   "outputs": [
    {
     "name": "stdout",
     "output_type": "stream",
     "text": [
      "before : (150, 4), Now : (150, 4)\n"
     ]
    }
   ],
   "source": [
    "xTT = xT.T\n",
    "print(f'before : {xTT.shape}, Now : {x.shape}')"
   ]
  },
  {
   "cell_type": "markdown",
   "metadata": {
    "heading_collapsed": true
   },
   "source": [
    "## 연습문제 2.1.4"
   ]
  },
  {
   "cell_type": "markdown",
   "metadata": {
    "hidden": true
   },
   "source": [
    "1. 영벡터, 일벡터, 정방행렬, 대각행렬, 항등행렬, 대칭행렬의 예를 하나씩 만들어본다."
   ]
  },
  {
   "cell_type": "markdown",
   "metadata": {
    "hidden": true
   },
   "source": [
    "###### 영벡터: 요소들이 전부 0으로 이루어져있음\n",
    "```\n",
    "[[0,0,0],\n",
    "[0,0,0],\n",
    "[0,0,0]]\n",
    "```\n",
    "###### 일벡터: 요소들이 전부 1로 이루어져있음\n",
    "```\n",
    "[[1,1,1],\n",
    "[1,1,1],\n",
    "[1,1,1]]\n",
    "```\n",
    "###### 정방행렬: 행과 열의 개수가 같음\n",
    "```\n",
    "[[1,2,3],\n",
    "[4,5,6],\n",
    "[7,8,9]]\n",
    "```\n",
    "###### 대각행렬: 대각선에만 값이 있음\n",
    "```\n",
    "[[1,0,0],\n",
    "[0,2,0],\n",
    "[0,0,3]]\n",
    "```\n",
    "###### 항등행렬: 대각 행렬 중 값이 1인 행렬\n",
    "```\n",
    "[[1,0,0],\n",
    "[0,1,0],\n",
    "[0,0,1]]\n",
    "```\n",
    "###### 대칭행렬: 전치를 해도 원래의 행렬과 같은 행렬\n",
    "```\n",
    "[[1,2,3],\n",
    "[2,1,2],\n",
    "[3,3,1]]\n",
    "```"
   ]
  },
  {
   "cell_type": "code",
   "execution_count": 19,
   "metadata": {
    "hidden": true
   },
   "outputs": [
    {
     "data": {
      "text/plain": [
       "array([[1, 2, 3],\n",
       "       [2, 1, 2],\n",
       "       [3, 3, 1]])"
      ]
     },
     "execution_count": 19,
     "metadata": {},
     "output_type": "execute_result"
    }
   ],
   "source": [
    "# 위의 대칭행렬 증명\n",
    "test = np.array([[1,2,3],[2,1,3],[3,2,1]])\n",
    "test.T"
   ]
  },
  {
   "cell_type": "markdown",
   "metadata": {
    "hidden": true
   },
   "source": [
    "2. 위의 벡터와 행렬을 Numpy로 나타내본다."
   ]
  },
  {
   "cell_type": "code",
   "execution_count": 32,
   "metadata": {
    "hidden": true
   },
   "outputs": [
    {
     "name": "stdout",
     "output_type": "stream",
     "text": [
      "[[0. 0. 0.]\n",
      " [0. 0. 0.]\n",
      " [0. 0. 0.]]\n",
      "[[1. 1. 1.]\n",
      " [1. 1. 1.]\n",
      " [1. 1. 1.]]\n",
      "[[1 2 3]\n",
      " [4 5 6]\n",
      " [7 8 9]]\n",
      "[[1 0 0]\n",
      " [0 2 0]\n",
      " [0 0 3]]\n",
      "[[1. 0. 0.]\n",
      " [0. 1. 0.]\n",
      " [0. 0. 1.]]\n",
      "[[1 2 3]\n",
      " [2 1 3]\n",
      " [3 2 1]]\n"
     ]
    }
   ],
   "source": [
    "# 영벡터: 요소들이 전부 0으로 이루어져있음\n",
    "zero_vector = np.zeros((3,3))\n",
    "print(zero_vector)\n",
    "# 일벡터: 요소들이 전부 1로 이루어져있음\n",
    "one_vector = np.ones((3,3))\n",
    "print(one_vector)\n",
    "# 정방행렬: 행과 열의 개수가 같음\n",
    "square = np.array([[1,2,3],[4,5,6],[7,8,9]])\n",
    "print(square)\n",
    "# 대각행렬: 대각선에만 값이 있음\n",
    "dig = np.diag([1,2,3])\n",
    "print(dig)\n",
    "# 항등행렬: 대각 행렬 중 값이 1인 행렬\n",
    "eyes = np.eye(3)\n",
    "print(eyes)\n",
    "# 대칭행렬: 전치를 해도 원래의 행렬과 같은 행렬\n",
    "symmetric = np.array([[1,2,3],[2,1,3],[3,2,1]])\n",
    "print(symmetric)"
   ]
  },
  {
   "cell_type": "markdown",
   "metadata": {
    "heading_collapsed": true
   },
   "source": [
    "## 연습문제 2.2.1\n",
    "A, B, C 세 회사의 주식은 각각 100만원, 80만원, 50만원이다. 이 주식을 각각 3주, 4주, 5주를 매수할 때 필요한 금액을 구하고자 한다.\n",
    "1. 주식의 가격과 수량을 각각 p벡터, n벡터로 표시하고 넘파이로 코딩한다.\n",
    "2. 주식을 매수할 때 필요한 금액을 곱셈으로 표시하고 넘파이 연산으로 그 값을 계산한다."
   ]
  },
  {
   "cell_type": "code",
   "execution_count": 33,
   "metadata": {
    "hidden": true
   },
   "outputs": [],
   "source": [
    "# 1번\n",
    "p = np.array([100,80,50])\n",
    "n = np.array([3,4,5])"
   ]
  },
  {
   "cell_type": "code",
   "execution_count": 34,
   "metadata": {
    "hidden": true
   },
   "outputs": [
    {
     "name": "stdout",
     "output_type": "stream",
     "text": [
      "[3000000 3200000 2500000]\n"
     ]
    }
   ],
   "source": [
    "# 2번\n",
    "need_money = (p*10000)*n\n",
    "print(need_money)"
   ]
  },
  {
   "cell_type": "markdown",
   "metadata": {
    "heading_collapsed": true
   },
   "source": [
    "## 연습문제 2.2.2\n",
    "벡터 x의 평균 제거 벡터는 다음과 같이 계산함을 증명하라.\n",
    "$$x-\\frac{1}{N}1_{N}^{T}x1_{N}$$"
   ]
  },
  {
   "cell_type": "code",
   "execution_count": 39,
   "metadata": {
    "hidden": true
   },
   "outputs": [
    {
     "data": {
      "text/plain": [
       "array([-4.5, -3.5, -2.5, -1.5, -0.5,  0.5,  1.5,  2.5,  3.5,  4.5])"
      ]
     },
     "execution_count": 39,
     "metadata": {},
     "output_type": "execute_result"
    }
   ],
   "source": [
    "x = np.arange(10)\n",
    "x-x.mean()"
   ]
  },
  {
   "cell_type": "code",
   "execution_count": 58,
   "metadata": {
    "hidden": true
   },
   "outputs": [
    {
     "data": {
      "text/plain": [
       "array([-4.5, -3.5, -2.5, -1.5, -0.5,  0.5,  1.5,  2.5,  3.5,  4.5])"
      ]
     },
     "execution_count": 58,
     "metadata": {},
     "output_type": "execute_result"
    }
   ],
   "source": [
    "N = len(x)\n",
    "x-(np.ones(N)@x*np.ones(N).T) / N # np.ones(N)@x -> 상수가 된다."
   ]
  },
  {
   "cell_type": "markdown",
   "metadata": {
    "heading_collapsed": true
   },
   "source": [
    "## 연습문제 2.2.3"
   ]
  },
  {
   "cell_type": "code",
   "execution_count": 59,
   "metadata": {
    "hidden": true
   },
   "outputs": [],
   "source": [
    "from sklearn.datasets import load_digits\n",
    "X = load_digits().data"
   ]
  },
  {
   "cell_type": "markdown",
   "metadata": {
    "hidden": true
   },
   "source": [
    "1. 내적을 이용하여 첫 번째 이미지와 10번째 이미지의 유사도를 구하라."
   ]
  },
  {
   "cell_type": "code",
   "execution_count": 60,
   "metadata": {
    "hidden": true
   },
   "outputs": [
    {
     "data": {
      "text/plain": [
       "2807.0"
      ]
     },
     "execution_count": 60,
     "metadata": {},
     "output_type": "execute_result"
    }
   ],
   "source": [
    "X[0].T @ X[9]"
   ]
  },
  {
   "cell_type": "markdown",
   "metadata": {
    "hidden": true
   },
   "source": [
    "2. 내적을 이용하여 모든 이미지의 조합에 대해 유사도를 구하라. 어떻게 구현하는 것이 효율적일까?"
   ]
  },
  {
   "cell_type": "code",
   "execution_count": 63,
   "metadata": {
    "hidden": true
   },
   "outputs": [
    {
     "data": {
      "text/plain": [
       "(1797, 64)"
      ]
     },
     "execution_count": 63,
     "metadata": {},
     "output_type": "execute_result"
    }
   ],
   "source": [
    "X.shape"
   ]
  },
  {
   "cell_type": "code",
   "execution_count": 62,
   "metadata": {
    "hidden": true
   },
   "outputs": [
    {
     "data": {
      "text/plain": [
       "array([[3070., 1866., 2264., ..., 2812., 3006., 2898.],\n",
       "       [1866., 4209., 3432., ..., 3906., 3083., 3307.],\n",
       "       [2264., 3432., 4388., ..., 4005., 3063., 3697.],\n",
       "       ...,\n",
       "       [2812., 3906., 4005., ..., 5092., 3729., 4598.],\n",
       "       [3006., 3083., 3063., ..., 3729., 4316., 3850.],\n",
       "       [2898., 3307., 3697., ..., 4598., 3850., 4938.]])"
      ]
     },
     "execution_count": 62,
     "metadata": {},
     "output_type": "execute_result"
    }
   ],
   "source": [
    "X@X.T"
   ]
  },
  {
   "cell_type": "markdown",
   "metadata": {
    "heading_collapsed": true
   },
   "source": [
    "## 연습문제 2.2.4\n"
   ]
  },
  {
   "cell_type": "code",
   "execution_count": 64,
   "metadata": {
    "hidden": true
   },
   "outputs": [],
   "source": [
    "A = np.array([[1,2,3],[4,5,6]])\n",
    "B = np.array([[1,2],[3,4],[5,6]])"
   ]
  },
  {
   "cell_type": "markdown",
   "metadata": {
    "hidden": true
   },
   "source": [
    "1. A와 B가 위와 같을 때 AB를 연습장에 손으로 계산하고 넘파이의 계산 결과와 맞는지 확인한다.\n",
    "2. 순서를 바꾸어 BA를 손으로 계산하고 넘파이의 계산 결과와 맞는지 확인한다. BA가 AB와 같은가?\n",
    "3. A, B가 다음과 같을 때, AB, BA를 손으로 계산하고 넘파이의 계산 결과와 맞는지 확인한다. AB, BA 모두 계산 가능한가?    \n",
    "A = [1,2,3], B = [[4,7],[5,8],[6,9]]\n",
    "4. A, B가 다음과 같을 때, AB, BA를 손으로 계산하고 넘파이의 계산 결과와 맞는지 확인한다. AB, BA 모두 계산 가능한가? BA의 결과가 AB와 같은가?    \n",
    "A = [[1,2],[3,4]], B = [[5,6],[7,8]]\n",
    "5. A가 다음과 같을 때, $AA^T$와 $A^TA$를 손으로 계산하고 넘파이의 계산 결과와 맞는지 확인한다. $AA^T$와 $A^TA$의 크기는 어떠한가? 항상 정방행렬이 되는가?    \n",
    "A = [[1,2],[3,4],[5,6]]\n",
    "6. x가 다음과 같을 때, $x^Tx$와 $xx^T$를 손으로 계산하고 넘파이의 계산 결과와 맞는지 확인한다. $x^Tx$와 $xx^T$의 크기는 어떠한가? 어떤 것이 스칼라이고 어떤 것이 정방행렬인가?    \n",
    "x = [[1],[2],[3]]"
   ]
  },
  {
   "cell_type": "markdown",
   "metadata": {
    "hidden": true
   },
   "source": [
    "![틈새수학-3 2](https://user-images.githubusercontent.com/63278762/126076427-6a33c947-4ab8-4f70-92f0-659aa9f202f9.jpg)\n",
    "![틈새수학-4](https://user-images.githubusercontent.com/63278762/126076431-b6f63480-7abf-4e2f-ba22-c0b230c5810b.jpg)"
   ]
  },
  {
   "cell_type": "code",
   "execution_count": 66,
   "metadata": {
    "hidden": true
   },
   "outputs": [
    {
     "data": {
      "text/plain": [
       "array([[22, 28],\n",
       "       [49, 64]])"
      ]
     },
     "execution_count": 66,
     "metadata": {},
     "output_type": "execute_result"
    }
   ],
   "source": [
    "# 1\n",
    "A@B"
   ]
  },
  {
   "cell_type": "code",
   "execution_count": 67,
   "metadata": {
    "hidden": true
   },
   "outputs": [
    {
     "data": {
      "text/plain": [
       "array([[ 9, 12, 15],\n",
       "       [19, 26, 33],\n",
       "       [29, 40, 51]])"
      ]
     },
     "execution_count": 67,
     "metadata": {},
     "output_type": "execute_result"
    }
   ],
   "source": [
    "# 2\n",
    "B@A"
   ]
  },
  {
   "cell_type": "code",
   "execution_count": 69,
   "metadata": {
    "hidden": true
   },
   "outputs": [
    {
     "name": "stdout",
     "output_type": "stream",
     "text": [
      "[32 50]\n"
     ]
    },
    {
     "ename": "ValueError",
     "evalue": "matmul: Input operand 1 has a mismatch in its core dimension 0, with gufunc signature (n?,k),(k,m?)->(n?,m?) (size 3 is different from 2)",
     "output_type": "error",
     "traceback": [
      "\u001b[0;31m---------------------------------------------------------------------------\u001b[0m",
      "\u001b[0;31mValueError\u001b[0m                                Traceback (most recent call last)",
      "\u001b[0;32m<ipython-input-69-5ef397fd6794>\u001b[0m in \u001b[0;36m<module>\u001b[0;34m\u001b[0m\n\u001b[1;32m      3\u001b[0m \u001b[0mB\u001b[0m \u001b[0;34m=\u001b[0m \u001b[0mnp\u001b[0m\u001b[0;34m.\u001b[0m\u001b[0marray\u001b[0m\u001b[0;34m(\u001b[0m\u001b[0;34m[\u001b[0m\u001b[0;34m[\u001b[0m\u001b[0;36m4\u001b[0m\u001b[0;34m,\u001b[0m\u001b[0;36m7\u001b[0m\u001b[0;34m]\u001b[0m\u001b[0;34m,\u001b[0m\u001b[0;34m[\u001b[0m\u001b[0;36m5\u001b[0m\u001b[0;34m,\u001b[0m\u001b[0;36m8\u001b[0m\u001b[0;34m]\u001b[0m\u001b[0;34m,\u001b[0m\u001b[0;34m[\u001b[0m\u001b[0;36m6\u001b[0m\u001b[0;34m,\u001b[0m\u001b[0;36m9\u001b[0m\u001b[0;34m]\u001b[0m\u001b[0;34m]\u001b[0m\u001b[0;34m)\u001b[0m\u001b[0;34m\u001b[0m\u001b[0;34m\u001b[0m\u001b[0m\n\u001b[1;32m      4\u001b[0m \u001b[0mprint\u001b[0m\u001b[0;34m(\u001b[0m\u001b[0mA\u001b[0m\u001b[0;34m@\u001b[0m\u001b[0mB\u001b[0m\u001b[0;34m)\u001b[0m\u001b[0;34m\u001b[0m\u001b[0;34m\u001b[0m\u001b[0m\n\u001b[0;32m----> 5\u001b[0;31m \u001b[0mprint\u001b[0m\u001b[0;34m(\u001b[0m\u001b[0mB\u001b[0m\u001b[0;34m@\u001b[0m\u001b[0mA\u001b[0m\u001b[0;34m)\u001b[0m\u001b[0;34m\u001b[0m\u001b[0;34m\u001b[0m\u001b[0m\n\u001b[0m",
      "\u001b[0;31mValueError\u001b[0m: matmul: Input operand 1 has a mismatch in its core dimension 0, with gufunc signature (n?,k),(k,m?)->(n?,m?) (size 3 is different from 2)"
     ]
    }
   ],
   "source": [
    "# 3\n",
    "A = np.array([1,2,3])\n",
    "B = np.array([[4,7],[5,8],[6,9]])\n",
    "print(A@B)\n",
    "print(B@A) # BA는 계산이 불가하다."
   ]
  },
  {
   "cell_type": "code",
   "execution_count": 70,
   "metadata": {
    "hidden": true
   },
   "outputs": [
    {
     "name": "stdout",
     "output_type": "stream",
     "text": [
      "[[19 22]\n",
      " [43 50]]\n",
      "[[23 34]\n",
      " [31 46]]\n"
     ]
    }
   ],
   "source": [
    "# 4\n",
    "A = np.array([[1,2],[3,4]])\n",
    "B = np.array([[5,6],[7,8]])\n",
    "print(A@B)\n",
    "print(B@A)\n",
    "# AB와 BA의 결과는 같지 않다."
   ]
  },
  {
   "cell_type": "code",
   "execution_count": 71,
   "metadata": {
    "hidden": true
   },
   "outputs": [
    {
     "name": "stdout",
     "output_type": "stream",
     "text": [
      "[[ 5 11 17]\n",
      " [11 25 39]\n",
      " [17 39 61]]\n",
      "[[35 44]\n",
      " [44 56]]\n"
     ]
    }
   ],
   "source": [
    "# 5\n",
    "A = np.array([[1,2],[3,4],[5,6]])\n",
    "print(A@A.T)\n",
    "print(A.T@A)\n",
    "# 크기가 항상 정방 행렬로 같다."
   ]
  },
  {
   "cell_type": "code",
   "execution_count": 72,
   "metadata": {
    "hidden": true
   },
   "outputs": [
    {
     "name": "stdout",
     "output_type": "stream",
     "text": [
      "[[14]]\n",
      "[[1 2 3]\n",
      " [2 4 6]\n",
      " [3 6 9]]\n"
     ]
    }
   ],
   "source": [
    "# 6\n",
    "x = np.array([[1],[2],[3]])\n",
    "print(x.T@x) # 스칼라\n",
    "print(x@x.T) # 정방행렬"
   ]
  },
  {
   "cell_type": "markdown",
   "metadata": {
    "heading_collapsed": true
   },
   "source": [
    "## 연습문제 2.2.5"
   ]
  },
  {
   "cell_type": "markdown",
   "metadata": {
    "hidden": true
   },
   "source": [
    "1. 길이가 같은 일벡터와 행벡터의 곱은 행벡터 x를 반복하여 가지는 행렬과 같음을 보여라."
   ]
  },
  {
   "cell_type": "code",
   "execution_count": 87,
   "metadata": {
    "hidden": true
   },
   "outputs": [
    {
     "data": {
      "text/plain": [
       "array([[0., 1., 2., 3., 4.],\n",
       "       [0., 1., 2., 3., 4.],\n",
       "       [0., 1., 2., 3., 4.],\n",
       "       [0., 1., 2., 3., 4.],\n",
       "       [0., 1., 2., 3., 4.]])"
      ]
     },
     "execution_count": 87,
     "metadata": {},
     "output_type": "execute_result"
    }
   ],
   "source": [
    "one_vector = np.ones((5,1))\n",
    "x = np.arange(5).reshape((1,5)) # array([[0, 1, 2, 3, 4]])\n",
    "one_vector@x"
   ]
  },
  {
   "cell_type": "markdown",
   "metadata": {
    "hidden": true
   },
   "source": [
    "2. 행렬 X가 있을 때, 이 행렬의 각 열의 평균으로 이루어진 벡터 $\\widetilde{x}$가 다음과 같음을 보여라.(질문)\n",
    "$$\\widetilde{x} = \\frac{1}{N}X^T1_{N}$$"
   ]
  },
  {
   "cell_type": "code",
   "execution_count": 113,
   "metadata": {
    "hidden": true
   },
   "outputs": [
    {
     "name": "stdout",
     "output_type": "stream",
     "text": [
      "[2.5 3.5 4.5 5.5 6.5]\n",
      "[2.5 3.5 4.5 5.5 6.5]\n"
     ]
    }
   ],
   "source": [
    "x = np.arange(10).reshape((2,5))\n",
    "N,M = x.shape\n",
    "mean_vector = np.array([np.mean(i) for i in x.T])\n",
    "compare_vector=(x.T@np.ones(N))/N\n",
    "print(mean_vector)\n",
    "print(compare_vector)"
   ]
  },
  {
   "cell_type": "markdown",
   "metadata": {
    "hidden": true
   },
   "source": [
    "3. 행렬 $\\widetilde{X}$는 동일한 벡터 $\\widetilde{x}^T$를 N개 누적하여 만든 행렬이다. 즉 각 열의 모든 값이 그 열의 평균으로 이루어진 행렬이다. 이때 $\\widetilde{X}$가 다음과 같음을 보여라. (질문)\n",
    "$$\\widetilde{X} = \\frac{1}{N}1_{N}1_{N}^{T}X$$"
   ]
  },
  {
   "cell_type": "markdown",
   "metadata": {
    "hidden": true
   },
   "source": [
    "4. 다음 코드를 실행하면 붓꽃 전체 데이터를 모두 벡터로 변환하여 하나의 넘파이 행렬 X를 만든다. 이 데이터로 행렬$\\widetilde{X}$의 값을 계산하라."
   ]
  },
  {
   "cell_type": "code",
   "execution_count": 128,
   "metadata": {
    "hidden": true
   },
   "outputs": [],
   "source": [
    "from sklearn.datasets import load_iris\n",
    "X = load_iris().data"
   ]
  },
  {
   "cell_type": "code",
   "execution_count": 132,
   "metadata": {
    "hidden": true
   },
   "outputs": [
    {
     "data": {
      "text/plain": [
       "array([[ 765.,  525.,  210.,   30.],\n",
       "       [ 735.,  450.,  210.,   30.],\n",
       "       [ 705.,  480.,  195.,   30.],\n",
       "       [ 690.,  465.,  225.,   30.],\n",
       "       [ 750.,  540.,  210.,   30.],\n",
       "       [ 810.,  585.,  255.,   60.],\n",
       "       [ 690.,  510.,  210.,   45.],\n",
       "       [ 750.,  510.,  225.,   30.],\n",
       "       [ 660.,  435.,  210.,   30.],\n",
       "       [ 735.,  465.,  225.,   15.],\n",
       "       [ 810.,  555.,  225.,   30.],\n",
       "       [ 720.,  510.,  240.,   30.],\n",
       "       [ 720.,  450.,  210.,   15.],\n",
       "       [ 645.,  450.,  165.,   15.],\n",
       "       [ 870.,  600.,  180.,   30.],\n",
       "       [ 855.,  660.,  225.,   60.],\n",
       "       [ 810.,  585.,  195.,   60.],\n",
       "       [ 765.,  525.,  210.,   45.],\n",
       "       [ 855.,  570.,  255.,   45.],\n",
       "       [ 765.,  570.,  225.,   45.],\n",
       "       [ 810.,  510.,  255.,   30.],\n",
       "       [ 765.,  555.,  225.,   60.],\n",
       "       [ 690.,  540.,  150.,   30.],\n",
       "       [ 765.,  495.,  255.,   75.],\n",
       "       [ 720.,  510.,  285.,   30.],\n",
       "       [ 750.,  450.,  240.,   30.],\n",
       "       [ 750.,  510.,  240.,   60.],\n",
       "       [ 780.,  525.,  225.,   30.],\n",
       "       [ 780.,  510.,  210.,   30.],\n",
       "       [ 705.,  480.,  240.,   30.],\n",
       "       [ 720.,  465.,  240.,   30.],\n",
       "       [ 810.,  510.,  225.,   60.],\n",
       "       [ 780.,  615.,  225.,   15.],\n",
       "       [ 825.,  630.,  210.,   30.],\n",
       "       [ 735.,  465.,  225.,   30.],\n",
       "       [ 750.,  480.,  180.,   30.],\n",
       "       [ 825.,  525.,  195.,   30.],\n",
       "       [ 735.,  540.,  210.,   15.],\n",
       "       [ 660.,  450.,  195.,   30.],\n",
       "       [ 765.,  510.,  225.,   30.],\n",
       "       [ 750.,  525.,  195.,   45.],\n",
       "       [ 675.,  345.,  195.,   45.],\n",
       "       [ 660.,  480.,  195.,   30.],\n",
       "       [ 750.,  525.,  240.,   90.],\n",
       "       [ 765.,  570.,  285.,   60.],\n",
       "       [ 720.,  450.,  210.,   45.],\n",
       "       [ 765.,  570.,  240.,   30.],\n",
       "       [ 690.,  480.,  210.,   30.],\n",
       "       [ 795.,  555.,  225.,   30.],\n",
       "       [ 750.,  495.,  210.,   30.],\n",
       "       [1050.,  480.,  705.,  210.],\n",
       "       [ 960.,  480.,  675.,  225.],\n",
       "       [1035.,  465.,  735.,  225.],\n",
       "       [ 825.,  345.,  600.,  195.],\n",
       "       [ 975.,  420.,  690.,  225.],\n",
       "       [ 855.,  420.,  675.,  195.],\n",
       "       [ 945.,  495.,  705.,  240.],\n",
       "       [ 735.,  360.,  495.,  150.],\n",
       "       [ 990.,  435.,  690.,  195.],\n",
       "       [ 780.,  405.,  585.,  210.],\n",
       "       [ 750.,  300.,  525.,  150.],\n",
       "       [ 885.,  450.,  630.,  225.],\n",
       "       [ 900.,  330.,  600.,  150.],\n",
       "       [ 915.,  435.,  705.,  210.],\n",
       "       [ 840.,  435.,  540.,  195.],\n",
       "       [1005.,  465.,  660.,  210.],\n",
       "       [ 840.,  450.,  675.,  225.],\n",
       "       [ 870.,  405.,  615.,  150.],\n",
       "       [ 930.,  330.,  675.,  225.],\n",
       "       [ 840.,  375.,  585.,  165.],\n",
       "       [ 885.,  480.,  720.,  270.],\n",
       "       [ 915.,  420.,  600.,  195.],\n",
       "       [ 945.,  375.,  735.,  225.],\n",
       "       [ 915.,  420.,  705.,  180.],\n",
       "       [ 960.,  435.,  645.,  195.],\n",
       "       [ 990.,  450.,  660.,  210.],\n",
       "       [1020.,  420.,  720.,  210.],\n",
       "       [1005.,  450.,  750.,  255.],\n",
       "       [ 900.,  435.,  675.,  225.],\n",
       "       [ 855.,  390.,  525.,  150.],\n",
       "       [ 825.,  360.,  570.,  165.],\n",
       "       [ 825.,  360.,  555.,  150.],\n",
       "       [ 870.,  405.,  585.,  180.],\n",
       "       [ 900.,  405.,  765.,  240.],\n",
       "       [ 810.,  450.,  675.,  225.],\n",
       "       [ 900.,  510.,  675.,  240.],\n",
       "       [1005.,  465.,  705.,  225.],\n",
       "       [ 945.,  345.,  660.,  195.],\n",
       "       [ 840.,  450.,  615.,  195.],\n",
       "       [ 825.,  375.,  600.,  195.],\n",
       "       [ 825.,  390.,  660.,  180.],\n",
       "       [ 915.,  450.,  690.,  210.],\n",
       "       [ 870.,  390.,  600.,  180.],\n",
       "       [ 750.,  345.,  495.,  150.],\n",
       "       [ 840.,  405.,  630.,  195.],\n",
       "       [ 855.,  450.,  630.,  180.],\n",
       "       [ 855.,  435.,  630.,  195.],\n",
       "       [ 930.,  435.,  645.,  195.],\n",
       "       [ 765.,  375.,  450.,  165.],\n",
       "       [ 855.,  420.,  615.,  195.],\n",
       "       [ 945.,  495.,  900.,  375.],\n",
       "       [ 870.,  405.,  765.,  285.],\n",
       "       [1065.,  450.,  885.,  315.],\n",
       "       [ 945.,  435.,  840.,  270.],\n",
       "       [ 975.,  450.,  870.,  330.],\n",
       "       [1140.,  450.,  990.,  315.],\n",
       "       [ 735.,  375.,  675.,  255.],\n",
       "       [1095.,  435.,  945.,  270.],\n",
       "       [1005.,  375.,  870.,  270.],\n",
       "       [1080.,  540.,  915.,  375.],\n",
       "       [ 975.,  480.,  765.,  300.],\n",
       "       [ 960.,  405.,  795.,  285.],\n",
       "       [1020.,  450.,  825.,  315.],\n",
       "       [ 855.,  375.,  750.,  300.],\n",
       "       [ 870.,  420.,  765.,  360.],\n",
       "       [ 960.,  480.,  795.,  345.],\n",
       "       [ 975.,  450.,  825.,  270.],\n",
       "       [1155.,  570., 1005.,  330.],\n",
       "       [1155.,  390., 1035.,  345.],\n",
       "       [ 900.,  330.,  750.,  225.],\n",
       "       [1035.,  480.,  855.,  345.],\n",
       "       [ 840.,  420.,  735.,  300.],\n",
       "       [1155.,  420., 1005.,  300.],\n",
       "       [ 945.,  405.,  735.,  270.],\n",
       "       [1005.,  495.,  855.,  315.],\n",
       "       [1080.,  480.,  900.,  270.],\n",
       "       [ 930.,  420.,  720.,  270.],\n",
       "       [ 915.,  450.,  735.,  270.],\n",
       "       [ 960.,  420.,  840.,  315.],\n",
       "       [1080.,  450.,  870.,  240.],\n",
       "       [1110.,  420.,  915.,  285.],\n",
       "       [1185.,  570.,  960.,  300.],\n",
       "       [ 960.,  420.,  840.,  330.],\n",
       "       [ 945.,  420.,  765.,  225.],\n",
       "       [ 915.,  390.,  840.,  210.],\n",
       "       [1155.,  450.,  915.,  345.],\n",
       "       [ 945.,  510.,  840.,  360.],\n",
       "       [ 960.,  465.,  825.,  270.],\n",
       "       [ 900.,  450.,  720.,  270.],\n",
       "       [1035.,  465.,  810.,  315.],\n",
       "       [1005.,  465.,  840.,  360.],\n",
       "       [1035.,  465.,  765.,  345.],\n",
       "       [ 870.,  405.,  765.,  285.],\n",
       "       [1020.,  480.,  885.,  345.],\n",
       "       [1005.,  495.,  855.,  375.],\n",
       "       [1005.,  450.,  780.,  345.],\n",
       "       [ 945.,  375.,  750.,  285.],\n",
       "       [ 975.,  450.,  780.,  300.],\n",
       "       [ 930.,  510.,  810.,  345.],\n",
       "       [ 885.,  450.,  765.,  270.]])"
      ]
     },
     "execution_count": 132,
     "metadata": {},
     "output_type": "execute_result"
    }
   ],
   "source": [
    "N,M = X.shape\n",
    "np.ones(N)@np.ones(N).T*X"
   ]
  },
  {
   "cell_type": "markdown",
   "metadata": {
    "heading_collapsed": true
   },
   "source": [
    "## 연습문제 2.2.6"
   ]
  },
  {
   "cell_type": "code",
   "execution_count": 139,
   "metadata": {
    "hidden": true
   },
   "outputs": [],
   "source": [
    "A = np.array([1,2]).reshape((1,2))\n",
    "B= np.array([[1,2],[3,4]])\n",
    "C = np.array([[5],[6]]).reshape((2,1))"
   ]
  },
  {
   "cell_type": "code",
   "execution_count": 140,
   "metadata": {
    "hidden": true
   },
   "outputs": [
    {
     "data": {
      "text/plain": [
       "array([[95]])"
      ]
     },
     "execution_count": 140,
     "metadata": {},
     "output_type": "execute_result"
    }
   ],
   "source": [
    "A@B@C"
   ]
  },
  {
   "cell_type": "code",
   "execution_count": 142,
   "metadata": {
    "hidden": true
   },
   "outputs": [
    {
     "data": {
      "text/plain": [
       "array([[35, 50],\n",
       "       [42, 60]])"
      ]
     },
     "execution_count": 142,
     "metadata": {},
     "output_type": "execute_result"
    }
   ],
   "source": [
    "C@A@B"
   ]
  },
  {
   "cell_type": "markdown",
   "metadata": {
    "heading_collapsed": true
   },
   "source": [
    "## 연습문제 2.2.7"
   ]
  },
  {
   "cell_type": "markdown",
   "metadata": {
    "hidden": true
   },
   "source": [
    "![틈새수학-6](https://user-images.githubusercontent.com/63278762/126081868-719bd3d2-8d45-44c1-8daf-57f2f222bef6.jpg)"
   ]
  },
  {
   "cell_type": "code",
   "execution_count": 143,
   "metadata": {
    "hidden": true
   },
   "outputs": [
    {
     "data": {
      "text/plain": [
       "array([[20],\n",
       "       [47]])"
      ]
     },
     "execution_count": 143,
     "metadata": {},
     "output_type": "execute_result"
    }
   ],
   "source": [
    "X = np.array([[1,2,3],[4,5,6]])\n",
    "w = np.array([[2],[3],[4]])\n",
    "X@w"
   ]
  },
  {
   "cell_type": "markdown",
   "metadata": {
    "heading_collapsed": true
   },
   "source": [
    "## 연습문제 2.2.9"
   ]
  },
  {
   "cell_type": "markdown",
   "metadata": {
    "hidden": true
   },
   "source": [
    "![틈새수학-7](https://user-images.githubusercontent.com/63278762/126081946-2011f5b8-5c29-4341-af2a-a1f1738218a2.jpg)"
   ]
  },
  {
   "cell_type": "markdown",
   "metadata": {
    "heading_collapsed": true
   },
   "source": [
    "## 연습문제 2.2.10"
   ]
  },
  {
   "cell_type": "markdown",
   "metadata": {
    "hidden": true
   },
   "source": [
    "![틈새수학-7](https://user-images.githubusercontent.com/63278762/126081946-2011f5b8-5c29-4341-af2a-a1f1738218a2.jpg)"
   ]
  },
  {
   "cell_type": "markdown",
   "metadata": {
    "heading_collapsed": true
   },
   "source": [
    "## 연습문제 2.2.11"
   ]
  },
  {
   "cell_type": "markdown",
   "metadata": {
    "hidden": true
   },
   "source": [
    "![틈새수학-9](https://user-images.githubusercontent.com/63278762/126082579-233c1dcc-852e-4300-9b88-7210da48cf1a.jpg)"
   ]
  },
  {
   "cell_type": "markdown",
   "metadata": {
    "heading_collapsed": true
   },
   "source": [
    "## 연습문제 2.2.12"
   ]
  },
  {
   "cell_type": "code",
   "execution_count": 151,
   "metadata": {
    "hidden": true
   },
   "outputs": [],
   "source": [
    "A = np.arange(1, 10).reshape(3, 3)\n",
    "x = np.array([1, 2, 3])"
   ]
  },
  {
   "cell_type": "code",
   "execution_count": 152,
   "metadata": {
    "hidden": true
   },
   "outputs": [
    {
     "data": {
      "text/plain": [
       "228"
      ]
     },
     "execution_count": 152,
     "metadata": {},
     "output_type": "execute_result"
    }
   ],
   "source": [
    "x.T@A@x"
   ]
  },
  {
   "cell_type": "code",
   "execution_count": 153,
   "metadata": {
    "hidden": true
   },
   "outputs": [
    {
     "data": {
      "text/plain": [
       "228.0"
      ]
     },
     "execution_count": 153,
     "metadata": {},
     "output_type": "execute_result"
    }
   ],
   "source": [
    "(x.T@(A+A.T)@x)/2"
   ]
  },
  {
   "cell_type": "markdown",
   "metadata": {
    "heading_collapsed": true
   },
   "source": [
    "## 연습문제 2.2.13"
   ]
  },
  {
   "cell_type": "markdown",
   "metadata": {
    "hidden": true
   },
   "source": [
    "![틈새수학-14](https://user-images.githubusercontent.com/63278762/126085519-6a4a5ba8-a8d9-48d4-878c-1a84c4cfe73f.jpg)"
   ]
  },
  {
   "cell_type": "markdown",
   "metadata": {
    "heading_collapsed": true
   },
   "source": [
    "## 연습문제 2.2.14"
   ]
  },
  {
   "cell_type": "markdown",
   "metadata": {
    "hidden": true
   },
   "source": [
    "![틈새수학-13](https://user-images.githubusercontent.com/63278762/126085385-315ba003-0c45-4676-b6c2-987d1425089a.jpg)"
   ]
  },
  {
   "cell_type": "markdown",
   "metadata": {
    "heading_collapsed": true
   },
   "source": [
    "## 연습문제 2.3.1"
   ]
  },
  {
   "cell_type": "markdown",
   "metadata": {
    "hidden": true
   },
   "source": [
    "![틈새수학-12](https://user-images.githubusercontent.com/63278762/126085037-5ec291b7-7a64-49fa-8d78-24a2f71271d8.jpg)"
   ]
  },
  {
   "cell_type": "markdown",
   "metadata": {
    "heading_collapsed": true
   },
   "source": [
    "## 연습문제 2.3.2"
   ]
  },
  {
   "cell_type": "markdown",
   "metadata": {
    "hidden": true
   },
   "source": [
    "![_-49](https://user-images.githubusercontent.com/63278762/126084956-cc909d65-14a9-4faf-ae5d-ad17d0b470ac.jpeg)"
   ]
  },
  {
   "cell_type": "markdown",
   "metadata": {
    "heading_collapsed": true
   },
   "source": [
    "## 연습문제 2.3.3"
   ]
  },
  {
   "cell_type": "markdown",
   "metadata": {
    "hidden": true
   },
   "source": [
    "![틈새수학-12 2](https://user-images.githubusercontent.com/63278762/126085651-5676d63f-7a72-4b04-895e-b8c19b4b063d.jpg)"
   ]
  },
  {
   "cell_type": "markdown",
   "metadata": {
    "heading_collapsed": true
   },
   "source": [
    "## 연습문제 2.3.4"
   ]
  },
  {
   "cell_type": "markdown",
   "metadata": {
    "hidden": true
   },
   "source": [
    "$(X^TX)^-1$은 $X^TX$의 역행렬로 $X^TX$와 곱하면 항등 행렬이 된다."
   ]
  },
  {
   "cell_type": "markdown",
   "metadata": {
    "heading_collapsed": true
   },
   "source": [
    "## 연습문제 2.3.5"
   ]
  },
  {
   "cell_type": "markdown",
   "metadata": {
    "hidden": true
   },
   "source": [
    "![_-45](https://user-images.githubusercontent.com/63278762/126085783-c0b51707-f158-4a07-9b15-bb38292d8802.jpeg)"
   ]
  },
  {
   "cell_type": "markdown",
   "metadata": {
    "heading_collapsed": true
   },
   "source": [
    "## 연습문제 2.3.6"
   ]
  },
  {
   "cell_type": "markdown",
   "metadata": {
    "hidden": true
   },
   "source": [
    "![틈새수학-16](https://user-images.githubusercontent.com/63278762/126086086-b7420972-d0fc-41d3-b4ed-29b5d73459d8.jpg)"
   ]
  },
  {
   "cell_type": "markdown",
   "metadata": {
    "heading_collapsed": true
   },
   "source": [
    "## 연습문제 2.3.7\n",
    "다음 행렬이 양의 정부호인지, 양의 준정부호인지 혹은 두가지 중 어느것도 아닌지 판단하라. 그리고 행렬의 대각합과 행렬식을 구하라."
   ]
  },
  {
   "cell_type": "code",
   "execution_count": 155,
   "metadata": {
    "hidden": true
   },
   "outputs": [
    {
     "name": "stdout",
     "output_type": "stream",
     "text": [
      "[[ 2 -1  0]\n",
      " [-1  2 -1]\n",
      " [ 0 -1  2]]\n",
      "6\n",
      "4.0\n"
     ]
    }
   ],
   "source": [
    "# 1\n",
    "A = np.array([[2,-1,0],[-1,2,-1],[0,-1,2]])\n",
    "print(A)\n",
    "# 대각합\n",
    "print(np.trace(A))\n",
    "# 행렬식\n",
    "print(np.linalg.det(A))"
   ]
  },
  {
   "cell_type": "markdown",
   "metadata": {
    "hidden": true
   },
   "source": [
    "![틈새수학-17](https://user-images.githubusercontent.com/63278762/126086563-c39816f3-c79b-4c9b-bba8-6cdf3721a39a.jpg)"
   ]
  },
  {
   "cell_type": "code",
   "execution_count": 156,
   "metadata": {
    "hidden": true
   },
   "outputs": [
    {
     "name": "stdout",
     "output_type": "stream",
     "text": [
      "[[1 2]\n",
      " [3 4]]\n",
      "5\n",
      "-2.0000000000000004\n"
     ]
    }
   ],
   "source": [
    "# 2\n",
    "B = np.array([[1,2],[3,4]])\n",
    "print(B)\n",
    "# 대각합\n",
    "print(np.trace(B))\n",
    "# 행렬식\n",
    "print(np.linalg.det(B))"
   ]
  },
  {
   "cell_type": "markdown",
   "metadata": {
    "hidden": true
   },
   "source": [
    "![틈새수학-18](https://user-images.githubusercontent.com/63278762/126086572-4ee0f585-1373-4432-be1a-38874f9bd8c1.jpg)\n"
   ]
  },
  {
   "cell_type": "markdown",
   "metadata": {
    "heading_collapsed": true
   },
   "source": [
    "## 연습문제 2.4.1"
   ]
  },
  {
   "cell_type": "code",
   "execution_count": 163,
   "metadata": {
    "hidden": true
   },
   "outputs": [
    {
     "data": {
      "text/plain": [
       "array([[1, 0, 0],\n",
       "       [0, 2, 0],\n",
       "       [0, 0, 4]])"
      ]
     },
     "execution_count": 163,
     "metadata": {},
     "output_type": "execute_result"
    }
   ],
   "source": [
    "A = np.diag([1,2,4])\n",
    "A"
   ]
  },
  {
   "cell_type": "code",
   "execution_count": 164,
   "metadata": {
    "hidden": true
   },
   "outputs": [
    {
     "data": {
      "text/plain": [
       "array([[1.  , 0.  , 0.  ],\n",
       "       [0.  , 0.5 , 0.  ],\n",
       "       [0.  , 0.  , 0.25]])"
      ]
     },
     "execution_count": 164,
     "metadata": {},
     "output_type": "execute_result"
    }
   ],
   "source": [
    "Ainv = np.linalg.inv(A)\n",
    "Ainv"
   ]
  },
  {
   "cell_type": "markdown",
   "metadata": {
    "heading_collapsed": true
   },
   "source": [
    "## 연습문제 2.4.3"
   ]
  },
  {
   "cell_type": "code",
   "execution_count": 176,
   "metadata": {
    "hidden": true
   },
   "outputs": [
    {
     "name": "stdout",
     "output_type": "stream",
     "text": [
      "[[0.5 0. ]\n",
      " [0.  1. ]]\n",
      "[[ 0.70710678  0.70710678]\n",
      " [-0.70710678  0.70710678]]\n",
      "[[ 0.72111026  0.72111026]\n",
      " [-0.56568542  0.84852814]]\n",
      "[[ 0. -1.  1.]\n",
      " [ 1.  1. -1.]\n",
      " [-1.  0.  1.]]\n"
     ]
    }
   ],
   "source": [
    "import math\n",
    "# 1\n",
    "A = np.diag([2,1])\n",
    "print(np.linalg.inv(A))\n",
    "# 2\n",
    "A = np.array([[1/math.sqrt(2), -1/math.sqrt(2)],[1/math.sqrt(2),1/math.sqrt(2)]])\n",
    "print(np.linalg.inv(A))\n",
    "# 3\n",
    "A = np.array([[3/math.sqrt(13), -1/math.sqrt(2)],[2/math.sqrt(13),1/math.sqrt(2)]])\n",
    "print(np.linalg.inv(A))\n",
    "# 2\n",
    "A = np.array([[1,1,0],[0,1,1],[1,1,1]])\n",
    "print(np.linalg.inv(A))"
   ]
  },
  {
   "cell_type": "markdown",
   "metadata": {
    "heading_collapsed": true
   },
   "source": [
    "## 연습문제 2.4.4"
   ]
  },
  {
   "cell_type": "markdown",
   "metadata": {
    "hidden": true
   },
   "source": [
    "AB = I라는 이야기는 A와 B의 관계가 역행렬 관계라는 이야기이다. 따라서 AB=I이면 BA=I이다."
   ]
  },
  {
   "cell_type": "markdown",
   "metadata": {
    "heading_collapsed": true
   },
   "source": [
    "## 연습문제 2.4.5"
   ]
  },
  {
   "cell_type": "code",
   "execution_count": 177,
   "metadata": {
    "hidden": true
   },
   "outputs": [
    {
     "name": "stdout",
     "output_type": "stream",
     "text": [
      "가중치 [-3.12710043e+02 -1.15193942e+02  1.44996465e+01 -1.13259317e-01]\n"
     ]
    }
   ],
   "source": [
    "from sklearn.datasets import load_boston\n",
    "import numpy as np\n",
    "\n",
    "boston = load_boston()\n",
    "X = boston.data\n",
    "y = boston.target\n",
    "A = X[:4, [0, 4, 5, 6]]  # 'CRIM', 'NOX', 'RM', 'AGE'\n",
    "b = y[:4]\n",
    "\n",
    "Ainv = np.linalg.inv(A)\n",
    "w = Ainv @ b\n",
    "print('가중치', w)\n",
    "\n",
    "# [-3.12710043e+02 -1.15193942e+02  1.44996465e+01 -1.13259317e-01]"
   ]
  },
  {
   "cell_type": "markdown",
   "metadata": {
    "heading_collapsed": true
   },
   "source": [
    "## 연습문제 2.4.6"
   ]
  },
  {
   "cell_type": "code",
   "execution_count": 184,
   "metadata": {
    "hidden": true
   },
   "outputs": [],
   "source": [
    "from sklearn.datasets import load_boston\n",
    "boston = load_boston()\n",
    "X = boston.data\n",
    "y = boston.target\n",
    "y = y.reshape(len(y),1)"
   ]
  },
  {
   "cell_type": "code",
   "execution_count": 179,
   "metadata": {
    "hidden": true
   },
   "outputs": [
    {
     "data": {
      "text/plain": [
       "array([[ 1.09231858e-04,  8.96511045e-05,  1.43390247e-04, ...,\n",
       "         9.92573160e-05,  9.76945713e-05,  9.00841038e-05],\n",
       "       [-4.72690165e-05, -1.21875540e-04, -1.63389620e-04, ...,\n",
       "         9.24841138e-05,  8.61893367e-05,  1.02954680e-04],\n",
       "       [-1.04927299e-03,  9.41663987e-05,  2.53311215e-04, ...,\n",
       "         1.16960096e-04,  1.09836326e-04,  9.11452898e-07],\n",
       "       ...,\n",
       "       [-5.61436625e-04, -2.96418946e-04, -4.00322073e-04, ...,\n",
       "         1.85404958e-03,  1.85182324e-03,  2.21824093e-03],\n",
       "       [ 3.37924487e-06,  1.47110306e-06, -4.60821286e-06, ...,\n",
       "        -1.20096147e-05, -1.20573000e-05, -6.30925747e-06],\n",
       "       [-3.79769286e-04, -1.98270828e-04, -3.32088952e-04, ...,\n",
       "        -7.97353922e-04, -7.65739790e-04, -7.77591904e-04]])"
      ]
     },
     "execution_count": 179,
     "metadata": {},
     "output_type": "execute_result"
    }
   ],
   "source": [
    "Apinv = np.linalg.inv(X.T@X)@X.T\n",
    "Apinv"
   ]
  },
  {
   "cell_type": "code",
   "execution_count": 186,
   "metadata": {
    "hidden": true
   },
   "outputs": [],
   "source": [
    "A_plus = Apinv@y"
   ]
  },
  {
   "cell_type": "code",
   "execution_count": 190,
   "metadata": {
    "hidden": true
   },
   "outputs": [
    {
     "data": {
      "text/plain": [
       "array([[29.09826353],\n",
       "       [24.50227548],\n",
       "       [31.22742641],\n",
       "       [29.7071035 ],\n",
       "       [29.56479572],\n",
       "       [25.29376224],\n",
       "       [21.53041161],\n",
       "       [19.10333426],\n",
       "       [11.09336136],\n",
       "       [18.25932202],\n",
       "       [19.33401835],\n",
       "       [20.4158837 ],\n",
       "       [19.66602494],\n",
       "       [20.66457506],\n",
       "       [20.52388857],\n",
       "       [20.11740519],\n",
       "       [21.53034318],\n",
       "       [18.36426279],\n",
       "       [15.75504665],\n",
       "       [18.82001911],\n",
       "       [13.36203016],\n",
       "       [18.82895424],\n",
       "       [17.8884165 ],\n",
       "       [15.26772521],\n",
       "       [17.18318797],\n",
       "       [13.81345441],\n",
       "       [16.64674785],\n",
       "       [16.1607536 ],\n",
       "       [21.87232168],\n",
       "       [23.39911229],\n",
       "       [12.92645767],\n",
       "       [19.27385466],\n",
       "       [10.60202091],\n",
       "       [15.02702479],\n",
       "       [14.86361453],\n",
       "       [22.55028082],\n",
       "       [21.02570495],\n",
       "       [22.07385902],\n",
       "       [22.30111817],\n",
       "       [31.18519291],\n",
       "       [34.74543406],\n",
       "       [28.28052928],\n",
       "       [24.25528702],\n",
       "       [23.99006396],\n",
       "       [21.95417691],\n",
       "       [20.13866996],\n",
       "       [19.11701871],\n",
       "       [17.61194914],\n",
       "       [ 8.68504015],\n",
       "       [16.00505355],\n",
       "       [20.25911735],\n",
       "       [22.68849416],\n",
       "       [27.11101246],\n",
       "       [22.75668484],\n",
       "       [17.51587049],\n",
       "       [33.2245068 ],\n",
       "       [25.77167394],\n",
       "       [32.47529239],\n",
       "       [22.47275348],\n",
       "       [21.0195614 ],\n",
       "       [17.82761193],\n",
       "       [18.56485243],\n",
       "       [24.75749316],\n",
       "       [24.84291605],\n",
       "       [26.09941816],\n",
       "       [28.66957205],\n",
       "       [23.27147714],\n",
       "       [20.36659581],\n",
       "       [16.49676624],\n",
       "       [20.04027551],\n",
       "       [24.84622694],\n",
       "       [20.64047538],\n",
       "       [23.35706938],\n",
       "       [23.38039078],\n",
       "       [24.5591566 ],\n",
       "       [23.03455912],\n",
       "       [21.81019079],\n",
       "       [22.06501956],\n",
       "       [20.7912079 ],\n",
       "       [20.7789    ],\n",
       "       [28.68326708],\n",
       "       [26.95206671],\n",
       "       [25.57836077],\n",
       "       [24.25056614],\n",
       "       [24.4344784 ],\n",
       "       [27.35240872],\n",
       "       [21.21703246],\n",
       "       [24.24428862],\n",
       "       [30.62614289],\n",
       "       [31.13314235],\n",
       "       [26.14698921],\n",
       "       [26.29440932],\n",
       "       [27.71768546],\n",
       "       [27.36053867],\n",
       "       [25.46703428],\n",
       "       [27.42613195],\n",
       "       [23.15428674],\n",
       "       [37.45009712],\n",
       "       [36.47804151],\n",
       "       [32.85772177],\n",
       "       [26.08071047],\n",
       "       [27.13145755],\n",
       "       [18.85298787],\n",
       "       [20.90598207],\n",
       "       [21.7916343 ],\n",
       "       [18.4712649 ],\n",
       "       [17.42526951],\n",
       "       [21.07215872],\n",
       "       [23.61250139],\n",
       "       [20.65647911],\n",
       "       [21.60678742],\n",
       "       [26.65569536],\n",
       "       [19.60280563],\n",
       "       [20.11083494],\n",
       "       [24.08497928],\n",
       "       [19.05664432],\n",
       "       [22.65598892],\n",
       "       [22.38755381],\n",
       "       [18.89302637],\n",
       "       [19.36119304],\n",
       "       [21.23102154],\n",
       "       [21.84938326],\n",
       "       [20.11812716],\n",
       "       [16.36862622],\n",
       "       [19.85342408],\n",
       "       [21.7851861 ],\n",
       "       [14.16313244],\n",
       "       [16.36861966],\n",
       "       [21.51438928],\n",
       "       [15.39538302],\n",
       "       [22.50976297],\n",
       "       [21.67831063],\n",
       "       [22.25947234],\n",
       "       [17.31924855],\n",
       "       [14.14582849],\n",
       "       [19.95241574],\n",
       "       [17.5981637 ],\n",
       "       [21.90602968],\n",
       "       [15.72126223],\n",
       "       [18.70191522],\n",
       "       [16.44368981],\n",
       "       [ 5.45729934],\n",
       "       [16.04506806],\n",
       "       [13.58344045],\n",
       "       [ 9.24146676],\n",
       "       [13.74719811],\n",
       "       [15.28521198],\n",
       "       [ 9.14271591],\n",
       "       [10.62091362],\n",
       "       [15.79912473],\n",
       "       [22.27675637],\n",
       "       [17.91749191],\n",
       "       [19.05917663],\n",
       "       [17.41307145],\n",
       "       [23.88054717],\n",
       "       [20.48950669],\n",
       "       [11.98876343],\n",
       "       [31.51452311],\n",
       "       [25.49358035],\n",
       "       [27.1023746 ],\n",
       "       [29.62281684],\n",
       "       [36.04093426],\n",
       "       [40.74180748],\n",
       "       [43.48153594],\n",
       "       [22.01455089],\n",
       "       [21.99320715],\n",
       "       [37.59004212],\n",
       "       [19.57494045],\n",
       "       [23.81010782],\n",
       "       [24.53700215],\n",
       "       [19.51696866],\n",
       "       [21.29168279],\n",
       "       [19.74630316],\n",
       "       [27.06867753],\n",
       "       [23.54185823],\n",
       "       [29.21852846],\n",
       "       [23.63209882],\n",
       "       [27.04746404],\n",
       "       [30.33262798],\n",
       "       [32.33570938],\n",
       "       [35.82371682],\n",
       "       [25.73904598],\n",
       "       [33.29885139],\n",
       "       [29.30545673],\n",
       "       [19.98437054],\n",
       "       [23.39861754],\n",
       "       [37.23905005],\n",
       "       [31.39871888],\n",
       "       [30.10637537],\n",
       "       [33.63189103],\n",
       "       [30.35192049],\n",
       "       [29.37955145],\n",
       "       [32.78239237],\n",
       "       [31.30677878],\n",
       "       [30.10298098],\n",
       "       [40.94539015],\n",
       "       [35.12696563],\n",
       "       [31.52042803],\n",
       "       [33.89212452],\n",
       "       [31.37484752],\n",
       "       [32.19278558],\n",
       "       [27.07811367],\n",
       "       [37.65069682],\n",
       "       [41.8589213 ],\n",
       "       [43.29668421],\n",
       "       [21.65901186],\n",
       "       [23.5410624 ],\n",
       "       [17.14048079],\n",
       "       [23.17654701],\n",
       "       [15.65862631],\n",
       "       [21.75851497],\n",
       "       [15.91088656],\n",
       "       [21.82517141],\n",
       "       [24.91015161],\n",
       "       [10.75111209],\n",
       "       [23.76635173],\n",
       "       [24.76058739],\n",
       "       [27.4533097 ],\n",
       "       [23.29422846],\n",
       "       [28.38855492],\n",
       "       [32.58954643],\n",
       "       [22.87988461],\n",
       "       [31.70797582],\n",
       "       [28.3520435 ],\n",
       "       [39.8058099 ],\n",
       "       [42.22355565],\n",
       "       [38.54424753],\n",
       "       [31.81771106],\n",
       "       [36.32832057],\n",
       "       [29.66926849],\n",
       "       [22.33460055],\n",
       "       [33.39209515],\n",
       "       [40.0240703 ],\n",
       "       [38.99502233],\n",
       "       [30.86351339],\n",
       "       [23.33130448],\n",
       "       [29.54120517],\n",
       "       [33.05997396],\n",
       "       [27.202235  ],\n",
       "       [27.41470385],\n",
       "       [27.35027365],\n",
       "       [22.14365774],\n",
       "       [23.27962039],\n",
       "       [26.35219175],\n",
       "       [15.6429355 ],\n",
       "       [13.52809501],\n",
       "       [20.54261567],\n",
       "       [20.31199775],\n",
       "       [22.22366725],\n",
       "       [25.65636845],\n",
       "       [25.05325167],\n",
       "       [25.46104842],\n",
       "       [27.26224441],\n",
       "       [35.09939227],\n",
       "       [23.70058811],\n",
       "       [21.33865082],\n",
       "       [37.48959577],\n",
       "       [45.22200196],\n",
       "       [35.69672442],\n",
       "       [33.17349209],\n",
       "       [34.25158301],\n",
       "       [36.95324508],\n",
       "       [42.53967743],\n",
       "       [34.21829092],\n",
       "       [34.92057941],\n",
       "       [24.38683734],\n",
       "       [30.77294016],\n",
       "       [41.51971795],\n",
       "       [38.15675403],\n",
       "       [24.58803309],\n",
       "       [21.21139487],\n",
       "       [26.47956686],\n",
       "       [27.93423964],\n",
       "       [37.64501809],\n",
       "       [35.20507409],\n",
       "       [32.88977267],\n",
       "       [36.25060994],\n",
       "       [34.57209344],\n",
       "       [29.13415355],\n",
       "       [32.72717776],\n",
       "       [38.2197006 ],\n",
       "       [32.56237366],\n",
       "       [39.80016931],\n",
       "       [44.7273731 ],\n",
       "       [32.12261837],\n",
       "       [26.30769204],\n",
       "       [21.16196318],\n",
       "       [25.57121996],\n",
       "       [25.90348416],\n",
       "       [26.38034238],\n",
       "       [33.59173879],\n",
       "       [35.19474846],\n",
       "       [31.68460656],\n",
       "       [23.57905111],\n",
       "       [21.94817975],\n",
       "       [27.2671789 ],\n",
       "       [25.83818233],\n",
       "       [17.47403928],\n",
       "       [27.24151369],\n",
       "       [31.58730031],\n",
       "       [30.04240003],\n",
       "       [27.57671995],\n",
       "       [27.33272783],\n",
       "       [31.91191877],\n",
       "       [33.82049698],\n",
       "       [29.81559261],\n",
       "       [35.81877487],\n",
       "       [31.92566812],\n",
       "       [28.51193178],\n",
       "       [22.57492959],\n",
       "       [15.49379798],\n",
       "       [25.71546034],\n",
       "       [22.31823076],\n",
       "       [24.94491212],\n",
       "       [25.81827184],\n",
       "       [19.54351199],\n",
       "       [17.75597022],\n",
       "       [18.1191628 ],\n",
       "       [24.47546803],\n",
       "       [21.50897702],\n",
       "       [25.24772269],\n",
       "       [25.07285749],\n",
       "       [22.58261923],\n",
       "       [18.66954333],\n",
       "       [25.52968065],\n",
       "       [25.53507201],\n",
       "       [24.31857997],\n",
       "       [20.09498675],\n",
       "       [19.77577762],\n",
       "       [23.58189642],\n",
       "       [20.88870471],\n",
       "       [18.9927346 ],\n",
       "       [22.39935196],\n",
       "       [23.68013259],\n",
       "       [23.1928389 ],\n",
       "       [21.64877723],\n",
       "       [20.55283469],\n",
       "       [19.89128626],\n",
       "       [22.67613427],\n",
       "       [21.67580813],\n",
       "       [21.6665308 ],\n",
       "       [31.20282452],\n",
       "       [22.95235247],\n",
       "       [28.41012355],\n",
       "       [29.89716992],\n",
       "       [17.44677851],\n",
       "       [15.52430093],\n",
       "       [26.6195449 ],\n",
       "       [28.39590474],\n",
       "       [25.73579957],\n",
       "       [23.06663522],\n",
       "       [22.98381792],\n",
       "       [18.3546131 ],\n",
       "       [27.36462505],\n",
       "       [17.13296908],\n",
       "       [19.69456663],\n",
       "       [22.03039994],\n",
       "       [25.27315949],\n",
       "       [24.20955735],\n",
       "       [21.01083237],\n",
       "       [24.41308997],\n",
       "       [20.77956313],\n",
       "       [17.78743224],\n",
       "       [21.18398383],\n",
       "       [43.01003248],\n",
       "       [ 8.60292832],\n",
       "       [13.39324449],\n",
       "       [ 3.90787728],\n",
       "       [19.27461242],\n",
       "       [32.01316323],\n",
       "       [34.62065925],\n",
       "       [23.66682423],\n",
       "       [24.5949721 ],\n",
       "       [ 5.56644646],\n",
       "       [-0.96903116],\n",
       "       [27.79459367],\n",
       "       [19.68067223],\n",
       "       [22.33282974],\n",
       "       [17.56604822],\n",
       "       [17.89282657],\n",
       "       [17.68252373],\n",
       "       [20.20291591],\n",
       "       [13.64456173],\n",
       "       [13.3068384 ],\n",
       "       [ 1.32635726],\n",
       "       [ 8.56255418],\n",
       "       [ 5.15275307],\n",
       "       [ 5.86490617],\n",
       "       [ 5.98888074],\n",
       "       [13.88501008],\n",
       "       [17.25213097],\n",
       "       [18.35646396],\n",
       "       [ 9.43064783],\n",
       "       [20.96888492],\n",
       "       [18.2191695 ],\n",
       "       [21.74346086],\n",
       "       [20.82083085],\n",
       "       [16.48824234],\n",
       "       [ 7.64127087],\n",
       "       [12.18161002],\n",
       "       [13.53716144],\n",
       "       [19.35118511],\n",
       "       [19.77530632],\n",
       "       [12.61050509],\n",
       "       [ 8.13164132],\n",
       "       [ 9.31031945],\n",
       "       [ 4.50378708],\n",
       "       [18.02710591],\n",
       "       [12.33105703],\n",
       "       [19.71262643],\n",
       "       [11.25403024],\n",
       "       [15.78208938],\n",
       "       [-2.28161944],\n",
       "       [ 8.55807952],\n",
       "       [-6.00631941],\n",
       "       [10.17671007],\n",
       "       [14.2673304 ],\n",
       "       [ 5.50414405],\n",
       "       [ 5.57747356],\n",
       "       [16.11262154],\n",
       "       [20.74080822],\n",
       "       [18.47172212],\n",
       "       [16.40500728],\n",
       "       [11.3823805 ],\n",
       "       [10.75110028],\n",
       "       [ 8.80316956],\n",
       "       [13.1106378 ],\n",
       "       [13.03349119],\n",
       "       [13.97553376],\n",
       "       [13.13964851],\n",
       "       [16.30813484],\n",
       "       [18.05840833],\n",
       "       [19.44555508],\n",
       "       [17.30298227],\n",
       "       [15.66003895],\n",
       "       [15.19678688],\n",
       "       [14.97116724],\n",
       "       [ 9.33822227],\n",
       "       [ 6.10708393],\n",
       "       [14.16510907],\n",
       "       [14.3240374 ],\n",
       "       [19.72378274],\n",
       "       [20.39502647],\n",
       "       [20.52360937],\n",
       "       [12.38853124],\n",
       "       [13.07430798],\n",
       "       [19.36415902],\n",
       "       [19.98230049],\n",
       "       [19.0683259 ],\n",
       "       [18.81541167],\n",
       "       [17.01466667],\n",
       "       [21.67501346],\n",
       "       [20.25496074],\n",
       "       [26.40570313],\n",
       "       [16.01856557],\n",
       "       [16.27198518],\n",
       "       [11.9056439 ],\n",
       "       [11.96103984],\n",
       "       [18.43883369],\n",
       "       [19.77696371],\n",
       "       [20.88498216],\n",
       "       [21.87036398],\n",
       "       [21.47897805],\n",
       "       [24.09752405],\n",
       "       [21.12178576],\n",
       "       [17.6032184 ],\n",
       "       [12.70048231],\n",
       "       [16.26989482],\n",
       "       [16.48933298],\n",
       "       [17.46760721],\n",
       "       [19.93113402],\n",
       "       [21.75302721],\n",
       "       [22.55306785],\n",
       "       [26.82574434],\n",
       "       [14.25940834],\n",
       "       [15.74949587],\n",
       "       [21.29441744],\n",
       "       [10.23726399],\n",
       "       [19.15635527],\n",
       "       [21.4140677 ],\n",
       "       [22.44867989],\n",
       "       [26.67820443],\n",
       "       [28.76488592],\n",
       "       [19.48077098],\n",
       "       [18.82602502],\n",
       "       [22.40372503],\n",
       "       [19.50020545],\n",
       "       [20.31839665],\n",
       "       [12.51262384],\n",
       "       [ 9.0740655 ],\n",
       "       [ 4.34700857],\n",
       "       [15.48435571],\n",
       "       [17.42703764],\n",
       "       [20.13834954],\n",
       "       [20.85185207],\n",
       "       [17.31694285],\n",
       "       [13.90629996],\n",
       "       [19.15960869],\n",
       "       [21.49430029],\n",
       "       [17.85724211],\n",
       "       [20.76513243],\n",
       "       [25.67070119],\n",
       "       [23.31694227],\n",
       "       [29.83435539],\n",
       "       [28.14770508],\n",
       "       [23.04231943]])"
      ]
     },
     "execution_count": 190,
     "metadata": {},
     "output_type": "execute_result"
    }
   ],
   "source": [
    "X @ A_plus"
   ]
  },
  {
   "cell_type": "code",
   "execution_count": 193,
   "metadata": {
    "hidden": true
   },
   "outputs": [],
   "source": [
    "x, resid, rank, s = np.linalg.lstsq(X, y, rcond=None)"
   ]
  },
  {
   "cell_type": "code",
   "execution_count": 195,
   "metadata": {
    "hidden": true
   },
   "outputs": [
    {
     "data": {
      "text/plain": [
       "(array([12228.04626104]), 12228.046261044006)"
      ]
     },
     "execution_count": 195,
     "metadata": {},
     "output_type": "execute_result"
    }
   ],
   "source": [
    "resid, np.linalg.norm(X @ x - y) ** 2"
   ]
  },
  {
   "cell_type": "code",
   "execution_count": 197,
   "metadata": {
    "hidden": true
   },
   "outputs": [
    {
     "data": {
      "text/plain": [
       "array([1.25851816e+04, 3.44597406e+03, 6.45757109e+02, 4.02050461e+02,\n",
       "       1.58964612e+02, 1.21502936e+02, 9.04652420e+01, 7.79311708e+01,\n",
       "       6.50828345e+01, 2.46251803e+01, 1.80945451e+01, 5.51505065e+00,\n",
       "       1.48096916e+00])"
      ]
     },
     "execution_count": 197,
     "metadata": {},
     "output_type": "execute_result"
    }
   ],
   "source": [
    "s"
   ]
  }
 ],
 "metadata": {
  "kernelspec": {
   "display_name": "Python 3",
   "language": "python",
   "name": "python3"
  },
  "language_info": {
   "codemirror_mode": {
    "name": "ipython",
    "version": 3
   },
   "file_extension": ".py",
   "mimetype": "text/x-python",
   "name": "python",
   "nbconvert_exporter": "python",
   "pygments_lexer": "ipython3",
   "version": "3.7.6"
  },
  "toc": {
   "base_numbering": 1,
   "nav_menu": {},
   "number_sections": true,
   "sideBar": true,
   "skip_h1_title": false,
   "title_cell": "Table of Contents",
   "title_sidebar": "Contents",
   "toc_cell": false,
   "toc_position": {},
   "toc_section_display": true,
   "toc_window_display": false
  }
 },
 "nbformat": 4,
 "nbformat_minor": 4
}
