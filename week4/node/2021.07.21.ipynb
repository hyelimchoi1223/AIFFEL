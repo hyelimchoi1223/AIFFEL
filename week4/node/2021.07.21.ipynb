{
 "cells": [
  {
   "cell_type": "markdown",
   "id": "behavioral-doctor",
   "metadata": {},
   "source": [
    "# 신경망 (Neural Network)"
   ]
  },
  {
   "cell_type": "markdown",
   "id": "higher-chrome",
   "metadata": {},
   "source": [
    "인간의 뇌의 뉴런을 본따서 머신러닝에 도입을 했고, 이것을 퍼셉트론(perceptron)이라 부르고, 이 퍼셉트론을 연결한 것을 인공신경망이라고 부른다."
   ]
  },
  {
   "cell_type": "markdown",
   "id": "steady-spirit",
   "metadata": {},
   "source": [
    "![image](https://user-images.githubusercontent.com/63278762/126730108-f33210f8-8d85-4486-84ff-899804ddeaf1.png)"
   ]
  },
  {
   "cell_type": "markdown",
   "id": "optional-weapon",
   "metadata": {},
   "source": [
    "위의 그림에서 처음에 들어가는 층을 입력층(input layer), 마지막 층을 출력층(output layer)라고 부른다.    \n",
    "중간에 있는 층은 은닉층(hidden layer)로 은닉층이 없으면 단층 퍼셉트론, 한개 이상 있으면 다층 퍼셉트론이라고 한다."
   ]
  },
  {
   "cell_type": "markdown",
   "id": "given-button",
   "metadata": {},
   "source": [
    "## Bias가 있는 이유"
   ]
  },
  {
   "cell_type": "markdown",
   "id": "economic-sugar",
   "metadata": {},
   "source": [
    "Bias(편향) 뉴런이 얼마나 쉽게 활성화되는지를 결정    \n",
    "https://stackoverflow.com/questions/2480650/what-is-the-role-of-the-bias-in-neural-networks"
   ]
  },
  {
   "cell_type": "markdown",
   "id": "european-prize",
   "metadata": {},
   "source": [
    "# 활성화 함수"
   ]
  },
  {
   "cell_type": "markdown",
   "id": "pointed-winning",
   "metadata": {},
   "source": [
    "활성화 함수는 보통 비선형 함수를 사용한다."
   ]
  },
  {
   "cell_type": "markdown",
   "id": "bridal-subdivision",
   "metadata": {},
   "source": [
    "### 1. Sigmoid"
   ]
  },
  {
   "cell_type": "markdown",
   "id": "manufactured-transcription",
   "metadata": {},
   "source": [
    "$$\\frac{1}{1+e^{-x}}$$"
   ]
  },
  {
   "cell_type": "code",
   "execution_count": 16,
   "id": "outdoor-harvest",
   "metadata": {},
   "outputs": [
    {
     "data": {
      "text/plain": [
       "[<matplotlib.lines.Line2D at 0x7f4d0a4491d0>]"
      ]
     },
     "execution_count": 16,
     "metadata": {},
     "output_type": "execute_result"
    },
    {
     "data": {
      "image/png": "[encoded data removed]",
      "text/plain": [
       "<Figure size 432x288 with 1 Axes>"
      ]
     },
     "metadata": {
      "needs_background": "light"
     },
     "output_type": "display_data"
    }
   ],
   "source": [
    "from matplotlib import pyplot as plt\n",
    "import seaborn as sns\n",
    "import numpy as np\n",
    "\n",
    "def sigmoid(x):\n",
    "    return 1/(1+np.exp(-x))\n",
    "\n",
    "z1 = sigmoid(np.arange(-10,10))\n",
    "\n",
    "plt.axvline(x=0, color='r')\n",
    "plt.plot(np.arange(-10, 10), z1)"
   ]
  },
  {
   "cell_type": "markdown",
   "id": "continent-maine",
   "metadata": {},
   "source": [
    "##### 단점\n",
    "1. vanishing gradient 현상이 발생한다.\n",
    "2. exp 함수 사용 시 비용이 크다.\n",
    "\n",
    "[vanishing gradient란?](https://brunch.co.kr/@chris-song/39)"
   ]
  },
  {
   "cell_type": "markdown",
   "id": "agreed-zoning",
   "metadata": {},
   "source": [
    "### 2. Tanh"
   ]
  },
  {
   "cell_type": "markdown",
   "id": "expanded-representation",
   "metadata": {},
   "source": [
    "$$\\frac{e^x-e^{-x}}{e^x+e^{-x}}$$"
   ]
  },
  {
   "cell_type": "code",
   "execution_count": 18,
   "id": "manufactured-tiger",
   "metadata": {},
   "outputs": [
    {
     "data": {
      "text/plain": [
       "[<matplotlib.lines.Line2D at 0x7f4d0a345150>]"
      ]
     },
     "execution_count": 18,
     "metadata": {},
     "output_type": "execute_result"
    },
    {
     "data": {
      "image/png": "[encoded data removed]",
      "text/plain": [
       "<Figure size 432x288 with 1 Axes>"
      ]
     },
     "metadata": {
      "needs_background": "light"
     },
     "output_type": "display_data"
    }
   ],
   "source": [
    "def tanh(x):\n",
    "    return (np.exp(x)-np.exp(-x))/(np.exp(x)+np.exp(-x))\n",
    "\n",
    "z1 = tanh(np.arange(-10,10))\n",
    "\n",
    "plt.axvline(x=0, color='r')\n",
    "plt.axhline(y=0, color='r')\n",
    "plt.plot(np.arange(-10, 10), z1)"
   ]
  },
  {
   "cell_type": "markdown",
   "id": "straight-dividend",
   "metadata": {},
   "source": [
    "* sigmoid의 중심 축을 0,0으로 옮겨 최적화 과정이 느려지는 것을 해결\n",
    "* vanishing gradient 문제 존재"
   ]
  },
  {
   "cell_type": "markdown",
   "id": "behavioral-dryer",
   "metadata": {},
   "source": [
    "### 3. ReLU"
   ]
  },
  {
   "cell_type": "markdown",
   "id": "other-accommodation",
   "metadata": {},
   "source": [
    "$$max(0,x)$$"
   ]
  },
  {
   "cell_type": "code",
   "execution_count": 26,
   "id": "dominant-mercy",
   "metadata": {},
   "outputs": [
    {
     "data": {
      "text/plain": [
       "[<matplotlib.lines.Line2D at 0x7f4d09e87b50>]"
      ]
     },
     "execution_count": 26,
     "metadata": {},
     "output_type": "execute_result"
    },
    {
     "data": {
      "image/png": "[encoded data removed]",
      "text/plain": [
       "<Figure size 432x288 with 1 Axes>"
      ]
     },
     "metadata": {
      "needs_background": "light"
     },
     "output_type": "display_data"
    }
   ],
   "source": [
    "def relu(x):\n",
    "    if x>0:\n",
    "        return x\n",
    "    else:\n",
    "        return 0\n",
    "    \n",
    "z1 = [relu(x) for x in np.arange(-10,10)]\n",
    "\n",
    "plt.axvline(x=0, color='r')\n",
    "plt.axhline(y=0, color='r')\n",
    "plt.plot(np.arange(-10, 10), z1)"
   ]
  },
  {
   "cell_type": "markdown",
   "id": "broke-learning",
   "metadata": {},
   "source": [
    "* 학습이 빠름\n",
    "* 연산 비용이 크지 않고, 구현이 매우 간단하다.    \n",
    "(cs231n에서 이미지 분류할 때 사용했던 알고리즘)"
   ]
  },
  {
   "cell_type": "markdown",
   "id": "persistent-packet",
   "metadata": {},
   "source": [
    "[활성화함수의 종류](https://reniew.github.io/12/)"
   ]
  },
  {
   "cell_type": "markdown",
   "id": "fabulous-longitude",
   "metadata": {},
   "source": [
    "# Loss 함수"
   ]
  },
  {
   "cell_type": "markdown",
   "id": "stylish-vegetarian",
   "metadata": {},
   "source": [
    "우리가 원하는 정보 사이의 차이를 줄이기 위해 파라미터를 조정하는 것이 딥러닝의 핵심이다.    \n",
    "이 차이를 구하는데 사용하는 함수가 **Loss함수=Cost함수**\n",
    "\n",
    "Loss함수는 gradient를 계산하는데 사용하고, gradient는 Neural Net의 가중치를 계산하기 위해서 사용된다.    \n",
    "\n",
    "[Loss 함수에 대해서](https://towardsdatascience.com/understanding-different-loss-functions-for-neural-networks-dd1ed0274718)"
   ]
  },
  {
   "cell_type": "markdown",
   "id": "planned-remedy",
   "metadata": {},
   "source": [
    "### 1. 평균 제곱 오차\n",
    "MSE : Mean Square Error\n",
    "$$\\frac{1}{n}\\sum_{i=1}^{n}(Y_i-\\hat{Y_i})^2$$"
   ]
  },
  {
   "cell_type": "markdown",
   "id": "severe-sierra",
   "metadata": {},
   "source": [
    "### 2. Cross Entropy\n",
    "두 확률분포 사이의 유사도가 클수록 작아지는 값.\n",
    "$$-\\sum_{i=1}^{n}t_ilogy_i$$"
   ]
  },
  {
   "cell_type": "code",
   "execution_count": 28,
   "id": "korean-browse",
   "metadata": {},
   "outputs": [
    {
     "name": "stderr",
     "output_type": "stream",
     "text": [
      "/opt/conda/lib/python3.7/site-packages/ipykernel_launcher.py:5: RuntimeWarning: divide by zero encountered in log\n",
      "  \"\"\"\n"
     ]
    },
    {
     "data": {
      "image/png": "[encoded data removed]",
      "text/plain": [
       "<Figure size 432x288 with 1 Axes>"
      ]
     },
     "metadata": {
      "needs_background": "light"
     },
     "output_type": "display_data"
    }
   ],
   "source": [
    "import numpy as np\n",
    "import matplotlib.pyplot as plt\n",
    " \n",
    "x = np.arange(0, 1, 0.01)\n",
    "y = np.log(x)\n",
    " \n",
    "plt.plot(x, y)\n",
    "plt.show()"
   ]
  },
  {
   "cell_type": "markdown",
   "id": "golden-edmonton",
   "metadata": {},
   "source": [
    "* x축이 정답일 확률\n",
    "* y축이 loss값*-1\n",
    "    - loss값에 -1을 곱하는 이유는 정답확률이 낮아질 때 무한히 값이 커지도록 하기 위해서\n",
    "    - 정답일 확률이 높을 수록 loss가 0이 된다."
   ]
  },
  {
   "cell_type": "markdown",
   "id": "treated-tolerance",
   "metadata": {},
   "source": [
    "# 경사하강법"
   ]
  },
  {
   "cell_type": "markdown",
   "id": "boring-rates",
   "metadata": {},
   "source": [
    "Loss 값을 줄이는게 우리의 목표!!\n",
    "\n",
    "각 단계(step)마다 기울기를 계산해 기울기가 가리키는 방향으로 이동하는 것.\n",
    "* step = learning rate\n",
    "    - 이때 step은 너무 커도 안되고 너무 작아도 안된다. (너무 크면 반대편으로 껑충 뛸 수도 있고, 너무 작으면 성능이 너무 느리다.)\n",
    "    - step이 너무 클 때 그래프를 벗어날 수도 있는데 이 문제를 overshooting이라고 한다.\n",
    "    - step이 너무 작을 경우 엄청나게 많은 시간이 소요된다.\n",
    "* 초기 가중치는 랜덤하게 지정해야 하는데 어느 위치로 지정해야 할까??\n",
    "    - https://reniew.github.io/13/"
   ]
  },
  {
   "cell_type": "markdown",
   "id": "based-anime",
   "metadata": {},
   "source": [
    "# 오차역전파법 (Backpropagation)"
   ]
  },
  {
   "cell_type": "markdown",
   "id": "animated-phone",
   "metadata": {},
   "source": [
    "![image](https://user-images.githubusercontent.com/63278762/126751643-cc906078-e394-402d-919c-12a0124b0976.png)"
   ]
  }
 ],
 "metadata": {
  "kernelspec": {
   "display_name": "Python 3",
   "language": "python",
   "name": "python3"
  },
  "language_info": {
   "codemirror_mode": {
    "name": "ipython",
    "version": 3
   },
   "file_extension": ".py",
   "mimetype": "text/x-python",
   "name": "python",
   "nbconvert_exporter": "python",
   "pygments_lexer": "ipython3",
   "version": "3.7.9"
  }
 },
 "nbformat": 4,
 "nbformat_minor": 5
}
