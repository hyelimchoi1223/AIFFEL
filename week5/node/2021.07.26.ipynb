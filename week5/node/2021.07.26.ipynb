{
 "cells": [
  {
   "cell_type": "markdown",
   "id": "above-interaction",
   "metadata": {},
   "source": [
    "# 비지도학습"
   ]
  },
  {
   "cell_type": "markdown",
   "id": "pretty-gibraltar",
   "metadata": {},
   "source": [
    "* 비지도학습(Unsupervised Learning)이란?    \n",
    "    정답지인 라벨 없는 데이터를 학습하는 것을 의미한다.\n",
    "* 비지도학습의 종류\n",
    "    - 군집화(clustering)\n",
    "    - 차원축소(dimensionality reduction)"
   ]
  },
  {
   "cell_type": "markdown",
   "id": "hybrid-confusion",
   "metadata": {},
   "source": [
    "## Clustering"
   ]
  },
  {
   "cell_type": "markdown",
   "id": "unsigned-oasis",
   "metadata": {},
   "source": [
    "### K-means\n",
    "k개의 클러스터로 묶는다. 임의의 k가 label의 역할을 한다."
   ]
  },
  {
   "cell_type": "markdown",
   "id": "coupled-bookmark",
   "metadata": {},
   "source": [
    "## DBSCAN"
   ]
  },
  {
   "cell_type": "markdown",
   "id": "related-vision",
   "metadata": {},
   "source": [
    "## Dimensionality reduction"
   ]
  },
  {
   "cell_type": "code",
   "execution_count": null,
   "id": "silent-friday",
   "metadata": {},
   "outputs": [],
   "source": []
  }
 ],
 "metadata": {
  "kernelspec": {
   "display_name": "Python 3",
   "language": "python",
   "name": "python3"
  },
  "language_info": {
   "codemirror_mode": {
    "name": "ipython",
    "version": 3
   },
   "file_extension": ".py",
   "mimetype": "text/x-python",
   "name": "python",
   "nbconvert_exporter": "python",
   "pygments_lexer": "ipython3",
   "version": "3.7.9"
  }
 },
 "nbformat": 4,
 "nbformat_minor": 5
}
