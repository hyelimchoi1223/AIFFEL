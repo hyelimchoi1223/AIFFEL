{
 "cells": [
  {
   "cell_type": "code",
   "execution_count": 1,
   "id": "necessary-chase",
   "metadata": {},
   "outputs": [],
   "source": [
    "import numpy as np\n",
    "import tensorflow as tf\n",
    "from tensorflow import keras"
   ]
  },
  {
   "cell_type": "markdown",
   "id": "transparent-entry",
   "metadata": {},
   "source": [
    "# MINIST 데이터를 가지고 모델 만들기"
   ]
  },
  {
   "cell_type": "code",
   "execution_count": 2,
   "id": "composite-mixture",
   "metadata": {},
   "outputs": [
    {
     "name": "stdout",
     "output_type": "stream",
     "text": [
      "Downloading data from https://storage.googleapis.com/tensorflow/tf-keras-datasets/mnist.npz\n",
      "11493376/11490434 [==============================] - 0s 0us/step\n"
     ]
    },
    {
     "data": {
      "text/plain": [
       "((60000, 28, 28), (10000, 28, 28))"
      ]
     },
     "execution_count": 2,
     "metadata": {},
     "output_type": "execute_result"
    }
   ],
   "source": [
    "mnist = keras.datasets.mnist\n",
    "\n",
    "(X_train, y_train), (X_test, y_test) = mnist.load_data()\n",
    "\n",
    "# 픽셀은 0~255값을 가지므로 정규화를 시켜준다.\n",
    "X_train, X_test = X_train/255, X_test/255\n",
    "\n",
    "X_train.shape, X_test.shape"
   ]
  },
  {
   "cell_type": "code",
   "execution_count": 3,
   "id": "cardiovascular-humanity",
   "metadata": {},
   "outputs": [
    {
     "data": {
      "text/plain": [
       "((60000, 28, 28, 1), (10000, 28, 28, 1))"
      ]
     },
     "execution_count": 3,
     "metadata": {},
     "output_type": "execute_result"
    }
   ],
   "source": [
    "X_train = X_train[..., np.newaxis]\n",
    "X_test = X_test[..., np.newaxis]\n",
    "\n",
    "X_train.shape, X_test.shape"
   ]
  },
  {
   "cell_type": "markdown",
   "id": "spatial-jefferson",
   "metadata": {},
   "source": [
    "#### np.newaxis\n",
    "차원을 늘려준다.    \n",
    "\n",
    "https://azanewta.tistory.com/3"
   ]
  },
  {
   "cell_type": "markdown",
   "id": "employed-roller",
   "metadata": {},
   "source": [
    "### Sequential Model\n",
    "sequential model을 구성해보자."
   ]
  },
  {
   "cell_type": "code",
   "execution_count": 4,
   "id": "pressed-gnome",
   "metadata": {},
   "outputs": [
    {
     "name": "stdout",
     "output_type": "stream",
     "text": [
      "Object `keras.layer.Conv2D` not found.\n"
     ]
    }
   ],
   "source": [
    "??keras.layer.Conv2D"
   ]
  },
  {
   "cell_type": "code",
   "execution_count": 5,
   "id": "premier-jacob",
   "metadata": {},
   "outputs": [],
   "source": [
    "model = keras.models.Sequential([\n",
    "    keras.layers.Conv2D(32, 3, activation='relu', input_shape=(28, 28, 1)), # 32 채널, 커널크기 3\n",
    "    keras.layers.Conv2D(64, 3, activation='relu'),\n",
    "    keras.layers.Flatten(),\n",
    "    keras.layers.Dense(128, activation='relu'),\n",
    "    keras.layers.Dense(10, activation='softmax'),\n",
    "])"
   ]
  },
  {
   "cell_type": "markdown",
   "id": "minor-parliament",
   "metadata": {},
   "source": [
    "#### Conv2D\n",
    "https://www.tensorflow.org/api_docs/python/tf/keras/layers/Conv2D\n",
    "#### Flatten\n",
    "https://www.tensorflow.org/api_docs/python/tf/keras/layers/Flatten"
   ]
  },
  {
   "cell_type": "code",
   "execution_count": 6,
   "id": "varied-crisis",
   "metadata": {},
   "outputs": [
    {
     "name": "stdout",
     "output_type": "stream",
     "text": [
      "Epoch 1/5\n",
      "1875/1875 [==============================] - 17s 7ms/step - loss: 0.2095 - accuracy: 0.9368\n",
      "Epoch 2/5\n",
      "1875/1875 [==============================] - 14s 7ms/step - loss: 0.0340 - accuracy: 0.9900\n",
      "Epoch 3/5\n",
      "1875/1875 [==============================] - 14s 7ms/step - loss: 0.0178 - accuracy: 0.9938\n",
      "Epoch 4/5\n",
      "1875/1875 [==============================] - 14s 7ms/step - loss: 0.0103 - accuracy: 0.9965\n",
      "Epoch 5/5\n",
      "1875/1875 [==============================] - 14s 7ms/step - loss: 0.0069 - accuracy: 0.9979\n",
      "313/313 - 2s - loss: 0.0730 - accuracy: 0.9827\n"
     ]
    },
    {
     "data": {
      "text/plain": [
       "[0.07301543653011322, 0.982699990272522]"
      ]
     },
     "execution_count": 6,
     "metadata": {},
     "output_type": "execute_result"
    }
   ],
   "source": [
    "model.compile(optimizer='adam', loss='sparse_categorical_crossentropy', metrics=['accuracy'])\n",
    "model.fit(X_train, y_train, epochs=5)\n",
    "model.evaluate(X_test, y_test, verbose=2)"
   ]
  },
  {
   "cell_type": "code",
   "execution_count": 7,
   "id": "remarkable-congo",
   "metadata": {},
   "outputs": [
    {
     "name": "stdout",
     "output_type": "stream",
     "text": [
      "Model: \"sequential\"\n",
      "_________________________________________________________________\n",
      "Layer (type)                 Output Shape              Param #   \n",
      "=================================================================\n",
      "conv2d (Conv2D)              (None, 26, 26, 32)        320       \n",
      "_________________________________________________________________\n",
      "conv2d_1 (Conv2D)            (None, 24, 24, 64)        18496     \n",
      "_________________________________________________________________\n",
      "flatten (Flatten)            (None, 36864)             0         \n",
      "_________________________________________________________________\n",
      "dense (Dense)                (None, 128)               4718720   \n",
      "_________________________________________________________________\n",
      "dense_1 (Dense)              (None, 10)                1290      \n",
      "=================================================================\n",
      "Total params: 4,738,826\n",
      "Trainable params: 4,738,826\n",
      "Non-trainable params: 0\n",
      "_________________________________________________________________\n"
     ]
    }
   ],
   "source": [
    "model.summary()"
   ]
  },
  {
   "cell_type": "markdown",
   "id": "acoustic-coupon",
   "metadata": {},
   "source": [
    "https://www.tensorflow.org/guide/keras/sequential_model?hl=ko#sequential_%EB%AA%A8%EB%8D%B8%EC%9D%84_%EC%82%AC%EC%9A%A9%ED%95%98%EB%8A%94_%EA%B2%BD%EC%9A%B0     \n",
    "\n",
    "sequential 모델의 입력 형상을 알고 있는 경우 input_shape를 지정해주는 것이 좋다."
   ]
  },
  {
   "cell_type": "markdown",
   "id": "partial-sussex",
   "metadata": {},
   "source": [
    "### Functional"
   ]
  },
  {
   "cell_type": "code",
   "execution_count": 8,
   "id": "theoretical-framework",
   "metadata": {},
   "outputs": [],
   "source": [
    "inputs = keras.Input(shape=(28,28,1))\n",
    "x = keras.layers.Conv2D(32,3,activation='relu')(inputs)\n",
    "x = keras.layers.Conv2D(64,3,activation='relu')(x)\n",
    "x = keras.layers.Flatten()(x)\n",
    "x = keras.layers.Dense(128, activation='relu')(x)\n",
    "outputs = keras.layers.Dense(10, activation='relu')(x)\n",
    "model = keras.Model(inputs=inputs, outputs=outputs)"
   ]
  },
  {
   "cell_type": "code",
   "execution_count": 9,
   "id": "intelligent-agriculture",
   "metadata": {},
   "outputs": [
    {
     "name": "stdout",
     "output_type": "stream",
     "text": [
      "Model: \"model\"\n",
      "_________________________________________________________________\n",
      "Layer (type)                 Output Shape              Param #   \n",
      "=================================================================\n",
      "input_1 (InputLayer)         [(None, 28, 28, 1)]       0         \n",
      "_________________________________________________________________\n",
      "conv2d_2 (Conv2D)            (None, 26, 26, 32)        320       \n",
      "_________________________________________________________________\n",
      "conv2d_3 (Conv2D)            (None, 24, 24, 64)        18496     \n",
      "_________________________________________________________________\n",
      "flatten_1 (Flatten)          (None, 36864)             0         \n",
      "_________________________________________________________________\n",
      "dense_2 (Dense)              (None, 128)               4718720   \n",
      "_________________________________________________________________\n",
      "dense_3 (Dense)              (None, 10)                1290      \n",
      "=================================================================\n",
      "Total params: 4,738,826\n",
      "Trainable params: 4,738,826\n",
      "Non-trainable params: 0\n",
      "_________________________________________________________________\n"
     ]
    }
   ],
   "source": [
    "model.summary()"
   ]
  },
  {
   "cell_type": "code",
   "execution_count": 10,
   "id": "growing-material",
   "metadata": {},
   "outputs": [
    {
     "name": "stdout",
     "output_type": "stream",
     "text": [
      "Epoch 1/5\n",
      "1875/1875 [==============================] - 15s 8ms/step - loss: 2.6075 - accuracy: 0.1031\n",
      "Epoch 2/5\n",
      "1875/1875 [==============================] - 14s 8ms/step - loss: 2.3026 - accuracy: 0.0995\n",
      "Epoch 3/5\n",
      "1875/1875 [==============================] - 14s 8ms/step - loss: 2.3026 - accuracy: 0.0972\n",
      "Epoch 4/5\n",
      "1875/1875 [==============================] - 14s 8ms/step - loss: 2.3026 - accuracy: 0.0979\n",
      "Epoch 5/5\n",
      "1875/1875 [==============================] - 14s 8ms/step - loss: 2.3026 - accuracy: 0.0987\n",
      "313/313 - 1s - loss: 2.3026 - accuracy: 0.0980\n"
     ]
    },
    {
     "data": {
      "text/plain": [
       "[2.30259108543396, 0.09799999743700027]"
      ]
     },
     "execution_count": 10,
     "metadata": {},
     "output_type": "execute_result"
    }
   ],
   "source": [
    "model.compile(optimizer='adam', loss='sparse_categorical_crossentropy', metrics=['accuracy'])\n",
    "model.fit(X_train, y_train, epochs=5)\n",
    "model.evaluate(X_test, y_test, verbose=2)"
   ]
  },
  {
   "cell_type": "markdown",
   "id": "opening-string",
   "metadata": {},
   "source": [
    "### Subclassing"
   ]
  },
  {
   "cell_type": "code",
   "execution_count": 11,
   "id": "republican-pasta",
   "metadata": {},
   "outputs": [],
   "source": [
    "class MyModel(tf.keras.Model):\n",
    "    def __init__(self):\n",
    "        super(MyModel, self).__init__()\n",
    "        self.conv1 = keras.layers.Conv2D(32,3,activation='relu')\n",
    "        self.conv2 = keras.layers.Conv2D(64,3,activation='relu')\n",
    "        self.flatten = keras.layers.Flatten()\n",
    "        self.dense1 = keras.layers.Dense(128, activation='relu')\n",
    "        self.dense2 = keras.layers.Dense(10, activation='relu')\n",
    "        \n",
    "    def call(self, x):\n",
    "        x = self.conv1(x)\n",
    "        x = self.conv2(x)\n",
    "        x = self.flatten(x)\n",
    "        x = self.dense1(x)\n",
    "        x = self.dense2(x)\n",
    "        return x"
   ]
  },
  {
   "cell_type": "code",
   "execution_count": 12,
   "id": "scenic-tourist",
   "metadata": {},
   "outputs": [
    {
     "name": "stdout",
     "output_type": "stream",
     "text": [
      "Epoch 1/5\n",
      "1875/1875 [==============================] - 15s 8ms/step - loss: 2.4310 - accuracy: 0.1260\n",
      "Epoch 2/5\n",
      "1875/1875 [==============================] - 14s 8ms/step - loss: 2.3026 - accuracy: 0.1002\n",
      "Epoch 3/5\n",
      "1875/1875 [==============================] - 14s 8ms/step - loss: 2.3026 - accuracy: 0.0981\n",
      "Epoch 4/5\n",
      "1875/1875 [==============================] - 14s 8ms/step - loss: 2.3026 - accuracy: 0.1014\n",
      "Epoch 5/5\n",
      "1875/1875 [==============================] - 14s 8ms/step - loss: 2.3026 - accuracy: 0.0985\n",
      "313/313 - 1s - loss: 2.3026 - accuracy: 0.0980\n"
     ]
    },
    {
     "data": {
      "text/plain": [
       "[2.30259108543396, 0.09799999743700027]"
      ]
     },
     "execution_count": 12,
     "metadata": {},
     "output_type": "execute_result"
    }
   ],
   "source": [
    "model = MyModel()\n",
    "\n",
    "model.compile(optimizer='adam', loss='sparse_categorical_crossentropy', metrics=['accuracy'])\n",
    "model.fit(X_train, y_train, epochs=5)\n",
    "model.evaluate(X_test, y_test, verbose=2)"
   ]
  },
  {
   "cell_type": "markdown",
   "id": "international-saver",
   "metadata": {},
   "source": [
    "# CIFAR-100 으로 모델 만들기"
   ]
  },
  {
   "cell_type": "code",
   "execution_count": 13,
   "id": "aerial-energy",
   "metadata": {},
   "outputs": [
    {
     "data": {
      "text/plain": [
       "((50000, 32, 32, 3), (10000, 32, 32, 3))"
      ]
     },
     "execution_count": 13,
     "metadata": {},
     "output_type": "execute_result"
    }
   ],
   "source": [
    "cifar100 = keras.datasets.cifar100\n",
    "\n",
    "(X_train, y_train), (X_test, y_test) = cifar100.load_data()\n",
    "X_train, X_test = X_train/255.0, X_test/255.0\n",
    "X_train.shape, X_test.shape"
   ]
  },
  {
   "cell_type": "markdown",
   "id": "assigned-louisville",
   "metadata": {},
   "source": [
    "### Sequential Model\n",
    "sequential model을 구성해보자."
   ]
  },
  {
   "cell_type": "code",
   "execution_count": 14,
   "id": "compound-opposition",
   "metadata": {},
   "outputs": [],
   "source": [
    "model = keras.models.Sequential([\n",
    "    keras.layers.Conv2D(16, 3, activation='relu'),\n",
    "    keras.layers.MaxPool2D(pool_size=(2,2)),\n",
    "    keras.layers.Conv2D(32, 3, activation='relu'),\n",
    "    keras.layers.MaxPool2D(pool_size=(2,2)),\n",
    "    keras.layers.Flatten(),\n",
    "    keras.layers.Dense(256, activation='relu'),\n",
    "    keras.layers.Dense(100, activation='softmax')\n",
    "])"
   ]
  },
  {
   "cell_type": "code",
   "execution_count": 15,
   "id": "excited-rental",
   "metadata": {},
   "outputs": [
    {
     "name": "stdout",
     "output_type": "stream",
     "text": [
      "Epoch 1/5\n",
      "1563/1563 [==============================] - 9s 5ms/step - loss: 4.0261 - accuracy: 0.0905\n",
      "Epoch 2/5\n",
      "1563/1563 [==============================] - 5s 3ms/step - loss: 3.0417 - accuracy: 0.2596\n",
      "Epoch 3/5\n",
      "1563/1563 [==============================] - 5s 3ms/step - loss: 2.6800 - accuracy: 0.3298\n",
      "Epoch 4/5\n",
      "1563/1563 [==============================] - 5s 3ms/step - loss: 2.4488 - accuracy: 0.3750\n",
      "Epoch 5/5\n",
      "1563/1563 [==============================] - 5s 3ms/step - loss: 2.2764 - accuracy: 0.4068\n",
      "313/313 - 1s - loss: 2.5785 - accuracy: 0.3554\n"
     ]
    },
    {
     "data": {
      "text/plain": [
       "[2.5784811973571777, 0.3553999960422516]"
      ]
     },
     "execution_count": 15,
     "metadata": {},
     "output_type": "execute_result"
    }
   ],
   "source": [
    "model.compile(optimizer='adam', loss='sparse_categorical_crossentropy', metrics=['accuracy'])\n",
    "model.fit(X_train, y_train, epochs=5)\n",
    "model.evaluate(X_test, y_test, verbose=2)"
   ]
  },
  {
   "cell_type": "markdown",
   "id": "southeast-greensboro",
   "metadata": {},
   "source": [
    "### Functional"
   ]
  },
  {
   "cell_type": "code",
   "execution_count": 21,
   "id": "social-cooper",
   "metadata": {},
   "outputs": [],
   "source": [
    "inputs = keras.Input(shape=(32,32,3))\n",
    "x = keras.layers.Conv2D(16, 3, activation='relu')(inputs)\n",
    "x = keras.layers.MaxPool2D(pool_size=(2,2))(x)\n",
    "x = keras.layers.Conv2D(32, 3, activation='relu')(x)\n",
    "x = keras.layers.MaxPool2D(pool_size=(2,2))(x)\n",
    "x = keras.layers.Flatten()(x)\n",
    "x = keras.layers.Dense(256, activation='relu')(x)\n",
    "outputs = keras.layers.Dense(100, activation='softmax')(x)\n",
    "model = keras.Model(inputs = inputs, outputs = outputs)"
   ]
  },
  {
   "cell_type": "code",
   "execution_count": 22,
   "id": "corporate-junior",
   "metadata": {},
   "outputs": [
    {
     "name": "stdout",
     "output_type": "stream",
     "text": [
      "Epoch 1/5\n",
      "1563/1563 [==============================] - 5s 3ms/step - loss: 3.9912 - accuracy: 0.0987\n",
      "Epoch 2/5\n",
      "1563/1563 [==============================] - 5s 3ms/step - loss: 2.9925 - accuracy: 0.2671\n",
      "Epoch 3/5\n",
      "1563/1563 [==============================] - 5s 3ms/step - loss: 2.6529 - accuracy: 0.3320\n",
      "Epoch 4/5\n",
      "1563/1563 [==============================] - 5s 3ms/step - loss: 2.4071 - accuracy: 0.3874\n",
      "Epoch 5/5\n",
      "1563/1563 [==============================] - 5s 3ms/step - loss: 2.2082 - accuracy: 0.4291\n",
      "313/313 - 1s - loss: 2.5459 - accuracy: 0.3658\n"
     ]
    },
    {
     "data": {
      "text/plain": [
       "[2.545853614807129, 0.36579999327659607]"
      ]
     },
     "execution_count": 22,
     "metadata": {},
     "output_type": "execute_result"
    }
   ],
   "source": [
    "model.compile(optimizer='adam', loss='sparse_categorical_crossentropy', metrics=['accuracy'])\n",
    "model.fit(X_train, y_train, epochs=5)\n",
    "model.evaluate(X_test, y_test, verbose=2)"
   ]
  },
  {
   "cell_type": "markdown",
   "id": "apart-banner",
   "metadata": {},
   "source": [
    "### Subclassing"
   ]
  },
  {
   "cell_type": "code",
   "execution_count": 23,
   "id": "forty-saudi",
   "metadata": {},
   "outputs": [],
   "source": [
    "class MyModel(tf.keras.Model):\n",
    "    def __init__(self):\n",
    "        super(MyModel, self).__init__()\n",
    "        self.conv1 = keras.layers.Conv2D(16, 3, activation='relu')\n",
    "        self.maxpool1 = keras.layers.MaxPool2D((2,2))\n",
    "        self.conv2 = keras.layers.Conv2D(32, 3, activation='relu')\n",
    "        self.maxpool2 = keras.layers.MaxPool2D((2,2))\n",
    "        self.flatten = keras.layers.Flatten()\n",
    "        self.dense1 = keras.layers.Dense(256, activation='relu')\n",
    "        self.dense2 = keras.layers.Dense(100, activation='softmax')\n",
    "    \n",
    "    def call(self, x):\n",
    "        x = self.conv1(x)\n",
    "        x = self.maxpool1(x)\n",
    "        x = self.conv2(x)\n",
    "        x = self.maxpool2(x)\n",
    "        x = self.flatten(x)\n",
    "        x = self.dense1(x)\n",
    "        x = self.dense2(x)\n",
    "        return x"
   ]
  },
  {
   "cell_type": "code",
   "execution_count": 24,
   "id": "designed-archives",
   "metadata": {},
   "outputs": [
    {
     "name": "stdout",
     "output_type": "stream",
     "text": [
      "Epoch 1/5\n",
      "1563/1563 [==============================] - 5s 3ms/step - loss: 4.0123 - accuracy: 0.0931\n",
      "Epoch 2/5\n",
      "1563/1563 [==============================] - 5s 3ms/step - loss: 3.0287 - accuracy: 0.2620\n",
      "Epoch 3/5\n",
      "1563/1563 [==============================] - 5s 3ms/step - loss: 2.6857 - accuracy: 0.3260\n",
      "Epoch 4/5\n",
      "1563/1563 [==============================] - 5s 3ms/step - loss: 2.4906 - accuracy: 0.3667\n",
      "Epoch 5/5\n",
      "1563/1563 [==============================] - 5s 3ms/step - loss: 2.3081 - accuracy: 0.4073\n",
      "313/313 - 1s - loss: 2.6542 - accuracy: 0.3418\n"
     ]
    },
    {
     "data": {
      "text/plain": [
       "[2.6542084217071533, 0.3418000042438507]"
      ]
     },
     "execution_count": 24,
     "metadata": {},
     "output_type": "execute_result"
    }
   ],
   "source": [
    "model = MyModel()\n",
    "\n",
    "model.compile(optimizer='adam', loss='sparse_categorical_crossentropy', metrics=['accuracy'])\n",
    "model.fit(X_train, y_train, epochs=5)\n",
    "model.evaluate(X_test, y_test, verbose=2)"
   ]
  },
  {
   "cell_type": "markdown",
   "id": "confidential-mistake",
   "metadata": {},
   "source": [
    "## GradientTape\n",
    "자동 미분을 하는 기능    \n",
    "동적으로 Gradient 값들을 확인해 볼 수 있다.    \n",
    "https://teddylee777.github.io/tensorflow/gradient-tape"
   ]
  },
  {
   "cell_type": "code",
   "execution_count": 31,
   "id": "entire-navigation",
   "metadata": {},
   "outputs": [],
   "source": [
    "# loss function 정의\n",
    "loss_func = tf.keras.losses.SparseCategoricalCrossentropy()\n",
    "# optimizer 정의\n",
    "optimizer = tf.keras.optimizers.Adam()\n",
    "\n",
    "def train_step(features, labels):\n",
    "    with tf.GradientTape() as tape:\n",
    "        # 1. 예측\n",
    "        predictions = model(features)\n",
    "        # 2. loss 계산\n",
    "        loss = loss_func(labels, predictions)\n",
    "        # 3. gradient 계산\n",
    "        gradients = tape.gradient(loss, model.trainable_variables)\n",
    "    \n",
    "    # 4. backpropagation = weight 업데이트\n",
    "    optimizer.apply_gradients(zip(gradients, model.trainable_variables))\n",
    "    return loss    "
   ]
  },
  {
   "cell_type": "code",
   "execution_count": 32,
   "id": "grateful-theology",
   "metadata": {},
   "outputs": [
    {
     "name": "stdout",
     "output_type": "stream",
     "text": [
      "epoch:0, last batch loss:4.5271\n",
      "epoch:1, last batch loss:1.6532\n",
      "epoch:2, last batch loss:0.0560\n",
      "epoch:3, last batch loss:1.2766\n",
      "epoch:4, last batch loss:2.3966\n",
      "end time:89.20607662200928\n"
     ]
    }
   ],
   "source": [
    "import time\n",
    "\n",
    "def train_model(batch_size=32):\n",
    "    start = time.time()\n",
    "    for epoch in range(5):\n",
    "        x_batch=[]\n",
    "        y_batch=[]\n",
    "        for step, (x,y) in enumerate(zip(X_train, y_train)):\n",
    "            if step % batch_size == batch_size-1:\n",
    "                x_batch.append(x)\n",
    "                y_batch.append(y)\n",
    "                loss = train_step(np.array(x_batch, dtype=np.float32), np.array(y_batch, dtype=np.float32))\n",
    "                x_batch = []\n",
    "                y_batch = []\n",
    "        print(f'epoch:{epoch}, last batch loss:{loss:.4f}')\n",
    "    print(f'end time:{time.time()-start}')\n",
    "\n",
    "train_model()"
   ]
  },
  {
   "cell_type": "code",
   "execution_count": 34,
   "id": "sophisticated-channel",
   "metadata": {},
   "outputs": [
    {
     "name": "stdout",
     "output_type": "stream",
     "text": [
      "1/1 [==============================] - 0s 136ms/step\n"
     ]
    },
    {
     "data": {
      "text/plain": [
       "0.1774"
      ]
     },
     "execution_count": 34,
     "metadata": {},
     "output_type": "execute_result"
    }
   ],
   "source": [
    "predict = model.predict(X_test, batch_size=X_test.shape[0], verbose=1)\n",
    "sum(np.squeeze(y_test) == np.argmax(predict, axis=1))/len(y_test)"
   ]
  },
  {
   "cell_type": "markdown",
   "id": "frequent-delay",
   "metadata": {},
   "source": [
    "#### np.squeeze??\n",
    "차원 축소하는 함수\n",
    "np.squeeze(배열, 축) : 지정된 축의 차원을 축소하는데 축을 입력하지 않으면 1차원으로 축소됨."
   ]
  }
 ],
 "metadata": {
  "kernelspec": {
   "display_name": "Python 3",
   "language": "python",
   "name": "python3"
  },
  "language_info": {
   "codemirror_mode": {
    "name": "ipython",
    "version": 3
   },
   "file_extension": ".py",
   "mimetype": "text/x-python",
   "name": "python",
   "nbconvert_exporter": "python",
   "pygments_lexer": "ipython3",
   "version": "3.7.9"
  }
 },
 "nbformat": 4,
 "nbformat_minor": 5
}
