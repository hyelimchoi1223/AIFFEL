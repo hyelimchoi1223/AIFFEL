{
 "cells": [
  {
   "cell_type": "markdown",
   "id": "literary-catalyst",
   "metadata": {},
   "source": [
    "## Scale Up vs Scale Out\n",
    "* Scale Up : 한 대의 컴퓨터 성능을 최적화\n",
    "* Scale Out : 여러대의 컴퓨터를 한 대처럼 사용\n",
    "    로드 밸런싱을 구현해서 병목현상을 줄여야 한다."
   ]
  },
  {
   "cell_type": "markdown",
   "id": "harmful-shift",
   "metadata": {},
   "source": [
    "### 스레드 생성"
   ]
  },
  {
   "cell_type": "code",
   "execution_count": 1,
   "id": "behind-mobility",
   "metadata": {},
   "outputs": [
    {
     "name": "stdout",
     "output_type": "stream",
     "text": [
      "<bound method Delivery.run of <__main__.Delivery object at 0x7f9248aa6c10>>\n",
      "<bound method Delivery.run of <Delivery(Thread-4, initial)>>\n"
     ]
    }
   ],
   "source": [
    "from threading import *\n",
    "\n",
    "class Delivery:\n",
    "    def run(self):\n",
    "        print('delivering')\n",
    "        \n",
    "work1 = Delivery()\n",
    "print(work1.run)\n",
    "\n",
    "class Delivery(Thread):\n",
    "    def run(self):\n",
    "        print('delivering')\n",
    "        \n",
    "work2 = Delivery()\n",
    "print(work2.run)"
   ]
  },
  {
   "cell_type": "markdown",
   "id": "premier-marker",
   "metadata": {},
   "source": [
    "할당된 쓰레드가 다르다."
   ]
  },
  {
   "cell_type": "code",
   "execution_count": 3,
   "id": "growing-harvest",
   "metadata": {},
   "outputs": [
    {
     "name": "stdout",
     "output_type": "stream",
     "text": [
      "do Overwork\n",
      "do Overwork\n",
      "do Overwork\n",
      "do Overwork\n",
      "do Overwork\n",
      "do Overwork\n",
      "do Overwork\n",
      "do Overwork\n",
      "do Overwork\n",
      "do Overwork\n",
      "do Overwork\n"
     ]
    }
   ],
   "source": [
    "# 쓰레드 생성하는 다른 방법\n",
    "from threading import *\n",
    "from time import sleep\n",
    "\n",
    "Stopped = False\n",
    "\n",
    "def worker(work, sleep_sec):\n",
    "    while not Stopped:\n",
    "        print('do', work)\n",
    "        sleep(sleep_sec)\n",
    "    print('retired...')\n",
    "\n",
    "t = Thread(target=worker, args=('Overwork', 3))\n",
    "t.start()"
   ]
  },
  {
   "cell_type": "code",
   "execution_count": 4,
   "id": "horizontal-plain",
   "metadata": {},
   "outputs": [
    {
     "name": "stdout",
     "output_type": "stream",
     "text": [
      "retired...\n",
      "worker is gone.\n"
     ]
    }
   ],
   "source": [
    "Stopped = True    # 일꾼 일 그만하라고 세팅해 줍시다. \n",
    "t.join()          # 일꾼 스레드가 종료할때까지 기다립니다. \n",
    "print('worker is gone.')"
   ]
  },
  {
   "cell_type": "markdown",
   "id": "generous-karma",
   "metadata": {},
   "source": [
    "### 프로세스 생성"
   ]
  },
  {
   "cell_type": "code",
   "execution_count": 7,
   "id": "tender-treat",
   "metadata": {},
   "outputs": [
    {
     "name": "stdout",
     "output_type": "stream",
     "text": [
      "delivering\n"
     ]
    }
   ],
   "source": [
    "import multiprocessing as mp\n",
    "\n",
    "def delivery():\n",
    "    print('delivering')\n",
    "\n",
    "p=mp.Process(target=delivery, args=())\n",
    "p = mp.Process(target=delivery, args=())\n",
    "p.start() # 프로세스 시작\n",
    "#p.join() # 실제 종료까지 기다림 (필요시에만 사용)\n"
   ]
  },
  {
   "cell_type": "code",
   "execution_count": 8,
   "id": "hourly-morris",
   "metadata": {},
   "outputs": [],
   "source": [
    "p.terminate() # 프로세스 종료"
   ]
  },
  {
   "cell_type": "markdown",
   "id": "harmful-playlist",
   "metadata": {},
   "source": [
    "### 스레드/프로세스 풀 사용하기\n",
    "##### 풀 만드는 방법\n",
    "1. Queue를 사용해서 직접 생성\n",
    "2. concurrent.futures 라이브러리의 ThreadPoolExecutor, ProcessPoolExecutor클래스를 이용"
   ]
  },
  {
   "cell_type": "code",
   "execution_count": 9,
   "id": "decreased-teacher",
   "metadata": {},
   "outputs": [
    {
     "name": "stdout",
     "output_type": "stream",
     "text": [
      "delivery\n"
     ]
    }
   ],
   "source": [
    "# concurrent.futures 사용\n",
    "from concurrent.futures import ThreadPoolExecutor\n",
    "\n",
    "class Delivery:\n",
    "    def run(self):\n",
    "        print('delivery')\n",
    "        \n",
    "w = Delivery()\n",
    "\n",
    "with ThreadPoolExecutor() as executor:\n",
    "    future = executor.submit(w.run)"
   ]
  },
  {
   "cell_type": "code",
   "execution_count": 10,
   "id": "static-tourism",
   "metadata": {},
   "outputs": [
    {
     "name": "stdout",
     "output_type": "stream",
     "text": [
      "pid:75pid:77pid:76pid:74pid:78\n",
      "\n",
      "\n",
      "\n",
      "\n",
      "[2, 4, 6, 8, 10]\n"
     ]
    }
   ],
   "source": [
    "# multiprocessing.Pool 사용\n",
    "from multiprocessing import Pool\n",
    "from os import getpid\n",
    "\n",
    "def double(i):\n",
    "    print(f'pid:{getpid()}')\n",
    "    return i*2\n",
    "\n",
    "with Pool() as pool:\n",
    "    result = pool.map(double, [1,2,3,4,5])\n",
    "    print(result)"
   ]
  },
  {
   "cell_type": "markdown",
   "id": "amino-bradford",
   "metadata": {},
   "source": [
    "## concurrent.futures\n",
    "#### Executor\n",
    "* ThreadPoolExecutor\n",
    "* ProcessPoolExecutor\n",
    "\n",
    "###### method\n",
    "1. submit\n",
    "2. map\n",
    "3. shutdown\n",
    "\n",
    "#### Futures"
   ]
  },
  {
   "cell_type": "code",
   "execution_count": 11,
   "id": "comfortable-poison",
   "metadata": {},
   "outputs": [
    {
     "name": "stdout",
     "output_type": "stream",
     "text": [
      "112272535095293 is prime: True\n",
      "112582705942171 is prime: True\n",
      "112272535095293 is prime: True\n",
      "115280095190773 is prime: True\n",
      "115797848077099 is prime: True\n",
      "1099726899285419 is prime: False\n"
     ]
    }
   ],
   "source": [
    "import math\n",
    "import concurrent\n",
    "\n",
    "# 소수인지 아닌지 판별하는 문제\n",
    "PRIMES = [\n",
    "    112272535095293,\n",
    "    112582705942171,\n",
    "    112272535095293,\n",
    "    115280095190773,\n",
    "    115797848077099,\n",
    "    1099726899285419]\n",
    "\n",
    "# 소수인지 아닌지 구하는 함수\n",
    "def is_prime(n):\n",
    "    if n < 2:\n",
    "        return False\n",
    "    if n == 2:\n",
    "        return True\n",
    "    if n % 2 == 0:\n",
    "        return False\n",
    "\n",
    "    sqrt_n = int(math.floor(math.sqrt(n)))\n",
    "    for i in range(3, sqrt_n + 1, 2):\n",
    "        if n % i == 0:\n",
    "            return False\n",
    "    return True\n",
    "\n",
    "def main():\n",
    "    with concurrent.futures.ProcessPoolExecutor() as executor:\n",
    "        for number, prime in zip(PRIMES, executor.map(is_prime, PRIMES)):\n",
    "            print('%d is prime: %s' % (number, prime))\n",
    "\n",
    "if __name__ == '__main__':\n",
    "    main()"
   ]
  },
  {
   "cell_type": "code",
   "execution_count": null,
   "id": "latin-jewelry",
   "metadata": {},
   "outputs": [],
   "source": []
  }
 ],
 "metadata": {
  "kernelspec": {
   "display_name": "Python 3",
   "language": "python",
   "name": "python3"
  },
  "language_info": {
   "codemirror_mode": {
    "name": "ipython",
    "version": 3
   },
   "file_extension": ".py",
   "mimetype": "text/x-python",
   "name": "python",
   "nbconvert_exporter": "python",
   "pygments_lexer": "ipython3",
   "version": "3.7.9"
  }
 },
 "nbformat": 4,
 "nbformat_minor": 5
}
