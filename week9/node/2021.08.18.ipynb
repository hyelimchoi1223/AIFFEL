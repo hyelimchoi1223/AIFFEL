{
 "cells": [
  {
   "cell_type": "markdown",
   "id": "transsexual-strike",
   "metadata": {},
   "source": [
    "# Likelihood(MLE와 MAP)\n",
    "## 머신러닝의 목표\n",
    "모델이 표현하는 확률 분포를 데이터의 실제 분포에 가깝게 만드는 최적의 파라미터 값을 찾는 것."
   ]
  },
  {
   "cell_type": "markdown",
   "id": "pregnant-ridge",
   "metadata": {},
   "source": [
    "## 베이지안 머신러닝 모델\n",
    "* 사전 확률(prior) : 데이터를 관찰하기 전 파라미터 공간에 주어진 확률 분포\n",
    "* 가능도(likelihood) : prior 분포를 고정시킨다면 주어진 파라미터 분포에 대해 우리가 갖고 있는 데이터가 얼마나 가깝게 추정할 수 있을지. likelihood가 높다는 것은 우리가 지정한 파라미터 ($\\theta$)에서 데이터가 관찰될 확률이 높다는 것이고, 데이터의 분포를 모델이 잘 표현하는 것이라고 생각할 수 있다. likelihood 값을 최대화하는 방향으로 모델을 학습시키는 방법을 최대 가능도 추정(MLE)라고 한다.\n",
    "* 사후 확률(posterior) : $p(\\theta|X)$ -> 데이터 집합 X가 주어졌을 때 파라미터 $\\theta$의 분포. \n",
    "* 최대 사후 확률 추정(MAP) : posterior를 직접 계산해서 최적의 $\\theta$값을 찾는 것이 아니라 prior과 likelihood에 관한 식으로 변형한 다음, 그 식을 최대화하는 파라미터 $\\theta$를 찾는다. 이런 방식으로 posterior을 최대화하는 방향으로 모델을 학습시키는 방법"
   ]
  },
  {
   "cell_type": "code",
   "execution_count": null,
   "id": "piano-domain",
   "metadata": {},
   "outputs": [],
   "source": []
  }
 ],
 "metadata": {
  "kernelspec": {
   "display_name": "Python 3",
   "language": "python",
   "name": "python3"
  },
  "language_info": {
   "codemirror_mode": {
    "name": "ipython",
    "version": 3
   },
   "file_extension": ".py",
   "mimetype": "text/x-python",
   "name": "python",
   "nbconvert_exporter": "python",
   "pygments_lexer": "ipython3",
   "version": "3.7.9"
  }
 },
 "nbformat": 4,
 "nbformat_minor": 5
}
