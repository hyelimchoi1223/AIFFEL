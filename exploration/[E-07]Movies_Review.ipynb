{
 "cells": [
  {
   "cell_type": "markdown",
   "id": "competitive-marriage",
   "metadata": {},
   "source": [
    "# 프로젝트: 네이버 영화리뷰 감성분석하기\n",
    "사용한 데이터셋:https://github.com/e9t/nsmc"
   ]
  },
  {
   "cell_type": "markdown",
   "id": "fifteen-metabolism",
   "metadata": {},
   "source": [
    "## Data Description\n",
    "#### columns\n",
    "* id: review id\n",
    "* document: 실제 리뷰\n",
    "* label: 리뷰의 감성 (0: 부정적, 1: 긍정적)\n",
    "\n",
    "#### 데이터 구성\n",
    "총 200,000개 리뷰로 구성\n",
    "* ratings.txt: All 200K reviews\n",
    "* ratings_test.txt: 50K reviews held out for testing\n",
    "* ratings_train.txt: 150K reviews for training"
   ]
  },
  {
   "cell_type": "markdown",
   "id": "comparable-terrorism",
   "metadata": {},
   "source": [
    "## Data and Module load"
   ]
  },
  {
   "cell_type": "code",
   "execution_count": 578,
   "id": "dynamic-branch",
   "metadata": {},
   "outputs": [
    {
     "data": {
      "text/html": [
       "<div>\n",
       "<style scoped>\n",
       "    .dataframe tbody tr th:only-of-type {\n",
       "        vertical-align: middle;\n",
       "    }\n",
       "\n",
       "    .dataframe tbody tr th {\n",
       "        vertical-align: top;\n",
       "    }\n",
       "\n",
       "    .dataframe thead th {\n",
       "        text-align: right;\n",
       "    }\n",
       "</style>\n",
       "<table border=\"1\" class=\"dataframe\">\n",
       "  <thead>\n",
       "    <tr style=\"text-align: right;\">\n",
       "      <th></th>\n",
       "      <th>id</th>\n",
       "      <th>document</th>\n",
       "      <th>label</th>\n",
       "    </tr>\n",
       "  </thead>\n",
       "  <tbody>\n",
       "    <tr>\n",
       "      <th>0</th>\n",
       "      <td>9976970</td>\n",
       "      <td>아 더빙.. 진짜 짜증나네요 목소리</td>\n",
       "      <td>0</td>\n",
       "    </tr>\n",
       "    <tr>\n",
       "      <th>1</th>\n",
       "      <td>3819312</td>\n",
       "      <td>흠...포스터보고 초딩영화줄....오버연기조차 가볍지 않구나</td>\n",
       "      <td>1</td>\n",
       "    </tr>\n",
       "    <tr>\n",
       "      <th>2</th>\n",
       "      <td>10265843</td>\n",
       "      <td>너무재밓었다그래서보는것을추천한다</td>\n",
       "      <td>0</td>\n",
       "    </tr>\n",
       "    <tr>\n",
       "      <th>3</th>\n",
       "      <td>9045019</td>\n",
       "      <td>교도소 이야기구먼 ..솔직히 재미는 없다..평점 조정</td>\n",
       "      <td>0</td>\n",
       "    </tr>\n",
       "    <tr>\n",
       "      <th>4</th>\n",
       "      <td>6483659</td>\n",
       "      <td>사이몬페그의 익살스런 연기가 돋보였던 영화!스파이더맨에서 늙어보이기만 했던 커스틴 ...</td>\n",
       "      <td>1</td>\n",
       "    </tr>\n",
       "  </tbody>\n",
       "</table>\n",
       "</div>"
      ],
      "text/plain": [
       "         id                                           document  label\n",
       "0   9976970                                아 더빙.. 진짜 짜증나네요 목소리      0\n",
       "1   3819312                  흠...포스터보고 초딩영화줄....오버연기조차 가볍지 않구나      1\n",
       "2  10265843                                  너무재밓었다그래서보는것을추천한다      0\n",
       "3   9045019                      교도소 이야기구먼 ..솔직히 재미는 없다..평점 조정      0\n",
       "4   6483659  사이몬페그의 익살스런 연기가 돋보였던 영화!스파이더맨에서 늙어보이기만 했던 커스틴 ...      1"
      ]
     },
     "execution_count": 578,
     "metadata": {},
     "output_type": "execute_result"
    }
   ],
   "source": [
    "import pandas as pd\n",
    "import urllib.request\n",
    "%matplotlib inline\n",
    "import matplotlib.pyplot as plt\n",
    "import re\n",
    "from konlpy.tag import Okt\n",
    "from tensorflow import keras\n",
    "from tensorflow.keras.preprocessing.text import Tokenizer\n",
    "import numpy as np\n",
    "from tensorflow.keras.preprocessing.sequence import pad_sequences\n",
    "from collections import Counter\n",
    "from konlpy.tag import Mecab\n",
    "import math\n",
    "import os\n",
    "\n",
    "\n",
    "# 데이터를 읽어봅시다. \n",
    "train_data = pd.read_table('~/aiffel/sentiment_classification/data/ratings_train.txt')\n",
    "test_data = pd.read_table('~/aiffel/sentiment_classification/data/ratings_test.txt')\n",
    "\n",
    "train_data.head()"
   ]
  },
  {
   "cell_type": "markdown",
   "id": "standing-madison",
   "metadata": {},
   "source": [
    "### Data loader"
   ]
  },
  {
   "cell_type": "code",
   "execution_count": 579,
   "id": "fabulous-pathology",
   "metadata": {},
   "outputs": [],
   "source": [
    "# 단어 인덱스 리스트 벡터로 변환\n",
    "def get_encoded_sentence(sentence, word_to_index):\n",
    "    return [word_to_index['<BOS>']]+[word_to_index[word] if word in word_to_index else word_to_index['<UNK>'] for word in sentence]\n",
    "\n",
    "def get_encoded_sentences(sentences, word_to_index):\n",
    "    return [get_encoded_sentence(sentence, word_to_index) for sentence in sentences]\n",
    "\n",
    "def get_decoded_sentence(encoded_sentence, index_to_word):\n",
    "    return ' '.join(index_to_word[index] if index in index_to_word else '<UNK>' for index in encoded_sentence[1:])\n",
    "\n",
    "def get_decoded_sentences(encoded_sentences, index_to_word):\n",
    "    return [get_decoded_sentence(encoded_sentence, index_to_word) for encoded_sentence in encoded_sentences]"
   ]
  },
  {
   "cell_type": "markdown",
   "id": "western-principal",
   "metadata": {},
   "source": [
    "stopwords는 RANKS NL에서 제공하는 Korean Stopwords를 활용했다.\n",
    "https://www.ranks.nl/stopwords/korean"
   ]
  },
  {
   "cell_type": "code",
   "execution_count": 580,
   "id": "advance-atlantic",
   "metadata": {},
   "outputs": [],
   "source": [
    "from konlpy.tag import Mecab\n",
    "import re\n",
    "tokenizer = Mecab()\n",
    "#stopwords = ['의','가','이','은','들','는','좀','잘','걍','과','도','를','으로','자','에','와','한','하다']\n",
    "stopwords = pd.read_csv('~/aiffel/sentiment_classification/data/Korean_Stopwords.txt').values.tolist()\n",
    "stopwords = [word for x in stopwords for word in x]\n",
    "\n",
    "def sentence_preprocessing(sentence_df):    \n",
    "    sentence_df = sentence_df.str.replace(\"([^\\u3131-\\u314e|\\u314f-\\u3163|\\uac00-\\ud7a3])\",\"\", regex = True)\n",
    "    sentence_df = sentence_df.str.replace(\"^ +\",\"\", regex = True)\n",
    "    sentence_df = sentence_df.str.replace(\"([\\u3131-\\u314e\\u314f-\\u3163]+)\",\"\", regex = True)\n",
    "    sentence_df.replace('', np.nan, inplace=True)\n",
    "    return sentence_df\n",
    "    \n",
    "def load_data(train_data, test_data, num_words=10000):    \n",
    "    # 데이터의 중복 제거\n",
    "    train_data.drop_duplicates(['document'], keep='first', inplace=True)\n",
    "    test_data.drop_duplicates(['document'], keep='first', inplace=True)\n",
    "    # 정규 표현식으로 데이터 전처리\n",
    "    train_data['document'] = sentence_preprocessing(train_data['document'])\n",
    "    test_data['document'] = sentence_preprocessing(test_data['document'])\n",
    "    # NaN 결측치 제거\n",
    "    train_data = train_data.dropna(how='any')\n",
    "    test_data = test_data.dropna(how='any')\n",
    "    # 한국어 토크나이저로 토큰화\n",
    "    X_train = []\n",
    "    for sentence in train_data['document']:\n",
    "        temp_X = tokenizer.morphs(sentence)\n",
    "        # 불용어(Stopwords) 제거\n",
    "        temp_X = [word for word in temp_X if not word in stopwords]\n",
    "        X_train.append(temp_X)    \n",
    "        \n",
    "    X_test = []\n",
    "    for sentence in test_data['document']:\n",
    "        temp_X = tokenizer.morphs(sentence)\n",
    "        # 불용어(Stopwords) 제거\n",
    "        temp_X = [word for word in temp_X if not word in stopwords]\n",
    "        X_test.append(temp_X)    \n",
    "    \n",
    "    # 사전word_to_index 구성\n",
    "    words = np.concatenate(X_train).tolist()\n",
    "    counter = Counter(words)\n",
    "    counter = counter.most_common(num_words-4)\n",
    "    vocab = ['<PAD>','<BOS>','<UNK>','<UNUSED>']+[key for key,_ in counter]\n",
    "    word_to_index = {word:index for index, word in enumerate(vocab)}\n",
    "    \n",
    "    # 텍스트 스트링을 사전 인덱스 스트링으로 변환\n",
    "    \n",
    "    def wordlist_to_indexlist(wordlist):        \n",
    "        indexlist = get_encoded_sentence(wordlist, word_to_index)    \n",
    "        return indexlist\n",
    "    \n",
    "    X_train = list(map(wordlist_to_indexlist, X_train))\n",
    "    X_test = list(map(wordlist_to_indexlist, X_test))\n",
    "    y_train = np.array(list(train_data['label']))\n",
    "    y_test = np.array(list(test_data['label']))\n",
    "    # X_train, y_train, X_test, y_test, word_to_index 리턴\n",
    "    return X_train, y_train, X_test, y_test, word_to_index"
   ]
  },
  {
   "cell_type": "markdown",
   "id": "direct-major",
   "metadata": {},
   "source": [
    "### 데이터 전처리"
   ]
  },
  {
   "cell_type": "code",
   "execution_count": 581,
   "id": "official-emission",
   "metadata": {},
   "outputs": [],
   "source": [
    "X_train, y_train, X_test, y_test, word_to_index = load_data(train_data, test_data)\n",
    "index_to_word = {index:word for word, index in word_to_index.items()}"
   ]
  },
  {
   "cell_type": "code",
   "execution_count": 582,
   "id": "chemical-mandate",
   "metadata": {},
   "outputs": [
    {
     "data": {
      "text/plain": [
       "{'<PAD>': 0,\n",
       " '<BOS>': 1,\n",
       " '<UNK>': 2,\n",
       " '<UNUSED>': 3,\n",
       " '는': 4,\n",
       " '영화': 5,\n",
       " '다': 6,\n",
       " '고': 7,\n",
       " '도': 8,\n",
       " '은': 9,\n",
       " '한': 10,\n",
       " '보': 11,\n",
       " '게': 12,\n",
       " '지': 13,\n",
       " '있': 14,\n",
       " '없': 15,\n",
       " '좋': 16,\n",
       " '었': 17,\n",
       " '는데': 18,\n",
       " '만': 19,\n",
       " '너무': 20,\n",
       " '봤': 21,\n",
       " '적': 22,\n",
       " '안': 23,\n",
       " '정말': 24,\n",
       " '음': 25,\n",
       " '네요': 26,\n",
       " '같': 27,\n",
       " '재밌': 28,\n",
       " '진짜': 29,\n",
       " '했': 30,\n",
       " '기': 31,\n",
       " '않': 32,\n",
       " '았': 33,\n",
       " '거': 34,\n",
       " '수': 35,\n",
       " '되': 36,\n",
       " '면': 37,\n",
       " '인': 38,\n",
       " '말': 39,\n",
       " '연기': 40,\n",
       " '점': 41,\n",
       " '잘': 42,\n",
       " '최고': 43,\n",
       " '평점': 44,\n",
       " '주': 45,\n",
       " '내': 46,\n",
       " '던': 47,\n",
       " '할': 48,\n",
       " '어요': 49,\n",
       " '겠': 50,\n",
       " '스토리': 51,\n",
       " '해': 52,\n",
       " '듯': 53,\n",
       " '드라마': 54,\n",
       " '생각': 55,\n",
       " '싶': 56,\n",
       " '사람': 57,\n",
       " '더': 58,\n",
       " '감동': 59,\n",
       " '배우': 60,\n",
       " '함': 61,\n",
       " '본': 62,\n",
       " '보다': 63,\n",
       " '만들': 64,\n",
       " '뭐': 65,\n",
       " '내용': 66,\n",
       " '알': 67,\n",
       " '감독': 68,\n",
       " '볼': 69,\n",
       " '라': 70,\n",
       " '그냥': 71,\n",
       " '재미있': 72,\n",
       " '지루': 73,\n",
       " '중': 74,\n",
       " '재미없': 75,\n",
       " '재미': 76,\n",
       " '였': 77,\n",
       " '잼': 78,\n",
       " '사랑': 79,\n",
       " '쓰레기': 80,\n",
       " '못': 81,\n",
       " '냐': 82,\n",
       " '라고': 83,\n",
       " '서': 84,\n",
       " '다시': 85,\n",
       " '니': 86,\n",
       " '면서': 87,\n",
       " '나오': 88,\n",
       " '작품': 89,\n",
       " '번': 90,\n",
       " '이거': 91,\n",
       " '해서': 92,\n",
       " '줄': 93,\n",
       " '끝': 94,\n",
       " '마지막': 95,\n",
       " '남': 96,\n",
       " '정도': 97,\n",
       " '건': 98,\n",
       " '액션': 99,\n",
       " '입니다': 100,\n",
       " '라는': 101,\n",
       " '기대': 102,\n",
       " '다는': 103,\n",
       " '이건': 104,\n",
       " '많': 105,\n",
       " '완전': 106,\n",
       " '처음': 107,\n",
       " '장면': 108,\n",
       " '임': 109,\n",
       " '으면': 110,\n",
       " '다가': 111,\n",
       " '지금': 112,\n",
       " '모르': 113,\n",
       " '성': 114,\n",
       " '이렇게': 115,\n",
       " '아깝': 116,\n",
       " '이게': 117,\n",
       " '이야기': 118,\n",
       " '돈': 119,\n",
       " '최악': 120,\n",
       " '된': 121,\n",
       " '느낌': 122,\n",
       " '님': 123,\n",
       " '봐도': 124,\n",
       " '시': 125,\n",
       " '다고': 126,\n",
       " '어서': 127,\n",
       " '개': 128,\n",
       " '인데': 129,\n",
       " '애': 130,\n",
       " '분': 131,\n",
       " '걸': 132,\n",
       " '이해': 133,\n",
       " '명작': 134,\n",
       " '는지': 135,\n",
       " '한국': 136,\n",
       " '여자': 137,\n",
       " '넘': 138,\n",
       " '역시': 139,\n",
       " '많이': 140,\n",
       " '합니다': 141,\n",
       " '별로': 142,\n",
       " '난': 143,\n",
       " '주인공': 144,\n",
       " '받': 145,\n",
       " '만든': 146,\n",
       " '이나': 147,\n",
       " '편': 148,\n",
       " '두': 149,\n",
       " '엔': 150,\n",
       " '전': 151,\n",
       " '재': 152,\n",
       " '괜찮': 153,\n",
       " '기억': 154,\n",
       " '길': 155,\n",
       " '때문': 156,\n",
       " '살': 157,\n",
       " '연출': 158,\n",
       " '한다': 159,\n",
       " '요': 160,\n",
       " '며': 161,\n",
       " '꼭': 162,\n",
       " '현실': 163,\n",
       " '랑': 164,\n",
       " '긴': 165,\n",
       " '남자': 166,\n",
       " '결말': 167,\n",
       " '전개': 168,\n",
       " '소재': 169,\n",
       " '죽': 170,\n",
       " '마음': 171,\n",
       " '데': 172,\n",
       " '세요': 173,\n",
       " '내내': 174,\n",
       " '대': 175,\n",
       " '아서': 176,\n",
       " '공포': 177,\n",
       " '씨': 178,\n",
       " '화': 179,\n",
       " '짜증': 180,\n",
       " '인생': 181,\n",
       " '뿐': 182,\n",
       " '가장': 183,\n",
       " '속': 184,\n",
       " '은데': 185,\n",
       " '필요': 186,\n",
       " '음악': 187,\n",
       " '아요': 188,\n",
       " '일본': 189,\n",
       " '짱': 190,\n",
       " '유치': 191,\n",
       " '낮': 192,\n",
       " '다니': 193,\n",
       " '수준': 194,\n",
       " '매력': 195,\n",
       " '인지': 196,\n",
       " '가슴': 197,\n",
       " '웃': 198,\n",
       " '맞': 199,\n",
       " '인간': 200,\n",
       " '원작': 201,\n",
       " '없이': 202,\n",
       " '높': 203,\n",
       " '굿': 204,\n",
       " '밋': 205,\n",
       " '반전': 206,\n",
       " '만드': 207,\n",
       " '눈물': 208,\n",
       " '보여': 209,\n",
       " '찍': 210,\n",
       " '준': 211,\n",
       " '인가': 212,\n",
       " '모든': 213,\n",
       " '코미디': 214,\n",
       " '별': 215,\n",
       " '처럼': 216,\n",
       " '아직': 217,\n",
       " '아닌': 218,\n",
       " '그런': 219,\n",
       " '자체': 220,\n",
       " '몰입': 221,\n",
       " '추천': 222,\n",
       " '쓰': 223,\n",
       " '노': 224,\n",
       " '스럽': 225,\n",
       " '대한': 226,\n",
       " '용': 227,\n",
       " '눈': 228,\n",
       " '란': 229,\n",
       " '울': 230,\n",
       " '실망': 231,\n",
       " '을까': 232,\n",
       " '신': 233,\n",
       " '대박': 234,\n",
       " '마': 235,\n",
       " '솔직히': 236,\n",
       " '캐릭터': 237,\n",
       " '급': 238,\n",
       " '는다': 239,\n",
       " '전혀': 240,\n",
       " '아주': 241,\n",
       " '가족': 242,\n",
       " '죠': 243,\n",
       " '여운': 244,\n",
       " '건지': 245,\n",
       " '나라': 246,\n",
       " '다면': 247,\n",
       " '될': 248,\n",
       " '뭔가': 249,\n",
       " '연기력': 250,\n",
       " '시리즈': 251,\n",
       " '근데': 252,\n",
       " '표현': 253,\n",
       " '모습': 254,\n",
       " '밖에': 255,\n",
       " '계속': 256,\n",
       " '극장': 257,\n",
       " '이랑': 258,\n",
       " '제목': 259,\n",
       " '이걸': 260,\n",
       " '비': 261,\n",
       " '공감': 262,\n",
       " '부분': 263,\n",
       " '기분': 264,\n",
       " '먹': 265,\n",
       " '대단': 266,\n",
       " '작가': 267,\n",
       " '후': 268,\n",
       " '대사': 269,\n",
       " '개봉': 270,\n",
       " '된다': 271,\n",
       " '아쉽': 272,\n",
       " '작': 273,\n",
       " '가지': 274,\n",
       " '바': 275,\n",
       " '해도': 276,\n",
       " '보이': 277,\n",
       " '보고': 278,\n",
       " '봐야': 279,\n",
       " '놓': 280,\n",
       " '그렇': 281,\n",
       " '타임': 282,\n",
       " '치': 283,\n",
       " '삶': 284,\n",
       " '진': 285,\n",
       " '웃기': 286,\n",
       " '잔잔': 287,\n",
       " '막장': 288,\n",
       " '진심': 289,\n",
       " '친구': 290,\n",
       " '이제': 291,\n",
       " '라도': 292,\n",
       " '영상': 293,\n",
       " '요즘': 294,\n",
       " '믿': 295,\n",
       " '스릴러': 296,\n",
       " '씬': 297,\n",
       " '싫': 298,\n",
       " '억지': 299,\n",
       " '나왔': 300,\n",
       " '개인': 301,\n",
       " '제대로': 302,\n",
       " '이유': 303,\n",
       " '긴장감': 304,\n",
       " '중간': 305,\n",
       " '부족': 306,\n",
       " '찾': 307,\n",
       " '아까운': 308,\n",
       " '만큼': 309,\n",
       " '물': 310,\n",
       " '점수': 311,\n",
       " '시작': 312,\n",
       " '라면': 313,\n",
       " '노래': 314,\n",
       " '한테': 315,\n",
       " '잇': 316,\n",
       " '특히': 317,\n",
       " '시대': 318,\n",
       " '려고': 319,\n",
       " '아름다운': 320,\n",
       " '니까': 321,\n",
       " '구나': 322,\n",
       " '나온': 323,\n",
       " '못하': 324,\n",
       " '당시': 325,\n",
       " '오랜만': 326,\n",
       " '무섭': 327,\n",
       " '팬': 328,\n",
       " '제일': 329,\n",
       " '세상': 330,\n",
       " '날': 331,\n",
       " '엔딩': 332,\n",
       " '절대': 333,\n",
       " '너무나': 334,\n",
       " '훌륭': 335,\n",
       " '따뜻': 336,\n",
       " '느끼': 337,\n",
       " '글': 338,\n",
       " '해야': 339,\n",
       " '봄': 340,\n",
       " '도대체': 341,\n",
       " '됨': 342,\n",
       " '마다': 343,\n",
       " '빼': 344,\n",
       " '어야': 345,\n",
       " '강추': 346,\n",
       " '던데': 347,\n",
       " '감': 348,\n",
       " '전쟁': 349,\n",
       " '답답': 350,\n",
       " '나름': 351,\n",
       " '감정': 352,\n",
       " '놈': 353,\n",
       " '흥미': 354,\n",
       " '미국': 355,\n",
       " '설정': 356,\n",
       " '어도': 357,\n",
       " '뻔': 358,\n",
       " '수작': 359,\n",
       " '행복': 360,\n",
       " '신선': 361,\n",
       " '시절': 362,\n",
       " '사실': 363,\n",
       " '드': 364,\n",
       " '관객': 365,\n",
       " '어이없': 366,\n",
       " '앞': 367,\n",
       " '욕': 368,\n",
       " '준다': 369,\n",
       " '배경': 370,\n",
       " '허접': 371,\n",
       " '초반': 372,\n",
       " '추억': 373,\n",
       " '만화': 374,\n",
       " '라니': 375,\n",
       " '엄청': 376,\n",
       " '슬프': 377,\n",
       " '캐스팅': 378,\n",
       " '형': 379,\n",
       " '질': 380,\n",
       " '멋있': 381,\n",
       " '의미': 382,\n",
       " '더라': 383,\n",
       " '시나리오': 384,\n",
       " '분위기': 385,\n",
       " '어색': 386,\n",
       " '답': 387,\n",
       " '멋진': 388,\n",
       " '웃음': 389,\n",
       " '힘들': 390,\n",
       " '정신': 391,\n",
       " '군': 392,\n",
       " '봐서': 393,\n",
       " '명': 394,\n",
       " '오늘': 395,\n",
       " '잊': 396,\n",
       " '엄마': 397,\n",
       " '스러운': 398,\n",
       " '위해': 399,\n",
       " '집': 400,\n",
       " '졸작': 401,\n",
       " '문제': 402,\n",
       " '뭔': 403,\n",
       " '소리': 404,\n",
       " '구성': 405,\n",
       " '머': 406,\n",
       " '역사': 407,\n",
       " '뭘': 408,\n",
       " '유쾌': 409,\n",
       " '소름': 410,\n",
       " '첨': 411,\n",
       " '낫': 412,\n",
       " '킬링': 413,\n",
       " '잡': 414,\n",
       " '아무리': 415,\n",
       " '완벽': 416,\n",
       " '애니메이션': 417,\n",
       " '러': 418,\n",
       " '포스터': 419,\n",
       " '코믹': 420,\n",
       " '제발': 421,\n",
       " '세': 422,\n",
       " '간': 423,\n",
       " '뻔한': 424,\n",
       " '버리': 425,\n",
       " '출연': 426,\n",
       " '미': 427,\n",
       " '진부': 428,\n",
       " '맘': 429,\n",
       " '후회': 430,\n",
       " '어릴': 431,\n",
       " '이딴': 432,\n",
       " '더니': 433,\n",
       " '나올': 434,\n",
       " '주연': 435,\n",
       " '갈수록': 436,\n",
       " '책': 437,\n",
       " '개연': 438,\n",
       " '됐': 439,\n",
       " '큰': 440,\n",
       " '반': 441,\n",
       " '평가': 442,\n",
       " '충격': 443,\n",
       " '나요': 444,\n",
       " '잔인': 445,\n",
       " '장난': 446,\n",
       " '이후': 447,\n",
       " '얘기': 448,\n",
       " '위한': 449,\n",
       " '매우': 450,\n",
       " '보단': 451,\n",
       " '예술': 452,\n",
       " '줬': 453,\n",
       " '아름답': 454,\n",
       " '읽': 455,\n",
       " '불': 456,\n",
       " '옛날': 457,\n",
       " '얼굴': 458,\n",
       " '꺼': 459,\n",
       " '꽤': 460,\n",
       " '영화관': 461,\n",
       " '시청': 462,\n",
       " '못한': 463,\n",
       " '순수': 464,\n",
       " '난다': 465,\n",
       " '든': 466,\n",
       " '티비': 467,\n",
       " '장르': 468,\n",
       " '점대': 469,\n",
       " '불쌍': 470,\n",
       " '으나': 471,\n",
       " '텐데': 472,\n",
       " '비디오': 473,\n",
       " '주제': 474,\n",
       " '이리': 475,\n",
       " '생각나': 476,\n",
       " '건가': 477,\n",
       " '시키': 478,\n",
       " '궁금': 479,\n",
       " '엇': 480,\n",
       " '다큐': 481,\n",
       " '다운': 482,\n",
       " '배': 483,\n",
       " '예전': 484,\n",
       " '낭비': 485,\n",
       " '겟': 486,\n",
       " '별점': 487,\n",
       " '감사': 488,\n",
       " '미친': 489,\n",
       " '머리': 490,\n",
       " '상황': 491,\n",
       " '그만': 492,\n",
       " '라서': 493,\n",
       " '그러': 494,\n",
       " '그렇게': 495,\n",
       " '진정': 496,\n",
       " '이쁘': 497,\n",
       " '집중': 498,\n",
       " '극': 499,\n",
       " '존나': 500,\n",
       " '케': 501,\n",
       " '아님': 502,\n",
       " '아무': 503,\n",
       " '그것': 504,\n",
       " '방송': 505,\n",
       " '스릴': 506,\n",
       " '소설': 507,\n",
       " '그대로': 508,\n",
       " '그나마': 509,\n",
       " '사회': 510,\n",
       " '뒤': 511,\n",
       " '짜리': 512,\n",
       " '로맨스': 513,\n",
       " '오래': 514,\n",
       " '깊': 515,\n",
       " '나와서': 516,\n",
       " '떨어지': 517,\n",
       " '힘': 518,\n",
       " '마세요': 519,\n",
       " '인상': 520,\n",
       " '본다': 521,\n",
       " '여주인공': 522,\n",
       " '만점': 523,\n",
       " '걸작': 524,\n",
       " '애니': 525,\n",
       " '꿈': 526,\n",
       " '크': 527,\n",
       " '났': 528,\n",
       " '전체': 529,\n",
       " '대체': 530,\n",
       " '점주': 531,\n",
       " '이름': 532,\n",
       " '나이': 533,\n",
       " '인물': 534,\n",
       " '에요': 535,\n",
       " '죽이': 536,\n",
       " '짓': 537,\n",
       " '엉성': 538,\n",
       " '류': 539,\n",
       " '는가': 540,\n",
       " '몰': 541,\n",
       " '세계': 542,\n",
       " '잘못': 543,\n",
       " '발연기': 544,\n",
       " '시즌': 545,\n",
       " '네이버': 546,\n",
       " '중국': 547,\n",
       " '비교': 548,\n",
       " '초딩': 549,\n",
       " '햇': 550,\n",
       " '왔': 551,\n",
       " '누가': 552,\n",
       " '느껴': 553,\n",
       " '식': 554,\n",
       " '까': 555,\n",
       " '대해': 556,\n",
       " '여배우': 557,\n",
       " '귀엽': 558,\n",
       " '비슷': 559,\n",
       " '려는': 560,\n",
       " '실화': 561,\n",
       " '구만': 562,\n",
       " '끝나': 563,\n",
       " '어렸': 564,\n",
       " '해라': 565,\n",
       " '쯤': 566,\n",
       " '순간': 567,\n",
       " '나가': 568,\n",
       " '첫': 569,\n",
       " '너무너무': 570,\n",
       " '학교': 571,\n",
       " '점점': 572,\n",
       " '꿀': 573,\n",
       " '어설픈': 574,\n",
       " '영상미': 575,\n",
       " '감성': 576,\n",
       " '가능': 577,\n",
       " '더럽': 578,\n",
       " '여주': 579,\n",
       " '느낄': 580,\n",
       " '아들': 581,\n",
       " '상': 582,\n",
       " '셨': 583,\n",
       " '무': 584,\n",
       " '교훈': 585,\n",
       " '멋지': 586,\n",
       " '평': 587,\n",
       " '화려': 588,\n",
       " '원': 589,\n",
       " '길래': 590,\n",
       " '돋': 591,\n",
       " '타': 592,\n",
       " '맨': 593,\n",
       " '맛': 594,\n",
       " '한번': 595,\n",
       " '한편': 596,\n",
       " '땜': 597,\n",
       " '끌': 598,\n",
       " '졸': 599,\n",
       " '입': 600,\n",
       " '티': 601,\n",
       " '지루함': 602,\n",
       " '갔': 603,\n",
       " '성룡': 604,\n",
       " '어린': 605,\n",
       " '건데': 606,\n",
       " '든다': 607,\n",
       " '판타지': 608,\n",
       " '막': 609,\n",
       " '딸': 610,\n",
       " '단': 611,\n",
       " '달': 612,\n",
       " '봤었': 613,\n",
       " '생': 614,\n",
       " '목소리': 615,\n",
       " '빨리': 616,\n",
       " '듣': 617,\n",
       " '다르': 618,\n",
       " '상당히': 619,\n",
       " '씩': 620,\n",
       " '질질': 621,\n",
       " '아까움': 622,\n",
       " '나온다': 623,\n",
       " '률': 624,\n",
       " '독특': 625,\n",
       " '대로': 626,\n",
       " '삼류': 627,\n",
       " '만나': 628,\n",
       " '아버지': 629,\n",
       " '똥': 630,\n",
       " '스타일': 631,\n",
       " '가치': 632,\n",
       " '저런': 633,\n",
       " '존재': 634,\n",
       " '여러': 635,\n",
       " '갑자기': 636,\n",
       " '넣': 637,\n",
       " '판': 638,\n",
       " '줄거리': 639,\n",
       " '어른': 640,\n",
       " '밑': 641,\n",
       " '의도': 642,\n",
       " '에선': 643,\n",
       " '허무': 644,\n",
       " '그녀': 645,\n",
       " '으면서': 646,\n",
       " '자연': 647,\n",
       " '예상': 648,\n",
       " '평론가': 649,\n",
       " '제작': 650,\n",
       " '화면': 651,\n",
       " '각본': 652,\n",
       " '잠': 653,\n",
       " '버린': 654,\n",
       " '이러': 655,\n",
       " '군요': 656,\n",
       " '비해': 657,\n",
       " '째': 658,\n",
       " '떠나': 659,\n",
       " '뻔하': 660,\n",
       " '성우': 661,\n",
       " '단순': 662,\n",
       " '평범': 663,\n",
       " '굉장히': 664,\n",
       " '중요': 665,\n",
       " '돼': 666,\n",
       " '복수': 667,\n",
       " '쉽': 668,\n",
       " '갖': 669,\n",
       " '슬픈': 670,\n",
       " '새로운': 671,\n",
       " '당': 672,\n",
       " '낸': 673,\n",
       " '요소': 674,\n",
       " '선택': 675,\n",
       " '담': 676,\n",
       " '불편': 677,\n",
       " '쓴': 678,\n",
       " '댓글': 679,\n",
       " '회': 680,\n",
       " '아빠': 681,\n",
       " '항상': 682,\n",
       " '거기': 683,\n",
       " '만족': 684,\n",
       " '한다는': 685,\n",
       " '연출력': 686,\n",
       " '피': 687,\n",
       " '버렸': 688,\n",
       " '예쁘': 689,\n",
       " '못했': 690,\n",
       " '탄탄': 691,\n",
       " '잃': 692,\n",
       " '굳': 693,\n",
       " '극장판': 694,\n",
       " '거나': 695,\n",
       " '나옴': 696,\n",
       " '관계': 697,\n",
       " '줌': 698,\n",
       " '롭': 699,\n",
       " '관람': 700,\n",
       " '아닌가': 701,\n",
       " '충분히': 702,\n",
       " '짧': 703,\n",
       " '전형': 704,\n",
       " '흥행': 705,\n",
       " '진행': 706,\n",
       " '한심': 707,\n",
       " '예요': 708,\n",
       " '에겐': 709,\n",
       " '도록': 710,\n",
       " '차': 711,\n",
       " '훈훈': 712,\n",
       " '자꾸': 713,\n",
       " '미안': 714,\n",
       " '려': 715,\n",
       " '편집': 716,\n",
       " '초': 717,\n",
       " '안타깝': 718,\n",
       " '그런지': 719,\n",
       " '자극': 720,\n",
       " '원래': 721,\n",
       " '위': 722,\n",
       " '화이팅': 723,\n",
       " '식상': 724,\n",
       " '게임': 725,\n",
       " '어쩔': 726,\n",
       " '똑같': 727,\n",
       " '따': 728,\n",
       " '사건': 729,\n",
       " '그게': 730,\n",
       " '법': 731,\n",
       " '설명': 732,\n",
       " '역대': 733,\n",
       " '아까워': 734,\n",
       " '뭔지': 735,\n",
       " '곳': 736,\n",
       " '어울리': 737,\n",
       " '멜': 738,\n",
       " '풀': 739,\n",
       " '잖아': 740,\n",
       " '귀신': 741,\n",
       " '아프': 742,\n",
       " '도저히': 743,\n",
       " '과거': 744,\n",
       " '고자': 745,\n",
       " '노력': 746,\n",
       " '상상': 747,\n",
       " '죽음': 748,\n",
       " '던가': 749,\n",
       " '몰랐': 750,\n",
       " '닿': 751,\n",
       " '좋아하': 752,\n",
       " '그래픽': 753,\n",
       " '취향': 754,\n",
       " '산': 755,\n",
       " '하고': 756,\n",
       " '속편': 757,\n",
       " '코메디': 758,\n",
       " '했었': 759,\n",
       " '미치': 760,\n",
       " '듬': 761,\n",
       " '소중': 762,\n",
       " '빙': 763,\n",
       " '됬': 764,\n",
       " '황당': 765,\n",
       " '구요': 766,\n",
       " '아무것': 767,\n",
       " '넘치': 768,\n",
       " '프로': 769,\n",
       " '프랑스': 770,\n",
       " '몸': 771,\n",
       " '헐': 772,\n",
       " '나쁘': 773,\n",
       " '진지': 774,\n",
       " '새끼': 775,\n",
       " '빠져': 776,\n",
       " '아쉬운': 777,\n",
       " '서로': 778,\n",
       " '심리': 779,\n",
       " '엄청난': 780,\n",
       " '무조건': 781,\n",
       " '참신': 782,\n",
       " '괜히': 783,\n",
       " '결혼': 784,\n",
       " '나쁜': 785,\n",
       " '심하': 786,\n",
       " '무서운': 787,\n",
       " '총': 788,\n",
       " '빠': 789,\n",
       " '전설': 790,\n",
       " '간다': 791,\n",
       " '특유': 792,\n",
       " '짱짱': 793,\n",
       " '예고편': 794,\n",
       " '끝내': 795,\n",
       " '빠지': 796,\n",
       " '더빙': 797,\n",
       " '이란': 798,\n",
       " '틀': 799,\n",
       " '는구나': 800,\n",
       " '홍콩': 801,\n",
       " '중반': 802,\n",
       " '연기자': 803,\n",
       " '무비': 804,\n",
       " '아도': 805,\n",
       " '존': 806,\n",
       " '망': 807,\n",
       " '짜': 808,\n",
       " '아저씨': 809,\n",
       " '병맛': 810,\n",
       " '숨': 811,\n",
       " '별개': 812,\n",
       " '간만에': 813,\n",
       " '후반부': 814,\n",
       " '루': 815,\n",
       " '바보': 816,\n",
       " '천재': 817,\n",
       " '희망': 818,\n",
       " '최근': 819,\n",
       " '소녀': 820,\n",
       " '느꼈': 821,\n",
       " '상영': 822,\n",
       " '촬영': 823,\n",
       " '억지로': 824,\n",
       " '유명': 825,\n",
       " '더욱': 826,\n",
       " '로서': 827,\n",
       " '으니': 828,\n",
       " '김': 829,\n",
       " '전편': 830,\n",
       " '힘든': 831,\n",
       " '조연': 832,\n",
       " '현재': 833,\n",
       " '스': 834,\n",
       " '표정': 835,\n",
       " '비추': 836,\n",
       " '멋': 837,\n",
       " '부모': 838,\n",
       " '이야': 839,\n",
       " '지난': 840,\n",
       " '손': 841,\n",
       " '로맨틱': 842,\n",
       " '진실': 843,\n",
       " '즐겁': 844,\n",
       " '던지': 845,\n",
       " '대작': 846,\n",
       " '부': 847,\n",
       " '우연히': 848,\n",
       " '쩔': 849,\n",
       " '메세지': 850,\n",
       " '그리': 851,\n",
       " '짐': 852,\n",
       " '최': 853,\n",
       " '아쉬움': 854,\n",
       " '어라': 855,\n",
       " '노출': 856,\n",
       " '묘사': 857,\n",
       " '프로그램': 858,\n",
       " '개그': 859,\n",
       " '여성': 860,\n",
       " '쳐': 861,\n",
       " '그림': 862,\n",
       " '순': 863,\n",
       " '네여': 864,\n",
       " '왠만': 865,\n",
       " '엉망': 866,\n",
       " '대한민국': 867,\n",
       " '나중': 868,\n",
       " '이미': 869,\n",
       " '마무리': 870,\n",
       " '살인': 871,\n",
       " '경찰': 872,\n",
       " '빨': 873,\n",
       " '동화': 874,\n",
       " '역': 875,\n",
       " '흥미진진': 876,\n",
       " '가볍': 877,\n",
       " '어설프': 878,\n",
       " '쩌': 879,\n",
       " '에로': 880,\n",
       " '오빠': 881,\n",
       " '발': 882,\n",
       " '일까': 883,\n",
       " '나와': 884,\n",
       " '유머': 885,\n",
       " '청춘': 886,\n",
       " '십': 887,\n",
       " '적당': 888,\n",
       " '허술': 889,\n",
       " '먼저': 890,\n",
       " '남기': 891,\n",
       " '역할': 892,\n",
       " '왠지': 893,\n",
       " '문화': 894,\n",
       " '전작': 895,\n",
       " '이하': 896,\n",
       " '그랬': 897,\n",
       " '전달': 898,\n",
       " '땐': 899,\n",
       " '멍청': 900,\n",
       " '그닥': 901,\n",
       " '계': 902,\n",
       " '왕': 903,\n",
       " '신기': 904,\n",
       " '사이': 905,\n",
       " '끄': 906,\n",
       " '능력': 907,\n",
       " '걸까': 908,\n",
       " '저질': 909,\n",
       " '열': 910,\n",
       " '환상': 911,\n",
       " '졸라': 912,\n",
       " '범죄': 913,\n",
       " '써': 914,\n",
       " '미래': 915,\n",
       " '로운': 916,\n",
       " '지나': 917,\n",
       " '놔': 918,\n",
       " '과정': 919,\n",
       " '딴': 920,\n",
       " '흠': 921,\n",
       " '온': 922,\n",
       " '행동': 923,\n",
       " '등장': 924,\n",
       " '셈': 925,\n",
       " '호러': 926,\n",
       " '별루': 927,\n",
       " '먹먹': 928,\n",
       " '다행': 929,\n",
       " '효과': 930,\n",
       " '리메이크': 931,\n",
       " '스런': 932,\n",
       " '슴': 933,\n",
       " '철학': 934,\n",
       " '엿': 935,\n",
       " '잊혀': 936,\n",
       " '분명': 937,\n",
       " '낚': 938,\n",
       " '되게': 939,\n",
       " '아닌데': 940,\n",
       " '후반': 941,\n",
       " '천': 942,\n",
       " '해피': 943,\n",
       " '외': 944,\n",
       " '대충': 945,\n",
       " '척': 946,\n",
       " '어렵': 947,\n",
       " '실제': 948,\n",
       " '군대': 949,\n",
       " '듯이': 950,\n",
       " '곤': 951,\n",
       " '깊이': 952,\n",
       " '위대': 953,\n",
       " '랄까': 954,\n",
       " '가끔': 955,\n",
       " '선생': 956,\n",
       " '마시': 957,\n",
       " '백': 958,\n",
       " '이영화': 959,\n",
       " '으며': 960,\n",
       " '카메라': 961,\n",
       " '생애': 962,\n",
       " '졌': 963,\n",
       " '관심': 964,\n",
       " '더군요': 965,\n",
       " '바람': 966,\n",
       " '손발': 967,\n",
       " '여서': 968,\n",
       " '아까': 969,\n",
       " '보여준': 970,\n",
       " '볼수록': 971,\n",
       " '거리': 972,\n",
       " '꼴': 973,\n",
       " '아닐까': 974,\n",
       " '디': 975,\n",
       " '박수': 976,\n",
       " '빵': 977,\n",
       " '장': 978,\n",
       " '범인': 979,\n",
       " '조': 980,\n",
       " '봅니다': 981,\n",
       " '평생': 982,\n",
       " '돌': 983,\n",
       " '리': 984,\n",
       " '사극': 985,\n",
       " '귀여운': 986,\n",
       " '감상': 987,\n",
       " '할까': 988,\n",
       " '께': 989,\n",
       " '케이블': 990,\n",
       " '독립영화': 991,\n",
       " '성공': 992,\n",
       " '젊': 993,\n",
       " '늙': 994,\n",
       " '미소': 995,\n",
       " '가득': 996,\n",
       " '됩니다': 997,\n",
       " '으': 998,\n",
       " '드립니다': 999,\n",
       " ...}"
      ]
     },
     "execution_count": 582,
     "metadata": {},
     "output_type": "execute_result"
    }
   ],
   "source": [
    "word_to_index"
   ]
  },
  {
   "cell_type": "markdown",
   "id": "dominant-potter",
   "metadata": {},
   "source": [
    "### 데이터 분석 및 가공\n",
    "\n",
    "* 데이터셋 내 문장 길이 분포\n",
    "* 적절한 최대 문장 길이 지정\n",
    "* keras.preprocessing.sequence.pad_sequences 을 활용한 패딩 추가"
   ]
  },
  {
   "cell_type": "markdown",
   "id": "forward-plaintiff",
   "metadata": {},
   "source": [
    "#### 데이터셋 내 문장 길이 분포 확인\n",
    "시각화를 통해 문장 길이의 분포를 확인하였다."
   ]
  },
  {
   "cell_type": "code",
   "execution_count": 583,
   "id": "deluxe-genetics",
   "metadata": {},
   "outputs": [
    {
     "name": "stdout",
     "output_type": "stream",
     "text": [
      "문장의 최소길이: 1\n",
      "문장의 최대길이: 79\n",
      "문장의 평균길이: 13.695279797312184\n",
      "문장의 길이 표준편차: 10.736632134968463\n"
     ]
    }
   ],
   "source": [
    "len_dataset= np.array(list(map(len,X_train)))\n",
    "len_dataset= pd.Series(len_dataset)\n",
    "print(f'문장의 최소길이: {len_dataset.min()}')\n",
    "print(f'문장의 최대길이: {len_dataset.max()}')\n",
    "print(f'문장의 평균길이: {len_dataset.mean()}')\n",
    "print(f'문장의 길이 표준편차: {len_dataset.std()}')"
   ]
  },
  {
   "cell_type": "code",
   "execution_count": 584,
   "id": "stable-tobago",
   "metadata": {},
   "outputs": [
    {
     "data": {
      "image/png": "[encoded data removed]",
      "text/plain": [
       "<Figure size 576x576 with 1 Axes>"
      ]
     },
     "metadata": {
      "needs_background": "light"
     },
     "output_type": "display_data"
    }
   ],
   "source": [
    "import seaborn as sns\n",
    "fig, ax = plt.subplots(1,1,figsize=(8,8))\n",
    "sns.kdeplot(len_dataset, ax=ax)\n",
    "ax.set_xlabel('sentence length')\n",
    "plt.show()"
   ]
  },
  {
   "cell_type": "code",
   "execution_count": 585,
   "id": "wrong-dutch",
   "metadata": {},
   "outputs": [],
   "source": [
    "max_sentence_length = round(len_dataset.mean()+(len_dataset.std()*2))"
   ]
  },
  {
   "cell_type": "code",
   "execution_count": 586,
   "id": "affected-shepherd",
   "metadata": {},
   "outputs": [
    {
     "name": "stdout",
     "output_type": "stream",
     "text": [
      "최대 길이가 35일때 93% 포함된다.\n"
     ]
    }
   ],
   "source": [
    "percent = round(np.sum(len_dataset<max_sentence_length)/len(len_dataset)*100)\n",
    "print(f'최대 길이가 {max_sentence_length}일때 {percent}% 포함된다.')"
   ]
  },
  {
   "cell_type": "markdown",
   "id": "ruled-perception",
   "metadata": {},
   "source": [
    "적절한 길이만큼 자르고 padding을 추가하는 함수를 만든다.    \n",
    "(padding 방식에 따른 성능 비교를 위해)"
   ]
  },
  {
   "cell_type": "code",
   "execution_count": 587,
   "id": "ranging-compromise",
   "metadata": {},
   "outputs": [],
   "source": [
    "def preprocessing_padding(dataset,word_to_index, max_sentence_length=42, padding_type='pre'):\n",
    "    \"\"\"\n",
    "    params:\n",
    "        padding_type: pre, post\n",
    "    \"\"\"\n",
    "    raw_inputs = keras.preprocessing.sequence.pad_sequences(dataset, \n",
    "                                                            value=word_to_index['<PAD>'],\n",
    "                                                            padding=padding_type,\n",
    "                                                            maxlen=max_sentence_length)\n",
    "    return raw_inputs"
   ]
  },
  {
   "cell_type": "code",
   "execution_count": 588,
   "id": "supreme-mills",
   "metadata": {},
   "outputs": [],
   "source": [
    "X_train = preprocessing_padding(X_train, word_to_index)\n",
    "X_test = preprocessing_padding(X_test, word_to_index)"
   ]
  },
  {
   "cell_type": "markdown",
   "id": "musical-helen",
   "metadata": {},
   "source": [
    "### 모델 구성 및 validation set 구성"
   ]
  },
  {
   "cell_type": "markdown",
   "id": "atomic-restaurant",
   "metadata": {},
   "source": [
    "#### RNN을 이용한 레이어 구성"
   ]
  },
  {
   "cell_type": "code",
   "execution_count": 589,
   "id": "strange-berry",
   "metadata": {},
   "outputs": [],
   "source": [
    "def rnn_layer(vocab_size=10000, word_vector_dim=4):\n",
    "    model = keras.Sequential()\n",
    "    model.add(keras.layers.Embedding(vocab_size, word_vector_dim, input_shape=(None,)))\n",
    "    model.add(keras.layers.LSTM(8))\n",
    "    model.add(keras.layers.Dense(8, activation='relu'))\n",
    "    model.add(keras.layers.Dense(1, activation='sigmoid'))\n",
    "    return model"
   ]
  },
  {
   "cell_type": "code",
   "execution_count": 590,
   "id": "circular-million",
   "metadata": {},
   "outputs": [
    {
     "name": "stdout",
     "output_type": "stream",
     "text": [
      "Model: \"sequential_125\"\n",
      "_________________________________________________________________\n",
      "Layer (type)                 Output Shape              Param #   \n",
      "=================================================================\n",
      "embedding_121 (Embedding)    (None, None, 4)           40000     \n",
      "_________________________________________________________________\n",
      "lstm_100 (LSTM)              (None, 8)                 416       \n",
      "_________________________________________________________________\n",
      "dense_232 (Dense)            (None, 8)                 72        \n",
      "_________________________________________________________________\n",
      "dense_233 (Dense)            (None, 1)                 9         \n",
      "=================================================================\n",
      "Total params: 40,497\n",
      "Trainable params: 40,497\n",
      "Non-trainable params: 0\n",
      "_________________________________________________________________\n"
     ]
    }
   ],
   "source": [
    "model = rnn_layer()\n",
    "model.summary()"
   ]
  },
  {
   "cell_type": "markdown",
   "id": "final-reduction",
   "metadata": {},
   "source": [
    "#### CNN을 이용한 레이어 구성"
   ]
  },
  {
   "cell_type": "code",
   "execution_count": 591,
   "id": "cosmetic-cloud",
   "metadata": {},
   "outputs": [],
   "source": [
    "def cnn_layer(vocab_size=10000, word_vector_dim=4):\n",
    "    model = keras.Sequential()\n",
    "    model.add(keras.layers.Embedding(vocab_size, word_vector_dim, input_shape=(None,)))\n",
    "    model.add(keras.layers.Conv1D(16, 7, activation='relu'))\n",
    "    model.add(keras.layers.MaxPooling1D(5))\n",
    "    model.add(keras.layers.Conv1D(16, 7, activation='relu'))\n",
    "    model.add(keras.layers.GlobalMaxPooling1D())\n",
    "    model.add(keras.layers.Dense(8, activation='relu'))\n",
    "    model.add(keras.layers.Dense(1, activation='sigmoid'))\n",
    "    return model"
   ]
  },
  {
   "cell_type": "code",
   "execution_count": 592,
   "id": "close-multiple",
   "metadata": {},
   "outputs": [
    {
     "name": "stdout",
     "output_type": "stream",
     "text": [
      "Model: \"sequential_126\"\n",
      "_________________________________________________________________\n",
      "Layer (type)                 Output Shape              Param #   \n",
      "=================================================================\n",
      "embedding_122 (Embedding)    (None, None, 4)           40000     \n",
      "_________________________________________________________________\n",
      "conv1d_62 (Conv1D)           (None, None, 16)          464       \n",
      "_________________________________________________________________\n",
      "max_pooling1d_31 (MaxPooling (None, None, 16)          0         \n",
      "_________________________________________________________________\n",
      "conv1d_63 (Conv1D)           (None, None, 16)          1808      \n",
      "_________________________________________________________________\n",
      "global_max_pooling1d_45 (Glo (None, 16)                0         \n",
      "_________________________________________________________________\n",
      "dense_234 (Dense)            (None, 8)                 136       \n",
      "_________________________________________________________________\n",
      "dense_235 (Dense)            (None, 1)                 9         \n",
      "=================================================================\n",
      "Total params: 42,417\n",
      "Trainable params: 42,417\n",
      "Non-trainable params: 0\n",
      "_________________________________________________________________\n"
     ]
    }
   ],
   "source": [
    "model = cnn_layer()\n",
    "model.summary()"
   ]
  },
  {
   "cell_type": "markdown",
   "id": "genetic-xerox",
   "metadata": {},
   "source": [
    "### Global MaxPooling을 이용한 레이어 구성"
   ]
  },
  {
   "cell_type": "code",
   "execution_count": 593,
   "id": "worthy-paragraph",
   "metadata": {},
   "outputs": [],
   "source": [
    "def gmp_layer(vocab_size=10000, word_vector_dim=4):\n",
    "    model = keras.Sequential()\n",
    "    model.add(keras.layers.Embedding(vocab_size, word_vector_dim, input_shape=(None,)))\n",
    "    model.add(keras.layers.GlobalMaxPooling1D())\n",
    "    model.add(keras.layers.Dense(8, activation='relu'))\n",
    "    model.add(keras.layers.Dense(1, activation='sigmoid')) \n",
    "    return model"
   ]
  },
  {
   "cell_type": "code",
   "execution_count": 594,
   "id": "scientific-london",
   "metadata": {
    "scrolled": true
   },
   "outputs": [
    {
     "name": "stdout",
     "output_type": "stream",
     "text": [
      "Model: \"sequential_127\"\n",
      "_________________________________________________________________\n",
      "Layer (type)                 Output Shape              Param #   \n",
      "=================================================================\n",
      "embedding_123 (Embedding)    (None, None, 4)           40000     \n",
      "_________________________________________________________________\n",
      "global_max_pooling1d_46 (Glo (None, 4)                 0         \n",
      "_________________________________________________________________\n",
      "dense_236 (Dense)            (None, 8)                 40        \n",
      "_________________________________________________________________\n",
      "dense_237 (Dense)            (None, 1)                 9         \n",
      "=================================================================\n",
      "Total params: 40,049\n",
      "Trainable params: 40,049\n",
      "Non-trainable params: 0\n",
      "_________________________________________________________________\n"
     ]
    }
   ],
   "source": [
    "model = gmp_layer()\n",
    "model.summary()"
   ]
  },
  {
   "cell_type": "markdown",
   "id": "black-reproduction",
   "metadata": {},
   "source": [
    "#### Validation set 구성"
   ]
  },
  {
   "cell_type": "code",
   "execution_count": 595,
   "id": "engaged-suggestion",
   "metadata": {},
   "outputs": [],
   "source": [
    "from sklearn.model_selection import train_test_split\n",
    "X_train, X_val, y_train,  y_val = train_test_split(X_train, y_train, random_state=2021, test_size = 0.2)"
   ]
  },
  {
   "cell_type": "code",
   "execution_count": 596,
   "id": "annual-refund",
   "metadata": {},
   "outputs": [
    {
     "data": {
      "text/plain": [
       "((116198, 42), (116198,), (29050, 42), (29050,))"
      ]
     },
     "execution_count": 596,
     "metadata": {},
     "output_type": "execute_result"
    }
   ],
   "source": [
    "X_train.shape, y_train.shape, X_val.shape, y_val.shape"
   ]
  },
  {
   "cell_type": "markdown",
   "id": "missing-retrieval",
   "metadata": {},
   "source": [
    "### 모델 훈련"
   ]
  },
  {
   "cell_type": "markdown",
   "id": "operating-arlington",
   "metadata": {},
   "source": [
    "accuracy와 loss 시각화를 위해 따로 분리했다."
   ]
  },
  {
   "cell_type": "code",
   "execution_count": 597,
   "id": "delayed-population",
   "metadata": {},
   "outputs": [],
   "source": [
    "def display_acc_loss(history_dict):\n",
    "    acc = history_dict['accuracy']\n",
    "    val_acc = history_dict['val_accuracy']\n",
    "    loss = history_dict['loss']\n",
    "    val_loss = history_dict['val_loss']\n",
    "    \n",
    "    epochs = range(1,len(acc)+1)\n",
    "    \n",
    "    fig, ax = plt.subplots(2,1, figsize=(15,10))\n",
    "    ax[0].plot(epochs, loss,'r',label='Training loss')\n",
    "    ax[0].plot(epochs, val_loss,'b',label='Validation loss')\n",
    "    ax[0].set_xlabel('Epochs')\n",
    "    ax[0].set_ylabel('Loss')\n",
    "    ax[0].legend()\n",
    "    \n",
    "    ax[1].plot(epochs, acc,'r',label='Training acc')\n",
    "    ax[1].plot(epochs, val_acc,'b',label='Validation acc')\n",
    "    ax[1].set_xlabel('Epochs')\n",
    "    ax[1].set_ylabel('Accuracy')\n",
    "    ax[1].legend()\n",
    "    \n",
    "    plt.show()"
   ]
  },
  {
   "cell_type": "markdown",
   "id": "advance-supplier",
   "metadata": {},
   "source": [
    "##### rnn"
   ]
  },
  {
   "cell_type": "code",
   "execution_count": 598,
   "id": "unlikely-strand",
   "metadata": {
    "scrolled": true
   },
   "outputs": [
    {
     "name": "stdout",
     "output_type": "stream",
     "text": [
      "Epoch 1/20\n",
      "227/227 [==============================] - 4s 11ms/step - loss: 0.6509 - accuracy: 0.6226 - val_loss: 0.4133 - val_accuracy: 0.8204\n",
      "Epoch 2/20\n",
      "227/227 [==============================] - 2s 9ms/step - loss: 0.3801 - accuracy: 0.8356 - val_loss: 0.3765 - val_accuracy: 0.8314\n",
      "Epoch 3/20\n",
      "227/227 [==============================] - 2s 9ms/step - loss: 0.3416 - accuracy: 0.8532 - val_loss: 0.3682 - val_accuracy: 0.8381\n",
      "Epoch 4/20\n",
      "227/227 [==============================] - 2s 9ms/step - loss: 0.3254 - accuracy: 0.8600 - val_loss: 0.3680 - val_accuracy: 0.8383\n",
      "Epoch 5/20\n",
      "227/227 [==============================] - 2s 9ms/step - loss: 0.3188 - accuracy: 0.8645 - val_loss: 0.3700 - val_accuracy: 0.8351\n",
      "Epoch 6/20\n",
      "227/227 [==============================] - 2s 9ms/step - loss: 0.3161 - accuracy: 0.8658 - val_loss: 0.3710 - val_accuracy: 0.8359\n",
      "Epoch 7/20\n",
      "227/227 [==============================] - 2s 9ms/step - loss: 0.3110 - accuracy: 0.8674 - val_loss: 0.3751 - val_accuracy: 0.8357\n",
      "Epoch 8/20\n",
      "227/227 [==============================] - 2s 9ms/step - loss: 0.3062 - accuracy: 0.8701 - val_loss: 0.3772 - val_accuracy: 0.8357\n",
      "Epoch 9/20\n",
      "227/227 [==============================] - 2s 9ms/step - loss: 0.3018 - accuracy: 0.8735 - val_loss: 0.3789 - val_accuracy: 0.8343\n",
      "Epoch 10/20\n",
      "227/227 [==============================] - 2s 9ms/step - loss: 0.3018 - accuracy: 0.8723 - val_loss: 0.3825 - val_accuracy: 0.8339\n",
      "Epoch 11/20\n",
      "227/227 [==============================] - 2s 9ms/step - loss: 0.2978 - accuracy: 0.8750 - val_loss: 0.3831 - val_accuracy: 0.8336\n",
      "Epoch 12/20\n",
      "227/227 [==============================] - 2s 9ms/step - loss: 0.2929 - accuracy: 0.8773 - val_loss: 0.3850 - val_accuracy: 0.8348\n",
      "Epoch 13/20\n",
      "227/227 [==============================] - 2s 9ms/step - loss: 0.2914 - accuracy: 0.8793 - val_loss: 0.3907 - val_accuracy: 0.8335\n",
      "Epoch 14/20\n",
      "227/227 [==============================] - 2s 9ms/step - loss: 0.2880 - accuracy: 0.8789 - val_loss: 0.3989 - val_accuracy: 0.8311\n",
      "Epoch 15/20\n",
      "227/227 [==============================] - 2s 9ms/step - loss: 0.2818 - accuracy: 0.8823 - val_loss: 0.3971 - val_accuracy: 0.8317\n",
      "Epoch 16/20\n",
      "227/227 [==============================] - 2s 9ms/step - loss: 0.2784 - accuracy: 0.8830 - val_loss: 0.4158 - val_accuracy: 0.8277\n",
      "Epoch 17/20\n",
      "227/227 [==============================] - 2s 9ms/step - loss: 0.2714 - accuracy: 0.8854 - val_loss: 0.4127 - val_accuracy: 0.8307\n",
      "Epoch 18/20\n",
      "227/227 [==============================] - 2s 9ms/step - loss: 0.2697 - accuracy: 0.8855 - val_loss: 0.4164 - val_accuracy: 0.8309\n",
      "Epoch 19/20\n",
      "227/227 [==============================] - 2s 9ms/step - loss: 0.2645 - accuracy: 0.8880 - val_loss: 0.4359 - val_accuracy: 0.8290\n",
      "Epoch 20/20\n",
      "227/227 [==============================] - 2s 9ms/step - loss: 0.2602 - accuracy: 0.8894 - val_loss: 0.4440 - val_accuracy: 0.8289\n"
     ]
    }
   ],
   "source": [
    "model = rnn_layer()\n",
    "model.compile(optimizer='adam', loss='binary_crossentropy', metrics=['accuracy'])\n",
    "epochs=20\n",
    "history=model.fit(X_train, \n",
    "                  y_train, \n",
    "                  epochs=epochs, \n",
    "                  batch_size=512, \n",
    "                  validation_data=(X_val, y_val), \n",
    "                  verbose=1)"
   ]
  },
  {
   "cell_type": "markdown",
   "id": "assigned-repository",
   "metadata": {},
   "source": [
    "#### Loss, Accuracy 그래프 시각화"
   ]
  },
  {
   "cell_type": "code",
   "execution_count": 599,
   "id": "greek-morgan",
   "metadata": {},
   "outputs": [
    {
     "data": {
      "image/png": "[encoded data removed]",
      "text/plain": [
       "<Figure size 1080x720 with 2 Axes>"
      ]
     },
     "metadata": {
      "needs_background": "light"
     },
     "output_type": "display_data"
    }
   ],
   "source": [
    "display_acc_loss(history.history)"
   ]
  },
  {
   "cell_type": "markdown",
   "id": "respiratory-genesis",
   "metadata": {},
   "source": [
    "#### 모델 평가"
   ]
  },
  {
   "cell_type": "code",
   "execution_count": 600,
   "id": "neutral-beatles",
   "metadata": {},
   "outputs": [
    {
     "name": "stdout",
     "output_type": "stream",
     "text": [
      "1525/1525 - 5s - loss: 0.4427 - accuracy: 0.8282\n",
      "[0.4426873028278351, 0.828163743019104]\n"
     ]
    }
   ],
   "source": [
    "results = model.evaluate(X_test, y_test, verbose=2)\n",
    "print(results)"
   ]
  },
  {
   "cell_type": "markdown",
   "id": "annual-tissue",
   "metadata": {},
   "source": [
    "##### cnn"
   ]
  },
  {
   "cell_type": "code",
   "execution_count": 601,
   "id": "parallel-ordering",
   "metadata": {},
   "outputs": [
    {
     "name": "stdout",
     "output_type": "stream",
     "text": [
      "Epoch 1/20\n",
      "227/227 [==============================] - 2s 7ms/step - loss: 0.6403 - accuracy: 0.6120 - val_loss: 0.4176 - val_accuracy: 0.8066\n",
      "Epoch 2/20\n",
      "227/227 [==============================] - 1s 6ms/step - loss: 0.3893 - accuracy: 0.8248 - val_loss: 0.4036 - val_accuracy: 0.8151\n",
      "Epoch 3/20\n",
      "227/227 [==============================] - 1s 6ms/step - loss: 0.3541 - accuracy: 0.8428 - val_loss: 0.3958 - val_accuracy: 0.8192\n",
      "Epoch 4/20\n",
      "227/227 [==============================] - 1s 6ms/step - loss: 0.3377 - accuracy: 0.8508 - val_loss: 0.3983 - val_accuracy: 0.8200\n",
      "Epoch 5/20\n",
      "227/227 [==============================] - 1s 6ms/step - loss: 0.3241 - accuracy: 0.8585 - val_loss: 0.3995 - val_accuracy: 0.8190\n",
      "Epoch 6/20\n",
      "227/227 [==============================] - 1s 6ms/step - loss: 0.3148 - accuracy: 0.8626 - val_loss: 0.4062 - val_accuracy: 0.8184\n",
      "Epoch 7/20\n",
      "227/227 [==============================] - 1s 6ms/step - loss: 0.3035 - accuracy: 0.8685 - val_loss: 0.4116 - val_accuracy: 0.8170\n",
      "Epoch 8/20\n",
      "227/227 [==============================] - 1s 6ms/step - loss: 0.2916 - accuracy: 0.8746 - val_loss: 0.4197 - val_accuracy: 0.8159\n",
      "Epoch 9/20\n",
      "227/227 [==============================] - 1s 6ms/step - loss: 0.2767 - accuracy: 0.8828 - val_loss: 0.4272 - val_accuracy: 0.8148\n",
      "Epoch 10/20\n",
      "227/227 [==============================] - 1s 6ms/step - loss: 0.2738 - accuracy: 0.8837 - val_loss: 0.4383 - val_accuracy: 0.8164\n",
      "Epoch 11/20\n",
      "227/227 [==============================] - 1s 6ms/step - loss: 0.2605 - accuracy: 0.8923 - val_loss: 0.4492 - val_accuracy: 0.8146\n",
      "Epoch 12/20\n",
      "227/227 [==============================] - 1s 6ms/step - loss: 0.2535 - accuracy: 0.8946 - val_loss: 0.4633 - val_accuracy: 0.8120\n",
      "Epoch 13/20\n",
      "227/227 [==============================] - 1s 6ms/step - loss: 0.2435 - accuracy: 0.8996 - val_loss: 0.4730 - val_accuracy: 0.8126\n",
      "Epoch 14/20\n",
      "227/227 [==============================] - 1s 6ms/step - loss: 0.2341 - accuracy: 0.9047 - val_loss: 0.4868 - val_accuracy: 0.8076\n",
      "Epoch 15/20\n",
      "227/227 [==============================] - 1s 6ms/step - loss: 0.2302 - accuracy: 0.9054 - val_loss: 0.4994 - val_accuracy: 0.8052\n",
      "Epoch 16/20\n",
      "227/227 [==============================] - 1s 6ms/step - loss: 0.2198 - accuracy: 0.9123 - val_loss: 0.5077 - val_accuracy: 0.8052\n",
      "Epoch 17/20\n",
      "227/227 [==============================] - 1s 6ms/step - loss: 0.2164 - accuracy: 0.9141 - val_loss: 0.5184 - val_accuracy: 0.8043\n",
      "Epoch 18/20\n",
      "227/227 [==============================] - 1s 6ms/step - loss: 0.2110 - accuracy: 0.9163 - val_loss: 0.5364 - val_accuracy: 0.8050\n",
      "Epoch 19/20\n",
      "227/227 [==============================] - 1s 6ms/step - loss: 0.2067 - accuracy: 0.9193 - val_loss: 0.5493 - val_accuracy: 0.8004\n",
      "Epoch 20/20\n",
      "227/227 [==============================] - 1s 6ms/step - loss: 0.2044 - accuracy: 0.9200 - val_loss: 0.5559 - val_accuracy: 0.8000\n"
     ]
    }
   ],
   "source": [
    "model = cnn_layer()\n",
    "model.compile(optimizer='adam', loss='binary_crossentropy', metrics=['accuracy'])\n",
    "epochs=20\n",
    "history=model.fit(X_train, \n",
    "                  y_train, \n",
    "                  epochs=epochs, \n",
    "                  batch_size=512, \n",
    "                  validation_data=(X_val, y_val), \n",
    "                  verbose=1)"
   ]
  },
  {
   "cell_type": "markdown",
   "id": "varied-acquisition",
   "metadata": {},
   "source": [
    "#### Loss, Accuracy 그래프 시각화"
   ]
  },
  {
   "cell_type": "code",
   "execution_count": 602,
   "id": "turned-builder",
   "metadata": {},
   "outputs": [
    {
     "data": {
      "image/png": "[encoded data removed]",
      "text/plain": [
       "<Figure size 1080x720 with 2 Axes>"
      ]
     },
     "metadata": {
      "needs_background": "light"
     },
     "output_type": "display_data"
    }
   ],
   "source": [
    "display_acc_loss(history.history)"
   ]
  },
  {
   "cell_type": "markdown",
   "id": "legendary-camera",
   "metadata": {},
   "source": [
    "#### 모델 평가"
   ]
  },
  {
   "cell_type": "code",
   "execution_count": 603,
   "id": "prime-mortality",
   "metadata": {},
   "outputs": [
    {
     "name": "stdout",
     "output_type": "stream",
     "text": [
      "1525/1525 - 2s - loss: 0.5630 - accuracy: 0.7959\n",
      "[0.5629891157150269, 0.7958547472953796]\n"
     ]
    }
   ],
   "source": [
    "results = model.evaluate(X_test, y_test, verbose=2)\n",
    "print(results)"
   ]
  },
  {
   "cell_type": "markdown",
   "id": "dutch-cattle",
   "metadata": {},
   "source": [
    "##### Global MaxPooling"
   ]
  },
  {
   "cell_type": "code",
   "execution_count": 604,
   "id": "interstate-tenant",
   "metadata": {},
   "outputs": [
    {
     "name": "stdout",
     "output_type": "stream",
     "text": [
      "Epoch 1/20\n",
      "227/227 [==============================] - 1s 4ms/step - loss: 0.6791 - accuracy: 0.5926 - val_loss: 0.5656 - val_accuracy: 0.7730\n",
      "Epoch 2/20\n",
      "227/227 [==============================] - 1s 3ms/step - loss: 0.5137 - accuracy: 0.7914 - val_loss: 0.4327 - val_accuracy: 0.8083\n",
      "Epoch 3/20\n",
      "227/227 [==============================] - 1s 3ms/step - loss: 0.4037 - accuracy: 0.8284 - val_loss: 0.4055 - val_accuracy: 0.8176\n",
      "Epoch 4/20\n",
      "227/227 [==============================] - 1s 3ms/step - loss: 0.3690 - accuracy: 0.8412 - val_loss: 0.3984 - val_accuracy: 0.8219\n",
      "Epoch 5/20\n",
      "227/227 [==============================] - 1s 4ms/step - loss: 0.3462 - accuracy: 0.8519 - val_loss: 0.3972 - val_accuracy: 0.8238\n",
      "Epoch 6/20\n",
      "227/227 [==============================] - 1s 4ms/step - loss: 0.3352 - accuracy: 0.8556 - val_loss: 0.3984 - val_accuracy: 0.8246\n",
      "Epoch 7/20\n",
      "227/227 [==============================] - 1s 3ms/step - loss: 0.3225 - accuracy: 0.8637 - val_loss: 0.4018 - val_accuracy: 0.8241\n",
      "Epoch 8/20\n",
      "227/227 [==============================] - 1s 3ms/step - loss: 0.3135 - accuracy: 0.8658 - val_loss: 0.4055 - val_accuracy: 0.8230\n",
      "Epoch 9/20\n",
      "227/227 [==============================] - 1s 3ms/step - loss: 0.3071 - accuracy: 0.8713 - val_loss: 0.4093 - val_accuracy: 0.8232\n",
      "Epoch 10/20\n",
      "227/227 [==============================] - 1s 3ms/step - loss: 0.3037 - accuracy: 0.8717 - val_loss: 0.4139 - val_accuracy: 0.8221\n",
      "Epoch 11/20\n",
      "227/227 [==============================] - 1s 4ms/step - loss: 0.3000 - accuracy: 0.8727 - val_loss: 0.4176 - val_accuracy: 0.8212\n",
      "Epoch 12/20\n",
      "227/227 [==============================] - 1s 3ms/step - loss: 0.2946 - accuracy: 0.8754 - val_loss: 0.4218 - val_accuracy: 0.8193\n",
      "Epoch 13/20\n",
      "227/227 [==============================] - 1s 3ms/step - loss: 0.2918 - accuracy: 0.8759 - val_loss: 0.4266 - val_accuracy: 0.8189\n",
      "Epoch 14/20\n",
      "227/227 [==============================] - 1s 3ms/step - loss: 0.2876 - accuracy: 0.8792 - val_loss: 0.4298 - val_accuracy: 0.8177\n",
      "Epoch 15/20\n",
      "227/227 [==============================] - 1s 4ms/step - loss: 0.2845 - accuracy: 0.8818 - val_loss: 0.4338 - val_accuracy: 0.8160\n",
      "Epoch 16/20\n",
      "227/227 [==============================] - 1s 4ms/step - loss: 0.2826 - accuracy: 0.8821 - val_loss: 0.4378 - val_accuracy: 0.8157\n",
      "Epoch 17/20\n",
      "227/227 [==============================] - 1s 4ms/step - loss: 0.2826 - accuracy: 0.8815 - val_loss: 0.4408 - val_accuracy: 0.8154\n",
      "Epoch 18/20\n",
      "227/227 [==============================] - 1s 3ms/step - loss: 0.2791 - accuracy: 0.8841 - val_loss: 0.4447 - val_accuracy: 0.8156\n",
      "Epoch 19/20\n",
      "227/227 [==============================] - 1s 4ms/step - loss: 0.2749 - accuracy: 0.8860 - val_loss: 0.4472 - val_accuracy: 0.8130\n",
      "Epoch 20/20\n",
      "227/227 [==============================] - 1s 3ms/step - loss: 0.2776 - accuracy: 0.8838 - val_loss: 0.4504 - val_accuracy: 0.8146\n"
     ]
    }
   ],
   "source": [
    "model = gmp_layer()\n",
    "model.compile(optimizer='adam', loss='binary_crossentropy', metrics=['accuracy'])\n",
    "epochs=20\n",
    "history=model.fit(X_train, \n",
    "                  y_train, \n",
    "                  epochs=epochs, \n",
    "                  batch_size=512, \n",
    "                  validation_data=(X_val, y_val), \n",
    "                  verbose=1)"
   ]
  },
  {
   "cell_type": "markdown",
   "id": "boring-situation",
   "metadata": {},
   "source": [
    "#### Loss, Accuracy 그래프 시각화"
   ]
  },
  {
   "cell_type": "code",
   "execution_count": 605,
   "id": "assured-missouri",
   "metadata": {},
   "outputs": [
    {
     "data": {
      "image/png": "[encoded data removed]",
      "text/plain": [
       "<Figure size 1080x720 with 2 Axes>"
      ]
     },
     "metadata": {
      "needs_background": "light"
     },
     "output_type": "display_data"
    }
   ],
   "source": [
    "display_acc_loss(history.history)"
   ]
  },
  {
   "cell_type": "markdown",
   "id": "weird-romantic",
   "metadata": {},
   "source": [
    "#### 모델 평가"
   ]
  },
  {
   "cell_type": "code",
   "execution_count": 606,
   "id": "filled-extra",
   "metadata": {},
   "outputs": [
    {
     "name": "stdout",
     "output_type": "stream",
     "text": [
      "1525/1525 - 2s - loss: 0.4450 - accuracy: 0.8171\n",
      "[0.4450445771217346, 0.81705242395401]\n"
     ]
    }
   ],
   "source": [
    "results = model.evaluate(X_test, y_test, verbose=2)\n",
    "print(results)"
   ]
  },
  {
   "cell_type": "markdown",
   "id": "demanding-collective",
   "metadata": {},
   "source": [
    "### 학습된 embedding 레이어 분석"
   ]
  },
  {
   "cell_type": "code",
   "execution_count": 607,
   "id": "young-poverty",
   "metadata": {},
   "outputs": [
    {
     "name": "stdout",
     "output_type": "stream",
     "text": [
      "(10000, 4)\n"
     ]
    }
   ],
   "source": [
    "embedding_layer=model.layers[0]\n",
    "weights=embedding_layer.get_weights()[0]\n",
    "print(weights.shape)"
   ]
  },
  {
   "cell_type": "markdown",
   "id": "interesting-timing",
   "metadata": {},
   "source": [
    "워드 벡터를 저장"
   ]
  },
  {
   "cell_type": "code",
   "execution_count": 608,
   "id": "according-tracker",
   "metadata": {},
   "outputs": [],
   "source": [
    "vocab_size = weights.shape[0]\n",
    "word_vector_dim = weights.shape[1]\n",
    "word2vec_file_path = os.getenv('HOME')+'/aiffel/sentiment_classification/data/word2vec.txt'\n",
    "f = open(word2vec_file_path, 'w')\n",
    "f.write('{} {}\\n'.format(vocab_size-4, word_vector_dim))  # 몇개의 벡터를 얼마 사이즈로 기재할지 타이틀을 씁니다.\n",
    "\n",
    "# 단어 개수(에서 특수문자 4개는 제외하고)만큼의 워드 벡터를 파일에 기록합니다. \n",
    "vectors = model.get_weights()[0]\n",
    "for i in range(4,vocab_size):\n",
    "    f.write('{} {}\\n'.format(index_to_word[i], ' '.join(map(str, list(vectors[i, :])))))\n",
    "f.close()"
   ]
  },
  {
   "cell_type": "code",
   "execution_count": 609,
   "id": "comic-princess",
   "metadata": {},
   "outputs": [
    {
     "data": {
      "text/plain": [
       "array([-0.21985333,  0.03440103, -0.3349444 , -0.23761065], dtype=float32)"
      ]
     },
     "execution_count": 609,
     "metadata": {},
     "output_type": "execute_result"
    }
   ],
   "source": [
    "from gensim.models.keyedvectors import Word2VecKeyedVectors\n",
    "\n",
    "word_vectors = Word2VecKeyedVectors.load_word2vec_format(word2vec_file_path, binary=False)\n",
    "vector = word_vectors['연출']\n",
    "vector"
   ]
  },
  {
   "cell_type": "code",
   "execution_count": 610,
   "id": "precise-position",
   "metadata": {},
   "outputs": [
    {
     "name": "stdout",
     "output_type": "stream",
     "text": [
      "드라\n",
      "나왔\n",
      "발언\n",
      "제목\n",
      "놀래키\n",
      "거꾸로\n",
      "가해자\n",
      "중간\n",
      "재산\n",
      "시초\n"
     ]
    }
   ],
   "source": [
    "keys = []\n",
    "for key, distance in word_vectors.similar_by_word('연출'):\n",
    "    print(key)\n",
    "    keys.append(word_to_index[key])"
   ]
  },
  {
   "cell_type": "markdown",
   "id": "sticky-corner",
   "metadata": {},
   "source": [
    "#### embedding 레이어 시각화"
   ]
  },
  {
   "cell_type": "code",
   "execution_count": 611,
   "id": "addressed-account",
   "metadata": {},
   "outputs": [
    {
     "data": {
      "text/plain": [
       "(10000, 2)"
      ]
     },
     "execution_count": 611,
     "metadata": {},
     "output_type": "execute_result"
    }
   ],
   "source": [
    "from sklearn.manifold import TSNE\n",
    "\n",
    "tsne = TSNE(n_components=2)\n",
    "y = tsne.fit_transform(weights)\n",
    "y.shape"
   ]
  },
  {
   "cell_type": "code",
   "execution_count": 612,
   "id": "broadband-manner",
   "metadata": {
    "scrolled": true
   },
   "outputs": [
    {
     "data": {
      "image/png": "[encoded data removed]",
      "text/plain": [
       "<Figure size 432x288 with 1 Axes>"
      ]
     },
     "metadata": {
      "needs_background": "light"
     },
     "output_type": "display_data"
    }
   ],
   "source": [
    "plt.scatter(y[:,0], y[:,1])\n",
    "for idx, key in enumerate(keys):            \n",
    "    if idx == 0:\n",
    "        plt.scatter(y[key,0], y[key,1], marker='s', c='black')\n",
    "        continue\n",
    "    plt.scatter(y[key,0], y[key,1], marker='x', c='r')"
   ]
  },
  {
   "cell_type": "markdown",
   "id": "formal-indie",
   "metadata": {},
   "source": [
    "유사한 단어를 잘 찾지 못해 한국어 임베딩을 활용해 성능을 개선해보려고 한다."
   ]
  },
  {
   "cell_type": "markdown",
   "id": "european-firewall",
   "metadata": {},
   "source": [
    "### 한국어 Word2Vec 임베딩을 활용해 성능 개선\n",
    "\n",
    "https://github.com/Kyubyong/wordvectors"
   ]
  },
  {
   "cell_type": "code",
   "execution_count": 613,
   "id": "minor-horizon",
   "metadata": {},
   "outputs": [
    {
     "name": "stdout",
     "output_type": "stream",
     "text": [
      "Requirement already satisfied: gensim==3.8.3 in /opt/conda/lib/python3.7/site-packages (3.8.3)\n",
      "Requirement already satisfied: smart-open>=1.8.1 in /opt/conda/lib/python3.7/site-packages (from gensim==3.8.3) (4.1.2)\n",
      "Requirement already satisfied: numpy>=1.11.3 in /opt/conda/lib/python3.7/site-packages (from gensim==3.8.3) (1.19.5)\n",
      "Requirement already satisfied: six>=1.5.0 in /opt/conda/lib/python3.7/site-packages (from gensim==3.8.3) (1.15.0)\n",
      "Requirement already satisfied: scipy>=0.18.1 in /opt/conda/lib/python3.7/site-packages (from gensim==3.8.3) (1.4.1)\n",
      "\u001b[33mWARNING: You are using pip version 20.3.3; however, version 21.2.3 is available.\n",
      "You should consider upgrading via the '/opt/conda/bin/python3.7 -m pip install --upgrade pip' command.\u001b[0m\n"
     ]
    }
   ],
   "source": [
    "!pip install --upgrade gensim==3.8.3"
   ]
  },
  {
   "cell_type": "code",
   "execution_count": 614,
   "id": "cooked-identity",
   "metadata": {},
   "outputs": [],
   "source": [
    "import gensim\n",
    "\n",
    "korean_word2Vec_Path = os.getenv('HOME')+'/aiffel/sentiment_classification/data/ko.bin'\n",
    "korean_word_vectors_model = gensim.models.Word2Vec.load(korean_word2Vec_Path)"
   ]
  },
  {
   "cell_type": "code",
   "execution_count": 615,
   "id": "infectious-wages",
   "metadata": {},
   "outputs": [
    {
     "data": {
      "text/plain": [
       "[('각색', 0.6428115367889404),\n",
       " ('각본', 0.6311596632003784),\n",
       " ('재현', 0.6283892393112183),\n",
       " ('연극', 0.5993435382843018),\n",
       " ('뮤지컬', 0.598302960395813),\n",
       " ('안무', 0.5873018503189087),\n",
       " ('배역', 0.5813403129577637),\n",
       " ('극본', 0.5810103416442871),\n",
       " ('작화', 0.5745235085487366),\n",
       " ('코미디', 0.5699306726455688)]"
      ]
     },
     "execution_count": 615,
     "metadata": {},
     "output_type": "execute_result"
    }
   ],
   "source": [
    "korean_word_vectors_model.wv.most_similar('연출')"
   ]
  },
  {
   "cell_type": "code",
   "execution_count": 616,
   "id": "fallen-maryland",
   "metadata": {},
   "outputs": [],
   "source": [
    "vocab_size = weights.shape[0]\n",
    "word_vector_dim = korean_word_vectors_model.wv['연출'].shape[0]\n",
    "\n",
    "embedding_matrix = np.random.rand(vocab_size, word_vector_dim)\n",
    "\n",
    "for i in range(4, vocab_size):\n",
    "    if index_to_word[i] in korean_word_vectors_model.wv:\n",
    "        embedding_matrix[i] = korean_word_vectors_model.wv[index_to_word[i]]"
   ]
  },
  {
   "cell_type": "code",
   "execution_count": 617,
   "id": "retained-singles",
   "metadata": {},
   "outputs": [],
   "source": [
    "vocab_size = embedding_matrix.shape[0]\n",
    "word_vector_dim = embedding_matrix.shape[1]\n",
    "word2vec_kr_file_path = os.getenv('HOME')+'/aiffel/sentiment_classification/data/word2vec_kr.txt'\n",
    "f = open(word2vec_kr_file_path, 'w')\n",
    "f.write('{} {}\\n'.format(vocab_size-4, word_vector_dim))  # 몇개의 벡터를 얼마 사이즈로 기재할지 타이틀을 씁니다.\n",
    "\n",
    "# 단어 개수(에서 특수문자 4개는 제외하고)만큼의 워드 벡터를 파일에 기록합니다. \n",
    "for i in range(4,vocab_size):\n",
    "    f.write('{} {}\\n'.format(index_to_word[i], ' '.join(map(str, list(embedding_matrix[i, :])))))\n",
    "f.close()"
   ]
  },
  {
   "cell_type": "code",
   "execution_count": 618,
   "id": "boring-regression",
   "metadata": {},
   "outputs": [],
   "source": [
    "from gensim.models.keyedvectors import Word2VecKeyedVectors\n",
    "word_vectors = Word2VecKeyedVectors.load_word2vec_format(word2vec_kr_file_path, binary=False)"
   ]
  },
  {
   "cell_type": "markdown",
   "id": "unsigned-input",
   "metadata": {},
   "source": [
    "#### embedding 레이어 시각화"
   ]
  },
  {
   "cell_type": "code",
   "execution_count": 619,
   "id": "alone-thing",
   "metadata": {},
   "outputs": [
    {
     "data": {
      "text/plain": [
       "(10000, 2)"
      ]
     },
     "execution_count": 619,
     "metadata": {},
     "output_type": "execute_result"
    }
   ],
   "source": [
    "from sklearn.manifold import TSNE\n",
    "\n",
    "tsne = TSNE(n_components=2)\n",
    "y = tsne.fit_transform(embedding_matrix)\n",
    "y.shape"
   ]
  },
  {
   "cell_type": "code",
   "execution_count": 620,
   "id": "polished-display",
   "metadata": {
    "scrolled": true
   },
   "outputs": [
    {
     "name": "stdout",
     "output_type": "stream",
     "text": [
      "각색 각본 재현 연극 뮤지컬 배역 극본 작화 코미디 감상 "
     ]
    },
    {
     "data": {
      "image/png": "[encoded data removed]",
      "text/plain": [
       "<Figure size 432x288 with 1 Axes>"
      ]
     },
     "metadata": {
      "needs_background": "light"
     },
     "output_type": "display_data"
    }
   ],
   "source": [
    "keys = []\n",
    "for key, distance in word_vectors.similar_by_word('연출'):\n",
    "    print(key, end=' ')\n",
    "    keys.append(word_to_index[key])\n",
    "    \n",
    "plt.scatter(y[:,0], y[:,1])\n",
    "for idx, key in enumerate(keys):            \n",
    "    if idx == 0:\n",
    "        plt.scatter(y[key,0], y[key,1], marker='s', c='black')\n",
    "        continue\n",
    "    plt.scatter(y[key,0], y[key,1], marker='x', c='r')"
   ]
  },
  {
   "cell_type": "code",
   "execution_count": 621,
   "id": "portuguese-french",
   "metadata": {},
   "outputs": [
    {
     "name": "stdout",
     "output_type": "stream",
     "text": [
      "그다지 전혀 따로 마다 별 딱히 엄연히 별반 대체로 아예 "
     ]
    },
    {
     "data": {
      "image/png": "[encoded data removed]",
      "text/plain": [
       "<Figure size 432x288 with 1 Axes>"
      ]
     },
     "metadata": {
      "needs_background": "light"
     },
     "output_type": "display_data"
    }
   ],
   "source": [
    "keys = []\n",
    "for key, distance in word_vectors.similar_by_word('별로'):\n",
    "    print(key, end=' ')\n",
    "    keys.append(word_to_index[key])\n",
    "    \n",
    "plt.scatter(y[:,0], y[:,1])\n",
    "for idx, key in enumerate(keys):            \n",
    "    if idx == 0:\n",
    "        plt.scatter(y[key,0], y[key,1], marker='s', c='black')\n",
    "        continue\n",
    "    plt.scatter(y[key,0], y[key,1], marker='x', c='r')"
   ]
  },
  {
   "cell_type": "markdown",
   "id": "excessive-bulletin",
   "metadata": {},
   "source": [
    "신기하게 두개의 그룹으로 나눠져 있는 것을 볼 수 있다. 혹시 긍정/부정 단어로 구분된 것일까?    \n",
    "어떤 기준으로 나눠진건지 궁금해진다. 그래도 단어의 유사도를 살펴본 결과 제대로 학습이 된 것을 볼 수 있다."
   ]
  },
  {
   "cell_type": "markdown",
   "id": "random-general",
   "metadata": {},
   "source": [
    "### 바꾼 한국어 Word2Vec를 이용한 모델 훈련 및 평가"
   ]
  },
  {
   "cell_type": "markdown",
   "id": "olympic-check",
   "metadata": {},
   "source": [
    "#### RNN을 이용한 레이어 구성"
   ]
  },
  {
   "cell_type": "code",
   "execution_count": 622,
   "id": "behavioral-knitting",
   "metadata": {},
   "outputs": [],
   "source": [
    "from tensorflow.keras.initializers import Constant"
   ]
  },
  {
   "cell_type": "code",
   "execution_count": 623,
   "id": "intimate-nevada",
   "metadata": {},
   "outputs": [],
   "source": [
    "len_dataset= np.array(list(map(len,X_train)))\n",
    "len_dataset= pd.Series(len_dataset)\n",
    "max_sentence_length = round(len_dataset.mean()+(len_dataset.std()*2))"
   ]
  },
  {
   "cell_type": "code",
   "execution_count": 644,
   "id": "legal-identity",
   "metadata": {},
   "outputs": [],
   "source": [
    "def rnn_layer(max_sentence_length, word2vec):\n",
    "    model = keras.Sequential()\n",
    "    model.add(keras.layers.Embedding(word2vec.shape[0], \n",
    "                                     word2vec.shape[1], \n",
    "                                     embeddings_initializer=Constant(word2vec),\n",
    "                                     input_length=max_sentence_length, ))\n",
    "    model.add(keras.layers.Bidirectional(keras.layers.LSTM(max_sentence_length//4, return_sequences=True)))\n",
    "    model.add(keras.layers.Bidirectional(keras.layers.LSTM(8)))\n",
    "    model.add(keras.layers.Dense(8, kernel_regularizer=keras.regularizers.l2(0.002), activation='relu'))\n",
    "    model.add(keras.layers.Dense(1, activation='sigmoid'))\n",
    "    return model"
   ]
  },
  {
   "cell_type": "code",
   "execution_count": 645,
   "id": "drawn-gasoline",
   "metadata": {},
   "outputs": [
    {
     "name": "stdout",
     "output_type": "stream",
     "text": [
      "Model: \"sequential_139\"\n",
      "_________________________________________________________________\n",
      "Layer (type)                 Output Shape              Param #   \n",
      "=================================================================\n",
      "embedding_135 (Embedding)    (None, 42, 200)           2000000   \n",
      "_________________________________________________________________\n",
      "bidirectional_81 (Bidirectio (None, 42, 20)            16880     \n",
      "_________________________________________________________________\n",
      "bidirectional_82 (Bidirectio (None, 16)                1856      \n",
      "_________________________________________________________________\n",
      "dense_260 (Dense)            (None, 8)                 136       \n",
      "_________________________________________________________________\n",
      "dense_261 (Dense)            (None, 1)                 9         \n",
      "=================================================================\n",
      "Total params: 2,018,881\n",
      "Trainable params: 2,018,881\n",
      "Non-trainable params: 0\n",
      "_________________________________________________________________\n"
     ]
    }
   ],
   "source": [
    "model = rnn_layer(max_sentence_length, embedding_matrix)\n",
    "model.summary()"
   ]
  },
  {
   "cell_type": "markdown",
   "id": "interim-needle",
   "metadata": {},
   "source": [
    "#### CNN을 이용한 레이어 구성"
   ]
  },
  {
   "cell_type": "code",
   "execution_count": 626,
   "id": "toxic-alignment",
   "metadata": {},
   "outputs": [],
   "source": [
    "def cnn_layer(max_sentence_length, word2vec):\n",
    "    model = keras.Sequential()\n",
    "    model.add(keras.layers.Embedding(word2vec.shape[0], \n",
    "                                     word2vec.shape[1], \n",
    "                                     embeddings_initializer=Constant(word2vec),\n",
    "                                     input_length=max_sentence_length, ))\n",
    "    model.add(keras.layers.Conv1D(16, 7, activation='relu'))\n",
    "    model.add(keras.layers.MaxPooling1D(5))\n",
    "    model.add(keras.layers.Conv1D(16, 7, activation='relu'))\n",
    "    model.add(keras.layers.GlobalMaxPooling1D())\n",
    "    model.add(keras.layers.Dense(8, activation='relu'))\n",
    "    model.add(keras.layers.Dense(1, activation='sigmoid'))\n",
    "    return model"
   ]
  },
  {
   "cell_type": "code",
   "execution_count": 627,
   "id": "disabled-challenge",
   "metadata": {},
   "outputs": [
    {
     "name": "stdout",
     "output_type": "stream",
     "text": [
      "Model: \"sequential_132\"\n",
      "_________________________________________________________________\n",
      "Layer (type)                 Output Shape              Param #   \n",
      "=================================================================\n",
      "embedding_128 (Embedding)    (None, 42, 200)           2000000   \n",
      "_________________________________________________________________\n",
      "conv1d_66 (Conv1D)           (None, 36, 16)            22416     \n",
      "_________________________________________________________________\n",
      "max_pooling1d_33 (MaxPooling (None, 7, 16)             0         \n",
      "_________________________________________________________________\n",
      "conv1d_67 (Conv1D)           (None, 1, 16)             1808      \n",
      "_________________________________________________________________\n",
      "global_max_pooling1d_49 (Glo (None, 16)                0         \n",
      "_________________________________________________________________\n",
      "dense_246 (Dense)            (None, 8)                 136       \n",
      "_________________________________________________________________\n",
      "dense_247 (Dense)            (None, 1)                 9         \n",
      "=================================================================\n",
      "Total params: 2,024,369\n",
      "Trainable params: 2,024,369\n",
      "Non-trainable params: 0\n",
      "_________________________________________________________________\n"
     ]
    }
   ],
   "source": [
    "model = cnn_layer(max_sentence_length, embedding_matrix)\n",
    "model.summary()"
   ]
  },
  {
   "cell_type": "markdown",
   "id": "noticed-bottle",
   "metadata": {},
   "source": [
    "#### Global MaxPooling을 이용한 레이어 구성"
   ]
  },
  {
   "cell_type": "code",
   "execution_count": 628,
   "id": "confidential-receptor",
   "metadata": {},
   "outputs": [],
   "source": [
    "def gmp_layer(max_sentence_length, word2vec):\n",
    "    model = keras.Sequential()\n",
    "    model.add(keras.layers.Embedding(word2vec.shape[0], \n",
    "                                     word2vec.shape[1], \n",
    "                                     embeddings_initializer=Constant(word2vec),\n",
    "                                     input_length=max_sentence_length, ))\n",
    "    model.add(keras.layers.GlobalMaxPooling1D())\n",
    "    model.add(keras.layers.Dense(8, activation='relu'))\n",
    "    model.add(keras.layers.Dense(1, activation='sigmoid')) \n",
    "    return model"
   ]
  },
  {
   "cell_type": "code",
   "execution_count": 629,
   "id": "earned-driver",
   "metadata": {
    "scrolled": true
   },
   "outputs": [
    {
     "name": "stdout",
     "output_type": "stream",
     "text": [
      "Model: \"sequential_133\"\n",
      "_________________________________________________________________\n",
      "Layer (type)                 Output Shape              Param #   \n",
      "=================================================================\n",
      "embedding_129 (Embedding)    (None, 42, 200)           2000000   \n",
      "_________________________________________________________________\n",
      "global_max_pooling1d_50 (Glo (None, 200)               0         \n",
      "_________________________________________________________________\n",
      "dense_248 (Dense)            (None, 8)                 1608      \n",
      "_________________________________________________________________\n",
      "dense_249 (Dense)            (None, 1)                 9         \n",
      "=================================================================\n",
      "Total params: 2,001,617\n",
      "Trainable params: 2,001,617\n",
      "Non-trainable params: 0\n",
      "_________________________________________________________________\n"
     ]
    }
   ],
   "source": [
    "model = gmp_layer(max_sentence_length, embedding_matrix)\n",
    "model.summary()"
   ]
  },
  {
   "cell_type": "markdown",
   "id": "balanced-diversity",
   "metadata": {},
   "source": [
    "##### cnn"
   ]
  },
  {
   "cell_type": "code",
   "execution_count": 630,
   "id": "imperial-spain",
   "metadata": {},
   "outputs": [
    {
     "name": "stdout",
     "output_type": "stream",
     "text": [
      "Epoch 1/10\n",
      "227/227 [==============================] - 7s 29ms/step - loss: 0.6286 - accuracy: 0.6311 - val_loss: 0.4742 - val_accuracy: 0.7743\n",
      "Epoch 2/10\n",
      "227/227 [==============================] - 6s 26ms/step - loss: 0.4356 - accuracy: 0.7972 - val_loss: 0.4212 - val_accuracy: 0.8044\n",
      "Epoch 3/10\n",
      "227/227 [==============================] - 6s 25ms/step - loss: 0.3702 - accuracy: 0.8328 - val_loss: 0.4060 - val_accuracy: 0.8123\n",
      "Epoch 4/10\n",
      "227/227 [==============================] - 6s 25ms/step - loss: 0.3343 - accuracy: 0.8526 - val_loss: 0.4051 - val_accuracy: 0.8143\n",
      "Epoch 5/10\n",
      "227/227 [==============================] - 6s 25ms/step - loss: 0.3016 - accuracy: 0.8690 - val_loss: 0.4109 - val_accuracy: 0.8131\n",
      "Epoch 6/10\n",
      "227/227 [==============================] - 6s 25ms/step - loss: 0.2820 - accuracy: 0.8786 - val_loss: 0.4301 - val_accuracy: 0.8097\n",
      "Epoch 7/10\n",
      "227/227 [==============================] - 6s 25ms/step - loss: 0.2570 - accuracy: 0.8913 - val_loss: 0.4518 - val_accuracy: 0.8082\n",
      "Epoch 8/10\n",
      "227/227 [==============================] - 6s 25ms/step - loss: 0.2383 - accuracy: 0.9004 - val_loss: 0.4723 - val_accuracy: 0.8093\n",
      "Epoch 9/10\n",
      "227/227 [==============================] - 6s 25ms/step - loss: 0.2106 - accuracy: 0.9149 - val_loss: 0.5078 - val_accuracy: 0.8084\n",
      "Epoch 10/10\n",
      "227/227 [==============================] - 6s 25ms/step - loss: 0.1955 - accuracy: 0.9203 - val_loss: 0.5395 - val_accuracy: 0.8051\n"
     ]
    }
   ],
   "source": [
    "model = cnn_layer(max_sentence_length, embedding_matrix)\n",
    "model.compile(optimizer='adam', loss='binary_crossentropy', metrics=['accuracy'])\n",
    "epochs=10\n",
    "history=model.fit(X_train, \n",
    "                  y_train, \n",
    "                  epochs=epochs, \n",
    "                  batch_size=512, \n",
    "                  validation_data=(X_val, y_val), \n",
    "                  verbose=1)"
   ]
  },
  {
   "cell_type": "markdown",
   "id": "annoying-airfare",
   "metadata": {},
   "source": [
    "#### Loss, Accuracy 그래프 시각화"
   ]
  },
  {
   "cell_type": "code",
   "execution_count": 631,
   "id": "comic-departure",
   "metadata": {},
   "outputs": [
    {
     "data": {
      "image/png": "[encoded data removed]",
      "text/plain": [
       "<Figure size 1080x720 with 2 Axes>"
      ]
     },
     "metadata": {
      "needs_background": "light"
     },
     "output_type": "display_data"
    }
   ],
   "source": [
    "display_acc_loss(history.history)"
   ]
  },
  {
   "cell_type": "markdown",
   "id": "cooked-mathematics",
   "metadata": {},
   "source": [
    "#### 모델 평가"
   ]
  },
  {
   "cell_type": "code",
   "execution_count": 632,
   "id": "popular-charm",
   "metadata": {},
   "outputs": [
    {
     "name": "stdout",
     "output_type": "stream",
     "text": [
      "1525/1525 - 3s - loss: 0.5404 - accuracy: 0.8044\n",
      "[0.5404389500617981, 0.8044240474700928]\n"
     ]
    }
   ],
   "source": [
    "results = model.evaluate(X_test, y_test, verbose=2)\n",
    "print(results)"
   ]
  },
  {
   "cell_type": "markdown",
   "id": "mounted-separation",
   "metadata": {},
   "source": [
    "##### Global MaxPooling"
   ]
  },
  {
   "cell_type": "code",
   "execution_count": 633,
   "id": "asian-equipment",
   "metadata": {},
   "outputs": [
    {
     "name": "stdout",
     "output_type": "stream",
     "text": [
      "Epoch 1/20\n",
      "227/227 [==============================] - 5s 20ms/step - loss: 0.7167 - accuracy: 0.5169 - val_loss: 0.6595 - val_accuracy: 0.6225\n",
      "Epoch 2/20\n",
      "227/227 [==============================] - 5s 20ms/step - loss: 0.6346 - accuracy: 0.6614 - val_loss: 0.5499 - val_accuracy: 0.7224\n",
      "Epoch 3/20\n",
      "227/227 [==============================] - 4s 20ms/step - loss: 0.5253 - accuracy: 0.7408 - val_loss: 0.4950 - val_accuracy: 0.7611\n",
      "Epoch 4/20\n",
      "227/227 [==============================] - 4s 20ms/step - loss: 0.4717 - accuracy: 0.7773 - val_loss: 0.4652 - val_accuracy: 0.7796\n",
      "Epoch 5/20\n",
      "227/227 [==============================] - 4s 20ms/step - loss: 0.4362 - accuracy: 0.7992 - val_loss: 0.4499 - val_accuracy: 0.7885\n",
      "Epoch 6/20\n",
      "227/227 [==============================] - 4s 20ms/step - loss: 0.4105 - accuracy: 0.8138 - val_loss: 0.4336 - val_accuracy: 0.7997\n",
      "Epoch 7/20\n",
      "227/227 [==============================] - 5s 20ms/step - loss: 0.3906 - accuracy: 0.8261 - val_loss: 0.4262 - val_accuracy: 0.8054\n",
      "Epoch 8/20\n",
      "227/227 [==============================] - 5s 20ms/step - loss: 0.3712 - accuracy: 0.8374 - val_loss: 0.4207 - val_accuracy: 0.8088\n",
      "Epoch 9/20\n",
      "227/227 [==============================] - 5s 20ms/step - loss: 0.3576 - accuracy: 0.8426 - val_loss: 0.4144 - val_accuracy: 0.8123\n",
      "Epoch 10/20\n",
      "227/227 [==============================] - 4s 20ms/step - loss: 0.3430 - accuracy: 0.8506 - val_loss: 0.4109 - val_accuracy: 0.8156\n",
      "Epoch 11/20\n",
      "227/227 [==============================] - 4s 20ms/step - loss: 0.3299 - accuracy: 0.8585 - val_loss: 0.4092 - val_accuracy: 0.8164\n",
      "Epoch 12/20\n",
      "227/227 [==============================] - 4s 20ms/step - loss: 0.3211 - accuracy: 0.8630 - val_loss: 0.4104 - val_accuracy: 0.8178\n",
      "Epoch 13/20\n",
      "227/227 [==============================] - 5s 20ms/step - loss: 0.3111 - accuracy: 0.8687 - val_loss: 0.4136 - val_accuracy: 0.8177\n",
      "Epoch 14/20\n",
      "227/227 [==============================] - 4s 20ms/step - loss: 0.2989 - accuracy: 0.8748 - val_loss: 0.4115 - val_accuracy: 0.8190\n",
      "Epoch 15/20\n",
      "227/227 [==============================] - 4s 20ms/step - loss: 0.2896 - accuracy: 0.8799 - val_loss: 0.4117 - val_accuracy: 0.8205\n",
      "Epoch 16/20\n",
      "227/227 [==============================] - 4s 20ms/step - loss: 0.2814 - accuracy: 0.8839 - val_loss: 0.4151 - val_accuracy: 0.8195\n",
      "Epoch 17/20\n",
      "227/227 [==============================] - 4s 20ms/step - loss: 0.2699 - accuracy: 0.8910 - val_loss: 0.4198 - val_accuracy: 0.8188\n",
      "Epoch 18/20\n",
      "227/227 [==============================] - 5s 20ms/step - loss: 0.2579 - accuracy: 0.8966 - val_loss: 0.4211 - val_accuracy: 0.8200\n",
      "Epoch 19/20\n",
      "227/227 [==============================] - 5s 20ms/step - loss: 0.2532 - accuracy: 0.8987 - val_loss: 0.4256 - val_accuracy: 0.8205\n",
      "Epoch 20/20\n",
      "227/227 [==============================] - 4s 20ms/step - loss: 0.2414 - accuracy: 0.9040 - val_loss: 0.4340 - val_accuracy: 0.8172\n"
     ]
    }
   ],
   "source": [
    "model = gmp_layer(max_sentence_length, embedding_matrix)\n",
    "model.compile(optimizer='adam', loss='binary_crossentropy', metrics=['accuracy'])\n",
    "epochs=20\n",
    "history=model.fit(X_train, \n",
    "                  y_train, \n",
    "                  epochs=epochs, \n",
    "                  batch_size=512, \n",
    "                  validation_data=(X_val, y_val), \n",
    "                  verbose=1)"
   ]
  },
  {
   "cell_type": "markdown",
   "id": "baking-lottery",
   "metadata": {},
   "source": [
    "#### Loss, Accuracy 그래프 시각화"
   ]
  },
  {
   "cell_type": "code",
   "execution_count": 634,
   "id": "eligible-columbus",
   "metadata": {},
   "outputs": [
    {
     "data": {
      "image/png": "[encoded data removed]",
      "text/plain": [
       "<Figure size 1080x720 with 2 Axes>"
      ]
     },
     "metadata": {
      "needs_background": "light"
     },
     "output_type": "display_data"
    }
   ],
   "source": [
    "display_acc_loss(history.history)"
   ]
  },
  {
   "cell_type": "markdown",
   "id": "casual-kitchen",
   "metadata": {},
   "source": [
    "#### 모델 평가"
   ]
  },
  {
   "cell_type": "code",
   "execution_count": 635,
   "id": "economic-arizona",
   "metadata": {},
   "outputs": [
    {
     "name": "stdout",
     "output_type": "stream",
     "text": [
      "1525/1525 - 2s - loss: 0.4356 - accuracy: 0.8154\n",
      "[0.4356383681297302, 0.8153713941574097]\n"
     ]
    }
   ],
   "source": [
    "results = model.evaluate(X_test, y_test, verbose=2)\n",
    "print(results)"
   ]
  },
  {
   "cell_type": "markdown",
   "id": "mounted-pathology",
   "metadata": {},
   "source": [
    "##### rnn"
   ]
  },
  {
   "cell_type": "code",
   "execution_count": 646,
   "id": "fossil-input",
   "metadata": {},
   "outputs": [
    {
     "name": "stdout",
     "output_type": "stream",
     "text": [
      "Epoch 1/15\n",
      "227/227 [==============================] - 22s 72ms/step - loss: 0.6304 - accuracy: 0.6519 - val_loss: 0.4653 - val_accuracy: 0.7905\n",
      "Epoch 2/15\n",
      "227/227 [==============================] - 15s 65ms/step - loss: 0.4405 - accuracy: 0.8057 - val_loss: 0.4187 - val_accuracy: 0.8149\n",
      "Epoch 3/15\n",
      "227/227 [==============================] - 15s 65ms/step - loss: 0.3972 - accuracy: 0.8281 - val_loss: 0.3982 - val_accuracy: 0.8251\n",
      "Epoch 4/15\n",
      "227/227 [==============================] - 15s 65ms/step - loss: 0.3686 - accuracy: 0.8432 - val_loss: 0.3832 - val_accuracy: 0.8334\n",
      "Epoch 5/15\n",
      "227/227 [==============================] - 15s 65ms/step - loss: 0.3499 - accuracy: 0.8525 - val_loss: 0.3797 - val_accuracy: 0.8344\n",
      "Epoch 6/15\n",
      "227/227 [==============================] - 15s 65ms/step - loss: 0.3336 - accuracy: 0.8599 - val_loss: 0.3700 - val_accuracy: 0.8407\n",
      "Epoch 7/15\n",
      "227/227 [==============================] - 15s 65ms/step - loss: 0.3239 - accuracy: 0.8644 - val_loss: 0.3666 - val_accuracy: 0.8416\n",
      "Epoch 8/15\n",
      "227/227 [==============================] - 15s 65ms/step - loss: 0.3133 - accuracy: 0.8696 - val_loss: 0.3668 - val_accuracy: 0.8423\n",
      "Epoch 9/15\n",
      "227/227 [==============================] - 15s 65ms/step - loss: 0.3027 - accuracy: 0.8741 - val_loss: 0.3636 - val_accuracy: 0.8419\n",
      "Epoch 10/15\n",
      "227/227 [==============================] - 15s 65ms/step - loss: 0.2946 - accuracy: 0.8781 - val_loss: 0.3676 - val_accuracy: 0.8430\n",
      "Epoch 11/15\n",
      "227/227 [==============================] - 15s 65ms/step - loss: 0.2866 - accuracy: 0.8824 - val_loss: 0.3638 - val_accuracy: 0.8450\n",
      "Epoch 12/15\n",
      "227/227 [==============================] - 15s 65ms/step - loss: 0.2808 - accuracy: 0.8867 - val_loss: 0.3707 - val_accuracy: 0.8429\n",
      "Epoch 13/15\n",
      "227/227 [==============================] - 15s 65ms/step - loss: 0.2731 - accuracy: 0.8897 - val_loss: 0.3708 - val_accuracy: 0.8433\n",
      "Epoch 14/15\n",
      "227/227 [==============================] - 15s 65ms/step - loss: 0.2675 - accuracy: 0.8922 - val_loss: 0.3731 - val_accuracy: 0.8428\n",
      "Epoch 15/15\n",
      "227/227 [==============================] - 15s 65ms/step - loss: 0.2619 - accuracy: 0.8960 - val_loss: 0.3764 - val_accuracy: 0.8402\n"
     ]
    }
   ],
   "source": [
    "epochs=15\n",
    "model = rnn_layer(max_sentence_length, embedding_matrix)\n",
    "tensorboard_callback = keras.callbacks.TensorBoard(log_dir=\"logs\")\n",
    "model.compile(optimizer=keras.optimizers.Adamax(lr=0.002), \n",
    "              loss=keras.losses.BinaryCrossentropy(from_logits=True), \n",
    "              metrics=['accuracy'])\n",
    "history=model.fit(X_train, \n",
    "                  y_train, \n",
    "                  epochs=epochs, \n",
    "                  batch_size=512, \n",
    "                  validation_data=(X_val, y_val), \n",
    "                  verbose=1, callbacks=[tensorboard_callback])"
   ]
  },
  {
   "cell_type": "markdown",
   "id": "hundred-origin",
   "metadata": {},
   "source": [
    "#### Loss, Accuracy 그래프 시각화"
   ]
  },
  {
   "cell_type": "code",
   "execution_count": 647,
   "id": "congressional-newcastle",
   "metadata": {},
   "outputs": [
    {
     "data": {
      "image/png": "[encoded data removed]",
      "text/plain": [
       "<Figure size 1080x720 with 2 Axes>"
      ]
     },
     "metadata": {
      "needs_background": "light"
     },
     "output_type": "display_data"
    }
   ],
   "source": [
    "display_acc_loss(history.history)"
   ]
  },
  {
   "cell_type": "markdown",
   "id": "amino-salvation",
   "metadata": {},
   "source": [
    "#### 모델 평가"
   ]
  },
  {
   "cell_type": "code",
   "execution_count": 648,
   "id": "adverse-receptor",
   "metadata": {},
   "outputs": [
    {
     "name": "stdout",
     "output_type": "stream",
     "text": [
      "1525/1525 - 23s - loss: 0.3791 - accuracy: 0.8402\n",
      "[0.37912026047706604, 0.840156614780426]\n"
     ]
    }
   ],
   "source": [
    "results = model.evaluate(X_test, y_test, verbose=2)\n",
    "print(results)"
   ]
  },
  {
   "cell_type": "markdown",
   "id": "coral-following",
   "metadata": {},
   "source": [
    "# 회고"
   ]
  },
  {
   "cell_type": "markdown",
   "id": "interpreted-treasurer",
   "metadata": {},
   "source": [
    "* 성능 0.01을 올리는게 이렇게 힘든 일이구나를 알게되었다.\n",
    "* 감성분석이라는 것이 있구나를 알게되었다.\n",
    "* 다양한 optimizer에 대해서 알게되었다.\n",
    "* training loss와 validation loss의 관계를 좀 더 원활하게 사용했다.\n",
    "* 관심이 가는 분야라 tensorflow나 다른 자료들을 더 찾아봐야겠다.\n",
    "* 시간이 없어서 못했지만 실제 문장을 넣고 리뷰를 예측해보는 기능을 넣고 싶다."
   ]
  },
  {
   "cell_type": "markdown",
   "id": "amber-jumping",
   "metadata": {},
   "source": [
    "# Reference"
   ]
  },
  {
   "cell_type": "markdown",
   "id": "hungarian-phone",
   "metadata": {},
   "source": [
    "* https://wikidocs.net/44249\n",
    "* https://www.tensorflow.org/tutorials/text/text_classification_rnn#%EB%91%90_%EA%B0%9C_%EC%9D%B4%EC%83%81%EC%9D%98_lstm_%EB%A0%88%EC%9D%B4%EC%96%B4_%EC%8C%93%EA%B8%B0\n",
    "* https://hyemin-kim.github.io/2020/08/29/E-Python-TextMining-2/"
   ]
  }
 ],
 "metadata": {
  "kernelspec": {
   "display_name": "Python 3",
   "language": "python",
   "name": "python3"
  },
  "language_info": {
   "codemirror_mode": {
    "name": "ipython",
    "version": 3
   },
   "file_extension": ".py",
   "mimetype": "text/x-python",
   "name": "python",
   "nbconvert_exporter": "python",
   "pygments_lexer": "ipython3",
   "version": "3.7.9"
  }
 },
 "nbformat": 4,
 "nbformat_minor": 5
}
