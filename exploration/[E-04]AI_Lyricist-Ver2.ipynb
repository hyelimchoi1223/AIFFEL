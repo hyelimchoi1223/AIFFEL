{
 "cells": [
  {
   "cell_type": "markdown",
   "id": "retained-experiment",
   "metadata": {},
   "source": [
    "# 프로젝트: 작사가 만들기"
   ]
  },
  {
   "cell_type": "markdown",
   "id": "electric-spray",
   "metadata": {},
   "source": [
    "### 목표\n",
    "1. 가사 데이터를 정제과정을 거쳐 전처리를 한다.\n",
    "2. 모델 생성 후 평가하고, 그 결과를 분석해 더 나은 성능을 가진 모델을 만든다.\n",
    "3. 학습된 모델로 가사를 써본다."
   ]
  },
  {
   "cell_type": "markdown",
   "id": "horizontal-counter",
   "metadata": {},
   "source": [
    "## 데이터 불러오기"
   ]
  },
  {
   "cell_type": "code",
   "execution_count": 76,
   "id": "julian-coordinator",
   "metadata": {},
   "outputs": [
    {
     "name": "stdout",
     "output_type": "stream",
     "text": [
      "데이터 개수: 187088\n",
      "데이터 샘플:\n",
      " ['I hear you callin\\', \"Here I come baby\"', 'To save you, oh oh', \"Baby no more stallin'\"]\n"
     ]
    }
   ],
   "source": [
    "import os\n",
    "import glob\n",
    "txt_file_path = os.getenv('HOME')+'/aiffel/lyricist/data/lyrics/*'\n",
    "txt_list = glob.glob(txt_file_path)\n",
    "\n",
    "raw_corpus= []\n",
    "for txt_file in txt_list:\n",
    "    with open(txt_file, 'r') as f:\n",
    "        raw_corpus += f.read().splitlines()\n",
    "\n",
    "print(f'데이터 개수: {len(raw_corpus)}')\n",
    "print(f'데이터 샘플:\\n {raw_corpus[:3]}')"
   ]
  },
  {
   "cell_type": "code",
   "execution_count": 77,
   "id": "emerging-tracy",
   "metadata": {},
   "outputs": [
    {
     "name": "stdout",
     "output_type": "stream",
     "text": [
      "\n"
     ]
    }
   ],
   "source": [
    "print(*raw_corpus[-1:-200])"
   ]
  },
  {
   "cell_type": "code",
   "execution_count": 78,
   "id": "heated-accountability",
   "metadata": {},
   "outputs": [
    {
     "name": "stdout",
     "output_type": "stream",
     "text": [
      "I hear you callin', \"Here I come baby\"\n",
      "To save you, oh oh\n",
      "Baby no more stallin'\n",
      "These hands have been longing to touch you baby\n",
      "And now that you've come around, to seein' it my way\n",
      "You won't regret it baby, and you surely won't forget it baby\n",
      "It's unbelieveable how your body's calling for me\n",
      "I can just hear it callin' callin' for me My body's callin' for you\n",
      "My body's callin' for you\n",
      "My body's callin' for you\n",
      "My body's callin' for you Tell me, what's your desire\n",
      "Baby your wish is my deal oh yes it is baby\n",
      "Let me take you higher\n",
      "Show you how you should feel, baby\n",
      "Oh So we speak now and forever hold your body\n",
      "Whatever it is you want from me, baby\n",
      "You see you don't have to say nothing\n",
      "Knowing your body wants something\n",
      "And it's easy for me to see\n",
      "That your body's callin' for me My body's callin' for you\n",
      "My body's callin' for you\n",
      "My body's callin' for you\n",
      "My body's callin' for you I'm listening baby\n",
      "I hear you callin' me\n",
      "I'm listening baby\n",
      "I hear you callin' me\n",
      "I'm listening baby\n",
      "I hear you callin' me\n",
      "I'm listening baby\n",
      "I hear you callin' me My body's callin' for you\n",
      "I hear you callin' me\n",
      "My body's callin' for you\n",
      "I hear you callin' me\n",
      "My body's callin' for you\n",
      "I hear you callin' me\n",
      "My body's callin' for you I used to think that I could not go on\n",
      "And life was nothing but an awful song\n",
      "But now I know the meaning of true love\n",
      "I'm leaning on the everlasting arms If I can see it, then I can do it\n",
      "If I just believe it, there's nothing to it I believe I can fly\n",
      "I believe I can touch the sky\n",
      "I think about it every night and day (Night and day)\n",
      "Spread my wings and fly away\n",
      "I believe I can soar\n",
      "I see me running through that open door\n",
      "I believe I can fly\n",
      "I believe I can fly\n",
      "I believe I can fly hoo See I was on the verge of breaking down\n",
      "Sometimes silence can seem so loud\n",
      "There are miracles in life I must achieve\n",
      "But first I know it starts inside of me, ho oh If I can see it hoo, then I can be it\n",
      "If I just believe it, there's nothing to it I believe I can fly\n",
      "I believe I can touch the sky\n",
      "I think about it every night and day\n",
      "Spread my wings and fly away\n",
      "I believe I can soar\n",
      "I see me running through that open door\n",
      "I believe I can fly\n",
      "I believe I can fly\n",
      "Oh, I believe I can fly hoo Hey, 'cause I believe in me, oh If I can see it hoo, then I can do it\n",
      "If I just believe it, there's nothing to it hey I believe I can fly hoo\n",
      "I believe I can touch the sky\n",
      "I think about it every night and day\n",
      "Spread my wings and fly away\n",
      "I believe I can soar\n",
      "I see me running through that open door\n",
      "I believe I can fly (I can fly)\n",
      "I believe I can fly (I can fly)\n",
      "I believe I can fly (I can fly) hey If I just spread my wings (I can fly)\n",
      "I can fly (I can fly)\n",
      "I can fly (I can fly)\n",
      "I can fly,(I can fly) hey\n",
      "If I just spread my wings (I can fly)\n",
      "I can fly (I can fly)\n",
      "(I can fly)\n",
      "(I can fly) Yo Ush\n",
      "What up Kellz\n",
      "Wanna introduce you to this girl, think I really love this girl\n",
      "Yeah\n",
      "Man she so fine\n",
      "Straight up dog\n",
      "She stand about 5'4 coke cola red bone\n",
      "Damn\n",
      "She drives a black Durango license plate say 'Angel' tattoo on her ankle\n",
      "Plus she's making pesos she got a crib on Peace street right on 17th street\n",
      "And I call her T.T.\n",
      "Wait a minute hold on dog do she got a kid?\n",
      "Yep\n",
      "Love Some Waffle House?\n",
      "Yep\n",
      "Do she got a beauty mark on her left side of her mouth\n",
      "Man?\n",
      "Went to Georgia Tech\n",
      "Yep\n",
      "Works for TBS\n",
      "Yep\n",
      "Man I can't believe this chick? Damn? mm\n",
      "Tell me whats wrong dog, what the hell you damning about\n",
      "I'm your homie so just say whats on your mind\n",
      "Man I didn't know that you were talking about her\n",
      "So man your telling me you know her\n",
      "Do I know her like a pastor know his word We messing with the same girl same girl\n",
      "How could the love of my life, and my potential wife be the\n",
      "Same girl same girl\n",
      "Man I can't believe that we've been messing with the\n",
      "Same girl same girl\n",
      "Thought she someone that I can trust\n",
      "But she's been doubling up with us\n",
      "You can't, man we've been messing with the same girl See I met her at this party in Atlanta\n",
      "Well I met her at this party in Chicago\n",
      "She came right up to me given me conversation\n",
      "I said do you got a man she said no, with no hesitation\n",
      "Well it must be a music thing cause she said the same to me\n",
      "At a party all in my face, when I'm laughin' and buyin' her drinks She whispered in my ear and said can you take me home\n",
      "Me too\n",
      "Man she was in the chi singin' that same song\n",
      "Is that true\n",
      "And I thought it was true confession when she said\n",
      "I love you\n",
      "Man I thought her body was calling when she said\n",
      "I want you\n",
      "Look I even got some pictures on my phone\n",
      "Look at there, there she is with some boy shorts on We messing with the same girl same girl\n",
      "How could the love of my life, and my potential wife be the\n",
      "Same girl same girl\n",
      "Man I can't believe that we've been messing with the\n",
      "Same girl same girl\n",
      "Thought she someone that I can trust\n",
      "But she's been doubling up with us\n",
      "You can't, man we've been messing with the same girl She said she got me on her ring tone\n",
      "Are you talking about the pink phone\n",
      "Mm the blue one\n",
      "Man she told me that was turned off\n",
      "Its obvious that shes been playing us playing us\n",
      "Or constantly she's been lyin' to us lyin' to us\n",
      "Don't like the way that she's been goin' 'bout it goin' 'bout it\n",
      "Kellz what do you think we should do about it do about it\n",
      "Call her up at her home, she won?t know that I'm on the phone\n",
      "Yeah man that's a way\n",
      "Homie we about to bust this trick\n",
      "Man just ask her to meet up with you and I'm gonna show up too\n",
      "And then she won't know what to do\n",
      "We'll be standing there singing We messing with the same girl same girl\n",
      "How could the love of my life, and my potential wife be the\n",
      "Same girl same girl\n",
      "Man I can't believe that we've been messing with the\n",
      "Same girl same girl\n",
      "Thought she someone that I can trust\n",
      "But she's been doubling up with us\n",
      "You can't, man we've been messing with the same girl See she was taken flights going back and forth\n",
      "I would pick her up at the Airport\n",
      "Man I really can't believe the\n",
      "Same girl same girl\n",
      "Hey, the same girl same girl Now usually I don't do this but uh\n",
      "Go head' on and break 'em off wit a lil' preview of the remix No I'm not tryin' to be rude,\n",
      "But hey pretty girl I'm feelin' you\n",
      "The way you do the things you do\n",
      "Remind me of my Lexus coup\n",
      "That's why im all up in yo grill\n",
      "Tryna get you to a hotel\n",
      "You must be a football coach\n",
      "The way you got me playin' the field So baby gimme that toot toot\n",
      "Lemme give you that beep beep\n",
      "Runnin' her hands through my 'fro\n",
      "Bouncin' on 24's\n",
      "While they sayin on the radio It's the remix to ignition\n",
      "Hot and fresh out the kitchen\n",
      "Mama rollin' that body\n",
      "Got every man in here wishin'\n",
      "Sippin' on coke and rum\n",
      "I'm like so what I'm drunk\n",
      "It's the freakin' weekend baby\n",
      "I'm about to have me some fun Bounce Bounce Bounce Bounce Bounce Bounce Bounce\n",
      "Bounce Bounce Bounce Now it's like murder she wrote\n",
      "Once I get you out them clothes\n",
      "Privacy is on the door\n",
      "But still they can hear you screamin' more\n",
      "Girl I'm feelin' what you feelin'\n",
      "No more hopin' and wishin'\n",
      "I'm bout to take my key and\n",
      "Stick it in the ignition So gimme that toot toot\n",
      "Lemme give you that beep beep\n",
      "Runnin' her hands through my 'fro\n",
      "Bouncin' on 24's\n",
      "While they sayin on the radio This is the remix to ignition\n",
      "Hot and fresh out the kitchen\n",
      "Mama rollin' that body\n",
      "Got every man in here wishin'\n",
      "Sippin' on coke and rum\n",
      "I'm like so what I'm drunk\n",
      "It's the freakin' weekend baby\n",
      "I'm about to have me some fun Crystal poppin' in the stretch Navigator\n",
      "We got food every where\n",
      "As if the party was catered\n",
      "We got fellas to my left\n",
      "Honeys on my right\n",
      "We bring em both together we got junkin' all night\n",
      "Then after the show its the (after party)\n",
      "And after the party its the (hotel lobby)\n",
      "Around about 4 you gotta (clear the lobby)\n",
      "Then head take it to the room and freak somebody Can I get a toot toot\n",
      "Can I get a beep beep\n",
      "Runnin' her hands through my 'fro\n",
      "Bouncin' on 24's\n",
      "While they sayin on the radio It's the remix to ignition\n",
      "Hot and fresh out the kitchen\n",
      "Mama rollin' that body\n",
      "Got every man in here wishin'\n",
      "Sippin' on coke and rum\n",
      "I'm like so what I'm drunk\n",
      "It's the freakin' weekend baby\n",
      "I'm about to have me some fun This is the remix to ignition\n",
      "Hot and fresh out the kitchen\n",
      "Mama rollin' that body\n",
      "Got every man in here wishin'\n",
      "Sippin' on coke and rum\n",
      "I'm like so what I'm drunk\n",
      "It's the freakin' weekend baby\n",
      "I'm about to have me some fun Girl we off in this jeep\n",
      "Foggin' windows up\n",
      "Blastin' the radio\n",
      "In the back of my truck\n",
      "Bouncin' up and down\n",
      "Stroke it round and round\n",
      "To the remix\n",
      "We just thuggin' it out I am a mountain,\n",
      "I am a tall tree, oh\n",
      "I am a swift wind\n",
      "Sweeping the country I am a river,\n",
      "Down in the valley, oh\n",
      "I am a vision\n",
      "And I can see clearly If anybody asks you who I am, just stand up tall, look 'em in the face and say I'm that star up in the sky\n",
      "I'm that mountain peak up high\n",
      "Hey I made it, hmm\n",
      "I'm the worlds greatest I'm that little bit of hope\n",
      "When my back's against the ropes\n",
      "I can feel it, hmm\n",
      "I'm the worlds greatest I am a giant\n",
      "I am an eagle oh\n",
      "I am a lion\n",
      "Down in the jungle\n",
      "I am a marching band\n",
      "I am the people oh\n",
      "I am a helping hand\n",
      "I am a hero If anybody asks you who I am, just stand up tall look 'em in the face and say I'm that star up in the sky\n",
      "I'm that mountain peak up high\n",
      "Hey I made it, hmm\n",
      "I'm the worlds greatest I'm that little bit of hope\n",
      "When my back's against the ropes\n",
      "I can feel it, hmm\n",
      "I'm the worlds greatest In the ring of life,\n",
      "I'll reign love (i will reign)\n",
      "And the world will notice a king (oh, yeah)\n",
      "When all is darkness,\n",
      "I'll shine a light (shine a light)\n",
      "And the mirrors of sucesss reflect in me (me) I'm that star up in the sky\n",
      "I'm that mountain peak up high\n",
      "Hey I made it\n",
      "I'm the worlds greatest I'm that little bit of hope\n",
      "When my back's against the ropes\n",
      "I can feel it (feel it)\n",
      "I'm the worlds greatest I'm that star up in the sky\n",
      "I'm that mountain peak up high\n",
      "Hey I made it\n",
      "I'm the worlds greatest I'm that little bit of hope\n",
      "When my back's against the ropes\n",
      "I can feel it\n",
      "I'm the worlds greatest I'm that star up in the sky\n",
      "I'm that mountain peak up high\n",
      "Hey I made it\n",
      "I'm the worlds greatest I'm that little bit of hope\n",
      "When my back's against the ropes\n",
      "I can feel it\n",
      "I'm the worlds greatest (He's the greatest) can you feel it?\n",
      "(Can you feel it?) he's the greatest\n",
      "(He's the greatest) can you feel it?\n",
      "(Can you feel it?) i saw the light\n",
      "(He's the greatest) at the end of the tunnel\n",
      "(Can you feel it?) believe in a pot of gold\n",
      "(He's the greatest) at the end of a rainbow My mind is tellin' me no but my body, my body's tellin' me yes\n",
      "Baby, I don't want to hurt nobody\n",
      "But there is something that I must confess (to you) I don't see nothing wrong with a little bump and grind\n",
      "I don't see nothing wrong, hey baby, hey\n",
      "I don't see nothing wrong (I don't see nothing wrong) with a little bump and grind\n",
      "I don't see nothing wrong, hey See I know just what you want and I know just what you need girl\n",
      "So baby bring your body to me (bring your body here)\n",
      "I'm not fooling around with you, baby\n",
      "Baby my love is true (with you) with you is where I want to be\n",
      "Girl, you need someone, someone like me to satisfy your every needs I don't see nothing wrong with a little bump and grind\n",
      "I don't see nothing wrong, baby, baby, I don't see\n",
      "I don't see nothing wrong (I don't see nothing wrong) with a little bump and grind\n",
      "I don't see nothing wrong, baby hey You say he's not treating you right\n",
      "Lady spend the night now\n",
      "I'll love you like you need to be loved (girl why don't you try some of me)\n",
      "No need to look no more because I've opened up my door\n",
      "You'll never, you'll never want another love, baby you'll never find another me\n",
      "You see you need someone, someone like me, yeah to make love to you baby constantly I don't see nothing wrong with a little bump and grind\n",
      "I don't see nothing wrong, oh\n",
      "I don't see nothing wrong with a little bump and grind\n",
      "I don't see nothing wrong, baby, baby, alright I don't see nothing wrong, I don't see nothing wrong, with a little bump and grind\n",
      "I don't see nothing wrong, I don't see, I don't see nothing wrong\n"
     ]
    }
   ],
   "source": [
    "for idx, sentence in enumerate(raw_corpus):\n",
    "    if len(sentence) == 0: continue\n",
    "    if idx > 300: break \n",
    "    print(sentence)"
   ]
  },
  {
   "cell_type": "markdown",
   "id": "confident-volleyball",
   "metadata": {},
   "source": [
    "## 데이터 정제"
   ]
  },
  {
   "cell_type": "markdown",
   "id": "academic-impression",
   "metadata": {},
   "source": [
    "1. 대문자를 소문자로 바꾼다.\n",
    "2. 문장부호(? ! . , ) 양쪽에 공백을 넣는다. \n",
    "    - [']의 경우 what's나 I'm 등을 단어 그대로 보존하기 위해 분리하지 않았다.\n",
    "3. 숫자 양쪽에 공백을 넣는다.\n",
    "4. ()안에 있는 단어는 삭제한다.\n",
    "    - ()안에 있는 내용은 대부분 코러스에 해당하는데 코러스의 단어들은 가사와 일치하는 부분이 많아 삭제하였다.\n",
    "5. []안에 있는 단어는 삭제한다.\n",
    "    - 예를들어 `[Bridge: Mark Hoppus and Matt Skiba]`, `[Outro: Mark Hoppus (Matt Skiba)]`, `[chrous]`\n",
    "    - []안에 있는 내용은 가사가 아닌 가사를 설명해주는 주석의 역할을 많이 하기 때문에 삭제하였다.\n",
    "6. 여러 공백은 삭제한다.\n",
    "7. 문자열과 숫자, 지정한 문장부호가 아닌 문자는 공백으로 바꾼다.\n",
    "8. 양쪽 끝 공백을 삭제한다."
   ]
  },
  {
   "cell_type": "markdown",
   "id": "fantastic-championship",
   "metadata": {},
   "source": [
    "### 전처리 함수"
   ]
  },
  {
   "cell_type": "code",
   "execution_count": 79,
   "id": "pleasant-messenger",
   "metadata": {},
   "outputs": [],
   "source": [
    "import re\n",
    "def preprocess_sentence(sentence):\n",
    "    sentence = sentence.lower()\n",
    "    sentence = re.sub(r\"([?.,!])\", r\" \\1 \", sentence)    \n",
    "    sentence = re.sub(r\"([0-9])\", r\" \\1 \", sentence)\n",
    "    sentence = re.sub(r\"(\\([A-z0-9]*\\))\", \" \", sentence)\n",
    "    sentence = re.sub(r\"(\\[[A-z0-9:]*[' ']*[A-z0-9' ']*\\(*[A-z0-9' ')]*])\", \" \", sentence)        \n",
    "    sentence = re.sub(r'[\" \"]+', \" \", sentence)\n",
    "    sentence = re.sub(r\"[^A-z0-9?.,!']+\", \" \", sentence)    \n",
    "    sentence = sentence.strip()\n",
    "    sentence = \"<start> \"+sentence+\" <end>\"\n",
    "    return sentence"
   ]
  },
  {
   "cell_type": "code",
   "execution_count": 80,
   "id": "acquired-checklist",
   "metadata": {},
   "outputs": [
    {
     "data": {
      "text/plain": [
       "\"<start> and i can see clearly if anybody asks you who i am , just stand up tall , look 'em in the face and say i'm that star up in the sky if that's love in ? ? hi hi ? your eyes . 9 year <end>\""
      ]
     },
     "execution_count": 80,
     "metadata": {},
     "output_type": "execute_result"
    }
   ],
   "source": [
    "# 전처리 결과 확인\n",
    "preprocess_sentence(\"And I can see clearly If anybody asks you who I am, just stand up tall, look 'em in the face and say I'm that star up in the sky  If that's love in  ?? hi hi?     your eyes.  $$$$ 9year [cho] (hey)  [Bridge: Mark Hoppus and Matt Skiba] [Outro: Mark Hoppus (Matt Skiba)]\")"
   ]
  },
  {
   "cell_type": "markdown",
   "id": "focal-quarterly",
   "metadata": {},
   "source": [
    "토큰화 과정에서 토큰의 최대 길이를 15로 잡기 때문에 문장의 단어가 15개가 넘어가는 것을 삭제했다.    \n",
    "또, 문장에 단어가 2개라는 것은 \\<start> \\<end> 만 있다는 것이므로 2개 이하인 것도 삭제했다."
   ]
  },
  {
   "cell_type": "code",
   "execution_count": 81,
   "id": "opponent-contemporary",
   "metadata": {},
   "outputs": [
    {
     "data": {
      "text/plain": [
       "153372"
      ]
     },
     "execution_count": 81,
     "metadata": {},
     "output_type": "execute_result"
    }
   ],
   "source": [
    "corpus=[]\n",
    "for sentence in raw_corpus:\n",
    "    if len(sentence) == 0: continue\n",
    "    new_sentence = preprocess_sentence(sentence)\n",
    "    if len(new_sentence.split(' ')) <=2 or len(new_sentence.split(' ')) >=15:\n",
    "        continue\n",
    "    corpus.append(new_sentence)\n",
    "    \n",
    "len(corpus)"
   ]
  },
  {
   "cell_type": "markdown",
   "id": "potential-louisiana",
   "metadata": {},
   "source": [
    "## 토큰화"
   ]
  },
  {
   "cell_type": "code",
   "execution_count": 82,
   "id": "clear-wagon",
   "metadata": {},
   "outputs": [],
   "source": [
    "import tensorflow as tf\n",
    "def tokenize(corpus):\n",
    "    tokenizer = tf.keras.preprocessing.text.Tokenizer(\n",
    "        num_words=20000, \n",
    "        filters=' ', \n",
    "        oov_token=\"<unk>\"\n",
    "    )\n",
    "    tokenizer.fit_on_texts(corpus)\n",
    "    tensor = tokenizer.texts_to_sequences(corpus)\n",
    "    tensor = tf.keras.preprocessing.sequence.pad_sequences(tensor, padding='post', maxlen=15, truncating='post')\n",
    "    \n",
    "    return tensor, tokenizer"
   ]
  },
  {
   "cell_type": "code",
   "execution_count": 83,
   "id": "fitted-scoop",
   "metadata": {},
   "outputs": [],
   "source": [
    "tensor, tokenizer = tokenize(corpus)"
   ]
  },
  {
   "cell_type": "code",
   "execution_count": 84,
   "id": "basic-phase",
   "metadata": {},
   "outputs": [
    {
     "name": "stdout",
     "output_type": "stream",
     "text": [
      "1 : <unk>\n",
      "2 : <start>\n",
      "3 : <end>\n",
      "4 : ,\n",
      "5 : the\n",
      "6 : i\n",
      "7 : you\n",
      "8 : and\n",
      "9 : a\n",
      "10 : to\n"
     ]
    }
   ],
   "source": [
    "# 토큰 사전 확인\n",
    "for idx in tokenizer.index_word:\n",
    "    print(idx, \":\", tokenizer.index_word[idx])\n",
    "\n",
    "    if idx >= 10: break"
   ]
  },
  {
   "cell_type": "code",
   "execution_count": 88,
   "id": "honey-object",
   "metadata": {},
   "outputs": [
    {
     "data": {
      "text/plain": [
       "((153372, 14), (153372, 14))"
      ]
     },
     "execution_count": 88,
     "metadata": {},
     "output_type": "execute_result"
    }
   ],
   "source": [
    "src_input = tensor[:, :-1]\n",
    "tgt_input = tensor[:,1:]\n",
    "\n",
    "src_input.shape, tgt_input.shape"
   ]
  },
  {
   "cell_type": "markdown",
   "id": "lined-tracy",
   "metadata": {},
   "source": [
    "## 데이터셋 생성"
   ]
  },
  {
   "cell_type": "code",
   "execution_count": 89,
   "id": "related-evanescence",
   "metadata": {},
   "outputs": [],
   "source": [
    "from sklearn.model_selection import train_test_split\n",
    "X_train, X_test, y_train, y_test = train_test_split(src_input,tgt_input, test_size=0.2, random_state=25)"
   ]
  },
  {
   "cell_type": "code",
   "execution_count": 90,
   "id": "meaningful-anniversary",
   "metadata": {},
   "outputs": [
    {
     "data": {
      "text/plain": [
       "((122697, 14), (122697, 14))"
      ]
     },
     "execution_count": 90,
     "metadata": {},
     "output_type": "execute_result"
    }
   ],
   "source": [
    "X_train.shape, y_train.shape "
   ]
  },
  {
   "cell_type": "markdown",
   "id": "champion-kuwait",
   "metadata": {},
   "source": [
    "## 작사가 모델 생성"
   ]
  },
  {
   "cell_type": "code",
   "execution_count": 91,
   "id": "parallel-framing",
   "metadata": {},
   "outputs": [],
   "source": [
    "class TextGenerator(tf.keras.Model):\n",
    "    def __init__(self, vocab_size, embedding_size, hidden_size):\n",
    "        super().__init__()\n",
    "        \n",
    "        self.embedding = tf.keras.layers.Embedding(vocab_size, embedding_size)\n",
    "        self.rnn_1 = tf.keras.layers.LSTM(hidden_size, return_sequences=True)\n",
    "        self.rnn_2 = tf.keras.layers.LSTM(hidden_size, return_sequences=True)\n",
    "        self.linear = tf.keras.layers.Dense(vocab_size)\n",
    "        \n",
    "    def call(self, x):\n",
    "        out = self.embedding(x)\n",
    "        out = self.rnn_1(out)\n",
    "        out = self.rnn_2(out)\n",
    "        out = self.linear(out)\n",
    "        \n",
    "        return out\n"
   ]
  },
  {
   "cell_type": "code",
   "execution_count": 96,
   "id": "typical-shirt",
   "metadata": {},
   "outputs": [],
   "source": [
    "import matplotlib.pyplot as plt\n",
    "def train_model_and_visualization(enbedding_size, hidden_size, my_epochs=10):\n",
    "    \n",
    "    def loss_visualization(history):        \n",
    "        fig, loss_ax = plt.subplots()\n",
    "        loss_ax.plot(history.history['val_loss'], label='var_loss')    \n",
    "        loss_ax.plot(history.history['loss'], label='loss')  \n",
    "        loss_ax.set_xlabel('epoch')\n",
    "        loss_ax.set_ylabel('loss')\n",
    "        plt.show()\n",
    "        \n",
    "    model = TextGenerator(tokenizer.num_words+1, embedding_size, hidden_size)\n",
    "    optimizer = tf.keras.optimizers.Adam()\n",
    "    loss = tf.keras.losses.SparseCategoricalCrossentropy(\n",
    "        from_logits=True,\n",
    "        reduction='none'\n",
    "    )\n",
    "    model.compile(loss=loss, optimizer=optimizer, metrics=[\"accuracy\"])\n",
    "    history = model.fit(X_train, y_train, validation_data=(X_test, y_test), epochs=my_epochs)\n",
    "    tf.test.is_gpu_available()\n",
    "    model.summary()\n",
    "    loss_visualization(history)\n"
   ]
  },
  {
   "cell_type": "markdown",
   "id": "boring-sandwich",
   "metadata": {},
   "source": [
    "하이퍼파라미터와 모델 간에 어떤 관계가 있을지 궁금해서 시각화를 해보았다."
   ]
  },
  {
   "cell_type": "code",
   "execution_count": 95,
   "id": "religious-consumer",
   "metadata": {},
   "outputs": [
    {
     "name": "stdout",
     "output_type": "stream",
     "text": [
      "Epoch 1/5\n",
      "3835/3835 [==============================] - 415s 107ms/step - loss: 3.4416 - accuracy: 0.5096 - val_loss: 2.8987 - val_accuracy: 0.5431\n",
      "Epoch 2/5\n",
      "3835/3835 [==============================] - 416s 108ms/step - loss: 2.7739 - accuracy: 0.5482 - val_loss: 2.7253 - val_accuracy: 0.5582\n",
      "Epoch 3/5\n",
      "3835/3835 [==============================] - 421s 110ms/step - loss: 2.4925 - accuracy: 0.5687 - val_loss: 2.6195 - val_accuracy: 0.5731\n",
      "Epoch 4/5\n",
      "3835/3835 [==============================] - 426s 111ms/step - loss: 2.2500 - accuracy: 0.5899 - val_loss: 2.5560 - val_accuracy: 0.5867\n",
      "Epoch 5/5\n",
      "3835/3835 [==============================] - 425s 111ms/step - loss: 2.0252 - accuracy: 0.6166 - val_loss: 2.5112 - val_accuracy: 0.6019\n",
      "Model: \"text_generator_5\"\n",
      "_________________________________________________________________\n",
      "Layer (type)                 Output Shape              Param #   \n",
      "=================================================================\n",
      "embedding_5 (Embedding)      multiple                  5120256   \n",
      "_________________________________________________________________\n",
      "lstm_10 (LSTM)               multiple                  5246976   \n",
      "_________________________________________________________________\n",
      "lstm_11 (LSTM)               multiple                  8392704   \n",
      "_________________________________________________________________\n",
      "dense_5 (Dense)              multiple                  20501025  \n",
      "=================================================================\n",
      "Total params: 39,260,961\n",
      "Trainable params: 39,260,961\n",
      "Non-trainable params: 0\n",
      "_________________________________________________________________\n"
     ]
    },
    {
     "data": {
      "image/png": "[encoded data removed]",
      "text/plain": [
       "<Figure size 432x288 with 1 Axes>"
      ]
     },
     "metadata": {
      "needs_background": "light"
     },
     "output_type": "display_data"
    }
   ],
   "source": [
    "embedding_size = 256\n",
    "hidden_size = 1024\n",
    "train_model_and_visualization(embedding_size, hidden_size, 5)"
   ]
  },
  {
   "cell_type": "code",
   "execution_count": 97,
   "id": "dirty-loading",
   "metadata": {},
   "outputs": [
    {
     "name": "stdout",
     "output_type": "stream",
     "text": [
      "Epoch 1/5\n",
      "3835/3835 [==============================] - 651s 169ms/step - loss: 3.3683 - accuracy: 0.5147 - val_loss: 2.8760 - val_accuracy: 0.5442\n",
      "Epoch 2/5\n",
      "3835/3835 [==============================] - 633s 165ms/step - loss: 2.7369 - accuracy: 0.5512 - val_loss: 2.6998 - val_accuracy: 0.5616\n",
      "Epoch 3/5\n",
      "3835/3835 [==============================] - 632s 165ms/step - loss: 2.4510 - accuracy: 0.5723 - val_loss: 2.5937 - val_accuracy: 0.5766\n",
      "Epoch 4/5\n",
      "3835/3835 [==============================] - 632s 165ms/step - loss: 2.1947 - accuracy: 0.5964 - val_loss: 2.5267 - val_accuracy: 0.5921\n",
      "Epoch 5/5\n",
      "3835/3835 [==============================] - 630s 164ms/step - loss: 1.9731 - accuracy: 0.6235 - val_loss: 2.4978 - val_accuracy: 0.6059\n",
      "Model: \"text_generator_6\"\n",
      "_________________________________________________________________\n",
      "Layer (type)                 Output Shape              Param #   \n",
      "=================================================================\n",
      "embedding_6 (Embedding)      multiple                  20481024  \n",
      "_________________________________________________________________\n",
      "lstm_12 (LSTM)               multiple                  8392704   \n",
      "_________________________________________________________________\n",
      "lstm_13 (LSTM)               multiple                  8392704   \n",
      "_________________________________________________________________\n",
      "dense_6 (Dense)              multiple                  20501025  \n",
      "=================================================================\n",
      "Total params: 57,767,457\n",
      "Trainable params: 57,767,457\n",
      "Non-trainable params: 0\n",
      "_________________________________________________________________\n"
     ]
    },
    {
     "data": {
      "image/png": "[encoded data removed]",
      "text/plain": [
       "<Figure size 432x288 with 1 Axes>"
      ]
     },
     "metadata": {
      "needs_background": "light"
     },
     "output_type": "display_data"
    }
   ],
   "source": [
    "embedding_size = 1024\n",
    "hidden_size = 1024\n",
    "train_model_and_visualization(embedding_size, hidden_size, 5)"
   ]
  },
  {
   "cell_type": "code",
   "execution_count": 98,
   "id": "supposed-tackle",
   "metadata": {},
   "outputs": [
    {
     "name": "stdout",
     "output_type": "stream",
     "text": [
      "Epoch 1/5\n",
      "3835/3835 [==============================] - 429s 111ms/step - loss: 3.7246 - accuracy: 0.4935 - val_loss: 3.0424 - val_accuracy: 0.5346\n",
      "Epoch 2/5\n",
      "3835/3835 [==============================] - 425s 111ms/step - loss: 2.9406 - accuracy: 0.5387 - val_loss: 2.8363 - val_accuracy: 0.5491\n",
      "Epoch 3/5\n",
      "3835/3835 [==============================] - 443s 115ms/step - loss: 2.6978 - accuracy: 0.5547 - val_loss: 2.7271 - val_accuracy: 0.5588\n",
      "Epoch 4/5\n",
      "3835/3835 [==============================] - 445s 116ms/step - loss: 2.5025 - accuracy: 0.5691 - val_loss: 2.6680 - val_accuracy: 0.5670\n",
      "Epoch 5/5\n",
      "3835/3835 [==============================] - 444s 116ms/step - loss: 2.3538 - accuracy: 0.5806 - val_loss: 2.6381 - val_accuracy: 0.5758\n",
      "Model: \"text_generator_7\"\n",
      "_________________________________________________________________\n",
      "Layer (type)                 Output Shape              Param #   \n",
      "=================================================================\n",
      "embedding_7 (Embedding)      multiple                  20481024  \n",
      "_________________________________________________________________\n",
      "lstm_14 (LSTM)               multiple                  1311744   \n",
      "_________________________________________________________________\n",
      "lstm_15 (LSTM)               multiple                  525312    \n",
      "_________________________________________________________________\n",
      "dense_7 (Dense)              multiple                  5140257   \n",
      "=================================================================\n",
      "Total params: 27,458,337\n",
      "Trainable params: 27,458,337\n",
      "Non-trainable params: 0\n",
      "_________________________________________________________________\n"
     ]
    },
    {
     "data": {
      "image/png": "[encoded data removed]",
      "text/plain": [
       "<Figure size 432x288 with 1 Axes>"
      ]
     },
     "metadata": {
      "needs_background": "light"
     },
     "output_type": "display_data"
    }
   ],
   "source": [
    "embedding_size = 1024\n",
    "hidden_size = 256\n",
    "train_model_and_visualization(embedding_size, hidden_size, 5)"
   ]
  },
  {
   "cell_type": "code",
   "execution_count": 99,
   "id": "banner-damages",
   "metadata": {},
   "outputs": [
    {
     "name": "stdout",
     "output_type": "stream",
     "text": [
      "Epoch 1/5\n",
      "3835/3835 [==============================] - 1289s 331ms/step - loss: 3.2694 - accuracy: 0.5209 - val_loss: 2.6848 - val_accuracy: 0.5636\n",
      "Epoch 2/5\n",
      "3835/3835 [==============================] - 1262s 329ms/step - loss: 2.4472 - accuracy: 0.5790 - val_loss: 2.4326 - val_accuracy: 0.5962\n",
      "Epoch 3/5\n",
      "3835/3835 [==============================] - 1261s 329ms/step - loss: 1.9523 - accuracy: 0.6341 - val_loss: 2.2981 - val_accuracy: 0.6257\n",
      "Epoch 4/5\n",
      "3835/3835 [==============================] - 1248s 325ms/step - loss: 1.5765 - accuracy: 0.6918 - val_loss: 2.2562 - val_accuracy: 0.6472\n",
      "Epoch 5/5\n",
      "3835/3835 [==============================] - 1262s 329ms/step - loss: 1.3176 - accuracy: 0.7405 - val_loss: 2.2639 - val_accuracy: 0.6604\n",
      "Model: \"text_generator_8\"\n",
      "_________________________________________________________________\n",
      "Layer (type)                 Output Shape              Param #   \n",
      "=================================================================\n",
      "embedding_8 (Embedding)      multiple                  20481024  \n",
      "_________________________________________________________________\n",
      "lstm_16 (LSTM)               multiple                  25174016  \n",
      "_________________________________________________________________\n",
      "lstm_17 (LSTM)               multiple                  33562624  \n",
      "_________________________________________________________________\n",
      "dense_8 (Dense)              multiple                  40982049  \n",
      "=================================================================\n",
      "Total params: 120,199,713\n",
      "Trainable params: 120,199,713\n",
      "Non-trainable params: 0\n",
      "_________________________________________________________________\n"
     ]
    },
    {
     "data": {
      "image/png": "[encoded data removed]",
      "text/plain": [
       "<Figure size 432x288 with 1 Axes>"
      ]
     },
     "metadata": {
      "needs_background": "light"
     },
     "output_type": "display_data"
    }
   ],
   "source": [
    "embedding_size = 1024\n",
    "hidden_size = 2048\n",
    "train_model_and_visualization(embedding_size, hidden_size, 5)"
   ]
  },
  {
   "cell_type": "code",
   "execution_count": 100,
   "id": "arctic-technical",
   "metadata": {},
   "outputs": [
    {
     "name": "stdout",
     "output_type": "stream",
     "text": [
      "Epoch 1/5\n",
      "3835/3835 [==============================] - 916s 238ms/step - loss: 3.3540 - accuracy: 0.5161 - val_loss: 2.8662 - val_accuracy: 0.5460\n",
      "Epoch 2/5\n",
      "3835/3835 [==============================] - 910s 237ms/step - loss: 2.7221 - accuracy: 0.5521 - val_loss: 2.6985 - val_accuracy: 0.5612\n",
      "Epoch 3/5\n",
      "3835/3835 [==============================] - 909s 237ms/step - loss: 2.4475 - accuracy: 0.5722 - val_loss: 2.5953 - val_accuracy: 0.5766\n",
      "Epoch 4/5\n",
      "3835/3835 [==============================] - 910s 237ms/step - loss: 2.2004 - accuracy: 0.5953 - val_loss: 2.5374 - val_accuracy: 0.5906\n",
      "Epoch 5/5\n",
      "3835/3835 [==============================] - 896s 234ms/step - loss: 1.9719 - accuracy: 0.6229 - val_loss: 2.5132 - val_accuracy: 0.6046\n",
      "Model: \"text_generator_9\"\n",
      "_________________________________________________________________\n",
      "Layer (type)                 Output Shape              Param #   \n",
      "=================================================================\n",
      "embedding_9 (Embedding)      multiple                  40962048  \n",
      "_________________________________________________________________\n",
      "lstm_18 (LSTM)               multiple                  12587008  \n",
      "_________________________________________________________________\n",
      "lstm_19 (LSTM)               multiple                  8392704   \n",
      "_________________________________________________________________\n",
      "dense_9 (Dense)              multiple                  20501025  \n",
      "=================================================================\n",
      "Total params: 82,442,785\n",
      "Trainable params: 82,442,785\n",
      "Non-trainable params: 0\n",
      "_________________________________________________________________\n"
     ]
    },
    {
     "data": {
      "image/png": "[encoded data removed]",
      "text/plain": [
       "<Figure size 432x288 with 1 Axes>"
      ]
     },
     "metadata": {
      "needs_background": "light"
     },
     "output_type": "display_data"
    }
   ],
   "source": [
    "embedding_size = 2048\n",
    "hidden_size = 1024\n",
    "train_model_and_visualization(embedding_size, hidden_size, 5)"
   ]
  },
  {
   "cell_type": "markdown",
   "id": "specific-vegetable",
   "metadata": {},
   "source": [
    "loss 와 accuracy 결과가 좋았던 하이퍼파라미터로 이번엔 epochs 10으로 돌려보았다."
   ]
  },
  {
   "cell_type": "code",
   "execution_count": 102,
   "id": "informed-sperm",
   "metadata": {},
   "outputs": [
    {
     "name": "stdout",
     "output_type": "stream",
     "text": [
      "Epoch 1/10\n",
      "3835/3835 [==============================] - 1281s 329ms/step - loss: 3.2434 - accuracy: 0.5230 - val_loss: 2.6704 - val_accuracy: 0.5656\n",
      "Epoch 2/10\n",
      "3835/3835 [==============================] - 1237s 323ms/step - loss: 2.4248 - accuracy: 0.5817 - val_loss: 2.4068 - val_accuracy: 0.5995\n",
      "Epoch 3/10\n",
      "3835/3835 [==============================] - 1239s 323ms/step - loss: 1.9138 - accuracy: 0.6401 - val_loss: 2.2715 - val_accuracy: 0.6296\n",
      "Epoch 4/10\n",
      "3835/3835 [==============================] - 1238s 323ms/step - loss: 1.5336 - accuracy: 0.7002 - val_loss: 2.2253 - val_accuracy: 0.6508\n",
      "Epoch 5/10\n",
      "3835/3835 [==============================] - 1237s 323ms/step - loss: 1.2913 - accuracy: 0.7462 - val_loss: 2.2451 - val_accuracy: 0.6626\n",
      "Epoch 6/10\n",
      "3835/3835 [==============================] - 1237s 322ms/step - loss: 1.1508 - accuracy: 0.7760 - val_loss: 2.2885 - val_accuracy: 0.6686\n",
      "Epoch 7/10\n",
      "3835/3835 [==============================] - 1238s 323ms/step - loss: 1.0720 - accuracy: 0.7935 - val_loss: 2.3310 - val_accuracy: 0.6713\n",
      "Epoch 8/10\n",
      "3835/3835 [==============================] - 1238s 323ms/step - loss: 1.0314 - accuracy: 0.8020 - val_loss: 2.3724 - val_accuracy: 0.6733\n",
      "Epoch 9/10\n",
      "3835/3835 [==============================] - 1236s 322ms/step - loss: 1.0089 - accuracy: 0.8062 - val_loss: 2.4036 - val_accuracy: 0.6738\n",
      "Epoch 10/10\n",
      "3835/3835 [==============================] - 1236s 322ms/step - loss: 0.9941 - accuracy: 0.8088 - val_loss: 2.4396 - val_accuracy: 0.6739\n",
      "Model: \"text_generator_11\"\n",
      "_________________________________________________________________\n",
      "Layer (type)                 Output Shape              Param #   \n",
      "=================================================================\n",
      "embedding_11 (Embedding)     multiple                  20481024  \n",
      "_________________________________________________________________\n",
      "lstm_22 (LSTM)               multiple                  25174016  \n",
      "_________________________________________________________________\n",
      "lstm_23 (LSTM)               multiple                  33562624  \n",
      "_________________________________________________________________\n",
      "dense_11 (Dense)             multiple                  40982049  \n",
      "=================================================================\n",
      "Total params: 120,199,713\n",
      "Trainable params: 120,199,713\n",
      "Non-trainable params: 0\n",
      "_________________________________________________________________\n"
     ]
    },
    {
     "data": {
      "image/png": "[encoded data removed]",
      "text/plain": [
       "<Figure size 432x288 with 1 Axes>"
      ]
     },
     "metadata": {
      "needs_background": "light"
     },
     "output_type": "display_data"
    }
   ],
   "source": [
    "embedding_size = 1024\n",
    "hidden_size = 2048\n",
    "train_model_and_visualization(embedding_size, hidden_size)"
   ]
  },
  {
   "cell_type": "markdown",
   "id": "ethical-geometry",
   "metadata": {},
   "source": [
    "# 모델 수정하기"
   ]
  },
  {
   "cell_type": "markdown",
   "id": "compact-mortgage",
   "metadata": {},
   "source": [
    "![image](https://user-images.githubusercontent.com/63278762/127500610-3d1b5310-3962-4319-a122-58f598e4eb72.png)\n",
    "\n",
    "\n",
    "embedding_size = 1024, hidden_size = 2048    \n",
    "하이퍼파라미터를 줬을 때 loss에 대한 결과를 시각화해보았다. 그 결과 epoch가 3정도에서 val_loss가 올라가는 것을 볼 수 있었고, 오버피팅이 나는 것을 알 수 있었다. 때문에 모델에 dropout 레이어를 추가해서 모델을 수정 후 다시 훈련시켜보았다."
   ]
  },
  {
   "cell_type": "code",
   "execution_count": 103,
   "id": "binary-impression",
   "metadata": {},
   "outputs": [],
   "source": [
    "class TextGenerator_New(tf.keras.Model):\n",
    "    def __init__(self, vocab_size, embedding_size, hidden_size):\n",
    "        super().__init__()\n",
    "        \n",
    "        self.embedding = tf.keras.layers.Embedding(vocab_size, embedding_size)\n",
    "        self.rnn_1 = tf.keras.layers.LSTM(hidden_size, return_sequences=True)\n",
    "        self.rnn_2 = tf.keras.layers.LSTM(hidden_size, return_sequences=True)\n",
    "        self.dropout = tf.keras.layers.Dropout(.2)\n",
    "        self.linear = tf.keras.layers.Dense(vocab_size)\n",
    "        \n",
    "    def call(self, x):\n",
    "        out = self.embedding(x)\n",
    "        out = self.rnn_1(out)\n",
    "        out = self.rnn_2(out)\n",
    "        out = self.dropout(out)\n",
    "        out = self.linear(out)\n",
    "        \n",
    "        return out"
   ]
  },
  {
   "cell_type": "code",
   "execution_count": 105,
   "id": "alike-cholesterol",
   "metadata": {},
   "outputs": [
    {
     "name": "stdout",
     "output_type": "stream",
     "text": [
      "Epoch 1/10\n",
      "3835/3835 [==============================] - 1248s 320ms/step - loss: 3.2453 - accuracy: 0.5236 - val_loss: 2.7138 - val_accuracy: 0.5617\n",
      "Epoch 2/10\n",
      "3835/3835 [==============================] - 1236s 322ms/step - loss: 2.5343 - accuracy: 0.5734 - val_loss: 2.4683 - val_accuracy: 0.5917\n",
      "Epoch 3/10\n",
      "3835/3835 [==============================] - 1235s 322ms/step - loss: 2.0823 - accuracy: 0.6189 - val_loss: 2.3193 - val_accuracy: 0.6183\n",
      "Epoch 4/10\n",
      "3835/3835 [==============================] - 1235s 322ms/step - loss: 1.7261 - accuracy: 0.6671 - val_loss: 2.2449 - val_accuracy: 0.6411\n",
      "Epoch 5/10\n",
      "3835/3835 [==============================] - 1236s 322ms/step - loss: 1.4754 - accuracy: 0.7090 - val_loss: 2.2261 - val_accuracy: 0.6566\n",
      "Epoch 6/10\n",
      "3835/3835 [==============================] - 1235s 322ms/step - loss: 1.3130 - accuracy: 0.7395 - val_loss: 2.2474 - val_accuracy: 0.6660\n",
      "Epoch 7/10\n",
      "3835/3835 [==============================] - 1234s 322ms/step - loss: 1.2079 - accuracy: 0.7618 - val_loss: 2.2776 - val_accuracy: 0.6706\n",
      "Epoch 8/10\n",
      "3835/3835 [==============================] - 1232s 321ms/step - loss: 1.1451 - accuracy: 0.7749 - val_loss: 2.3105 - val_accuracy: 0.6737\n",
      "Epoch 9/10\n",
      "3835/3835 [==============================] - 1232s 321ms/step - loss: 1.1050 - accuracy: 0.7831 - val_loss: 2.3409 - val_accuracy: 0.6751\n",
      "Epoch 10/10\n",
      "3835/3835 [==============================] - 1228s 320ms/step - loss: 1.0797 - accuracy: 0.7883 - val_loss: 2.3713 - val_accuracy: 0.6763\n",
      "Model: \"text_generator__new_1\"\n",
      "_________________________________________________________________\n",
      "Layer (type)                 Output Shape              Param #   \n",
      "=================================================================\n",
      "embedding_13 (Embedding)     multiple                  20481024  \n",
      "_________________________________________________________________\n",
      "lstm_26 (LSTM)               multiple                  25174016  \n",
      "_________________________________________________________________\n",
      "lstm_27 (LSTM)               multiple                  33562624  \n",
      "_________________________________________________________________\n",
      "dropout_1 (Dropout)          multiple                  0         \n",
      "_________________________________________________________________\n",
      "dense_13 (Dense)             multiple                  40982049  \n",
      "=================================================================\n",
      "Total params: 120,199,713\n",
      "Trainable params: 120,199,713\n",
      "Non-trainable params: 0\n",
      "_________________________________________________________________\n"
     ]
    }
   ],
   "source": [
    "embedding_size = 1024\n",
    "hidden_size = 2048\n",
    "model = TextGenerator_New(tokenizer.num_words+1, embedding_size, hidden_size)\n",
    "optimizer = tf.keras.optimizers.Adam()\n",
    "loss = tf.keras.losses.SparseCategoricalCrossentropy(\n",
    "        from_logits=True,\n",
    "        reduction='none'\n",
    ")\n",
    "model.compile(loss=loss, optimizer=optimizer, metrics=[\"accuracy\"])\n",
    "history = model.fit(X_train, y_train, validation_data=(X_test, y_test), epochs=10)\n",
    "tf.test.is_gpu_available()\n",
    "model.summary()"
   ]
  },
  {
   "cell_type": "markdown",
   "id": "satisfactory-spokesman",
   "metadata": {},
   "source": [
    "### 체크포인트 구성해서 시도해보기"
   ]
  },
  {
   "cell_type": "code",
   "execution_count": 110,
   "id": "automotive-walter",
   "metadata": {},
   "outputs": [],
   "source": [
    "checkpoint_dir = './training_Lyricist/checkpoints'\n",
    "checkpoint_prefix = os.path.join(checkpoint_dir, 'ckpt_{epoch}')\n",
    "\n",
    "checkpoint_callback = tf.keras.callbacks.ModelCheckpoint(\n",
    "    filepath = checkpoint_prefix,\n",
    "    save_weights_only=True\n",
    ")"
   ]
  },
  {
   "cell_type": "code",
   "execution_count": 112,
   "id": "afraid-course",
   "metadata": {},
   "outputs": [
    {
     "name": "stdout",
     "output_type": "stream",
     "text": [
      "Epoch 1/10\n",
      "480/480 [==============================] - 612s 1s/step - loss: 3.8332 - accuracy: 0.4825 - val_loss: 2.9546 - val_accuracy: 0.5379\n",
      "Epoch 2/10\n",
      "480/480 [==============================] - 600s 1s/step - loss: 2.8391 - accuracy: 0.5439 - val_loss: 2.7191 - val_accuracy: 0.5572\n",
      "Epoch 3/10\n",
      "480/480 [==============================] - 601s 1s/step - loss: 2.5240 - accuracy: 0.5669 - val_loss: 2.5333 - val_accuracy: 0.5784\n",
      "Epoch 4/10\n",
      "480/480 [==============================] - 603s 1s/step - loss: 2.2104 - accuracy: 0.5980 - val_loss: 2.3871 - val_accuracy: 0.6008\n",
      "Epoch 5/10\n",
      "480/480 [==============================] - 605s 1s/step - loss: 1.9204 - accuracy: 0.6358 - val_loss: 2.2826 - val_accuracy: 0.6216\n",
      "Epoch 6/10\n",
      "480/480 [==============================] - 601s 1s/step - loss: 1.6697 - accuracy: 0.6762 - val_loss: 2.2062 - val_accuracy: 0.6404\n",
      "Epoch 7/10\n",
      "480/480 [==============================] - 602s 1s/step - loss: 1.4655 - accuracy: 0.7132 - val_loss: 2.1631 - val_accuracy: 0.6554\n",
      "Epoch 8/10\n",
      "480/480 [==============================] - 602s 1s/step - loss: 1.3006 - accuracy: 0.7459 - val_loss: 2.1454 - val_accuracy: 0.6664\n",
      "Epoch 9/10\n",
      "480/480 [==============================] - 605s 1s/step - loss: 1.1775 - accuracy: 0.7721 - val_loss: 2.1499 - val_accuracy: 0.6739\n",
      "Epoch 10/10\n",
      "480/480 [==============================] - 601s 1s/step - loss: 1.0923 - accuracy: 0.7904 - val_loss: 2.1631 - val_accuracy: 0.6787\n",
      "Model: \"text_generator__new_3\"\n",
      "_________________________________________________________________\n",
      "Layer (type)                 Output Shape              Param #   \n",
      "=================================================================\n",
      "embedding_15 (Embedding)     multiple                  20481024  \n",
      "_________________________________________________________________\n",
      "lstm_30 (LSTM)               multiple                  25174016  \n",
      "_________________________________________________________________\n",
      "lstm_31 (LSTM)               multiple                  33562624  \n",
      "_________________________________________________________________\n",
      "dropout_3 (Dropout)          multiple                  0         \n",
      "_________________________________________________________________\n",
      "dense_15 (Dense)             multiple                  40982049  \n",
      "=================================================================\n",
      "Total params: 120,199,713\n",
      "Trainable params: 120,199,713\n",
      "Non-trainable params: 0\n",
      "_________________________________________________________________\n"
     ]
    }
   ],
   "source": [
    "\n",
    "embedding_size = 1024\n",
    "hidden_size = 2048\n",
    "model = TextGenerator_New(tokenizer.num_words+1, embedding_size, hidden_size)\n",
    "optimizer = tf.keras.optimizers.Adam()\n",
    "loss = tf.keras.losses.SparseCategoricalCrossentropy(\n",
    "        from_logits=True,\n",
    "        reduction='none'\n",
    ")\n",
    "model.compile(loss=loss, optimizer=optimizer, metrics=[\"accuracy\"])\n",
    "history = model.fit(X_train, y_train, validation_data=(X_test, y_test), epochs=10, batch_size=256, callbacks=[checkpoint_callback])\n",
    "tf.test.is_gpu_available()\n",
    "model.summary()"
   ]
  },
  {
   "cell_type": "code",
   "execution_count": 115,
   "id": "neutral-constant",
   "metadata": {},
   "outputs": [
    {
     "data": {
      "image/png": "[encoded data removed]",
      "text/plain": [
       "<Figure size 432x288 with 1 Axes>"
      ]
     },
     "metadata": {
      "needs_background": "light"
     },
     "output_type": "display_data"
    }
   ],
   "source": [
    "fig, loss_ax = plt.subplots()\n",
    "loss_ax.plot(history.history['val_loss'], label='var_loss')    \n",
    "loss_ax.plot(history.history['loss'], label='loss')  \n",
    "loss_ax.set_xlabel('epoch')\n",
    "loss_ax.set_ylabel('loss')\n",
    "plt.show()"
   ]
  },
  {
   "cell_type": "markdown",
   "id": "iraqi-insulation",
   "metadata": {},
   "source": [
    "# 모델 평가하기"
   ]
  },
  {
   "cell_type": "code",
   "execution_count": 113,
   "id": "following-rebecca",
   "metadata": {},
   "outputs": [],
   "source": [
    "def generate_text(model, tokenizer, init_sentence=\"<start>\", max_len=20):\n",
    "    test_input = tokenizer.texts_to_sequences([init_sentence])\n",
    "    test_tensor=tf.convert_to_tensor(test_input, dtype=tf.int64)\n",
    "    end_token=tokenizer.word_index[\"<end>\"]\n",
    "    # 단어 하나씩 예측해 문장을 만듭니다\n",
    "    #    1. 입력받은 문장의 텐서를 입력합니다\n",
    "    #    2. 예측된 값 중 가장 높은 확률인 word index를 뽑아냅니다\n",
    "    #    3. 2에서 예측된 word index를 문장 뒤에 붙입니다\n",
    "    #    4. 모델이 <end>를 예측했거나, max_len에 도달했다면 문장 생성을 마칩니다\n",
    "    while True:\n",
    "        # 1\n",
    "        predict = model(test_tensor) \n",
    "        # 2\n",
    "        predict_word = tf.argmax(tf.nn.softmax(predict, axis=-1), axis=-1)[:, -1] \n",
    "        # 3 \n",
    "        test_tensor = tf.concat([test_tensor, tf.expand_dims(predict_word, axis=0)], axis=-1)\n",
    "        # 4\n",
    "        if predict_word.numpy()[0] == end_token: break\n",
    "        if test_tensor.shape[1] >= max_len: break\n",
    "\n",
    "    generated = \"\"\n",
    "    # tokenizer를 이용해 word index를 단어로 하나씩 변환합니다 \n",
    "    for word_index in test_tensor[0].numpy():\n",
    "        generated += tokenizer.index_word[word_index] + \" \"\n",
    "\n",
    "    return generated"
   ]
  },
  {
   "cell_type": "code",
   "execution_count": 114,
   "id": "alike-alberta",
   "metadata": {},
   "outputs": [
    {
     "name": "stdout",
     "output_type": "stream",
     "text": [
      "<start> love is a notion that i can't forget <end> \n",
      "<start> you know what i'm talkin' about <end> \n",
      "<start> time to think it through <end> \n",
      "<start> enough to cop a six buy the house on the beach uhhuh <end> \n",
      "<start> like a comet <end> \n"
     ]
    }
   ],
   "source": [
    "input_token = ['love', 'you', 'time', 'enough', 'like']\n",
    "for _ in input_token:\n",
    "    print(generate_text(model, tokenizer, init_sentence=f\"<start> {_}\"))"
   ]
  },
  {
   "cell_type": "markdown",
   "id": "hazardous-skating",
   "metadata": {},
   "source": [
    "# 회고"
   ]
  },
  {
   "cell_type": "markdown",
   "id": "confirmed-community",
   "metadata": {},
   "source": [
    "## 1) 배운 점\n",
    "- 이번 노드를 통해서 자연어처리를 어떤 식으로 진행하는지 맛보기로 배운 것 같다.\n",
    "- train 데이터의 loss와 test 데이터의 val_loss의 관계로 오버피팅인디 언더피팅인지 파악하는 법을 배웠다.\n",
    "- 문장 전처리할 때 regex(Regular Expression)을 사용하는 법을 알게되었다.\n",
    "- model.fit의 파라미터로 어떤 옵션들이 들어가는지 알게 되었다.\n",
    "\n",
    "## 2) 아쉬운 점 및 궁금한 점\n",
    "- 모델 훈련에 시간이 오래걸려 좀 더 도전적으로 수정하면서 테스트해보지 못했다.\n",
    "- dataset을 쓰면 성능이 더 좋아진다고 튜토리얼 페이지에서는 나와있어서 시도해봤지만 validation_data에 넣을 수 없어서 기존에 썼던 train_test_split를 사용했다. dataset을 쓰면서 validation_data에 넣을 수 있는 방법이 있는지 궁금하고, dataset과 train_test_split의 성능 차이가 궁금하다.\n",
    "- 결국 validation loss를 2.2이하로 만들지 못했다. 이유가 무엇일까??\n",
    "- ModelCheckpoint라는 것을 뒤늦게 알았다!!! 이것도 적용해서 테스트하고 싶고, 뭔지도 자세히 공부해봐야겠다."
   ]
  },
  {
   "cell_type": "markdown",
   "id": "false-oriental",
   "metadata": {},
   "source": [
    "# Reference"
   ]
  },
  {
   "cell_type": "markdown",
   "id": "integrated-monaco",
   "metadata": {},
   "source": [
    "* https://ichi.pro/ko/keras-ui-validation-splitgwa-sklearnui-train-test-split-chaijeom-haegyeol-11268786468659\n",
    "* https://keras.io/api/models/model_training_apis/#fit-method\n",
    "* https://vitalflux.com/overfitting-underfitting-concepts-interview-questions/\n",
    "* https://www.tensorflow.org/tutorials/text/text_classification_rnn#%EB%AA%A8%EB%8D%B8_%EB%A7%8C%EB%93%A4%EA%B8%B0"
   ]
  }
 ],
 "metadata": {
  "kernelspec": {
   "display_name": "Python 3",
   "language": "python",
   "name": "python3"
  },
  "language_info": {
   "codemirror_mode": {
    "name": "ipython",
    "version": 3
   },
   "file_extension": ".py",
   "mimetype": "text/x-python",
   "name": "python",
   "nbconvert_exporter": "python",
   "pygments_lexer": "ipython3",
   "version": "3.7.9"
  }
 },
 "nbformat": 4,
 "nbformat_minor": 5
}
