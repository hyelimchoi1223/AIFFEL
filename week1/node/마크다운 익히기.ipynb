{
 "cells": [
  {
   "cell_type": "markdown",
   "id": "afraid-alias",
   "metadata": {},
   "source": [
    "# 제목\n",
    "\n",
    "# H1\n",
    "## H2\n",
    "### H3\n",
    "#### H4\n",
    "##### H5\n",
    "##### H6"
   ]
  },
  {
   "cell_type": "markdown",
   "id": "political-delight",
   "metadata": {},
   "source": [
    "# 목록, 리스트\n",
    "\n",
    "1. 첫번째\n",
    "2. 두번째\n",
    "3. 세번째\n",
    "\n",
    "* 빨강\n",
    "    * 노랑\n",
    "        * 파랑"
   ]
  },
  {
   "cell_type": "markdown",
   "id": "featured-handling",
   "metadata": {},
   "source": [
    "# 구분선 긋기\n",
    "---"
   ]
  },
  {
   "cell_type": "markdown",
   "id": "blocked-confirmation",
   "metadata": {},
   "source": [
    "# 링크 달기\n",
    "[마크다운 문법](https://gist.github.com/ihoneymon/652be052a0727ad59601)"
   ]
  },
  {
   "cell_type": "markdown",
   "id": "initial-operation",
   "metadata": {},
   "source": [
    "# 텍스트 강조하기\n",
    "\n",
    "* *이태리체*\n",
    "* **볼드체**\n",
    "* ~~취소선~~"
   ]
  },
  {
   "cell_type": "markdown",
   "id": "attached-optics",
   "metadata": {},
   "source": [
    "# 코드 블럭 입히기\n",
    "```python\n",
    "print('Hello World')\n",
    "```\n",
    "\n",
    "\n",
    "`print('Hello World')`"
   ]
  },
  {
   "cell_type": "markdown",
   "id": "narrative-classics",
   "metadata": {},
   "source": [
    "# 줄바꿈하기\n",
    "\n",
    "줄바꿈을 하기 위해서는 문장 마지막에 3칸 이상 띄어써야 한다.    \n",
    "그렇지 않으면 한줄로 출력된다.   \n"
   ]
  },
  {
   "cell_type": "markdown",
   "id": "royal-garlic",
   "metadata": {},
   "source": [
    "# 이미지 삽입하기\n",
    "![image](https://user-images.githubusercontent.com/63278762/123727292-6424e680-d8cc-11eb-8495-bd9a8c4f1502.png)"
   ]
  }
 ],
 "metadata": {
  "kernelspec": {
   "display_name": "Python 3",
   "language": "python",
   "name": "python3"
  },
  "language_info": {
   "codemirror_mode": {
    "name": "ipython",
    "version": 3
   },
   "file_extension": ".py",
   "mimetype": "text/x-python",
   "name": "python",
   "nbconvert_exporter": "python",
   "pygments_lexer": "ipython3",
   "version": "3.7.9"
  }
 },
 "nbformat": 4,
 "nbformat_minor": 5
}
