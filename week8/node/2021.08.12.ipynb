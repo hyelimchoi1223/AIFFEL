{
 "cells": [
  {
   "cell_type": "markdown",
   "id": "steady-cuisine",
   "metadata": {},
   "source": [
    "# 추천 시스템"
   ]
  },
  {
   "cell_type": "markdown",
   "id": "limiting-westminster",
   "metadata": {},
   "source": [
    "## 추천 알고리즘의 진화\n",
    "1. 협업 필터링    \n",
    "    기존 사용자의 행동 정보를 분석해 해당 사용자와 비슷한 성향의 사용자들이 기존에 좋아했던 항목을 추천하는 기술.\n",
    "    * 단점\n",
    "        - 새로운 항목이 추가되는 경우 초기 정보가 부족해 문제가 생긴다.\n",
    "        - 계산량이 많아 사용자 수가 많은 경우 효율적으로 추천할 수 없다.\n",
    "        - 롱테일 문제. 사용자들의 관심이 적은 다수의 항목은 추천을 위한 정보가 부족하다.\n",
    "2. 콘텐츠 기반 필터링    \n",
    "    항목 자체를 분석하여 추천을 구현한다."
   ]
  },
  {
   "cell_type": "markdown",
   "id": "straight-amateur",
   "metadata": {},
   "source": [
    "http://ocelma.net/MusicRecommendationDataset/lastfm-360K.html\n",
    "\n",
    "#### 컬럼의 의미\n",
    "1. user mboxshal : user id\n",
    "2. musicbrainz artist id : artish mbid\n",
    "3. artist name\n",
    "4. plays"
   ]
  },
  {
   "cell_type": "code",
   "execution_count": 34,
   "id": "least-minute",
   "metadata": {},
   "outputs": [
    {
     "data": {
      "text/html": [
       "<div>\n",
       "<style scoped>\n",
       "    .dataframe tbody tr th:only-of-type {\n",
       "        vertical-align: middle;\n",
       "    }\n",
       "\n",
       "    .dataframe tbody tr th {\n",
       "        vertical-align: top;\n",
       "    }\n",
       "\n",
       "    .dataframe thead th {\n",
       "        text-align: right;\n",
       "    }\n",
       "</style>\n",
       "<table border=\"1\" class=\"dataframe\">\n",
       "  <thead>\n",
       "    <tr style=\"text-align: right;\">\n",
       "      <th></th>\n",
       "      <th>user_id</th>\n",
       "      <th>artist_MBID</th>\n",
       "      <th>artist</th>\n",
       "      <th>play</th>\n",
       "    </tr>\n",
       "  </thead>\n",
       "  <tbody>\n",
       "    <tr>\n",
       "      <th>0</th>\n",
       "      <td>00000c289a1829a808ac09c00daf10bc3c4e223b</td>\n",
       "      <td>3bd73256-3905-4f3a-97e2-8b341527f805</td>\n",
       "      <td>betty blowtorch</td>\n",
       "      <td>2137</td>\n",
       "    </tr>\n",
       "    <tr>\n",
       "      <th>1</th>\n",
       "      <td>00000c289a1829a808ac09c00daf10bc3c4e223b</td>\n",
       "      <td>f2fb0ff0-5679-42ec-a55c-15109ce6e320</td>\n",
       "      <td>die Ärzte</td>\n",
       "      <td>1099</td>\n",
       "    </tr>\n",
       "    <tr>\n",
       "      <th>2</th>\n",
       "      <td>00000c289a1829a808ac09c00daf10bc3c4e223b</td>\n",
       "      <td>b3ae82c2-e60b-4551-a76d-6620f1b456aa</td>\n",
       "      <td>melissa etheridge</td>\n",
       "      <td>897</td>\n",
       "    </tr>\n",
       "    <tr>\n",
       "      <th>3</th>\n",
       "      <td>00000c289a1829a808ac09c00daf10bc3c4e223b</td>\n",
       "      <td>3d6bbeb7-f90e-4d10-b440-e153c0d10b53</td>\n",
       "      <td>elvenking</td>\n",
       "      <td>717</td>\n",
       "    </tr>\n",
       "    <tr>\n",
       "      <th>4</th>\n",
       "      <td>00000c289a1829a808ac09c00daf10bc3c4e223b</td>\n",
       "      <td>bbd2ffd7-17f4-4506-8572-c1ea58c3f9a8</td>\n",
       "      <td>juliette &amp; the licks</td>\n",
       "      <td>706</td>\n",
       "    </tr>\n",
       "    <tr>\n",
       "      <th>5</th>\n",
       "      <td>00000c289a1829a808ac09c00daf10bc3c4e223b</td>\n",
       "      <td>8bfac288-ccc5-448d-9573-c33ea2aa5c30</td>\n",
       "      <td>red hot chili peppers</td>\n",
       "      <td>691</td>\n",
       "    </tr>\n",
       "    <tr>\n",
       "      <th>6</th>\n",
       "      <td>00000c289a1829a808ac09c00daf10bc3c4e223b</td>\n",
       "      <td>6531c8b1-76ea-4141-b270-eb1ac5b41375</td>\n",
       "      <td>magica</td>\n",
       "      <td>545</td>\n",
       "    </tr>\n",
       "    <tr>\n",
       "      <th>7</th>\n",
       "      <td>00000c289a1829a808ac09c00daf10bc3c4e223b</td>\n",
       "      <td>21f3573f-10cf-44b3-aeaa-26cccd8448b5</td>\n",
       "      <td>the black dahlia murder</td>\n",
       "      <td>507</td>\n",
       "    </tr>\n",
       "    <tr>\n",
       "      <th>8</th>\n",
       "      <td>00000c289a1829a808ac09c00daf10bc3c4e223b</td>\n",
       "      <td>c5db90c4-580d-4f33-b364-fbaa5a3a58b5</td>\n",
       "      <td>the murmurs</td>\n",
       "      <td>424</td>\n",
       "    </tr>\n",
       "    <tr>\n",
       "      <th>9</th>\n",
       "      <td>00000c289a1829a808ac09c00daf10bc3c4e223b</td>\n",
       "      <td>0639533a-0402-40ba-b6e0-18b067198b73</td>\n",
       "      <td>lunachicks</td>\n",
       "      <td>403</td>\n",
       "    </tr>\n",
       "  </tbody>\n",
       "</table>\n",
       "</div>"
      ],
      "text/plain": [
       "                                    user_id  \\\n",
       "0  00000c289a1829a808ac09c00daf10bc3c4e223b   \n",
       "1  00000c289a1829a808ac09c00daf10bc3c4e223b   \n",
       "2  00000c289a1829a808ac09c00daf10bc3c4e223b   \n",
       "3  00000c289a1829a808ac09c00daf10bc3c4e223b   \n",
       "4  00000c289a1829a808ac09c00daf10bc3c4e223b   \n",
       "5  00000c289a1829a808ac09c00daf10bc3c4e223b   \n",
       "6  00000c289a1829a808ac09c00daf10bc3c4e223b   \n",
       "7  00000c289a1829a808ac09c00daf10bc3c4e223b   \n",
       "8  00000c289a1829a808ac09c00daf10bc3c4e223b   \n",
       "9  00000c289a1829a808ac09c00daf10bc3c4e223b   \n",
       "\n",
       "                            artist_MBID                   artist  play  \n",
       "0  3bd73256-3905-4f3a-97e2-8b341527f805          betty blowtorch  2137  \n",
       "1  f2fb0ff0-5679-42ec-a55c-15109ce6e320                die Ärzte  1099  \n",
       "2  b3ae82c2-e60b-4551-a76d-6620f1b456aa        melissa etheridge   897  \n",
       "3  3d6bbeb7-f90e-4d10-b440-e153c0d10b53                elvenking   717  \n",
       "4  bbd2ffd7-17f4-4506-8572-c1ea58c3f9a8     juliette & the licks   706  \n",
       "5  8bfac288-ccc5-448d-9573-c33ea2aa5c30    red hot chili peppers   691  \n",
       "6  6531c8b1-76ea-4141-b270-eb1ac5b41375                   magica   545  \n",
       "7  21f3573f-10cf-44b3-aeaa-26cccd8448b5  the black dahlia murder   507  \n",
       "8  c5db90c4-580d-4f33-b364-fbaa5a3a58b5              the murmurs   424  \n",
       "9  0639533a-0402-40ba-b6e0-18b067198b73               lunachicks   403  "
      ]
     },
     "execution_count": 34,
     "metadata": {},
     "output_type": "execute_result"
    }
   ],
   "source": [
    "import pandas as pd\n",
    "import os\n",
    "\n",
    "fname = os.getenv('HOME')+'/aiffel/recommendata_iu/data/lastfm-dataset-360K/usersha1-artmbid-artname-plays.tsv'\n",
    "col_names=['user_id', 'artist_MBID', 'artist', 'play']\n",
    "data = pd.read_csv(fname, sep='\\t', names=col_names)\n",
    "data.head(10)"
   ]
  },
  {
   "cell_type": "code",
   "execution_count": 35,
   "id": "congressional-gilbert",
   "metadata": {},
   "outputs": [
    {
     "data": {
      "text/html": [
       "<div>\n",
       "<style scoped>\n",
       "    .dataframe tbody tr th:only-of-type {\n",
       "        vertical-align: middle;\n",
       "    }\n",
       "\n",
       "    .dataframe tbody tr th {\n",
       "        vertical-align: top;\n",
       "    }\n",
       "\n",
       "    .dataframe thead th {\n",
       "        text-align: right;\n",
       "    }\n",
       "</style>\n",
       "<table border=\"1\" class=\"dataframe\">\n",
       "  <thead>\n",
       "    <tr style=\"text-align: right;\">\n",
       "      <th></th>\n",
       "      <th>user_id</th>\n",
       "      <th>artist</th>\n",
       "      <th>play</th>\n",
       "    </tr>\n",
       "  </thead>\n",
       "  <tbody>\n",
       "    <tr>\n",
       "      <th>0</th>\n",
       "      <td>00000c289a1829a808ac09c00daf10bc3c4e223b</td>\n",
       "      <td>betty blowtorch</td>\n",
       "      <td>2137</td>\n",
       "    </tr>\n",
       "    <tr>\n",
       "      <th>1</th>\n",
       "      <td>00000c289a1829a808ac09c00daf10bc3c4e223b</td>\n",
       "      <td>die Ärzte</td>\n",
       "      <td>1099</td>\n",
       "    </tr>\n",
       "    <tr>\n",
       "      <th>2</th>\n",
       "      <td>00000c289a1829a808ac09c00daf10bc3c4e223b</td>\n",
       "      <td>melissa etheridge</td>\n",
       "      <td>897</td>\n",
       "    </tr>\n",
       "    <tr>\n",
       "      <th>3</th>\n",
       "      <td>00000c289a1829a808ac09c00daf10bc3c4e223b</td>\n",
       "      <td>elvenking</td>\n",
       "      <td>717</td>\n",
       "    </tr>\n",
       "    <tr>\n",
       "      <th>4</th>\n",
       "      <td>00000c289a1829a808ac09c00daf10bc3c4e223b</td>\n",
       "      <td>juliette &amp; the licks</td>\n",
       "      <td>706</td>\n",
       "    </tr>\n",
       "  </tbody>\n",
       "</table>\n",
       "</div>"
      ],
      "text/plain": [
       "                                    user_id                artist  play\n",
       "0  00000c289a1829a808ac09c00daf10bc3c4e223b       betty blowtorch  2137\n",
       "1  00000c289a1829a808ac09c00daf10bc3c4e223b             die Ärzte  1099\n",
       "2  00000c289a1829a808ac09c00daf10bc3c4e223b     melissa etheridge   897\n",
       "3  00000c289a1829a808ac09c00daf10bc3c4e223b             elvenking   717\n",
       "4  00000c289a1829a808ac09c00daf10bc3c4e223b  juliette & the licks   706"
      ]
     },
     "execution_count": 35,
     "metadata": {},
     "output_type": "execute_result"
    }
   ],
   "source": [
    "# artish_MBID는 필요가 없으므로 삭제한다.\n",
    "use_col = ['user_id', 'artist', 'play']\n",
    "data = data[use_col]\n",
    "data.head()"
   ]
  },
  {
   "cell_type": "code",
   "execution_count": 36,
   "id": "fossil-detroit",
   "metadata": {},
   "outputs": [
    {
     "data": {
      "text/html": [
       "<div>\n",
       "<style scoped>\n",
       "    .dataframe tbody tr th:only-of-type {\n",
       "        vertical-align: middle;\n",
       "    }\n",
       "\n",
       "    .dataframe tbody tr th {\n",
       "        vertical-align: top;\n",
       "    }\n",
       "\n",
       "    .dataframe thead th {\n",
       "        text-align: right;\n",
       "    }\n",
       "</style>\n",
       "<table border=\"1\" class=\"dataframe\">\n",
       "  <thead>\n",
       "    <tr style=\"text-align: right;\">\n",
       "      <th></th>\n",
       "      <th>user_id</th>\n",
       "      <th>artist</th>\n",
       "      <th>play</th>\n",
       "    </tr>\n",
       "  </thead>\n",
       "  <tbody>\n",
       "    <tr>\n",
       "      <th>0</th>\n",
       "      <td>00000c289a1829a808ac09c00daf10bc3c4e223b</td>\n",
       "      <td>betty blowtorch</td>\n",
       "      <td>2137</td>\n",
       "    </tr>\n",
       "    <tr>\n",
       "      <th>1</th>\n",
       "      <td>00000c289a1829a808ac09c00daf10bc3c4e223b</td>\n",
       "      <td>die ärzte</td>\n",
       "      <td>1099</td>\n",
       "    </tr>\n",
       "    <tr>\n",
       "      <th>2</th>\n",
       "      <td>00000c289a1829a808ac09c00daf10bc3c4e223b</td>\n",
       "      <td>melissa etheridge</td>\n",
       "      <td>897</td>\n",
       "    </tr>\n",
       "    <tr>\n",
       "      <th>3</th>\n",
       "      <td>00000c289a1829a808ac09c00daf10bc3c4e223b</td>\n",
       "      <td>elvenking</td>\n",
       "      <td>717</td>\n",
       "    </tr>\n",
       "    <tr>\n",
       "      <th>4</th>\n",
       "      <td>00000c289a1829a808ac09c00daf10bc3c4e223b</td>\n",
       "      <td>juliette &amp; the licks</td>\n",
       "      <td>706</td>\n",
       "    </tr>\n",
       "  </tbody>\n",
       "</table>\n",
       "</div>"
      ],
      "text/plain": [
       "                                    user_id                artist  play\n",
       "0  00000c289a1829a808ac09c00daf10bc3c4e223b       betty blowtorch  2137\n",
       "1  00000c289a1829a808ac09c00daf10bc3c4e223b             die ärzte  1099\n",
       "2  00000c289a1829a808ac09c00daf10bc3c4e223b     melissa etheridge   897\n",
       "3  00000c289a1829a808ac09c00daf10bc3c4e223b             elvenking   717\n",
       "4  00000c289a1829a808ac09c00daf10bc3c4e223b  juliette & the licks   706"
      ]
     },
     "execution_count": 36,
     "metadata": {},
     "output_type": "execute_result"
    }
   ],
   "source": [
    "# 검색을 쉽게 하기 위해 artist를 소문자로 바꿔준다.\n",
    "data['artist'] = data['artist'].str.lower()\n",
    "data.head()"
   ]
  },
  {
   "cell_type": "markdown",
   "id": "forty-nomination",
   "metadata": {},
   "source": [
    "## EDA"
   ]
  },
  {
   "cell_type": "code",
   "execution_count": 37,
   "id": "coupled-cannon",
   "metadata": {},
   "outputs": [
    {
     "data": {
      "text/plain": [
       "358868"
      ]
     },
     "execution_count": 37,
     "metadata": {},
     "output_type": "execute_result"
    }
   ],
   "source": [
    "# user 수\n",
    "data['user_id'].nunique()"
   ]
  },
  {
   "cell_type": "code",
   "execution_count": 38,
   "id": "impressive-market",
   "metadata": {},
   "outputs": [
    {
     "data": {
      "text/plain": [
       "291346"
      ]
     },
     "execution_count": 38,
     "metadata": {},
     "output_type": "execute_result"
    }
   ],
   "source": [
    "# artist 수\n",
    "data['artist'].nunique()"
   ]
  },
  {
   "cell_type": "code",
   "execution_count": 39,
   "id": "industrial-heading",
   "metadata": {},
   "outputs": [
    {
     "data": {
      "text/plain": [
       "artist\n",
       "nightwish                   24222\n",
       "blink-182                   23226\n",
       "the offspring               22641\n",
       "gorillaz                    22336\n",
       "incubus                     21824\n",
       "r.e.m.                      21592\n",
       "the smiths                  21275\n",
       "belle and sebastian         21231\n",
       "feist                       21134\n",
       "koяn                        21124\n",
       "the strokes                 21106\n",
       "britney spears              20816\n",
       "modest mouse                20772\n",
       "tool                        20741\n",
       "interpol                    20536\n",
       "snow patrol                 20445\n",
       "pearl jam                   20381\n",
       "evanescence                 20354\n",
       "fall out boy                20316\n",
       "queens of the stone age     20243\n",
       "sufjan stevens              20084\n",
       "röyksopp                    20070\n",
       "pixies                      19982\n",
       "tom waits                   19976\n",
       "rage against the machine    19919\n",
       "the kooks                   19851\n",
       "bob marley                  19792\n",
       "in flames                   19780\n",
       "marilyn manson              19654\n",
       "arcade fire                 19563\n",
       "rihanna                     19491\n",
       "the chemical brothers       19482\n",
       "the clash                   19423\n",
       "joy division                19345\n",
       "mgmt                        19317\n",
       "eminem                      19023\n",
       "the shins                   18900\n",
       "beastie boys                18747\n",
       "slipknot                    18662\n",
       "[unknown]                   18410\n",
       "boards of canada            18370\n",
       "elliott smith               18011\n",
       "avril lavigne               17763\n",
       "paramore                    17594\n",
       "norah jones                 16770\n",
       "beirut                      16750\n",
       "cat power                   16710\n",
       "jimi hendrix                16690\n",
       "black sabbath               16658\n",
       "aphex twin                  16539\n",
       "Name: user_id, dtype: int64"
      ]
     },
     "execution_count": 39,
     "metadata": {},
     "output_type": "execute_result"
    }
   ],
   "source": [
    "# 인기 많은 artist\n",
    "artist_count = data.groupby('artist')['user_id'].count()\n",
    "artist_count.sort_values(ascending=False)[50:100]"
   ]
  },
  {
   "cell_type": "code",
   "execution_count": 40,
   "id": "arbitrary-boutique",
   "metadata": {},
   "outputs": [
    {
     "data": {
      "text/plain": [
       "user_id\n",
       "2040b3d3cb47caace19e728090a88d6b1087aa8e    166\n",
       "13c0df8a58cd3ca9e37d8e90662d2ad3c062eaa5    166\n",
       "52bf0682648b44e6cc27ebe512dd4fa3455a11c2    150\n",
       "7679da839e1a6c2d299c7fd6834fb9bf6e229224    139\n",
       "8d8643cded0ac18e66a3c5a2b74de21fbca0e6b7    132\n",
       "ce52b233f731dda7325aae6242440bd2a7095fca    131\n",
       "0a7c493718902fe4590cad2f76db9abb6dce6fae    131\n",
       "209b31e32790bdaa80e76ce9bb97e13e3980e1a5    128\n",
       "e710c9f69c2d07f914e7b1fa533b3e9f27890d62    128\n",
       "e85a4c61ca10501e09c979d411e984afc0a2393e    124\n",
       "a0e128cc755f7a2d4404f0c2cb6a573d5c68f224    124\n",
       "544719ea0ba39d378d2961453efcd8d57d54e616    123\n",
       "5a07ab9831351b7658540a914ab56820168046ae    122\n",
       "7075b80254d6280a46486fde3f224d66e06def12    122\n",
       "45d990ea5813d9d7280be38e516eef43ce46e7fa    121\n",
       "317d6010df721448103070d97a75b84164f3730d    121\n",
       "c79fe89cc6c1bdc52a8f4dd350a31f5ac87828db    121\n",
       "d483a856b7c113081d16ef48c9236f7957415059    120\n",
       "cf7099ce5c5037f5cd7aef2770144219518e39bc    119\n",
       "134ca93856c9ec74c6e1ecc95b1d1aadf185e53f    118\n",
       "b4609162c3772ea49a89ecd2610424ef6b9a042d    118\n",
       "0701715a7c6c6bc35036ad5fa7d89ddfe6691c95    115\n",
       "52a1a26001ac5427356bcfb48de85efcc5e2ce00    115\n",
       "75f98e69fb3288d5c25c48743a808efa2cb05be0    114\n",
       "d4b1884db77efcc3c3887c312d78c05878bd7a9f    114\n",
       "bcba878c217584a05901eb937f2bc8b12cfe4b2d    113\n",
       "bb9711dbb9d00827d2200690c327950c64f1cfcd    113\n",
       "d6eb36bb5fe4081f06b4fcf5fd608fafd77ad687    112\n",
       "160edfc0a4935cee7b2c98fcf18283cc5408ccf9    112\n",
       "ed20c5245e265c389edca73f8f3244e80b68c6c8    111\n",
       "Name: artist, dtype: int64"
      ]
     },
     "execution_count": 40,
     "metadata": {},
     "output_type": "execute_result"
    }
   ],
   "source": [
    "# 유저별 몇 명의 아티스트를 듣고 있는지\n",
    "user_count = data.groupby('user_id')['artist'].count()\n",
    "user_count.sort_values(ascending=False).head(30)"
   ]
  },
  {
   "cell_type": "code",
   "execution_count": 41,
   "id": "academic-valentine",
   "metadata": {},
   "outputs": [
    {
     "data": {
      "text/plain": [
       "count    358868.000000\n",
       "mean         48.863234\n",
       "std           8.524272\n",
       "min           1.000000\n",
       "25%          46.000000\n",
       "50%          49.000000\n",
       "75%          51.000000\n",
       "max         166.000000\n",
       "Name: artist, dtype: float64"
      ]
     },
     "execution_count": 41,
     "metadata": {},
     "output_type": "execute_result"
    }
   ],
   "source": [
    "user_count.describe()"
   ]
  },
  {
   "cell_type": "code",
   "execution_count": 42,
   "id": "worst-province",
   "metadata": {},
   "outputs": [
    {
     "data": {
      "text/plain": [
       "count    358868.000000\n",
       "mean        142.187676\n",
       "std         213.089902\n",
       "min           1.000000\n",
       "25%          32.000000\n",
       "50%          83.000000\n",
       "75%         180.000000\n",
       "max       50142.000000\n",
       "Name: play, dtype: float64"
      ]
     },
     "execution_count": 42,
     "metadata": {},
     "output_type": "execute_result"
    }
   ],
   "source": [
    "# 유저별 play 횟수 중앙값에 대한 통계\n",
    "user_median=data.groupby('user_id')['play'].median()\n",
    "user_median.describe()"
   ]
  },
  {
   "cell_type": "markdown",
   "id": "smoking-princeton",
   "metadata": {},
   "source": [
    "## 초기 정보 세팅"
   ]
  },
  {
   "cell_type": "code",
   "execution_count": 43,
   "id": "stuffed-fireplace",
   "metadata": {},
   "outputs": [
    {
     "data": {
      "text/html": [
       "<div>\n",
       "<style scoped>\n",
       "    .dataframe tbody tr th:only-of-type {\n",
       "        vertical-align: middle;\n",
       "    }\n",
       "\n",
       "    .dataframe tbody tr th {\n",
       "        vertical-align: top;\n",
       "    }\n",
       "\n",
       "    .dataframe thead th {\n",
       "        text-align: right;\n",
       "    }\n",
       "</style>\n",
       "<table border=\"1\" class=\"dataframe\">\n",
       "  <thead>\n",
       "    <tr style=\"text-align: right;\">\n",
       "      <th></th>\n",
       "      <th>user_id</th>\n",
       "      <th>artist</th>\n",
       "      <th>play</th>\n",
       "    </tr>\n",
       "  </thead>\n",
       "  <tbody>\n",
       "    <tr>\n",
       "      <th>17535650</th>\n",
       "      <td>sep 20, 2008</td>\n",
       "      <td>turbostaat</td>\n",
       "      <td>12</td>\n",
       "    </tr>\n",
       "    <tr>\n",
       "      <th>17535651</th>\n",
       "      <td>sep 20, 2008</td>\n",
       "      <td>cuba missouri</td>\n",
       "      <td>11</td>\n",
       "    </tr>\n",
       "    <tr>\n",
       "      <th>17535652</th>\n",
       "      <td>sep 20, 2008</td>\n",
       "      <td>little man tate</td>\n",
       "      <td>11</td>\n",
       "    </tr>\n",
       "    <tr>\n",
       "      <th>17535653</th>\n",
       "      <td>sep 20, 2008</td>\n",
       "      <td>sigur rós</td>\n",
       "      <td>10</td>\n",
       "    </tr>\n",
       "    <tr>\n",
       "      <th>17535654</th>\n",
       "      <td>sep 20, 2008</td>\n",
       "      <td>the smiths</td>\n",
       "      <td>10</td>\n",
       "    </tr>\n",
       "    <tr>\n",
       "      <th>0</th>\n",
       "      <td>hyelim</td>\n",
       "      <td>muse</td>\n",
       "      <td>30</td>\n",
       "    </tr>\n",
       "    <tr>\n",
       "      <th>1</th>\n",
       "      <td>hyelim</td>\n",
       "      <td>ed sheeran</td>\n",
       "      <td>30</td>\n",
       "    </tr>\n",
       "    <tr>\n",
       "      <th>2</th>\n",
       "      <td>hyelim</td>\n",
       "      <td>maroon5</td>\n",
       "      <td>30</td>\n",
       "    </tr>\n",
       "    <tr>\n",
       "      <th>3</th>\n",
       "      <td>hyelim</td>\n",
       "      <td>nicki minaj</td>\n",
       "      <td>30</td>\n",
       "    </tr>\n",
       "    <tr>\n",
       "      <th>4</th>\n",
       "      <td>hyelim</td>\n",
       "      <td>taylor swift</td>\n",
       "      <td>30</td>\n",
       "    </tr>\n",
       "  </tbody>\n",
       "</table>\n",
       "</div>"
      ],
      "text/plain": [
       "               user_id           artist  play\n",
       "17535650  sep 20, 2008       turbostaat    12\n",
       "17535651  sep 20, 2008    cuba missouri    11\n",
       "17535652  sep 20, 2008  little man tate    11\n",
       "17535653  sep 20, 2008        sigur rós    10\n",
       "17535654  sep 20, 2008       the smiths    10\n",
       "0               hyelim             muse    30\n",
       "1               hyelim       ed sheeran    30\n",
       "2               hyelim          maroon5    30\n",
       "3               hyelim      nicki minaj    30\n",
       "4               hyelim     taylor swift    30"
      ]
     },
     "execution_count": 43,
     "metadata": {},
     "output_type": "execute_result"
    }
   ],
   "source": [
    "# 내가 좋아하는 5명 artist\n",
    "my_favorite = ['muse', 'ed sheeran', 'maroon5', 'nicki minaj', 'taylor swift']\n",
    "\n",
    "my_playlist = pd.DataFrame({'user_id': ['hyelim']*5, 'artist': my_favorite, 'play':[30]*5})\n",
    "if not data.isin({'user_id':['hyelim']})['user_id'].any():  \n",
    "    data = data.append(my_playlist) \n",
    "\n",
    "data.tail(10)"
   ]
  },
  {
   "cell_type": "markdown",
   "id": "configured-foundation",
   "metadata": {},
   "source": [
    "## 전처리"
   ]
  },
  {
   "cell_type": "markdown",
   "id": "economic-assessment",
   "metadata": {},
   "source": [
    "user와 artist에 번호를 붙인다 = indexing"
   ]
  },
  {
   "cell_type": "code",
   "execution_count": 44,
   "id": "incredible-large",
   "metadata": {},
   "outputs": [],
   "source": [
    "user_unique = data['user_id'].unique()\n",
    "artist_unique = data['artist'].unique()\n",
    "\n",
    "user_to_idx = {v:k for k,v in enumerate(user_unique)}\n",
    "artist_to_idx = {v:k for k,v in enumerate(artist_unique)}"
   ]
  },
  {
   "cell_type": "code",
   "execution_count": 45,
   "id": "positive-column",
   "metadata": {},
   "outputs": [
    {
     "data": {
      "text/plain": [
       "358868"
      ]
     },
     "execution_count": 45,
     "metadata": {},
     "output_type": "execute_result"
    }
   ],
   "source": [
    "user_to_idx['hyelim']"
   ]
  },
  {
   "cell_type": "code",
   "execution_count": 46,
   "id": "combined-planning",
   "metadata": {},
   "outputs": [
    {
     "name": "stdout",
     "output_type": "stream",
     "text": [
      "user_id indexing succes\n",
      "artist indexing succes\n"
     ]
    }
   ],
   "source": [
    "temp_user_data = data['user_id'].map(user_to_idx.get).dropna()\n",
    "if len(temp_user_data) == len(data):\n",
    "    print('user_id indexing succes')\n",
    "    data['user_id'] = temp_user_data\n",
    "else:\n",
    "    print('user_id indexing fail')\n",
    "    \n",
    "temp_artist_data = data['artist'].map(artist_to_idx.get).dropna()\n",
    "if len(temp_artist_data) == len(data):\n",
    "    print('artist indexing succes')\n",
    "    data['artist'] = temp_artist_data\n",
    "else:\n",
    "    print('artist indexing fail')"
   ]
  },
  {
   "cell_type": "markdown",
   "id": "institutional-store",
   "metadata": {},
   "source": [
    "## 명시적/암묵적 평가\n",
    "#### 1. Explicit Dataset (명시적)\n",
    "* 유저가 선호도를 직접 표현.\n",
    "* 유저들의 선호도를 명확하게 알 수 있으나 데이터를 얻기가 힘듦.\n",
    "\n",
    "#### 2. Implicit Dataset (암묵적)\n",
    "* 간접적으로 선호, 취향을 나타냄.\n",
    "* 알아둬야할 특징\n",
    "    1. 부정적인 피드백이 없다.\n",
    "    2. 잡음이 많다.\n",
    "    3. 수치는 신뢰도를 의미한다.\n",
    "    4. 평가는 적절한 방법을 고민해야 한다.   \n"
   ]
  },
  {
   "cell_type": "code",
   "execution_count": 47,
   "id": "tribal-magnet",
   "metadata": {},
   "outputs": [
    {
     "name": "stdout",
     "output_type": "stream",
     "text": [
      "147740, 17535660\n",
      "ratio: 0.84%\n"
     ]
    }
   ],
   "source": [
    "# 1회만 플레이한 데이터 비율\n",
    "only_one_play = data[data['play']<2]\n",
    "one, all_data = len(only_one_play), len(data)\n",
    "print(f'{one}, {all_data}')\n",
    "print(f'ratio: {one/all_data:.2%}')"
   ]
  },
  {
   "cell_type": "markdown",
   "id": "black-drive",
   "metadata": {},
   "source": [
    "## Matrix Factorization(MF)\n",
    "평가 행렬의 행과 열의 수가 많아지면 메모리가 많이 필요하게 된다.    \n",
    "이에 좋은 해결방안은 CSR Matrix를 사용하는 것이다.    \n",
    "https://lovit.github.io/nlp/machine%20learning/2018/04/09/sparse_mtarix_handling/#csr-matrix"
   ]
  },
  {
   "cell_type": "code",
   "execution_count": 48,
   "id": "running-military",
   "metadata": {},
   "outputs": [
    {
     "data": {
      "text/plain": [
       "<358869x291347 sparse matrix of type '<class 'numpy.longlong'>'\n",
       "\twith 17535578 stored elements in Compressed Sparse Row format>"
      ]
     },
     "execution_count": 48,
     "metadata": {},
     "output_type": "execute_result"
    }
   ],
   "source": [
    "from scipy.sparse import csr_matrix\n",
    "# user 수\n",
    "num_user = data['user_id'].nunique()\n",
    "# artist 수\n",
    "num_artist = data['artist'].nunique()\n",
    "\n",
    "csr_data = csr_matrix((data.play, (data.user_id, data.artist)), shape=(num_user, num_artist))\n",
    "csr_data"
   ]
  },
  {
   "cell_type": "code",
   "execution_count": 49,
   "id": "normal-projection",
   "metadata": {},
   "outputs": [],
   "source": [
    "from implicit.als import AlternatingLeastSquares\n",
    "import os\n",
    "import numpy as np\n",
    "\n",
    "# implicit 라이브러리에서 권장하고 있는 부분입니다. 학습 내용과는 무관합니다.\n",
    "os.environ['OPENBLAS_NUM_THREADS']='1'\n",
    "os.environ['KMP_DUPLICATE_LIB_OK']='True'\n",
    "os.environ['MKL_NUM_THREADS']='1'"
   ]
  },
  {
   "cell_type": "code",
   "execution_count": 50,
   "id": "certain-green",
   "metadata": {},
   "outputs": [],
   "source": [
    "# 모델 선언\n",
    "als_model = AlternatingLeastSquares(factors=100, regularization=0.01, use_gpu=False, iterations=15, dtype=np.float32)"
   ]
  },
  {
   "cell_type": "code",
   "execution_count": 51,
   "id": "heated-myanmar",
   "metadata": {},
   "outputs": [
    {
     "data": {
      "text/plain": [
       "<291347x358869 sparse matrix of type '<class 'numpy.longlong'>'\n",
       "\twith 17535578 stored elements in Compressed Sparse Column format>"
      ]
     },
     "execution_count": 51,
     "metadata": {},
     "output_type": "execute_result"
    }
   ],
   "source": [
    "# als 모델은 input으로 (item X user 꼴의 matrix를 받기 때문에 Transpose해줍니다.)\n",
    "csr_data_transpose = csr_data.T\n",
    "csr_data_transpose"
   ]
  },
  {
   "cell_type": "code",
   "execution_count": 52,
   "id": "neutral-financing",
   "metadata": {},
   "outputs": [
    {
     "data": {
      "application/vnd.jupyter.widget-view+json": {
       "model_id": "f76c5e25cad842288262cd72a31ea373",
       "version_major": 2,
       "version_minor": 0
      },
      "text/plain": [
       "  0%|          | 0/15 [00:00<?, ?it/s]"
      ]
     },
     "metadata": {},
     "output_type": "display_data"
    }
   ],
   "source": [
    "# 모델 훈련\n",
    "als_model.fit(csr_data_transpose)"
   ]
  },
  {
   "cell_type": "code",
   "execution_count": 53,
   "id": "guilty-render",
   "metadata": {},
   "outputs": [],
   "source": [
    "hyelim, muse = user_to_idx['hyelim'], artist_to_idx['muse']\n",
    "hyelim_vector, muse_vector = als_model.user_factors[hyelim], als_model.item_factors[muse]"
   ]
  },
  {
   "cell_type": "code",
   "execution_count": 54,
   "id": "toxic-amino",
   "metadata": {},
   "outputs": [
    {
     "data": {
      "text/plain": [
       "((100,), (100,))"
      ]
     },
     "execution_count": 54,
     "metadata": {},
     "output_type": "execute_result"
    }
   ],
   "source": [
    "hyelim_vector.shape, muse_vector.shape"
   ]
  },
  {
   "cell_type": "code",
   "execution_count": 55,
   "id": "center-chick",
   "metadata": {},
   "outputs": [
    {
     "data": {
      "text/plain": [
       "0.27387065"
      ]
     },
     "execution_count": 55,
     "metadata": {},
     "output_type": "execute_result"
    }
   ],
   "source": [
    "np.dot(hyelim_vector, muse_vector)"
   ]
  },
  {
   "cell_type": "code",
   "execution_count": 56,
   "id": "other-chemistry",
   "metadata": {},
   "outputs": [
    {
     "data": {
      "text/plain": [
       "0.2367901"
      ]
     },
     "execution_count": 56,
     "metadata": {},
     "output_type": "execute_result"
    }
   ],
   "source": [
    "queen = artist_to_idx['queen']\n",
    "queen_vector = als_model.item_factors[queen]\n",
    "np.dot(hyelim_vector, queen_vector)"
   ]
  },
  {
   "cell_type": "code",
   "execution_count": 57,
   "id": "instant-hanging",
   "metadata": {},
   "outputs": [
    {
     "data": {
      "text/plain": [
       "[(157993, 1.0000001),\n",
       " (157994, 0.9803823),\n",
       " (104282, 0.97246194),\n",
       " (159710, 0.97245663),\n",
       " (156798, 0.97235817),\n",
       " (156799, 0.97160715),\n",
       " (148349, 0.9713299),\n",
       " (280347, 0.9712644),\n",
       " (112914, 0.97114736),\n",
       " (122556, 0.97114),\n",
       " (283403, 0.97112435),\n",
       " (280345, 0.9710865),\n",
       " (93609, 0.97108084),\n",
       " (218417, 0.971054),\n",
       " (280346, 0.97098076)]"
      ]
     },
     "execution_count": 57,
     "metadata": {},
     "output_type": "execute_result"
    }
   ],
   "source": [
    "# 비슷한 아티스트 찾기\n",
    "favorite_artist = 'ed sheeran'\n",
    "artist_id = artist_to_idx[favorite_artist]\n",
    "similar_artist = als_model.similar_items(artist_id, N=15)\n",
    "similar_artist"
   ]
  },
  {
   "cell_type": "code",
   "execution_count": 58,
   "id": "local-harrison",
   "metadata": {},
   "outputs": [
    {
     "data": {
      "text/plain": [
       "['ed sheeran',\n",
       " 'george, inara',\n",
       " 'dick prall',\n",
       " 'dayna manning',\n",
       " 'pet engine',\n",
       " 'chris shaffer',\n",
       " 'flere farver',\n",
       " 'g-bach',\n",
       " 'continental drifters',\n",
       " 'alliancen',\n",
       " 'nancy tucker',\n",
       " 'under mistanke',\n",
       " 'rose cousins',\n",
       " 'brian wright',\n",
       " 'hustlerne']"
      ]
     },
     "execution_count": 58,
     "metadata": {},
     "output_type": "execute_result"
    }
   ],
   "source": [
    "idx_to_artist = {v:k for k,v in artist_to_idx.items()}\n",
    "[idx_to_artist[i[0]] for i in similar_artist]"
   ]
  },
  {
   "cell_type": "code",
   "execution_count": 59,
   "id": "yellow-father",
   "metadata": {},
   "outputs": [],
   "source": [
    "def get_similar_artist(artist_name: str):\n",
    "    artist_id = artist_to_idx[artist_name]\n",
    "    similar_artist = als_model.similar_items(artist_id)\n",
    "    similar_artist = [idx_to_artist[i[0]] for i in similar_artist]\n",
    "    return similar_artist"
   ]
  },
  {
   "cell_type": "code",
   "execution_count": 60,
   "id": "advance-lesbian",
   "metadata": {},
   "outputs": [
    {
     "data": {
      "text/plain": [
       "['nicki minaj',\n",
       " 'teairra mari',\n",
       " 'chrishan',\n",
       " 'shareefa',\n",
       " 'drag-on',\n",
       " 'adina howard',\n",
       " 'remy ma',\n",
       " 'electrik red',\n",
       " 'young gunz',\n",
       " 'tha riot squad']"
      ]
     },
     "execution_count": 60,
     "metadata": {},
     "output_type": "execute_result"
    }
   ],
   "source": [
    "get_similar_artist('nicki minaj')"
   ]
  },
  {
   "cell_type": "code",
   "execution_count": 61,
   "id": "focal-emphasis",
   "metadata": {},
   "outputs": [
    {
     "data": {
      "text/plain": [
       "[(62, 0.2812308),\n",
       " (247, 0.27966008),\n",
       " (5, 0.26867846),\n",
       " (217, 0.2590966),\n",
       " (28, 0.25396386),\n",
       " (910, 0.25253657),\n",
       " (268, 0.24542755),\n",
       " (418, 0.24530497),\n",
       " (473, 0.24214755),\n",
       " (490, 0.23941675),\n",
       " (352, 0.23819721),\n",
       " (694, 0.23706716),\n",
       " (75, 0.23679012),\n",
       " (773, 0.22893448),\n",
       " (503, 0.2265356),\n",
       " (409, 0.2212239),\n",
       " (279, 0.21597335),\n",
       " (55, 0.21524605),\n",
       " (1170, 0.21517622),\n",
       " (1018, 0.21176943)]"
      ]
     },
     "execution_count": 61,
     "metadata": {},
     "output_type": "execute_result"
    }
   ],
   "source": [
    "# 유저에게 아티스트 추천하기\n",
    "user = user_to_idx['hyelim']\n",
    "# recommend에서는 user*item CSR Matrix를 받습니다.\n",
    "artist_recommended = als_model.recommend(user, csr_data, N=20, filter_already_liked_items=True)\n",
    "artist_recommended"
   ]
  },
  {
   "cell_type": "code",
   "execution_count": 62,
   "id": "emerging-stack",
   "metadata": {},
   "outputs": [
    {
     "data": {
      "text/plain": [
       "['coldplay',\n",
       " 'the beatles',\n",
       " 'red hot chili peppers',\n",
       " 'radiohead',\n",
       " 'the killers',\n",
       " 'nirvana',\n",
       " 'pink floyd',\n",
       " 'u2',\n",
       " 'placebo',\n",
       " 'oasis',\n",
       " 'linkin park',\n",
       " 'foo fighters',\n",
       " 'queen',\n",
       " 'nine inch nails',\n",
       " 'green day',\n",
       " 'amy winehouse',\n",
       " 'led zeppelin',\n",
       " 'arctic monkeys',\n",
       " 'daft punk',\n",
       " 'the smashing pumpkins']"
      ]
     },
     "execution_count": 62,
     "metadata": {},
     "output_type": "execute_result"
    }
   ],
   "source": [
    "[idx_to_artist[i[0]] for i in artist_recommended]"
   ]
  },
  {
   "cell_type": "code",
   "execution_count": 63,
   "id": "streaming-large",
   "metadata": {},
   "outputs": [
    {
     "data": {
      "text/plain": [
       "[('muse', 0.26107202172669375),\n",
       " ('taylor swift', 0.029306265639813263),\n",
       " ('nicki minaj', 0.00235511599904646),\n",
       " ('maroon5', -0.0009112972936581024),\n",
       " ('ed sheeran', -0.0038653179910136544)]"
      ]
     },
     "execution_count": 63,
     "metadata": {},
     "output_type": "execute_result"
    }
   ],
   "source": [
    "coldplay = artist_to_idx['coldplay']\n",
    "explain = als_model.explain(user, csr_data, itemid=coldplay)\n",
    "\n",
    "[(idx_to_artist[i[0]], i[1]) for i in explain[1]]"
   ]
  }
 ],
 "metadata": {
  "kernelspec": {
   "display_name": "Python 3",
   "language": "python",
   "name": "python3"
  },
  "language_info": {
   "codemirror_mode": {
    "name": "ipython",
    "version": 3
   },
   "file_extension": ".py",
   "mimetype": "text/x-python",
   "name": "python",
   "nbconvert_exporter": "python",
   "pygments_lexer": "ipython3",
   "version": "3.7.9"
  }
 },
 "nbformat": 4,
 "nbformat_minor": 5
}
