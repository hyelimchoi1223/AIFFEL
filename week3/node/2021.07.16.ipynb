{
 "cells": [
  {
   "cell_type": "markdown",
   "id": "popular-campaign",
   "metadata": {},
   "source": [
    "# 객체지향 프로그래밍"
   ]
  },
  {
   "cell_type": "markdown",
   "id": "preliminary-evolution",
   "metadata": {},
   "source": [
    "> In Python, the definition is looser; some objects have neither attributes nor methods, and not all objects are subclassable.But everything is an object in the sense that it can be assigned to a variable or passed as an argument to a function.    \n",
    "> 파이썬에서 정의하는 객체는 변수에 할당되거나 함수에 대한 인수로 전달될 수 있는 것이다.\n",
    "> https://linux.die.net/diveintopython/html/getting_to_know_python/everything_is_an_object.html"
   ]
  },
  {
   "cell_type": "markdown",
   "id": "industrial-thread",
   "metadata": {},
   "source": [
    "객체 = 속성 + 메서드    \n",
    "* 속성 : 객체의 상태\n",
    "* 메서드 : 객체의 동작"
   ]
  },
  {
   "cell_type": "markdown",
   "id": "liquid-pattern",
   "metadata": {},
   "source": [
    "### 변수\n",
    "\n",
    "변수를 할당하면 주소를 가리킨다."
   ]
  },
  {
   "cell_type": "code",
   "execution_count": 3,
   "id": "damaged-notification",
   "metadata": {},
   "outputs": [
    {
     "name": "stdout",
     "output_type": "stream",
     "text": [
      "94775787520736 94775787520736\n"
     ]
    }
   ],
   "source": [
    "a= 4\n",
    "print(id(4), id(a)) # 같은 주소 값을 가지는 것을 볼 수 있다."
   ]
  },
  {
   "cell_type": "code",
   "execution_count": 4,
   "id": "unable-opportunity",
   "metadata": {},
   "outputs": [
    {
     "name": "stdout",
     "output_type": "stream",
     "text": [
      "[1, 2, 3]\n"
     ]
    }
   ],
   "source": [
    "a = [1,2,3]\n",
    "b = a\n",
    "print(b)"
   ]
  },
  {
   "cell_type": "code",
   "execution_count": 5,
   "id": "equipped-livestock",
   "metadata": {},
   "outputs": [
    {
     "name": "stdout",
     "output_type": "stream",
     "text": [
      "[1, 2, 3, 4]\n"
     ]
    }
   ],
   "source": [
    "a.append(4)\n",
    "print(b)"
   ]
  },
  {
   "cell_type": "markdown",
   "id": "varying-response",
   "metadata": {},
   "source": [
    "a 값을 바꿨는데 b도 같이 바꼈다.    \n",
    "그 이유는 b는 a의 id만 복사했기 때문이다."
   ]
  },
  {
   "cell_type": "code",
   "execution_count": 12,
   "id": "amazing-hunger",
   "metadata": {},
   "outputs": [
    {
     "name": "stdout",
     "output_type": "stream",
     "text": [
      "139749592327984 139749592327984\n"
     ]
    }
   ],
   "source": [
    "print(id(a), id(b)) # 같은 주소를 가리키는 것을 볼 수 있다."
   ]
  },
  {
   "cell_type": "markdown",
   "id": "reverse-competition",
   "metadata": {},
   "source": [
    "#### 얕은 복사, 깊은 복사\n",
    "https://wikidocs.net/16038    \n",
    "\n",
    "* mutable: 변경이 가능한 객체\n",
    "* mutable 종류\n",
    "    - list, set, dict\n",
    "* immutable: 변경이 불가능한 객체\n",
    "* immutable 종류\n",
    "    - bool, int, float, tuple, str, frozenset"
   ]
  },
  {
   "cell_type": "code",
   "execution_count": 22,
   "id": "unavailable-netherlands",
   "metadata": {
    "scrolled": true
   },
   "outputs": [
    {
     "name": "stdout",
     "output_type": "stream",
     "text": [
      "[[1, 2], [3, 4, 5]] [[1, 2], [3, 4, 5]]\n"
     ]
    }
   ],
   "source": [
    "import copy\n",
    "a = [[1,2],[3,4]]\n",
    "b = copy.copy(a)\n",
    "a[1].append(5)\n",
    "print(a,b)"
   ]
  },
  {
   "cell_type": "code",
   "execution_count": 23,
   "id": "animal-inspection",
   "metadata": {},
   "outputs": [
    {
     "name": "stdout",
     "output_type": "stream",
     "text": [
      "[[1, 2], [3, 4, 5]] [[1, 2], [3, 4]]\n"
     ]
    }
   ],
   "source": [
    "import copy\n",
    "a = [[1,2],[3,4]]\n",
    "b = copy.deepcopy(a)\n",
    "a[1].append(5)\n",
    "print(a,b)"
   ]
  },
  {
   "cell_type": "markdown",
   "id": "legislative-opportunity",
   "metadata": {},
   "source": [
    "## 절차 지향 vs 객체 지향\n",
    "https://pjh3749.tistory.com/244    \n",
    "* 절차 지향 : 프로시저로 프로그램을 구성 (프로시저란? 어떤 행동을 수행하기 위한 작업 순서)     \n",
    "    -> 작업 순서대로 프로그램을 구성한다는 의미\n",
    "* 객체 지향 : 객체가 자신만의 데이터와 프로시저를 가진다. 객체들을 연결해 다른 객체가 제공하는 기능을 사용한다."
   ]
  },
  {
   "cell_type": "markdown",
   "id": "invisible-arthur",
   "metadata": {},
   "source": [
    "#### 객체\n",
    "* 객체 지향의 기본은 객체\n",
    "* 인터페이스 : 객체가 제공하는 기능인 오퍼레이션의 집합\n",
    "* 객체지향 프로그래밍을 할 때 챛페가 갖는 책임의 크기가 작을 수록 좋다.\n",
    "* 의존(dependency): 한 객체가 다른 객체를 생성하거나 다른 객체의 메서드를 호출한다고 할 때 그 객체에 의존한다고 얘기한다.\n",
    "    - 한 객체가 변경되면 의존하고 있던 다른 코드에 영향을 준다.\n",
    "* 캡슐화 : 객체가 내부적으로 어떻게 구현되었는지 감추는 것.\n",
    "* 캡슐화 규칙:\n",
    "    1. 데이터를 물어보지 않고 기능을 실행해달라.\n",
    "        -> 필드에 대한 get 메서드를 최소화하라.\n",
    "    2. Law of Demeter : 객체가 다른 객체를 탐색해 뭔가를 일어나게 하면 안된다.또 객체의 모든 메서드는 다음에 해당하는 메서드만 호출해야 한다.\n",
    "        - 자기 자신\n",
    "        - 메서드로 넘어온 인자\n",
    "        - 자신이 생성한 객체\n",
    "        - 직접 포함하고 있는 객체"
   ]
  },
  {
   "cell_type": "markdown",
   "id": "miniature-edmonton",
   "metadata": {},
   "source": [
    "### 클래스와 함수 표기법\n",
    "함수 호출하는 것과 클래스 인스턴스 만드는 문법이 비슷하다.    \n",
    "pep8에 따라 클래스와 함수를 다르게 표기하도록 권장하기 때문에 구분할 수 있다.    \n",
    "* 클래스 : 카멜케이스\n",
    "    ex) MyClass\n",
    "* 함수 : 스네이크 케이스\n",
    "    ex) my_method"
   ]
  },
  {
   "cell_type": "markdown",
   "id": "effective-aquatic",
   "metadata": {},
   "source": [
    "## 기본 문법"
   ]
  },
  {
   "cell_type": "code",
   "execution_count": 40,
   "id": "selected-nation",
   "metadata": {},
   "outputs": [],
   "source": [
    "# 클래스 생성\n",
    "class MyClass:\n",
    "    attribute = 'test'\n",
    "    # 클래스 내 메서드\n",
    "    # self를 파라미터로 가지고 있어야 한다.-> 없으면 에러가 발생\n",
    "    def say_hello(self, name):\n",
    "        self.name = name\n",
    "        print(f'hello {name}')\n",
    "        \n",
    "    def say_multi_hello(self, name):\n",
    "        count = 5 # self.count가 아니기 때문에 외부에서 접근이 불가능하다.\n",
    "        print(f'hello {name}'*count)"
   ]
  },
  {
   "cell_type": "code",
   "execution_count": 41,
   "id": "convenient-sigma",
   "metadata": {},
   "outputs": [],
   "source": [
    "# 클래스 인스턴스\n",
    "a = MyClass()"
   ]
  },
  {
   "cell_type": "code",
   "execution_count": 42,
   "id": "forty-tragedy",
   "metadata": {},
   "outputs": [
    {
     "name": "stdout",
     "output_type": "stream",
     "text": [
      "hello hazel\n"
     ]
    }
   ],
   "source": [
    "a.say_hello('hazel')"
   ]
  },
  {
   "cell_type": "code",
   "execution_count": 43,
   "id": "close-sherman",
   "metadata": {},
   "outputs": [
    {
     "data": {
      "text/plain": [
       "'hazel'"
      ]
     },
     "execution_count": 43,
     "metadata": {},
     "output_type": "execute_result"
    }
   ],
   "source": [
    "a.name # say_hello 에서 self.name에 인자를 저장하기 때문에 값을 불러올 수 있다."
   ]
  },
  {
   "cell_type": "code",
   "execution_count": 44,
   "id": "monthly-opening",
   "metadata": {},
   "outputs": [
    {
     "name": "stdout",
     "output_type": "stream",
     "text": [
      "hello hazelhello hazelhello hazelhello hazelhello hazel\n"
     ]
    }
   ],
   "source": [
    "a.say_multi_hello('hazel')"
   ]
  },
  {
   "cell_type": "code",
   "execution_count": 45,
   "id": "royal-caution",
   "metadata": {},
   "outputs": [
    {
     "ename": "AttributeError",
     "evalue": "'MyClass' object has no attribute 'count'",
     "output_type": "error",
     "traceback": [
      "\u001b[0;31m---------------------------------------------------------------------------\u001b[0m",
      "\u001b[0;31mAttributeError\u001b[0m                            Traceback (most recent call last)",
      "\u001b[0;32m<ipython-input-45-b5df6ae39e83>\u001b[0m in \u001b[0;36m<module>\u001b[0;34m\u001b[0m\n\u001b[0;32m----> 1\u001b[0;31m \u001b[0ma\u001b[0m\u001b[0;34m.\u001b[0m\u001b[0mcount\u001b[0m\u001b[0;34m\u001b[0m\u001b[0;34m\u001b[0m\u001b[0m\n\u001b[0m",
      "\u001b[0;31mAttributeError\u001b[0m: 'MyClass' object has no attribute 'count'"
     ]
    }
   ],
   "source": [
    "a.count # self.count로 저장을 안하기 때문에 외부에서 불러올 수 없음."
   ]
  },
  {
   "cell_type": "markdown",
   "id": "terminal-cheese",
   "metadata": {},
   "source": [
    "### 생성자\n",
    "초기 상태일때 불러지는 함수. 빈 객체를 만들게 된다.    \n",
    "사용자가 클래스의 속성을 정의하고 싶을때 이용한다."
   ]
  },
  {
   "cell_type": "code",
   "execution_count": 48,
   "id": "exotic-operator",
   "metadata": {},
   "outputs": [],
   "source": [
    "class MyClass:\n",
    "    def __init__(self, name, type_):\n",
    "        self.name = name\n",
    "        self.type_ = type_\n",
    "        \n",
    "    def show_attribute(self):\n",
    "        print(self.name, self.type_)"
   ]
  },
  {
   "cell_type": "code",
   "execution_count": 49,
   "id": "complimentary-paint",
   "metadata": {},
   "outputs": [
    {
     "name": "stdout",
     "output_type": "stream",
     "text": [
      "hazel test\n"
     ]
    }
   ],
   "source": [
    "a = MyClass('hazel', 'test')\n",
    "a.show_attribute()"
   ]
  },
  {
   "cell_type": "markdown",
   "id": "built-waste",
   "metadata": {},
   "source": [
    "여기서 사용한 `__init__`같은 메서드를 매직 메서드라고 한다.    \n",
    "https://rszalski.github.io/magicmethods/"
   ]
  },
  {
   "cell_type": "markdown",
   "id": "experimental-meter",
   "metadata": {},
   "source": [
    "### 클래스 변수, 인스턴스 변수\n",
    "* 클래스 변수 : 모든 객체에서 같은 값을 조회\n",
    "* 인스턴스 변수 : 인스턴스 할당 시 새로운 값이 할당된다. -> 객체 단위로 변경"
   ]
  },
  {
   "cell_type": "code",
   "execution_count": 50,
   "id": "social-floating",
   "metadata": {},
   "outputs": [],
   "source": [
    "class MyClass:\n",
    "    type_ = 'test' # 클래스 변수\n",
    "     \n",
    "    def __init__(self, name): # 인스턴스 변수\n",
    "        self.name = name"
   ]
  },
  {
   "cell_type": "code",
   "execution_count": 51,
   "id": "orange-feeling",
   "metadata": {},
   "outputs": [
    {
     "name": "stdout",
     "output_type": "stream",
     "text": [
      "test hazel\n",
      "test bj\n"
     ]
    }
   ],
   "source": [
    "a = MyClass('hazel')\n",
    "b = MyClass('bj')\n",
    "print(a.type_, a.name)\n",
    "print(b.type_, b.name)"
   ]
  },
  {
   "cell_type": "markdown",
   "id": "restricted-albert",
   "metadata": {},
   "source": [
    "### 추상화\n",
    "> 복잡한 자료, 모듈, 시스템 등으로부터 핵심적인 개념 또는 기능을 간추려 내는 것.    \n",
    "> https://ko.wikipedia.org/wiki/%EC%B6%94%EC%83%81%ED%99%94_(%EC%BB%B4%ED%93%A8%ED%84%B0_%EA%B3%BC%ED%95%99)"
   ]
  },
  {
   "cell_type": "markdown",
   "id": "invalid-volunteer",
   "metadata": {},
   "source": [
    "### 캡슐화\n",
    "> 객체의 속성과 메서드를 하나로 묶고, 실제 구현 내용 일부를 외부에 감춘다.    \n",
    "> https://ko.wikipedia.org/wiki/%EC%BA%A1%EC%8A%90%ED%99%94"
   ]
  },
  {
   "cell_type": "markdown",
   "id": "junior-iceland",
   "metadata": {},
   "source": [
    "### 상속"
   ]
  },
  {
   "cell_type": "code",
   "execution_count": 52,
   "id": "adaptive-accountability",
   "metadata": {},
   "outputs": [],
   "source": [
    "class Car:\n",
    "    \n",
    "    def __init__(self, color='red', category='sedan'):\n",
    "        self.color = color\n",
    "        self.category = category\n",
    "    \n",
    "    def drive(self):\n",
    "        print('driving...')\n",
    "        \n",
    "\n",
    "    def accel(self, speed_up, current_speed=10):\n",
    "        self.current_speed = current_speed\n",
    "        print(f'accel speed: {speed_up}, current speed: {current_speed}')"
   ]
  },
  {
   "cell_type": "code",
   "execution_count": 55,
   "id": "guilty-indicator",
   "metadata": {},
   "outputs": [],
   "source": [
    "# Car타입이지만 다른 종류의 차를 생성\n",
    "# Car의 기능과 속성을 유지\n",
    "class Bus(Car):\n",
    "    maker = 'Hyundai'\n",
    "    pass"
   ]
  },
  {
   "cell_type": "code",
   "execution_count": 56,
   "id": "excellent-healthcare",
   "metadata": {},
   "outputs": [
    {
     "name": "stdout",
     "output_type": "stream",
     "text": [
      "driving...\n"
     ]
    }
   ],
   "source": [
    "bus = Bus(color='blue', category='but')\n",
    "bus.drive()"
   ]
  },
  {
   "cell_type": "code",
   "execution_count": 57,
   "id": "inappropriate-purple",
   "metadata": {},
   "outputs": [
    {
     "data": {
      "text/plain": [
       "'Hyundai'"
      ]
     },
     "execution_count": 57,
     "metadata": {},
     "output_type": "execute_result"
    }
   ],
   "source": [
    "bus.maker"
   ]
  },
  {
   "cell_type": "markdown",
   "id": "breathing-fever",
   "metadata": {},
   "source": [
    "이 예제에서    \n",
    "Car : 부모클래스, 슈퍼클래스, 베이스클래스라고 한다.\n",
    "Bus : 자식클래스, 서브클래스, 파생된클래스라고 한다."
   ]
  },
  {
   "cell_type": "code",
   "execution_count": 63,
   "id": "reliable-couple",
   "metadata": {},
   "outputs": [],
   "source": [
    "class Bus(Car):\n",
    "    maker = 'Hyundai'\n",
    "    # 새로운 메서드 추가 : 상속받은 클래스에 없는 새로운 메서드를 정의\n",
    "    def open_door(self, position):\n",
    "        print(f'{position} door open')\n",
    "    # 메서드 오버라이드 : 상속받은 클래스에 정의된 메서드를 재정의\n",
    "    def drive(self):\n",
    "        # super : 상속받은 클래스의 메서드를 이용\n",
    "        super().drive() \n",
    "        print('driving... Bus!!!')"
   ]
  },
  {
   "cell_type": "code",
   "execution_count": 65,
   "id": "mexican-friendship",
   "metadata": {},
   "outputs": [
    {
     "name": "stdout",
     "output_type": "stream",
     "text": [
      "driving...\n",
      "driving... Bus!!!\n"
     ]
    }
   ],
   "source": [
    "a = Bus()\n",
    "a.drive()\n",
    "# driving... -> 상속받은 Car에 들어있는 driving함수\n",
    "# driving... Bus!!! -> 오버라이드로 만든 내용"
   ]
  },
  {
   "cell_type": "code",
   "execution_count": 66,
   "id": "random-evidence",
   "metadata": {},
   "outputs": [],
   "source": [
    "# super을 이용하는 이유\n",
    "# Car객체의 __init__의 속성을 동일하게 유지하고 싶을때 사용\n",
    "class Bus(Car):\n",
    "    maker = 'Hyundai'\n",
    "    \n",
    "    def __init__(self, color, category):\n",
    "        super().__init__(color, category)\n",
    "\n",
    "    def open_door(self, position):\n",
    "        print(f'{position} door open')\n",
    "        \n",
    "    def drive(self):\n",
    "        print('driving... Bus!!!')"
   ]
  },
  {
   "cell_type": "code",
   "execution_count": 69,
   "id": "terminal-matrix",
   "metadata": {},
   "outputs": [
    {
     "data": {
      "text/plain": [
       "'blue'"
      ]
     },
     "execution_count": 69,
     "metadata": {},
     "output_type": "execute_result"
    }
   ],
   "source": [
    "a = Bus('blue', 'bus')\n",
    "a.color # 상속받은 속성에 Bus의 속성을 할당해서 사용"
   ]
  },
  {
   "cell_type": "markdown",
   "id": "exceptional-singing",
   "metadata": {},
   "source": [
    "## 주사위 만들기\n",
    "주사위 면의 개수를 입력받고, 주사위를 던져 값을 가져오는 것을 만드는 실습"
   ]
  },
  {
   "cell_type": "code",
   "execution_count": 1,
   "id": "creative-aging",
   "metadata": {},
   "outputs": [],
   "source": [
    "import random\n",
    "class FunnyDice:\n",
    "    \n",
    "    def __init__(self, n):\n",
    "        self.n = n\n",
    "        self.numbers = list(range(1,n+1))\n",
    "        self.value = random.choice(self.numbers)\n",
    "    \n",
    "    def getval(self):\n",
    "        return random.choice(self.numbers)\n",
    "    \n",
    "    def throw(self):\n",
    "        random.shuffle(self.numbers)"
   ]
  },
  {
   "cell_type": "code",
   "execution_count": 2,
   "id": "marked-ladder",
   "metadata": {},
   "outputs": [],
   "source": [
    "def get_input():\n",
    "    n = int(input('숫자를 입력해주세요...'))\n",
    "    return n"
   ]
  },
  {
   "cell_type": "code",
   "execution_count": 4,
   "id": "uniform-gasoline",
   "metadata": {},
   "outputs": [
    {
     "name": "stdout",
     "output_type": "stream",
     "text": [
      "숫자를 입력해주세요...10\n",
      "number 9\n"
     ]
    }
   ],
   "source": [
    "def main():\n",
    "    n = get_input() # 면의 개수 입력받는다.\n",
    "    dice = FunnyDice(n)\n",
    "    dice.throw()\n",
    "    print(f'number {dice.getval()}')\n",
    "    \n",
    "if __name__=='__main__':\n",
    "    main()"
   ]
  },
  {
   "cell_type": "code",
   "execution_count": null,
   "id": "wrong-proxy",
   "metadata": {},
   "outputs": [],
   "source": []
  }
 ],
 "metadata": {
  "kernelspec": {
   "display_name": "Python 3",
   "language": "python",
   "name": "python3"
  },
  "language_info": {
   "codemirror_mode": {
    "name": "ipython",
    "version": 3
   },
   "file_extension": ".py",
   "mimetype": "text/x-python",
   "name": "python",
   "nbconvert_exporter": "python",
   "pygments_lexer": "ipython3",
   "version": "3.7.9"
  }
 },
 "nbformat": 4,
 "nbformat_minor": 5
}
